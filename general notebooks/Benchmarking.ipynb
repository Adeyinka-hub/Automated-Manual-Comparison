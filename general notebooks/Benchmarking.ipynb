{
 "cells": [
  {
   "cell_type": "code",
   "execution_count": 1,
   "metadata": {},
   "outputs": [
    {
     "name": "stderr",
     "output_type": "stream",
     "text": [
      "/home/ubuntu/anaconda3/lib/python3.6/importlib/_bootstrap.py:219: RuntimeWarning: numpy.dtype size changed, may indicate binary incompatibility. Expected 96, got 88\n",
      "  return f(*args, **kwds)\n",
      "/home/ubuntu/anaconda3/lib/python3.6/importlib/_bootstrap.py:219: RuntimeWarning: numpy.dtype size changed, may indicate binary incompatibility. Expected 96, got 88\n",
      "  return f(*args, **kwds)\n"
     ]
    }
   ],
   "source": [
    "# pandas and numpy for data manipulation\n",
    "import pandas as pd\n",
    "import numpy as np\n",
    "\n",
    "# featuretools for automated feature engineering\n",
    "import featuretools as ft\n",
    "\n",
    "import featuretools.variable_types as vtypes\n",
    "\n",
    "import sys\n",
    "import psutil\n",
    "\n",
    "import os"
   ]
  },
  {
   "cell_type": "code",
   "execution_count": 2,
   "metadata": {},
   "outputs": [],
   "source": [
    "# Read in the datasets and replace the anomalous values\n",
    "app_train = pd.read_csv('../kaggle_home_credit/input/application_train.csv').replace({365243: np.nan})\n",
    "app_test = pd.read_csv('../kaggle_home_credit/input/application_test.csv').replace({365243: np.nan})\n",
    "bureau = pd.read_csv('../kaggle_home_credit/input/bureau.csv').replace({365243: np.nan})\n",
    "bureau_balance = pd.read_csv('../kaggle_home_credit/input/bureau_balance.csv').replace({365243: np.nan})\n",
    "cash = pd.read_csv('../kaggle_home_credit/input/POS_CASH_balance.csv').replace({365243: np.nan})\n",
    "credit = pd.read_csv('../kaggle_home_credit/input/credit_card_balance.csv').replace({365243: np.nan})\n",
    "previous = pd.read_csv('../kaggle_home_credit/input/previous_application.csv').replace({365243: np.nan})\n",
    "installments = pd.read_csv('../kaggle_home_credit/input/installments_payments.csv').replace({365243: np.nan})"
   ]
  },
  {
   "cell_type": "code",
   "execution_count": 3,
   "metadata": {},
   "outputs": [],
   "source": [
    "app_test['TARGET'] = np.nan\n",
    "\n",
    "# Join together training and testing\n",
    "app = app_train.append(app_test, ignore_index = True, sort = True)"
   ]
  },
  {
   "cell_type": "code",
   "execution_count": 4,
   "metadata": {},
   "outputs": [],
   "source": [
    "for index in ['SK_ID_CURR', 'SK_ID_PREV', 'SK_ID_BUREAU']:\n",
    "    for dataset in [app, bureau, bureau_balance, cash, credit, previous, installments]:\n",
    "        if index in list(dataset.columns):\n",
    "            dataset[index] = dataset[index].fillna(0).astype(np.int64)"
   ]
  },
  {
   "cell_type": "code",
   "execution_count": 5,
   "metadata": {},
   "outputs": [
    {
     "name": "stdout",
     "output_type": "stream",
     "text": [
      "There are 32 Boolean variables in the application data.\n",
      "There are 2 Boolean variables in the previous data.\n"
     ]
    }
   ],
   "source": [
    "# Entity set with id applications\n",
    "es = ft.EntitySet(id = 'clients')\n",
    "\n",
    "import featuretools.variable_types as vtypes\n",
    "\n",
    "app_types = {}\n",
    "\n",
    "# Handle the Boolean variables:\n",
    "for col in app:\n",
    "    if (app[col].nunique() == 2) and (app[col].dtype == float):\n",
    "        app_types[col] = vtypes.Boolean\n",
    "\n",
    "# Remove the `TARGET`\n",
    "del app_types['TARGET']\n",
    "\n",
    "print('There are {} Boolean variables in the application data.'.format(len(app_types)))\n",
    "\n",
    "# Ordinal variables\n",
    "app_types['REGION_RATING_CLIENT'] = vtypes.Ordinal\n",
    "app_types['REGION_RATING_CLIENT_W_CITY'] = vtypes.Ordinal\n",
    "app_types['HOUR_APPR_PROCESS_START'] = vtypes.Ordinal\n",
    "\n",
    "previous_types = {}\n",
    "\n",
    "# Handle the Boolean variables:\n",
    "for col in previous:\n",
    "    if (previous[col].nunique() == 2) and (previous[col].dtype == float):\n",
    "        previous_types[col] = vtypes.Boolean\n",
    "\n",
    "print('There are {} Boolean variables in the previous data.'.format(len(previous_types)))\n",
    "\n",
    "installments = installments.drop(columns = ['SK_ID_CURR'])\n",
    "credit = credit.drop(columns = ['SK_ID_CURR'])\n",
    "cash = cash.drop(columns = ['SK_ID_CURR'])"
   ]
  },
  {
   "cell_type": "code",
   "execution_count": 6,
   "metadata": {},
   "outputs": [
    {
     "data": {
      "text/plain": [
       "Entityset: clients\n",
       "  Entities:\n",
       "    app [Rows: 356255, Columns: 122]\n",
       "    bureau [Rows: 1716428, Columns: 17]\n",
       "    previous [Rows: 1670214, Columns: 37]\n",
       "    bureau_balance [Rows: 27299925, Columns: 4]\n",
       "    cash [Rows: 10001358, Columns: 8]\n",
       "    installments [Rows: 13605401, Columns: 8]\n",
       "    credit [Rows: 3840312, Columns: 23]\n",
       "  Relationships:\n",
       "    bureau.SK_ID_CURR -> app.SK_ID_CURR\n",
       "    bureau_balance.SK_ID_BUREAU -> bureau.SK_ID_BUREAU\n",
       "    previous.SK_ID_CURR -> app.SK_ID_CURR\n",
       "    cash.SK_ID_PREV -> previous.SK_ID_PREV\n",
       "    installments.SK_ID_PREV -> previous.SK_ID_PREV\n",
       "    credit.SK_ID_PREV -> previous.SK_ID_PREV"
      ]
     },
     "execution_count": 6,
     "metadata": {},
     "output_type": "execute_result"
    }
   ],
   "source": [
    "# Entities with a unique index\n",
    "es = es.entity_from_dataframe(entity_id = 'app', dataframe = app, index = 'SK_ID_CURR',\n",
    "                              variable_types = app_types)\n",
    "\n",
    "es = es.entity_from_dataframe(entity_id = 'bureau', dataframe = bureau, index = 'SK_ID_BUREAU')\n",
    "\n",
    "es = es.entity_from_dataframe(entity_id = 'previous', dataframe = previous, index = 'SK_ID_PREV',\n",
    "                              variable_types = previous_types)\n",
    "\n",
    "# Entities that do not have a unique index\n",
    "es = es.entity_from_dataframe(entity_id = 'bureau_balance', dataframe = bureau_balance, \n",
    "                              make_index = True, index = 'bureaubalance_index')\n",
    "\n",
    "es = es.entity_from_dataframe(entity_id = 'cash', dataframe = cash, \n",
    "                              make_index = True, index = 'cash_index')\n",
    "\n",
    "es = es.entity_from_dataframe(entity_id = 'installments', dataframe = installments,\n",
    "                              make_index = True, index = 'installments_index')\n",
    "\n",
    "es = es.entity_from_dataframe(entity_id = 'credit', dataframe = credit,\n",
    "                              make_index = True, index = 'credit_index')\n",
    "\n",
    "# Relationship between app_train and bureau\n",
    "r_app_bureau = ft.Relationship(es['app']['SK_ID_CURR'], es['bureau']['SK_ID_CURR'])\n",
    "\n",
    "# Relationship between bureau and bureau balance\n",
    "r_bureau_balance = ft.Relationship(es['bureau']['SK_ID_BUREAU'], es['bureau_balance']['SK_ID_BUREAU'])\n",
    "\n",
    "# Relationship between current app and previous apps\n",
    "r_app_previous = ft.Relationship(es['app']['SK_ID_CURR'], es['previous']['SK_ID_CURR'])\n",
    "\n",
    "# Relationships between previous apps and cash, installments, and credit\n",
    "r_previous_cash = ft.Relationship(es['previous']['SK_ID_PREV'], es['cash']['SK_ID_PREV'])\n",
    "r_previous_installments = ft.Relationship(es['previous']['SK_ID_PREV'], es['installments']['SK_ID_PREV'])\n",
    "r_previous_credit = ft.Relationship(es['previous']['SK_ID_PREV'], es['credit']['SK_ID_PREV'])\n",
    "\n",
    "# Add in the defined relationships\n",
    "es = es.add_relationships([r_app_bureau, r_bureau_balance, r_app_previous,\n",
    "                           r_previous_cash, r_previous_installments, r_previous_credit])\n",
    "# Print out the EntitySet\n",
    "es"
   ]
  },
  {
   "cell_type": "code",
   "execution_count": 7,
   "metadata": {},
   "outputs": [
    {
     "data": {
      "text/plain": [
       "11.626818235"
      ]
     },
     "execution_count": 7,
     "metadata": {},
     "output_type": "execute_result"
    }
   ],
   "source": [
    "sys.getsizeof(es) / 1e9"
   ]
  },
  {
   "cell_type": "markdown",
   "metadata": {},
   "source": [
    "# Convert to Categorical Types"
   ]
  },
  {
   "cell_type": "code",
   "execution_count": 8,
   "metadata": {},
   "outputs": [],
   "source": [
    "es_cat = ft.EntitySet(id = 'clients_cat')"
   ]
  },
  {
   "cell_type": "code",
   "execution_count": 9,
   "metadata": {},
   "outputs": [],
   "source": [
    "for df in [app, bureau, bureau_balance, cash, credit, previous, installments]:\n",
    "    for c in df:\n",
    "        if df[c].dtype.name == \"object\":\n",
    "            df[c] = df[c].astype(\"category\")"
   ]
  },
  {
   "cell_type": "code",
   "execution_count": 10,
   "metadata": {},
   "outputs": [
    {
     "data": {
      "text/plain": [
       "Entityset: clients_cat\n",
       "  Entities:\n",
       "    app [Rows: 356255, Columns: 122]\n",
       "    bureau [Rows: 1716428, Columns: 17]\n",
       "    previous [Rows: 1670214, Columns: 37]\n",
       "    bureau_balance [Rows: 27299925, Columns: 4]\n",
       "    cash [Rows: 10001358, Columns: 8]\n",
       "    installments [Rows: 13605401, Columns: 8]\n",
       "    credit [Rows: 3840312, Columns: 23]\n",
       "  Relationships:\n",
       "    bureau.SK_ID_CURR -> app.SK_ID_CURR\n",
       "    bureau_balance.SK_ID_BUREAU -> bureau.SK_ID_BUREAU\n",
       "    previous.SK_ID_CURR -> app.SK_ID_CURR\n",
       "    cash.SK_ID_PREV -> previous.SK_ID_PREV\n",
       "    installments.SK_ID_PREV -> previous.SK_ID_PREV\n",
       "    credit.SK_ID_PREV -> previous.SK_ID_PREV"
      ]
     },
     "execution_count": 10,
     "metadata": {},
     "output_type": "execute_result"
    }
   ],
   "source": [
    "# Entities_cat with a unique index\n",
    "es_cat = es_cat.entity_from_dataframe(entity_id = 'app', dataframe = app, index = 'SK_ID_CURR',\n",
    "                              variable_types = app_types)\n",
    "\n",
    "es_cat = es_cat.entity_from_dataframe(entity_id = 'bureau', dataframe = bureau, index = 'SK_ID_BUREAU')\n",
    "\n",
    "es_cat = es_cat.entity_from_dataframe(entity_id = 'previous', dataframe = previous, index = 'SK_ID_PREV',\n",
    "                              variable_types = previous_types)\n",
    "\n",
    "# Entities_cat that do not have a unique index\n",
    "es_cat = es_cat.entity_from_dataframe(entity_id = 'bureau_balance', dataframe = bureau_balance, \n",
    "                              make_index = True, index = 'bureaubalance_index')\n",
    "\n",
    "es_cat = es_cat.entity_from_dataframe(entity_id = 'cash', dataframe = cash, \n",
    "                              make_index = True, index = 'cash_index')\n",
    "\n",
    "es_cat = es_cat.entity_from_dataframe(entity_id = 'installments', dataframe = installments,\n",
    "                              make_index = True, index = 'installments_index')\n",
    "\n",
    "es_cat = es_cat.entity_from_dataframe(entity_id = 'credit', dataframe = credit,\n",
    "                              make_index = True, index = 'credit_index')\n",
    "\n",
    "# Relationship between app_train and bureau\n",
    "r_app_bureau = ft.Relationship(es_cat['app']['SK_ID_CURR'], es_cat['bureau']['SK_ID_CURR'])\n",
    "\n",
    "# Relationship between bureau and bureau balance\n",
    "r_bureau_balance = ft.Relationship(es_cat['bureau']['SK_ID_BUREAU'], es_cat['bureau_balance']['SK_ID_BUREAU'])\n",
    "\n",
    "# Relationship between current app and previous apps\n",
    "r_app_previous = ft.Relationship(es_cat['app']['SK_ID_CURR'], es_cat['previous']['SK_ID_CURR'])\n",
    "\n",
    "# Relationships between previous apps and cash, installments, and credit\n",
    "r_previous_cash = ft.Relationship(es_cat['previous']['SK_ID_PREV'], es_cat['cash']['SK_ID_PREV'])\n",
    "r_previous_installments = ft.Relationship(es_cat['previous']['SK_ID_PREV'], es_cat['installments']['SK_ID_PREV'])\n",
    "r_previous_credit = ft.Relationship(es_cat['previous']['SK_ID_PREV'], es_cat['credit']['SK_ID_PREV'])\n",
    "\n",
    "# Add in the defined relationships\n",
    "es_cat = es_cat.add_relationships([r_app_bureau, r_bureau_balance, r_app_previous,\n",
    "                           r_previous_cash, r_previous_installments, r_previous_credit])\n",
    "\n",
    "# Display entityset so far\n",
    "es_cat"
   ]
  },
  {
   "cell_type": "code",
   "execution_count": 11,
   "metadata": {},
   "outputs": [
    {
     "data": {
      "text/plain": [
       "11.626818235"
      ]
     },
     "execution_count": 11,
     "metadata": {},
     "output_type": "execute_result"
    }
   ],
   "source": [
    "sys.getsizeof(es_cat) / 1e9"
   ]
  },
  {
   "cell_type": "code",
   "execution_count": 12,
   "metadata": {},
   "outputs": [
    {
     "data": {
      "text/plain": [
       "SK_ID_CURR                       int64\n",
       "AMT_ANNUITY                    float64\n",
       "AMT_CREDIT                     float64\n",
       "AMT_GOODS_PRICE                float64\n",
       "AMT_INCOME_TOTAL               float64\n",
       "AMT_REQ_CREDIT_BUREAU_DAY      float64\n",
       "AMT_REQ_CREDIT_BUREAU_HOUR     float64\n",
       "AMT_REQ_CREDIT_BUREAU_MON      float64\n",
       "AMT_REQ_CREDIT_BUREAU_QRT      float64\n",
       "AMT_REQ_CREDIT_BUREAU_WEEK     float64\n",
       "AMT_REQ_CREDIT_BUREAU_YEAR     float64\n",
       "APARTMENTS_AVG                 float64\n",
       "APARTMENTS_MEDI                float64\n",
       "APARTMENTS_MODE                float64\n",
       "BASEMENTAREA_AVG               float64\n",
       "BASEMENTAREA_MEDI              float64\n",
       "BASEMENTAREA_MODE              float64\n",
       "CNT_CHILDREN                   float64\n",
       "CNT_FAM_MEMBERS                float64\n",
       "COMMONAREA_AVG                 float64\n",
       "COMMONAREA_MEDI                float64\n",
       "COMMONAREA_MODE                float64\n",
       "DAYS_BIRTH                     float64\n",
       "DAYS_EMPLOYED                  float64\n",
       "DAYS_ID_PUBLISH                float64\n",
       "DAYS_LAST_PHONE_CHANGE         float64\n",
       "DAYS_REGISTRATION              float64\n",
       "DEF_30_CNT_SOCIAL_CIRCLE       float64\n",
       "DEF_60_CNT_SOCIAL_CIRCLE       float64\n",
       "ELEVATORS_AVG                  float64\n",
       "                                ...   \n",
       "FLAG_EMAIL                     float64\n",
       "FLAG_EMP_PHONE                 float64\n",
       "FLAG_MOBIL                     float64\n",
       "FLAG_PHONE                     float64\n",
       "FLAG_WORK_PHONE                float64\n",
       "LIVE_CITY_NOT_WORK_CITY        float64\n",
       "LIVE_REGION_NOT_WORK_REGION    float64\n",
       "REG_CITY_NOT_LIVE_CITY         float64\n",
       "REG_CITY_NOT_WORK_CITY         float64\n",
       "REG_REGION_NOT_LIVE_REGION     float64\n",
       "REG_REGION_NOT_WORK_REGION     float64\n",
       "REGION_RATING_CLIENT           float64\n",
       "REGION_RATING_CLIENT_W_CITY    float64\n",
       "HOUR_APPR_PROCESS_START        float64\n",
       "CODE_GENDER                     object\n",
       "EMERGENCYSTATE_MODE             object\n",
       "FLAG_OWN_CAR                    object\n",
       "FLAG_OWN_REALTY                 object\n",
       "FONDKAPREMONT_MODE              object\n",
       "HOUSETYPE_MODE                  object\n",
       "NAME_CONTRACT_TYPE              object\n",
       "NAME_EDUCATION_TYPE             object\n",
       "NAME_FAMILY_STATUS              object\n",
       "NAME_HOUSING_TYPE               object\n",
       "NAME_INCOME_TYPE                object\n",
       "NAME_TYPE_SUITE                 object\n",
       "OCCUPATION_TYPE                 object\n",
       "ORGANIZATION_TYPE               object\n",
       "WALLSMATERIAL_MODE              object\n",
       "WEEKDAY_APPR_PROCESS_START      object\n",
       "Length: 122, dtype: object"
      ]
     },
     "execution_count": 12,
     "metadata": {},
     "output_type": "execute_result"
    }
   ],
   "source": [
    "es_cat['app'].df.dtypes"
   ]
  },
  {
   "cell_type": "code",
   "execution_count": 13,
   "metadata": {},
   "outputs": [
    {
     "data": {
      "text/plain": [
       "AMT_ANNUITY                      float64\n",
       "AMT_CREDIT                       float64\n",
       "AMT_GOODS_PRICE                  float64\n",
       "AMT_INCOME_TOTAL                 float64\n",
       "AMT_REQ_CREDIT_BUREAU_DAY        float64\n",
       "AMT_REQ_CREDIT_BUREAU_HOUR       float64\n",
       "AMT_REQ_CREDIT_BUREAU_MON        float64\n",
       "AMT_REQ_CREDIT_BUREAU_QRT        float64\n",
       "AMT_REQ_CREDIT_BUREAU_WEEK       float64\n",
       "AMT_REQ_CREDIT_BUREAU_YEAR       float64\n",
       "APARTMENTS_AVG                   float64\n",
       "APARTMENTS_MEDI                  float64\n",
       "APARTMENTS_MODE                  float64\n",
       "BASEMENTAREA_AVG                 float64\n",
       "BASEMENTAREA_MEDI                float64\n",
       "BASEMENTAREA_MODE                float64\n",
       "CNT_CHILDREN                     float64\n",
       "CNT_FAM_MEMBERS                  float64\n",
       "CODE_GENDER                     category\n",
       "COMMONAREA_AVG                   float64\n",
       "COMMONAREA_MEDI                  float64\n",
       "COMMONAREA_MODE                  float64\n",
       "DAYS_BIRTH                       float64\n",
       "DAYS_EMPLOYED                    float64\n",
       "DAYS_ID_PUBLISH                  float64\n",
       "DAYS_LAST_PHONE_CHANGE           float64\n",
       "DAYS_REGISTRATION                float64\n",
       "DEF_30_CNT_SOCIAL_CIRCLE         float64\n",
       "DEF_60_CNT_SOCIAL_CIRCLE         float64\n",
       "ELEVATORS_AVG                    float64\n",
       "                                  ...   \n",
       "NAME_TYPE_SUITE                 category\n",
       "NONLIVINGAPARTMENTS_AVG          float64\n",
       "NONLIVINGAPARTMENTS_MEDI         float64\n",
       "NONLIVINGAPARTMENTS_MODE         float64\n",
       "NONLIVINGAREA_AVG                float64\n",
       "NONLIVINGAREA_MEDI               float64\n",
       "NONLIVINGAREA_MODE               float64\n",
       "OBS_30_CNT_SOCIAL_CIRCLE         float64\n",
       "OBS_60_CNT_SOCIAL_CIRCLE         float64\n",
       "OCCUPATION_TYPE                 category\n",
       "ORGANIZATION_TYPE               category\n",
       "OWN_CAR_AGE                      float64\n",
       "REGION_POPULATION_RELATIVE       float64\n",
       "REGION_RATING_CLIENT             float64\n",
       "REGION_RATING_CLIENT_W_CITY      float64\n",
       "REG_CITY_NOT_LIVE_CITY           float64\n",
       "REG_CITY_NOT_WORK_CITY           float64\n",
       "REG_REGION_NOT_LIVE_REGION       float64\n",
       "REG_REGION_NOT_WORK_REGION       float64\n",
       "SK_ID_CURR                         int64\n",
       "TARGET                           float64\n",
       "TOTALAREA_MODE                   float64\n",
       "WALLSMATERIAL_MODE              category\n",
       "WEEKDAY_APPR_PROCESS_START      category\n",
       "YEARS_BEGINEXPLUATATION_AVG      float64\n",
       "YEARS_BEGINEXPLUATATION_MEDI     float64\n",
       "YEARS_BEGINEXPLUATATION_MODE     float64\n",
       "YEARS_BUILD_AVG                  float64\n",
       "YEARS_BUILD_MEDI                 float64\n",
       "YEARS_BUILD_MODE                 float64\n",
       "Length: 122, dtype: object"
      ]
     },
     "execution_count": 13,
     "metadata": {},
     "output_type": "execute_result"
    }
   ],
   "source": [
    "app.dtypes"
   ]
  },
  {
   "cell_type": "code",
   "execution_count": 14,
   "metadata": {},
   "outputs": [
    {
     "name": "stdout",
     "output_type": "stream",
     "text": [
      "Built 1820 features\n"
     ]
    }
   ],
   "source": [
    "# Specify primitives\n",
    "agg_primitives =  [\"sum\", \"max\", \"min\", \"mean\", \"count\", \"percent_true\", \"num_unique\", \"mode\"]\n",
    "trans_primitives = ['percentile', 'and']\n",
    "\n",
    "# Deep feature synthesis \n",
    "feature_names = ft.dfs(entityset=es, target_entity='app',\n",
    "                       agg_primitives = agg_primitives,\n",
    "                       trans_primitives = trans_primitives,\n",
    "                       n_jobs = -1, verbose = 1,\n",
    "                       features_only = True,\n",
    "                       max_depth = 2)"
   ]
  },
  {
   "cell_type": "code",
   "execution_count": null,
   "metadata": {},
   "outputs": [],
   "source": [
    "ft.save_features()\n"
   ]
  },
  {
   "cell_type": "code",
   "execution_count": 15,
   "metadata": {},
   "outputs": [
    {
     "name": "stdout",
     "output_type": "stream",
     "text": [
      "Built 1820 features\n"
     ]
    }
   ],
   "source": [
    "# Specify primitives\n",
    "agg_primitives =  [\"sum\", \"max\", \"min\", \"mean\", \"count\", \"percent_true\", \"num_unique\", \"mode\"]\n",
    "trans_primitives = ['percentile', 'and']\n",
    "\n",
    "# Deep feature synthesis \n",
    "feature_names_cat = ft.dfs(entityset=es_cat, target_entity='app',\n",
    "                       agg_primitives = agg_primitives,\n",
    "                       trans_primitives = trans_primitives,\n",
    "                       n_jobs = -1, verbose = 1,\n",
    "                       features_only = True,\n",
    "                       max_depth = 2)"
   ]
  },
  {
   "cell_type": "code",
   "execution_count": null,
   "metadata": {},
   "outputs": [],
   "source": []
  }
 ],
 "metadata": {
  "kernelspec": {
   "display_name": "Python 3",
   "language": "python",
   "name": "python3"
  },
  "language_info": {
   "codemirror_mode": {
    "name": "ipython",
    "version": 3
   },
   "file_extension": ".py",
   "mimetype": "text/x-python",
   "name": "python",
   "nbconvert_exporter": "python",
   "pygments_lexer": "ipython3",
   "version": "3.6.4"
  }
 },
 "nbformat": 4,
 "nbformat_minor": 2
}
