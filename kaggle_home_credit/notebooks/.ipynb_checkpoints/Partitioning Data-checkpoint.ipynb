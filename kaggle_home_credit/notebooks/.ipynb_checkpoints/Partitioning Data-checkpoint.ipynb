{
 "cells": [
  {
   "cell_type": "markdown",
   "metadata": {},
   "source": [
    "# Partitioning Data\n",
    "\n",
    "In this notebook, we partition the data into 100 separate datasets based on the client id, `SK_ID_CURR`. These partitions can then be used in combination with Dask to take advantage of all the resources on our machine for generating the feature matrix."
   ]
  },
  {
   "cell_type": "code",
   "execution_count": 1,
   "metadata": {},
   "outputs": [],
   "source": [
    "# pandas and numpy for data manipulation\n",
    "import pandas as pd\n",
    "import numpy as np\n",
    "\n",
    "# featuretools for automated feature engineering\n",
    "import featuretools as ft\n",
    "\n",
    "import featuretools.variable_types as vtypes\n",
    "\n",
    "import sys\n",
    "import psutil\n",
    "\n",
    "import os"
   ]
  },
  {
   "cell_type": "code",
   "execution_count": 2,
   "metadata": {},
   "outputs": [],
   "source": [
    "# Read in the datasets and replace the anomalous values\n",
    "app_train = pd.read_csv('../input/application_train.csv').replace({365243: np.nan})\n",
    "app_test = pd.read_csv('../input/application_test.csv').replace({365243: np.nan})\n",
    "bureau = pd.read_csv('../input/bureau.csv').replace({365243: np.nan})\n",
    "bureau_balance = pd.read_csv('../input/bureau_balance.csv').replace({365243: np.nan})\n",
    "cash = pd.read_csv('../input/POS_CASH_balance.csv').replace({365243: np.nan})\n",
    "credit = pd.read_csv('../input/credit_card_balance.csv').replace({365243: np.nan})\n",
    "previous = pd.read_csv('../input/previous_application.csv').replace({365243: np.nan})\n",
    "installments = pd.read_csv('../input/installments_payments.csv').replace({365243: np.nan})\n",
    "\n",
    "app_test['TARGET'] = np.nan\n",
    "\n",
    "# Join together training and testing\n",
    "app = app_train.append(app_test, ignore_index = True, sort = True)\n",
    "\n",
    "# All ids should be integers\n",
    "for index in ['SK_ID_CURR', 'SK_ID_PREV', 'SK_ID_BUREAU']:\n",
    "    for dataset in [app, bureau, bureau_balance, cash, credit, previous, installments]:\n",
    "        if index in list(dataset.columns):\n",
    "            # Convert to integers after filling in missing values (not sure why values are missing)\n",
    "            dataset[index] = dataset[index].fillna(0).astype(np.int64)\n",
    "\n",
    "# Need `SK_ID_CURR` in every dataset\n",
    "bureau_balance = bureau_balance.merge(bureau[['SK_ID_CURR', 'SK_ID_BUREAU']], \n",
    "                                      on = 'SK_ID_BUREAU', how = 'left')\n",
    "\n",
    "\n",
    "# Set the index for locating\n",
    "for dataset in [app, bureau, bureau_balance, cash, credit, previous, installments]:\n",
    "    dataset.set_index('SK_ID_CURR', inplace = True)"
   ]
  },
  {
   "cell_type": "code",
   "execution_count": 8,
   "metadata": {},
   "outputs": [],
   "source": [
    "def create_partition(user_list, partition):\n",
    "    \"\"\"Creates an entityset with only the users in `user_list`. \n",
    "       Main purpose is partioning data\"\"\"\n",
    "    \n",
    "    # Subset based on user list\n",
    "    app_subset = app[app.index.isin(user_list)].copy().reset_index()\n",
    "    bureau_subset = bureau[bureau.index.isin(user_list)].copy().reset_index()\n",
    "    \n",
    "    # Drop SK_ID_CURR from bureau_balance, cash, credit, and installments\n",
    "    bureau_balance_subset = bureau_balance[bureau_balance.index.isin(user_list)].copy().reset_index(drop = True)\n",
    "    cash_subset = cash[cash.index.isin(user_list)].copy().reset_index(drop = True)\n",
    "    credit_subset = credit[credit.index.isin(user_list)].copy().reset_index(drop = True)\n",
    "    previous_subset = previous[previous.index.isin(user_list)].copy().reset_index()\n",
    "    installments_subset = installments[installments.index.isin(user_list)].copy().reset_index(drop = True)\n",
    "    \n",
    "    # Make the directory\n",
    "    directory = '../input/partitions/p%d' % (partition + 1)\n",
    "    os.makedirs(directory, exist_ok=True)\n",
    "    \n",
    "    # Save data to the directory\n",
    "    app_subset.to_csv('%s/app.csv' % directory, index = False)\n",
    "    bureau_subset.to_csv('%s/bureau.csv' % directory, index = False)\n",
    "    bureau_balance_subset.to_csv('%s/bureau_balance.csv' % directory, index = False)\n",
    "    cash_subset.to_csv('%s/cash.csv' % directory, index = False)\n",
    "    credit_subset.to_csv('%s/credit.csv' % directory, index = False)\n",
    "    previous_subset.to_csv('%s/previous.csv' % directory, index = False)\n",
    "    installments_subset.to_csv('%s/installments.csv' % directory, index = False)\n",
    "\n",
    "    print('Saved all files in partition {} to {}.'.format(partition + 1, directory))"
   ]
  },
  {
   "cell_type": "code",
   "execution_count": 9,
   "metadata": {},
   "outputs": [],
   "source": [
    "# Break into 50 chunks\n",
    "chunk_size = app.shape[0] // 50\n",
    "\n",
    "# Construct an id list\n",
    "id_list = [list(app.iloc[i:i+chunk_size].index) for i in range(0, app.shape[0], chunk_size)]"
   ]
  },
  {
   "cell_type": "code",
   "execution_count": 10,
   "metadata": {},
   "outputs": [
    {
     "name": "stdout",
     "output_type": "stream",
     "text": [
      "Number of ids in id_list:         356255.\n",
      "Total length of application data: 356255.\n"
     ]
    }
   ],
   "source": [
    "from itertools import chain\n",
    "\n",
    "# Sanity check that we have not missed any ids\n",
    "print('Number of ids in id_list:         {}.'.format(len(list(chain(*id_list)))))\n",
    "print('Total length of application data: {}.'.format(len(app)))"
   ]
  },
  {
   "cell_type": "code",
   "execution_count": 11,
   "metadata": {},
   "outputs": [
    {
     "name": "stdout",
     "output_type": "stream",
     "text": [
      "Saved all files in partition 1 to ../input/partitions/p1.\n",
      "Saved all files in partition 2 to ../input/partitions/p2.\n",
      "Saved all files in partition 3 to ../input/partitions/p3.\n",
      "Saved all files in partition 4 to ../input/partitions/p4.\n",
      "Saved all files in partition 5 to ../input/partitions/p5.\n",
      "Saved all files in partition 6 to ../input/partitions/p6.\n",
      "Saved all files in partition 7 to ../input/partitions/p7.\n",
      "Saved all files in partition 8 to ../input/partitions/p8.\n",
      "Saved all files in partition 9 to ../input/partitions/p9.\n",
      "Saved all files in partition 10 to ../input/partitions/p10.\n",
      "Saved all files in partition 11 to ../input/partitions/p11.\n",
      "Saved all files in partition 12 to ../input/partitions/p12.\n",
      "Saved all files in partition 13 to ../input/partitions/p13.\n",
      "Saved all files in partition 14 to ../input/partitions/p14.\n",
      "Saved all files in partition 15 to ../input/partitions/p15.\n",
      "Saved all files in partition 16 to ../input/partitions/p16.\n",
      "Saved all files in partition 17 to ../input/partitions/p17.\n",
      "Saved all files in partition 18 to ../input/partitions/p18.\n",
      "Saved all files in partition 19 to ../input/partitions/p19.\n",
      "Saved all files in partition 20 to ../input/partitions/p20.\n",
      "Saved all files in partition 21 to ../input/partitions/p21.\n",
      "Saved all files in partition 22 to ../input/partitions/p22.\n",
      "Saved all files in partition 23 to ../input/partitions/p23.\n",
      "Saved all files in partition 24 to ../input/partitions/p24.\n",
      "Saved all files in partition 25 to ../input/partitions/p25.\n",
      "Saved all files in partition 26 to ../input/partitions/p26.\n",
      "Saved all files in partition 27 to ../input/partitions/p27.\n",
      "Saved all files in partition 28 to ../input/partitions/p28.\n",
      "Saved all files in partition 29 to ../input/partitions/p29.\n",
      "Saved all files in partition 30 to ../input/partitions/p30.\n",
      "Saved all files in partition 31 to ../input/partitions/p31.\n",
      "Saved all files in partition 32 to ../input/partitions/p32.\n",
      "Saved all files in partition 33 to ../input/partitions/p33.\n",
      "Saved all files in partition 34 to ../input/partitions/p34.\n",
      "Saved all files in partition 35 to ../input/partitions/p35.\n",
      "Saved all files in partition 36 to ../input/partitions/p36.\n",
      "Saved all files in partition 37 to ../input/partitions/p37.\n",
      "Saved all files in partition 38 to ../input/partitions/p38.\n",
      "Saved all files in partition 39 to ../input/partitions/p39.\n",
      "Saved all files in partition 40 to ../input/partitions/p40.\n",
      "Saved all files in partition 41 to ../input/partitions/p41.\n",
      "Saved all files in partition 42 to ../input/partitions/p42.\n",
      "Saved all files in partition 43 to ../input/partitions/p43.\n",
      "Saved all files in partition 44 to ../input/partitions/p44.\n",
      "Saved all files in partition 45 to ../input/partitions/p45.\n",
      "Saved all files in partition 46 to ../input/partitions/p46.\n",
      "Saved all files in partition 47 to ../input/partitions/p47.\n",
      "Saved all files in partition 48 to ../input/partitions/p48.\n",
      "Saved all files in partition 49 to ../input/partitions/p49.\n",
      "Saved all files in partition 50 to ../input/partitions/p50.\n",
      "Saved all files in partition 51 to ../input/partitions/p51.\n"
     ]
    }
   ],
   "source": [
    "for i, ids in enumerate(id_list):\n",
    "    # Create a partition based on the ids\n",
    "    create_partition(ids, i)"
   ]
  },
  {
   "cell_type": "markdown",
   "metadata": {},
   "source": [
    "# Conclusions\n",
    "\n",
    "Now that the data has been partitioned into 100 sections, we can use Dask to parallize computing the feature matrix. We can independently generate the feature matrix for each partition because the partition contains all the data for that group of clients. The feature matrix itself will be generated on a personal machine using Dask. This is implemented in the Featuretools Implementation with Dask notebook."
   ]
  },
  {
   "cell_type": "code",
   "execution_count": null,
   "metadata": {},
   "outputs": [],
   "source": []
  }
 ],
 "metadata": {
  "kernelspec": {
   "display_name": "Python 3",
   "language": "python",
   "name": "python3"
  },
  "language_info": {
   "codemirror_mode": {
    "name": "ipython",
    "version": 3
   },
   "file_extension": ".py",
   "mimetype": "text/x-python",
   "name": "python",
   "nbconvert_exporter": "python",
   "pygments_lexer": "ipython3",
   "version": "3.6.5"
  }
 },
 "nbformat": 4,
 "nbformat_minor": 2
}
