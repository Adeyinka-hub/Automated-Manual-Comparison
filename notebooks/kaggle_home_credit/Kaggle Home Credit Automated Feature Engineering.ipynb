{
 "cells": [
  {
   "cell_type": "markdown",
   "metadata": {},
   "source": [
    "![](../../images/featuretools.png)\n",
    "\n",
    "# Automated Feature Engineering on Home Credit Default Risk Data\n",
    "\n",
    "In this notebook, we will apply automated feature engineering using featuretools to the Home Credit Default Risk competition dataset. This problem is a machine learnign competition currently running on Kaggle where the objective is to predict if an applicant will default on a loan given historical information on past loans. The data is spread across seven different tables which makes this an ideal problem for automated feature engineering: all of the data must be gathered into a single dataframe for training (and one for testing) with the aim of capturing as much usable information for the prediction problem as possible. \n",
    "\n",
    "Our focus will be on using featuretools as efficiently as possible for a first pass on the problem. That means we will not spend much time maximizing the potential of the featuretools library, but will instead focus on getting a usable solution as quickly as possible. \n",
    "\n",
    "## Problem and Dataset\n",
    "\n"
   ]
  },
  {
   "cell_type": "code",
   "execution_count": null,
   "metadata": {},
   "outputs": [],
   "source": []
  }
 ],
 "metadata": {
  "kernelspec": {
   "display_name": "Python 3",
   "language": "python",
   "name": "python3"
  },
  "language_info": {
   "codemirror_mode": {
    "name": "ipython",
    "version": 3
   },
   "file_extension": ".py",
   "mimetype": "text/x-python",
   "name": "python",
   "nbconvert_exporter": "python",
   "pygments_lexer": "ipython3",
   "version": "3.6.5"
  }
 },
 "nbformat": 4,
 "nbformat_minor": 2
}
