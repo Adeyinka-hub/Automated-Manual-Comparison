{
 "cells": [
  {
   "cell_type": "markdown",
   "metadata": {},
   "source": [
    "![](../../images/featuretools.png)\n",
    "\n",
    "# Automated Feature Engineering on Home Credit Default Risk Data\n",
    "\n",
    "Feature engineering is the process of creating new features (also called predictors or explanatory variables) out of an existing dataset. Traditionally, this process is done by hand using domain knowledge to build new features one at a time. In a previous notebook, we saw that feature engineering is crucial for a data science problem and how the manual approach is time-consuming, tedious, error-prone, and must be re-done for each problem. Automated feature engineering aims to aid the data scientist in this critical process by automatically creating hundreds or thousands of new features from a set of related tables. \n",
    "\n",
    "In this notebook, we will apply automated feature engineering to the Home Credit Default Risk loan dataset using featuretools, the only open-source Python library for automated feature engineering. This problem is a machine learning competition currently running on Kaggle where the objective is to predict if an applicant will default on a loan given comprehensive data on past loans and applicants. The data is spread across seven different tables making this an ideal problem for automated feature engineering: all of the data must be gathered into a single dataframe for training (and one for testing) with the aim of capturing as much usable information for the prediction problem as possible. As we will see, featuretools can efficiently carry out the tedious process of using all of these tables to make new features with only a few lines of code required from the data scientist.\n",
    "\n",
    "\n",
    "## Approach \n",
    "\n",
    "Automated feature engineering is not meant to replace the data scientist, but rather allow for more efficient pipelines. While featuretools allows us to create thousands of features in a few lines of code with no domain knowledge required, it also can amplify any domain knowledge we do have by _building features on top of domain knowledge features_. If we have already built features by hand for a problem, we can use featuretools to increase their value by stacking additional features on top. The original hand-built features are known as _seed features_ becuase they form the basis for additional features. In this notebook, we will demonstrate not only how to efficiently create thousands of features from a dataset, but also how to augment our existing domain knowledge using seed features. Our approach will be as follows (the background for each step will be covered as we go):\n",
    "\n",
    "1. Read in the set of related data tables\n",
    "2. Create a featuretools `EntitySet` and add `entities` to it \n",
    "    * Identify correct variable types as required\n",
    "    * Identify indices in data\n",
    "3. Add relationships between `entities`\n",
    "4. Make seed features using domain knowledge\n",
    "5. Select primitives to use for creating thousands of new features\n",
    "6. Run Deep Feature Synthesis on the entityset to generate new features\n",
    "    * Specify primitives and seed features\n",
    "    * First build only the feature names to check results\n",
    "\n",
    "## Problem and Dataset\n",
    "\n",
    "The [Home Credit Default Risk competition](https://www.kaggle.com/c/home-credit-default-risk) currently running on Kaggle is a supervised classification task where the objective is to predict whether or not an applicant for a loan (known as a client) will default on the loan. The data comprises socio-economic indicators for the clients, loan specific financial information, and comprehensive data on previous loans at Home Credit (the institution sponsoring the competition) and other credit agencies. The metric for this competition is Receiver Operating Characteristic Area Under the Curve (ROC AUC) with predictions made in terms of the probability of default. We can evaluate our submissions both through cross-validation on the training data (for which we have the labels) or by submitting our test predictions to Kaggle to see where we place on the public leaderboard (which is calculated with only 10% of the testing data). \n",
    "\n",
    "The Home Credit Default Risk dataset ([available for download here](https://www.kaggle.com/c/home-credit-default-risk/data)) consists of seven related tables of data:\n",
    "\n",
    "* application_train/application_test: the main training/testing data for each client at Home Credit. The information includes both socioeconomic indicators for the client and loan-specific characteristics. Each loan has its own row and is uniquely identified by the feature `SK_ID_CURR`. The training application data comes with the `TARGET` indicating 0: the loan was repaid or 1: the loan was not repaid. \n",
    "* bureau: data concerning client's previous credits from other financial institutions (not Home Credit). Each previous credit has its own row in bureau, but one client in the application data can have multiple previous credits. The previous credits are uniquely identified by the feature `SK_ID_BUREAU`.\n",
    "* bureau_balance: monthly balance data about the credits in bureau. Each row has information for one month about a previous credit and a single previous credit can have multiple rows. This is linked backed to the bureau loan data by `SK_ID_BUREAU` (not unique in this dataframe).\n",
    "* previous_application: previous applications for loans at Home Credit of clients who have loans in the application data. Each client in the application data can have multiple previous loans. Each previous application has one row in this dataframe and is uniquely identified by the feature `SK_ID_PREV`. \n",
    "* POS_CASH_BALANCE: monthly data about previous point of sale or cash loans from the previous loan data. Each row is one month of a previous point of sale or cash loan, and a single previous loan can have many rows. This is linked backed to the previous loan data by `SK_ID_PREV` (not unique in this dataframe).\n",
    "* credit_card_balance: monthly data about previous credit cards loans from the previous loan data. Each row is one month of a credit card balance, and a single credit card can have many rows. This is linked backed to the previous loan data by `SK_ID_PREV` (not unique in this dataframe).\n",
    "* installments_payment: payment history for previous loans at Home Credit. There is one row for every made payment and one row for every missed payment. This is linked backed to the previous loan data by `SK_ID_PREV` (not unique in this dataframe).\n",
    "\n",
    "The image below shows the seven tables and the variables linking them:\n",
    "\n",
    "![](../../images/kaggle_home_credit/home_credit_data.png)\n",
    "\n",
    "The variables that tie the tables together will be important to understand when it comes to adding `relationships` between entities. "
   ]
  },
  {
   "cell_type": "code",
   "execution_count": 1,
   "metadata": {},
   "outputs": [],
   "source": [
    "# pandas and numpy for data manipulation\n",
    "import pandas as pd\n",
    "import numpy as np\n",
    "\n",
    "# featuretools for automated feature engineering\n",
    "import featuretools as ft"
   ]
  },
  {
   "cell_type": "markdown",
   "metadata": {},
   "source": [
    "### Read in Data\n",
    "\n",
    "First we can read in the seven data tables. We also replace the anomalous values previously identified. "
   ]
  },
  {
   "cell_type": "code",
   "execution_count": 18,
   "metadata": {},
   "outputs": [],
   "source": [
    "# Read in the datasets and replace the anomalous values\n",
    "app_train = pd.read_csv('../../data/kaggle_home_credit/application_train.csv').replace({365243: np.nan})\n",
    "app_test = pd.read_csv('../../data/kaggle_home_credit/application_test.csv').replace({365243: np.nan})\n",
    "bureau = pd.read_csv('../../data/kaggle_home_credit/bureau.csv').replace({365243: np.nan})\n",
    "bureau_balance = pd.read_csv('../../data/kaggle_home_credit/bureau_balance.csv').replace({365243: np.nan})\n",
    "cash = pd.read_csv('../../data/kaggle_home_credit/POS_CASH_balance.csv').replace({365243: np.nan})\n",
    "credit = pd.read_csv('../../data/kaggle_home_credit/credit_card_balance.csv').replace({365243: np.nan})\n",
    "previous = pd.read_csv('../../data/kaggle_home_credit/previous_application.csv').replace({365243: np.nan})\n",
    "installments = pd.read_csv('../../data/kaggle_home_credit/installments_payments.csv').replace({365243: np.nan})"
   ]
  },
  {
   "cell_type": "code",
   "execution_count": 34,
   "metadata": {},
   "outputs": [],
   "source": [
    "bureau['SK_ID_BUREAU'] = bureau['SK_ID_BUREAU'].astype(np.int64)\n",
    "credit['SK_ID_PREV'] = credit['SK_ID_PREV'].astype(np.int64)\n",
    "previous['SK_ID_PREV'] = previous['SK_ID_PREV'].astype(np.int64)\n",
    "cash['SK_ID_PREV'] = cash['SK_ID_PREV'].astype(np.int64)\n",
    "installments['SK_ID_PREV'] = installments['SK_ID_PREV'].astype(np.int64)"
   ]
  },
  {
   "cell_type": "markdown",
   "metadata": {},
   "source": [
    "We'll join the train and test set together but add a separate column identifying each set. This is important because we are going to want to create the same exact set of features for both the training and testing data. It's safest to just join them together and treat them as a single dataframe. Later we can separate out the training and testing data using `train = app[app[\"TARGET\"].notnull()]` and `test = app[app[\"TARGET\"].isnull()]`"
   ]
  },
  {
   "cell_type": "code",
   "execution_count": 35,
   "metadata": {},
   "outputs": [],
   "source": [
    "# Add identifying column\n",
    "app_train['set'] = 'train'\n",
    "app_test['set'] = 'test'\n",
    "app_test[\"TARGET\"] = np.nan\n",
    "\n",
    "# Append the dataframes\n",
    "app = app_train.append(app_test, ignore_index = True, sort = True)"
   ]
  },
  {
   "cell_type": "markdown",
   "metadata": {},
   "source": [
    "# Featuretools Basics\n",
    "\n",
    "[Featuretools](https://docs.featuretools.com/#minute-quick-start) is an open-source Python library for automatically creating features out of a set of related tables using a technique called [deep feature synthesis](http://www.jmaxkanter.com/static/papers/DSAA_DSM_2015.pdf). Automated feature engineering, like many topics in machine learning, is a complex subject built upon a foundation of simpler ideas. By going through these ideas one at a time, we can build up our understanding of featuretools which will later allow for us to get the most out of it.\n",
    "\n",
    "There are a few concepts that we will cover along the way:\n",
    "\n",
    "* [Entities and EntitySets](https://docs.featuretools.com/loading_data/using_entitysets.html): our tables and a data structure for keeping track of them all\n",
    "* [Relationships between tables](https://docs.featuretools.com/loading_data/using_entitysets.html#adding-a-relationship): how the tables can be related to one another\n",
    "* [Feature primitives](https://docs.featuretools.com/automated_feature_engineering/primitives.html): aggregations and transformations\n",
    "* [Deep feature synthesis](https://docs.featuretools.com/automated_feature_engineering/afe.html): the method using feature primitives to generate thousands of new features\n",
    "\n",
    "# Entities and Entitysets\n",
    "\n",
    "An entity is simply a table or in Pandas, a `dataframe`. The observations must be in the rows and the features in the columns. An entity in featuretools must have a unique index where none of the elements are duplicated.  Currently, only `app`, `bureau`, and `previous` have unique indices (`SK_ID_CURR`, `SK_ID_BUREAU`, and `SK_ID_PREV` respectively). For the other dataframes, we must pass in `make_index = True` and then specify the name of the index. Entities can also have time indices that represent when the information in the row became known. (There are not datetimes in any of the data, but there are relative times, given in months or days, that could be treated as time variables although we will not use them as time in this notebook).\n",
    "\n",
    "An [EntitySet](https://docs.featuretools.com/loading_data/using_entitysets.html) is a collection of tables and the relationships between them. This can be thought of a data structure with its own methods and attributes. Using an EntitySet allows us to group together multiple tables and will make creating the features much simpler than keeping track of individual tables and relationships.\n",
    "\n",
    "First we'll make an empty entityset named clients to keep track of all the data."
   ]
  },
  {
   "cell_type": "code",
   "execution_count": 36,
   "metadata": {},
   "outputs": [],
   "source": [
    "# Entity set with id applications\n",
    "es = ft.EntitySet(id = 'clients')"
   ]
  },
  {
   "cell_type": "markdown",
   "metadata": {},
   "source": [
    "### Variable Types\n",
    "\n",
    "Featuretools will automatically infer the variable types. However, there may be some cases where we need to explicitly tell featuretools the variable type such as when a boolean variable is represented as an integer (otherwise it will be considered a numeric). Variable types in featuretools can be specified as a dictionary. \n",
    "\n",
    "We will first work with the `app` data to specify the proper variable types. To identify the `Boolean` variables, we can iterate through the data and find any columns where there are only 2 unique values. We can also use the column definitions to find any other data types that should be identified, such as `Ordinal` variables."
   ]
  },
  {
   "cell_type": "code",
   "execution_count": 37,
   "metadata": {},
   "outputs": [],
   "source": [
    "import featuretools.variable_types as vtypes"
   ]
  },
  {
   "cell_type": "code",
   "execution_count": 38,
   "metadata": {},
   "outputs": [
    {
     "name": "stdout",
     "output_type": "stream",
     "text": [
      "There are 38 Boolean variables in the application data.\n"
     ]
    }
   ],
   "source": [
    "app_types = {}\n",
    "\n",
    "# Handle the Boolean variables:\n",
    "for col in app:\n",
    "    if app[col].nunique() == 2:\n",
    "        app_types[col] = vtypes.Boolean\n",
    "\n",
    "print('There are {} Boolean variables in the application data.'.format(len(app_types)))"
   ]
  },
  {
   "cell_type": "code",
   "execution_count": 39,
   "metadata": {},
   "outputs": [],
   "source": [
    "# Ordinal variables\n",
    "app_types['REGION_RATING_CLIENT'] = vtypes.Ordinal\n",
    "app_types['REGION_RATING_CLIENT_W_CITY'] = vtypes.Ordinal\n",
    "app_types['WEEKDAY_APPR_PROCESS_START'] = vtypes.Ordinal\n",
    "app_types['HOUR_APPR_PROCESS_START'] = vtypes.Ordinal"
   ]
  },
  {
   "cell_type": "markdown",
   "metadata": {},
   "source": [
    "The `previous` table is the only other `entity` that has features which should be recorded as Boolean. Correctly identifying the type of column will prevent featuretools from making irrelevant features such as the mean or max of a `Boolean`. "
   ]
  },
  {
   "cell_type": "code",
   "execution_count": 40,
   "metadata": {},
   "outputs": [
    {
     "name": "stdout",
     "output_type": "stream",
     "text": [
      "There are 3 Boolean variables in the previous data.\n"
     ]
    }
   ],
   "source": [
    "previous_types = {}\n",
    "\n",
    "# Handle the Boolean variables:\n",
    "for col in previous:\n",
    "    if previous[col].nunique() == 2:\n",
    "        previous_types[col] = vtypes.Boolean\n",
    "\n",
    "print('There are {} Boolean variables in the previous data.'.format(len(previous_types)))"
   ]
  },
  {
   "cell_type": "markdown",
   "metadata": {},
   "source": [
    "In addition to identifying Boolean variables, we want to make sure featuretools does not create nonsense features such as statistical aggregations of ids. The `credit`, `cash`, and `installments` data all have the `SK_ID_CURR` variable. However, we do not actually need this variable in these dataframes because we link them to `app` through the `previous` dataframe with the `SK_ID_PREV` variable. (We can't directly add the relationships using `SK_ID_CURR` and using the `previous` dataframe because this would create a diamond graph.) We don't want to make features from `SK_ID_CURR` since it is an arbitrary id and should have no predictive power. Features like the mean of the id are irrelevant and would only slow down model training and probably lead to poorer model performance. \n",
    "\n",
    "Our options to handle these variables is either to tell featuretools to ignore them, or to drop the features before including them in the entityset. We will take the latter approach."
   ]
  },
  {
   "cell_type": "code",
   "execution_count": 41,
   "metadata": {},
   "outputs": [
    {
     "ename": "KeyError",
     "evalue": "\"labels ['SK_ID_CURR'] not contained in axis\"",
     "output_type": "error",
     "traceback": [
      "\u001b[0;31m---------------------------------------------------------------------------\u001b[0m",
      "\u001b[0;31mKeyError\u001b[0m                                  Traceback (most recent call last)",
      "\u001b[0;32m<ipython-input-41-fa3fbb1f08aa>\u001b[0m in \u001b[0;36m<module>\u001b[0;34m()\u001b[0m\n\u001b[0;32m----> 1\u001b[0;31m \u001b[0minstallments\u001b[0m \u001b[0;34m=\u001b[0m \u001b[0minstallments\u001b[0m\u001b[0;34m.\u001b[0m\u001b[0mdrop\u001b[0m\u001b[0;34m(\u001b[0m\u001b[0mcolumns\u001b[0m \u001b[0;34m=\u001b[0m \u001b[0;34m[\u001b[0m\u001b[0;34m'SK_ID_CURR'\u001b[0m\u001b[0;34m]\u001b[0m\u001b[0;34m)\u001b[0m\u001b[0;34m\u001b[0m\u001b[0m\n\u001b[0m\u001b[1;32m      2\u001b[0m \u001b[0mcredit\u001b[0m \u001b[0;34m=\u001b[0m \u001b[0mcredit\u001b[0m\u001b[0;34m.\u001b[0m\u001b[0mdrop\u001b[0m\u001b[0;34m(\u001b[0m\u001b[0mcolumns\u001b[0m \u001b[0;34m=\u001b[0m \u001b[0;34m[\u001b[0m\u001b[0;34m'SK_ID_CURR'\u001b[0m\u001b[0;34m]\u001b[0m\u001b[0;34m)\u001b[0m\u001b[0;34m\u001b[0m\u001b[0m\n\u001b[1;32m      3\u001b[0m \u001b[0mcash\u001b[0m \u001b[0;34m=\u001b[0m \u001b[0mcash\u001b[0m\u001b[0;34m.\u001b[0m\u001b[0mdrop\u001b[0m\u001b[0;34m(\u001b[0m\u001b[0mcolumns\u001b[0m \u001b[0;34m=\u001b[0m \u001b[0;34m[\u001b[0m\u001b[0;34m'SK_ID_CURR'\u001b[0m\u001b[0;34m]\u001b[0m\u001b[0;34m)\u001b[0m\u001b[0;34m\u001b[0m\u001b[0m\n",
      "\u001b[0;32m/anaconda3/lib/python3.6/site-packages/pandas/core/frame.py\u001b[0m in \u001b[0;36mdrop\u001b[0;34m(self, labels, axis, index, columns, level, inplace, errors)\u001b[0m\n\u001b[1;32m   3692\u001b[0m                                            \u001b[0mindex\u001b[0m\u001b[0;34m=\u001b[0m\u001b[0mindex\u001b[0m\u001b[0;34m,\u001b[0m \u001b[0mcolumns\u001b[0m\u001b[0;34m=\u001b[0m\u001b[0mcolumns\u001b[0m\u001b[0;34m,\u001b[0m\u001b[0;34m\u001b[0m\u001b[0m\n\u001b[1;32m   3693\u001b[0m                                            \u001b[0mlevel\u001b[0m\u001b[0;34m=\u001b[0m\u001b[0mlevel\u001b[0m\u001b[0;34m,\u001b[0m \u001b[0minplace\u001b[0m\u001b[0;34m=\u001b[0m\u001b[0minplace\u001b[0m\u001b[0;34m,\u001b[0m\u001b[0;34m\u001b[0m\u001b[0m\n\u001b[0;32m-> 3694\u001b[0;31m                                            errors=errors)\n\u001b[0m\u001b[1;32m   3695\u001b[0m \u001b[0;34m\u001b[0m\u001b[0m\n\u001b[1;32m   3696\u001b[0m     @rewrite_axis_style_signature('mapper', [('copy', True),\n",
      "\u001b[0;32m/anaconda3/lib/python3.6/site-packages/pandas/core/generic.py\u001b[0m in \u001b[0;36mdrop\u001b[0;34m(self, labels, axis, index, columns, level, inplace, errors)\u001b[0m\n\u001b[1;32m   3106\u001b[0m         \u001b[0;32mfor\u001b[0m \u001b[0maxis\u001b[0m\u001b[0;34m,\u001b[0m \u001b[0mlabels\u001b[0m \u001b[0;32min\u001b[0m \u001b[0maxes\u001b[0m\u001b[0;34m.\u001b[0m\u001b[0mitems\u001b[0m\u001b[0;34m(\u001b[0m\u001b[0;34m)\u001b[0m\u001b[0;34m:\u001b[0m\u001b[0;34m\u001b[0m\u001b[0m\n\u001b[1;32m   3107\u001b[0m             \u001b[0;32mif\u001b[0m \u001b[0mlabels\u001b[0m \u001b[0;32mis\u001b[0m \u001b[0;32mnot\u001b[0m \u001b[0;32mNone\u001b[0m\u001b[0;34m:\u001b[0m\u001b[0;34m\u001b[0m\u001b[0m\n\u001b[0;32m-> 3108\u001b[0;31m                 \u001b[0mobj\u001b[0m \u001b[0;34m=\u001b[0m \u001b[0mobj\u001b[0m\u001b[0;34m.\u001b[0m\u001b[0m_drop_axis\u001b[0m\u001b[0;34m(\u001b[0m\u001b[0mlabels\u001b[0m\u001b[0;34m,\u001b[0m \u001b[0maxis\u001b[0m\u001b[0;34m,\u001b[0m \u001b[0mlevel\u001b[0m\u001b[0;34m=\u001b[0m\u001b[0mlevel\u001b[0m\u001b[0;34m,\u001b[0m \u001b[0merrors\u001b[0m\u001b[0;34m=\u001b[0m\u001b[0merrors\u001b[0m\u001b[0;34m)\u001b[0m\u001b[0;34m\u001b[0m\u001b[0m\n\u001b[0m\u001b[1;32m   3109\u001b[0m \u001b[0;34m\u001b[0m\u001b[0m\n\u001b[1;32m   3110\u001b[0m         \u001b[0;32mif\u001b[0m \u001b[0minplace\u001b[0m\u001b[0;34m:\u001b[0m\u001b[0;34m\u001b[0m\u001b[0m\n",
      "\u001b[0;32m/anaconda3/lib/python3.6/site-packages/pandas/core/generic.py\u001b[0m in \u001b[0;36m_drop_axis\u001b[0;34m(self, labels, axis, level, errors)\u001b[0m\n\u001b[1;32m   3138\u001b[0m                 \u001b[0mnew_axis\u001b[0m \u001b[0;34m=\u001b[0m \u001b[0maxis\u001b[0m\u001b[0;34m.\u001b[0m\u001b[0mdrop\u001b[0m\u001b[0;34m(\u001b[0m\u001b[0mlabels\u001b[0m\u001b[0;34m,\u001b[0m \u001b[0mlevel\u001b[0m\u001b[0;34m=\u001b[0m\u001b[0mlevel\u001b[0m\u001b[0;34m,\u001b[0m \u001b[0merrors\u001b[0m\u001b[0;34m=\u001b[0m\u001b[0merrors\u001b[0m\u001b[0;34m)\u001b[0m\u001b[0;34m\u001b[0m\u001b[0m\n\u001b[1;32m   3139\u001b[0m             \u001b[0;32melse\u001b[0m\u001b[0;34m:\u001b[0m\u001b[0;34m\u001b[0m\u001b[0m\n\u001b[0;32m-> 3140\u001b[0;31m                 \u001b[0mnew_axis\u001b[0m \u001b[0;34m=\u001b[0m \u001b[0maxis\u001b[0m\u001b[0;34m.\u001b[0m\u001b[0mdrop\u001b[0m\u001b[0;34m(\u001b[0m\u001b[0mlabels\u001b[0m\u001b[0;34m,\u001b[0m \u001b[0merrors\u001b[0m\u001b[0;34m=\u001b[0m\u001b[0merrors\u001b[0m\u001b[0;34m)\u001b[0m\u001b[0;34m\u001b[0m\u001b[0m\n\u001b[0m\u001b[1;32m   3141\u001b[0m             \u001b[0mdropped\u001b[0m \u001b[0;34m=\u001b[0m \u001b[0mself\u001b[0m\u001b[0;34m.\u001b[0m\u001b[0mreindex\u001b[0m\u001b[0;34m(\u001b[0m\u001b[0;34m**\u001b[0m\u001b[0;34m{\u001b[0m\u001b[0maxis_name\u001b[0m\u001b[0;34m:\u001b[0m \u001b[0mnew_axis\u001b[0m\u001b[0;34m}\u001b[0m\u001b[0;34m)\u001b[0m\u001b[0;34m\u001b[0m\u001b[0m\n\u001b[1;32m   3142\u001b[0m             \u001b[0;32mtry\u001b[0m\u001b[0;34m:\u001b[0m\u001b[0;34m\u001b[0m\u001b[0m\n",
      "\u001b[0;32m/anaconda3/lib/python3.6/site-packages/pandas/core/indexes/base.py\u001b[0m in \u001b[0;36mdrop\u001b[0;34m(self, labels, errors)\u001b[0m\n\u001b[1;32m   4385\u001b[0m             \u001b[0;32mif\u001b[0m \u001b[0merrors\u001b[0m \u001b[0;34m!=\u001b[0m \u001b[0;34m'ignore'\u001b[0m\u001b[0;34m:\u001b[0m\u001b[0;34m\u001b[0m\u001b[0m\n\u001b[1;32m   4386\u001b[0m                 raise KeyError(\n\u001b[0;32m-> 4387\u001b[0;31m                     'labels %s not contained in axis' % labels[mask])\n\u001b[0m\u001b[1;32m   4388\u001b[0m             \u001b[0mindexer\u001b[0m \u001b[0;34m=\u001b[0m \u001b[0mindexer\u001b[0m\u001b[0;34m[\u001b[0m\u001b[0;34m~\u001b[0m\u001b[0mmask\u001b[0m\u001b[0;34m]\u001b[0m\u001b[0;34m\u001b[0m\u001b[0m\n\u001b[1;32m   4389\u001b[0m         \u001b[0;32mreturn\u001b[0m \u001b[0mself\u001b[0m\u001b[0;34m.\u001b[0m\u001b[0mdelete\u001b[0m\u001b[0;34m(\u001b[0m\u001b[0mindexer\u001b[0m\u001b[0;34m)\u001b[0m\u001b[0;34m\u001b[0m\u001b[0m\n",
      "\u001b[0;31mKeyError\u001b[0m: \"labels ['SK_ID_CURR'] not contained in axis\""
     ]
    }
   ],
   "source": [
    "installments = installments.drop(columns = ['SK_ID_CURR'])\n",
    "credit = credit.drop(columns = ['SK_ID_CURR'])\n",
    "cash = cash.drop(columns = ['SK_ID_CURR'])"
   ]
  },
  {
   "cell_type": "markdown",
   "metadata": {},
   "source": [
    "#### Add in Domain Features to Base Data\n",
    "\n",
    "In the traditional manual feature engineering notebook, we created a number of new features by manipulating columns of the `app` dataframe. Since these are in the base dataframe, featuretools cannot build features on top of them, but since these features are useful, we should still include them. Later we will see how we can use seed features to allow featuretools to build on top of domain knowledge features in the children and grandchildren tables."
   ]
  },
  {
   "cell_type": "code",
   "execution_count": 43,
   "metadata": {},
   "outputs": [],
   "source": [
    "app['LOAN_RATE'] = app['AMT_ANNUITY'] / app['AMT_CREDIT'] \n",
    "app['CREDIT_INCOME_RATIO'] = app['AMT_CREDIT'] / app['AMT_INCOME_TOTAL']\n",
    "app['EMPLOYED_BIRTH_RATIO'] = app['DAYS_EMPLOYED'] / app['DAYS_BIRTH']\n",
    "\n",
    "app['EXT_SOURCE_SUM'] = app[['EXT_SOURCE_1', 'EXT_SOURCE_2', 'EXT_SOURCE_3']].sum(axis = 1)\n",
    "app['EXT_SOURCE_MEAN'] = app[['EXT_SOURCE_1', 'EXT_SOURCE_2', 'EXT_SOURCE_3']].mean(axis = 1)\n",
    "app['AMT_REQ_SUM'] = app[[x for x in app.columns if 'AMT_REQ_' in x]].sum(axis = 1)"
   ]
  },
  {
   "cell_type": "markdown",
   "metadata": {},
   "source": [
    "## Adding Entities\n",
    "\n",
    "Now we define each entity, or table of data. We need to pass in an index if the data has one or `make_index = True` if not. In the cases where we need to make an index, we must supply a name for the index. We also need to pass in the dictionary of variable types if there are any specific variables we should identify."
   ]
  },
  {
   "cell_type": "code",
   "execution_count": 44,
   "metadata": {},
   "outputs": [],
   "source": [
    "# Entities with a unique index\n",
    "es = es.entity_from_dataframe(entity_id = 'app', dataframe = app, index = 'SK_ID_CURR',\n",
    "                              variable_types = app_types)\n",
    "\n",
    "es = es.entity_from_dataframe(entity_id = 'bureau', dataframe = bureau, index = 'SK_ID_BUREAU')\n",
    "\n",
    "es = es.entity_from_dataframe(entity_id = 'previous', dataframe = previous, index = 'SK_ID_PREV',\n",
    "                              variable_types = previous_types)\n",
    "\n",
    "# Entities that do not have a unique index\n",
    "es = es.entity_from_dataframe(entity_id = 'bureau_balance', dataframe = bureau_balance, \n",
    "                              make_index = True, index = 'bureaubalance_index')\n",
    "\n",
    "es = es.entity_from_dataframe(entity_id = 'cash', dataframe = cash, \n",
    "                              make_index = True, index = 'cash_index')\n",
    "\n",
    "es = es.entity_from_dataframe(entity_id = 'installments', dataframe = installments,\n",
    "                              make_index = True, index = 'installments_index')\n",
    "\n",
    "es = es.entity_from_dataframe(entity_id = 'credit', dataframe = credit,\n",
    "                              make_index = True, index = 'credit_index')"
   ]
  },
  {
   "cell_type": "code",
   "execution_count": 45,
   "metadata": {},
   "outputs": [
    {
     "data": {
      "text/plain": [
       "Entityset: clients\n",
       "  Entities:\n",
       "    app [Rows: 356255, Columns: 129]\n",
       "    bureau [Rows: 1716428, Columns: 17]\n",
       "    previous [Rows: 1670214, Columns: 37]\n",
       "    bureau_balance [Rows: 27299925, Columns: 4]\n",
       "    cash [Rows: 10001358, Columns: 8]\n",
       "    installments [Rows: 13605401, Columns: 8]\n",
       "    credit [Rows: 3840312, Columns: 23]\n",
       "  Relationships:\n",
       "    No relationships"
      ]
     },
     "execution_count": 45,
     "metadata": {},
     "output_type": "execute_result"
    }
   ],
   "source": [
    "# Display entityset so far\n",
    "es"
   ]
  },
  {
   "cell_type": "markdown",
   "metadata": {},
   "source": [
    "# Relationships\n",
    "\n",
    "Relationships are a fundamental concept not only in featuretools, but in any relational database. The most common type of relationship is a one-to-many. The best way to think of a one-to-many relationship is with the analogy of parent-to-child. A parent is a single individual, but can have mutliple children. In the context of tables, a parent table will have one row (observation) for every individual while a child table can have many observations for each parent.  In a _parent table_, each individual has a single row and is uniquely identified by an index (also called a key). Each individual in the parent table can have multiple rows in the _child table_. Things get a little more complicated because children tables can have children of their own, making these grandchildren of the original parent. \n",
    "\n",
    "As an example, the `app` dataframe has one row for each client (identified by `SK_ID_CURR`) while the `bureau` dataframe has multiple previous loans for each client. Therefore, the `bureau` dataframe is the child of the `app` dataframe. The `bureau` dataframe in turn is the parent of `bureau_balance` because each loan has one row in `bureau` (identified by `SK_ID_BUREAU`) but multiple monthly records in `bureau_balance`. "
   ]
  },
  {
   "cell_type": "code",
   "execution_count": 46,
   "metadata": {},
   "outputs": [
    {
     "name": "stdout",
     "output_type": "stream",
     "text": [
      "Parent: app, Parent Variable of bureau: SK_ID_CURR\n",
      "\n",
      "    SK_ID_CURR  TARGET  TOTALAREA_MODE WALLSMATERIAL_MODE\n",
      "0    100002.0     1.0          0.0149       Stone, brick\n",
      "1    100003.0     0.0          0.0714              Block\n",
      "2    100004.0     0.0             NaN                NaN\n",
      "3    100006.0     0.0             NaN                NaN\n",
      "4    100007.0     0.0             NaN                NaN\n",
      "\n",
      "Child: bureau, Child Variable of app: SK_ID_CURR\n",
      "\n",
      "    SK_ID_CURR  SK_ID_BUREAU CREDIT_ACTIVE CREDIT_CURRENCY  DAYS_CREDIT\n",
      "0    215354.0       5714462        Closed      currency 1       -497.0\n",
      "1    215354.0       5714463        Active      currency 1       -208.0\n",
      "2    215354.0       5714464        Active      currency 1       -203.0\n",
      "3    215354.0       5714465        Active      currency 1       -203.0\n",
      "4    215354.0       5714466        Active      currency 1       -629.0\n"
     ]
    }
   ],
   "source": [
    "print('Parent: app, Parent Variable of bureau: SK_ID_CURR\\n\\n', app.iloc[:, 111:115].head())\n",
    "print('\\nChild: bureau, Child Variable of app: SK_ID_CURR\\n\\n', bureau.iloc[:, :5].head())"
   ]
  },
  {
   "cell_type": "markdown",
   "metadata": {},
   "source": [
    "The `SK_ID_CURR` 215354 has one row in the parent table and multiple rows in the child. \n",
    "\n",
    "Two tables are linked via a shared variable. The `app` and `bureau` dataframe are linked by the `SK_ID_CURR` variable while the `bureau` and `bureau_balance` dataframes are linked with the `SK_ID_BUREAU`. "
   ]
  },
  {
   "cell_type": "code",
   "execution_count": 47,
   "metadata": {},
   "outputs": [
    {
     "name": "stdout",
     "output_type": "stream",
     "text": [
      "Parent: bureau, Parent Variable of bureau_balance: SK_ID_BUREAU\n",
      "\n",
      "    SK_ID_CURR  SK_ID_BUREAU CREDIT_ACTIVE CREDIT_CURRENCY  DAYS_CREDIT\n",
      "0    215354.0       5714462        Closed      currency 1       -497.0\n",
      "1    215354.0       5714463        Active      currency 1       -208.0\n",
      "2    215354.0       5714464        Active      currency 1       -203.0\n",
      "3    215354.0       5714465        Active      currency 1       -203.0\n",
      "4    215354.0       5714466        Active      currency 1       -629.0\n",
      "\n",
      "Child: bureau_balance, Child Variable of bureau: SK_ID_BUREAU\n",
      "\n",
      "    SK_ID_BUREAU  MONTHS_BALANCE STATUS\n",
      "0       5715448               0      C\n",
      "1       5715448              -1      C\n",
      "2       5715448              -2      C\n",
      "3       5715448              -3      C\n",
      "4       5715448              -4      C\n"
     ]
    }
   ],
   "source": [
    "print('Parent: bureau, Parent Variable of bureau_balance: SK_ID_BUREAU\\n\\n', bureau.iloc[:, :5].head())\n",
    "print('\\nChild: bureau_balance, Child Variable of bureau: SK_ID_BUREAU\\n\\n', bureau_balance.head())"
   ]
  },
  {
   "cell_type": "markdown",
   "metadata": {},
   "source": [
    "Traditionally, we use the relationships between parents and children to aggregate data by grouping together all the children for a single parent and calculating some statistic. For example, we might group together all the loans for a single client and calculate the average loan amount. This is straightforward, but can grow extremely tedious when we want to make hundreds of these features. Doing so one at a time is extremely inefficient especially because we end up re-writing much of the code over and over again and this code cannot be used for any different problem! Things get even worse when we have to aggregate the grandchildren because we have to use two steps: first aggregate at the parent level, and then at the grandparent level. Soon we will see that featuretools can do this work automatically for us, generating thousands of features from __all__ of the data tables. At 15 minutes per feature (as we saw in the manual feature engineering notebook), this is hundreds of data scientist hours that do not have to be wasted! For now, we will get back to encoding the relationships.\n",
    "\n",
    "Defining the relationships is relatively straightforward, and the diagram provided by the competition is helpful for seeing the relationships. For each relationship, we need to first specify the parent variable and then the child variable. Altogether, there are a total of 6 relationships between the tables. Below we specify all six relationships and then add them to the EntitySet."
   ]
  },
  {
   "cell_type": "code",
   "execution_count": 48,
   "metadata": {},
   "outputs": [],
   "source": [
    "# Relationship between app and bureau\n",
    "r_app_bureau = ft.Relationship(es['app']['SK_ID_CURR'], es['bureau']['SK_ID_CURR'])\n",
    "\n",
    "# Relationship between bureau and bureau balance\n",
    "r_bureau_balance = ft.Relationship(es['bureau']['SK_ID_BUREAU'], es['bureau_balance']['SK_ID_BUREAU'])\n",
    "\n",
    "# Relationship between current app and previous apps\n",
    "r_app_previous = ft.Relationship(es['app']['SK_ID_CURR'], es['previous']['SK_ID_CURR'])\n",
    "\n",
    "# Relationships between previous apps and cash, installments, and credit\n",
    "r_previous_cash = ft.Relationship(es['previous']['SK_ID_PREV'], es['cash']['SK_ID_PREV'])\n",
    "r_previous_installments = ft.Relationship(es['previous']['SK_ID_PREV'], es['installments']['SK_ID_PREV'])\n",
    "r_previous_credit = ft.Relationship(es['previous']['SK_ID_PREV'], es['credit']['SK_ID_PREV'])"
   ]
  },
  {
   "cell_type": "code",
   "execution_count": 49,
   "metadata": {},
   "outputs": [
    {
     "data": {
      "text/plain": [
       "Entityset: clients\n",
       "  Entities:\n",
       "    app [Rows: 356255, Columns: 129]\n",
       "    bureau [Rows: 1716428, Columns: 17]\n",
       "    previous [Rows: 1670214, Columns: 37]\n",
       "    bureau_balance [Rows: 27299925, Columns: 4]\n",
       "    cash [Rows: 10001358, Columns: 8]\n",
       "    installments [Rows: 13605401, Columns: 8]\n",
       "    credit [Rows: 3840312, Columns: 23]\n",
       "  Relationships:\n",
       "    bureau.SK_ID_CURR -> app.SK_ID_CURR\n",
       "    bureau_balance.SK_ID_BUREAU -> bureau.SK_ID_BUREAU\n",
       "    previous.SK_ID_CURR -> app.SK_ID_CURR\n",
       "    cash.SK_ID_PREV -> previous.SK_ID_PREV\n",
       "    installments.SK_ID_PREV -> previous.SK_ID_PREV\n",
       "    credit.SK_ID_PREV -> previous.SK_ID_PREV"
      ]
     },
     "execution_count": 49,
     "metadata": {},
     "output_type": "execute_result"
    }
   ],
   "source": [
    "# Add in the defined relationships\n",
    "es = es.add_relationships([r_app_bureau, r_bureau_balance, r_app_previous,\n",
    "                           r_previous_cash, r_previous_installments, r_previous_credit])\n",
    "# Print out the EntitySet\n",
    "es"
   ]
  },
  {
   "cell_type": "markdown",
   "metadata": {},
   "source": [
    "__Slightly advanced note__: we need to be careful to not create a [diamond graph](https://en.wikipedia.org/wiki/Diamond_graph) where there are multiple paths from a parent to a child. If we directly link `app` and `cash` via `SK_ID_CURR`; `previous` and `cash` via `SK_ID_PREV`; and `app` and `previous` via `SK_ID_CURR`, then we have created two paths from `app` to `cash`. This results in ambiguity, so the approach we have to take instead is to link `app` to `cash` through `previous`. We establish a relationship between `previous` (the parent) and `cash` (the child) using `SK_ID_PREV`. Then we establish a relationship between `app` (the parent) and `previous` (now the child) using `SK_ID_CURR`. Then featuretools will be able to create features on `app` derived from both `previous` and `cash` by stacking multiple primitives. \n",
    "\n",
    "If this doesn't make too much sense, then just remember to only include one path from a parent to any descendents. For example, link a grandparent to a grandchild through the parent instead of directly."
   ]
  },
  {
   "cell_type": "markdown",
   "metadata": {},
   "source": [
    "All entities in the entity can be linked through these relationships. In theory this allows us to calculate features for any of the entities, but in practice, we will only calculate features for the `app` dataframe since that will be used for training/testing. The end outcome will be a dataframe that has one row for each client in `app` with thousands of features for each individual. "
   ]
  },
  {
   "cell_type": "markdown",
   "metadata": {},
   "source": [
    "# Building on Top of Domain Features\n",
    "\n",
    "Here is where featuretools is able to augment our domain knowledge. If we build our own domain knowledge features, featuretools can then stack additional features on top of these. The features below are based on our own domain knowledge and that from thousands of other data scientists working on the problem on Kaggle. We idenfitied many of these useful features in the manual engineering notebook. \n",
    "\n",
    "### Seed Features\n",
    "\n",
    "### Interesting Values"
   ]
  },
  {
   "cell_type": "markdown",
   "metadata": {},
   "source": [
    "#### Domain Features from bureau\n",
    "\n",
    "First we can start with interesting values from bureau. The `CREDIT_ACTIVE` records the current condition of the previous credit. Two interesting values are \"Active\" and \"Closed\". When we specify these interesting values, featuretools will build features on top of these by treating the values as conditionals. As an example, for each client, we might want to take the mean loan amount where the loan is active and the mean loan amount where the loan is closed. By specifying these interesting values (and then using `where = ['mean']`) we can get featuretools to do this for us. "
   ]
  },
  {
   "cell_type": "code",
   "execution_count": 66,
   "metadata": {},
   "outputs": [],
   "source": [
    "es['bureau']['CREDIT_ACTIVE'].interesting_values = ['Active', 'Closed']"
   ]
  },
  {
   "cell_type": "markdown",
   "metadata": {},
   "source": [
    "We also can use a `seed_feature` to specify whether or not a loan is overdue. This time, since any interesting values are where the amount is greater than 0.0, we can use a seed feature that tells featuretools to stack new features on this value."
   ]
  },
  {
   "cell_type": "code",
   "execution_count": 83,
   "metadata": {},
   "outputs": [],
   "source": [
    "credit_overdue = ft.Feature(es['bureau']['CREDIT_DAY_OVERDUE']) > 0.0\n",
    "credit_loan_rate = ft.Feature(es['bureau']['AMT_ANNUITY']) / ft.Feature(es['bureau']['AMT_CREDIT_SUM'])"
   ]
  },
  {
   "cell_type": "code",
   "execution_count": 76,
   "metadata": {},
   "outputs": [],
   "source": [
    "credit_loan_rate.rename = 'CREDIT_LOAN_RATE'"
   ]
  },
  {
   "cell_type": "code",
   "execution_count": 91,
   "metadata": {},
   "outputs": [],
   "source": [
    "credit_loan_rate = credit_loan_rate.rename('CREDIT_LOAN_RATE')"
   ]
  },
  {
   "cell_type": "code",
   "execution_count": 90,
   "metadata": {},
   "outputs": [
    {
     "data": {
      "text/plain": [
       "<Feature: AMT_ANNUITY / AMT_CREDIT_SUM>"
      ]
     },
     "execution_count": 90,
     "metadata": {},
     "output_type": "execute_result"
    }
   ],
   "source": [
    "credit_loan_rate"
   ]
  },
  {
   "cell_type": "code",
   "execution_count": 87,
   "metadata": {},
   "outputs": [
    {
     "data": {
      "text/plain": [
       "<Feature: AMT_ANNUITY>"
      ]
     },
     "execution_count": 87,
     "metadata": {},
     "output_type": "execute_result"
    }
   ],
   "source": [
    "credit_loan_rate.left"
   ]
  },
  {
   "cell_type": "code",
   "execution_count": 92,
   "metadata": {},
   "outputs": [],
   "source": [
    "feature_names = ft.dfs(entityset=es, target_entity='app', agg_primitives=['mean'], seed_features=[credit_loan_rate],\n",
    "                      features_only = True)"
   ]
  },
  {
   "cell_type": "code",
   "execution_count": 93,
   "metadata": {},
   "outputs": [
    {
     "data": {
      "text/plain": [
       "[<Feature: AMT_ANNUITY>,\n",
       " <Feature: AMT_CREDIT>,\n",
       " <Feature: AMT_GOODS_PRICE>,\n",
       " <Feature: AMT_INCOME_TOTAL>,\n",
       " <Feature: AMT_REQ_CREDIT_BUREAU_DAY>,\n",
       " <Feature: AMT_REQ_CREDIT_BUREAU_HOUR>,\n",
       " <Feature: AMT_REQ_CREDIT_BUREAU_MON>,\n",
       " <Feature: AMT_REQ_CREDIT_BUREAU_QRT>,\n",
       " <Feature: AMT_REQ_CREDIT_BUREAU_WEEK>,\n",
       " <Feature: AMT_REQ_CREDIT_BUREAU_YEAR>,\n",
       " <Feature: APARTMENTS_AVG>,\n",
       " <Feature: APARTMENTS_MEDI>,\n",
       " <Feature: APARTMENTS_MODE>,\n",
       " <Feature: BASEMENTAREA_AVG>,\n",
       " <Feature: BASEMENTAREA_MEDI>,\n",
       " <Feature: BASEMENTAREA_MODE>,\n",
       " <Feature: CNT_CHILDREN>,\n",
       " <Feature: CNT_FAM_MEMBERS>,\n",
       " <Feature: CODE_GENDER>,\n",
       " <Feature: COMMONAREA_AVG>,\n",
       " <Feature: COMMONAREA_MEDI>,\n",
       " <Feature: COMMONAREA_MODE>,\n",
       " <Feature: DAYS_BIRTH>,\n",
       " <Feature: DAYS_EMPLOYED>,\n",
       " <Feature: DAYS_ID_PUBLISH>,\n",
       " <Feature: DAYS_LAST_PHONE_CHANGE>,\n",
       " <Feature: DAYS_REGISTRATION>,\n",
       " <Feature: DEF_30_CNT_SOCIAL_CIRCLE>,\n",
       " <Feature: DEF_60_CNT_SOCIAL_CIRCLE>,\n",
       " <Feature: ELEVATORS_AVG>,\n",
       " <Feature: ELEVATORS_MEDI>,\n",
       " <Feature: ELEVATORS_MODE>,\n",
       " <Feature: ENTRANCES_AVG>,\n",
       " <Feature: ENTRANCES_MEDI>,\n",
       " <Feature: ENTRANCES_MODE>,\n",
       " <Feature: EXT_SOURCE_1>,\n",
       " <Feature: EXT_SOURCE_2>,\n",
       " <Feature: EXT_SOURCE_3>,\n",
       " <Feature: FLOORSMAX_AVG>,\n",
       " <Feature: FLOORSMAX_MEDI>,\n",
       " <Feature: FLOORSMAX_MODE>,\n",
       " <Feature: FLOORSMIN_AVG>,\n",
       " <Feature: FLOORSMIN_MEDI>,\n",
       " <Feature: FLOORSMIN_MODE>,\n",
       " <Feature: FONDKAPREMONT_MODE>,\n",
       " <Feature: HOUSETYPE_MODE>,\n",
       " <Feature: LANDAREA_AVG>,\n",
       " <Feature: LANDAREA_MEDI>,\n",
       " <Feature: LANDAREA_MODE>,\n",
       " <Feature: LIVINGAPARTMENTS_AVG>,\n",
       " <Feature: LIVINGAPARTMENTS_MEDI>,\n",
       " <Feature: LIVINGAPARTMENTS_MODE>,\n",
       " <Feature: LIVINGAREA_AVG>,\n",
       " <Feature: LIVINGAREA_MEDI>,\n",
       " <Feature: LIVINGAREA_MODE>,\n",
       " <Feature: NAME_EDUCATION_TYPE>,\n",
       " <Feature: NAME_FAMILY_STATUS>,\n",
       " <Feature: NAME_HOUSING_TYPE>,\n",
       " <Feature: NAME_INCOME_TYPE>,\n",
       " <Feature: NAME_TYPE_SUITE>,\n",
       " <Feature: NONLIVINGAPARTMENTS_AVG>,\n",
       " <Feature: NONLIVINGAPARTMENTS_MEDI>,\n",
       " <Feature: NONLIVINGAPARTMENTS_MODE>,\n",
       " <Feature: NONLIVINGAREA_AVG>,\n",
       " <Feature: NONLIVINGAREA_MEDI>,\n",
       " <Feature: NONLIVINGAREA_MODE>,\n",
       " <Feature: OBS_30_CNT_SOCIAL_CIRCLE>,\n",
       " <Feature: OBS_60_CNT_SOCIAL_CIRCLE>,\n",
       " <Feature: OCCUPATION_TYPE>,\n",
       " <Feature: ORGANIZATION_TYPE>,\n",
       " <Feature: OWN_CAR_AGE>,\n",
       " <Feature: REGION_POPULATION_RELATIVE>,\n",
       " <Feature: TOTALAREA_MODE>,\n",
       " <Feature: WALLSMATERIAL_MODE>,\n",
       " <Feature: YEARS_BEGINEXPLUATATION_AVG>,\n",
       " <Feature: YEARS_BEGINEXPLUATATION_MEDI>,\n",
       " <Feature: YEARS_BEGINEXPLUATATION_MODE>,\n",
       " <Feature: YEARS_BUILD_AVG>,\n",
       " <Feature: YEARS_BUILD_MEDI>,\n",
       " <Feature: YEARS_BUILD_MODE>,\n",
       " <Feature: LOAN_RATE>,\n",
       " <Feature: CREDIT_INCOME_RATIO>,\n",
       " <Feature: EMPLOYED_BIRTH_RATIO>,\n",
       " <Feature: EXT_SOURCE_SUM>,\n",
       " <Feature: EXT_SOURCE_MEAN>,\n",
       " <Feature: AMT_REQ_SUM>,\n",
       " <Feature: EMERGENCYSTATE_MODE>,\n",
       " <Feature: FLAG_CONT_MOBILE>,\n",
       " <Feature: FLAG_DOCUMENT_10>,\n",
       " <Feature: FLAG_DOCUMENT_11>,\n",
       " <Feature: FLAG_DOCUMENT_12>,\n",
       " <Feature: FLAG_DOCUMENT_13>,\n",
       " <Feature: FLAG_DOCUMENT_14>,\n",
       " <Feature: FLAG_DOCUMENT_15>,\n",
       " <Feature: FLAG_DOCUMENT_16>,\n",
       " <Feature: FLAG_DOCUMENT_17>,\n",
       " <Feature: FLAG_DOCUMENT_18>,\n",
       " <Feature: FLAG_DOCUMENT_19>,\n",
       " <Feature: FLAG_DOCUMENT_2>,\n",
       " <Feature: FLAG_DOCUMENT_20>,\n",
       " <Feature: FLAG_DOCUMENT_21>,\n",
       " <Feature: FLAG_DOCUMENT_3>,\n",
       " <Feature: FLAG_DOCUMENT_4>,\n",
       " <Feature: FLAG_DOCUMENT_5>,\n",
       " <Feature: FLAG_DOCUMENT_6>,\n",
       " <Feature: FLAG_DOCUMENT_7>,\n",
       " <Feature: FLAG_DOCUMENT_8>,\n",
       " <Feature: FLAG_DOCUMENT_9>,\n",
       " <Feature: FLAG_EMAIL>,\n",
       " <Feature: FLAG_EMP_PHONE>,\n",
       " <Feature: FLAG_MOBIL>,\n",
       " <Feature: FLAG_OWN_CAR>,\n",
       " <Feature: FLAG_OWN_REALTY>,\n",
       " <Feature: FLAG_PHONE>,\n",
       " <Feature: FLAG_WORK_PHONE>,\n",
       " <Feature: LIVE_CITY_NOT_WORK_CITY>,\n",
       " <Feature: LIVE_REGION_NOT_WORK_REGION>,\n",
       " <Feature: NAME_CONTRACT_TYPE>,\n",
       " <Feature: REG_CITY_NOT_LIVE_CITY>,\n",
       " <Feature: REG_CITY_NOT_WORK_CITY>,\n",
       " <Feature: REG_REGION_NOT_LIVE_REGION>,\n",
       " <Feature: REG_REGION_NOT_WORK_REGION>,\n",
       " <Feature: TARGET>,\n",
       " <Feature: set>,\n",
       " <Feature: REGION_RATING_CLIENT>,\n",
       " <Feature: REGION_RATING_CLIENT_W_CITY>,\n",
       " <Feature: WEEKDAY_APPR_PROCESS_START>,\n",
       " <Feature: HOUR_APPR_PROCESS_START>,\n",
       " <Feature: MEAN(previous.AMT_ANNUITY)>,\n",
       " <Feature: MEAN(previous.AMT_APPLICATION)>,\n",
       " <Feature: MEAN(previous.AMT_CREDIT)>,\n",
       " <Feature: MEAN(previous.AMT_DOWN_PAYMENT)>,\n",
       " <Feature: MEAN(previous.AMT_GOODS_PRICE)>,\n",
       " <Feature: MEAN(previous.HOUR_APPR_PROCESS_START)>,\n",
       " <Feature: MEAN(previous.RATE_DOWN_PAYMENT)>,\n",
       " <Feature: MEAN(previous.RATE_INTEREST_PRIMARY)>,\n",
       " <Feature: MEAN(previous.RATE_INTEREST_PRIVILEGED)>,\n",
       " <Feature: MEAN(previous.DAYS_DECISION)>,\n",
       " <Feature: MEAN(previous.SELLERPLACE_AREA)>,\n",
       " <Feature: MEAN(previous.CNT_PAYMENT)>,\n",
       " <Feature: MEAN(previous.DAYS_FIRST_DRAWING)>,\n",
       " <Feature: MEAN(previous.DAYS_FIRST_DUE)>,\n",
       " <Feature: MEAN(previous.DAYS_LAST_DUE_1ST_VERSION)>,\n",
       " <Feature: MEAN(previous.DAYS_LAST_DUE)>,\n",
       " <Feature: MEAN(previous.DAYS_TERMINATION)>,\n",
       " <Feature: MEAN(bureau.DAYS_CREDIT)>,\n",
       " <Feature: MEAN(bureau.CREDIT_DAY_OVERDUE)>,\n",
       " <Feature: MEAN(bureau.DAYS_CREDIT_ENDDATE)>,\n",
       " <Feature: MEAN(bureau.DAYS_ENDDATE_FACT)>,\n",
       " <Feature: MEAN(bureau.AMT_CREDIT_MAX_OVERDUE)>,\n",
       " <Feature: MEAN(bureau.CNT_CREDIT_PROLONG)>,\n",
       " <Feature: MEAN(bureau.AMT_CREDIT_SUM)>,\n",
       " <Feature: MEAN(bureau.AMT_CREDIT_SUM_DEBT)>,\n",
       " <Feature: MEAN(bureau.AMT_CREDIT_SUM_LIMIT)>,\n",
       " <Feature: MEAN(bureau.AMT_CREDIT_SUM_OVERDUE)>,\n",
       " <Feature: MEAN(bureau.DAYS_CREDIT_UPDATE)>,\n",
       " <Feature: MEAN(bureau.AMT_ANNUITY)>,\n",
       " <Feature: MEAN(installments.NUM_INSTALMENT_VERSION)>,\n",
       " <Feature: MEAN(installments.NUM_INSTALMENT_NUMBER)>,\n",
       " <Feature: MEAN(installments.DAYS_INSTALMENT)>,\n",
       " <Feature: MEAN(installments.DAYS_ENTRY_PAYMENT)>,\n",
       " <Feature: MEAN(installments.AMT_INSTALMENT)>,\n",
       " <Feature: MEAN(installments.AMT_PAYMENT)>,\n",
       " <Feature: MEAN(cash.MONTHS_BALANCE)>,\n",
       " <Feature: MEAN(cash.CNT_INSTALMENT)>,\n",
       " <Feature: MEAN(cash.CNT_INSTALMENT_FUTURE)>,\n",
       " <Feature: MEAN(cash.SK_DPD)>,\n",
       " <Feature: MEAN(cash.SK_DPD_DEF)>,\n",
       " <Feature: MEAN(credit.MONTHS_BALANCE)>,\n",
       " <Feature: MEAN(credit.AMT_BALANCE)>,\n",
       " <Feature: MEAN(credit.AMT_CREDIT_LIMIT_ACTUAL)>,\n",
       " <Feature: MEAN(credit.AMT_DRAWINGS_ATM_CURRENT)>,\n",
       " <Feature: MEAN(credit.AMT_DRAWINGS_CURRENT)>,\n",
       " <Feature: MEAN(credit.AMT_DRAWINGS_OTHER_CURRENT)>,\n",
       " <Feature: MEAN(credit.AMT_DRAWINGS_POS_CURRENT)>,\n",
       " <Feature: MEAN(credit.AMT_INST_MIN_REGULARITY)>,\n",
       " <Feature: MEAN(credit.AMT_PAYMENT_CURRENT)>,\n",
       " <Feature: MEAN(credit.AMT_PAYMENT_TOTAL_CURRENT)>,\n",
       " <Feature: MEAN(credit.AMT_RECEIVABLE_PRINCIPAL)>,\n",
       " <Feature: MEAN(credit.AMT_RECIVABLE)>,\n",
       " <Feature: MEAN(credit.AMT_TOTAL_RECEIVABLE)>,\n",
       " <Feature: MEAN(credit.CNT_DRAWINGS_ATM_CURRENT)>,\n",
       " <Feature: MEAN(credit.CNT_DRAWINGS_CURRENT)>,\n",
       " <Feature: MEAN(credit.CNT_DRAWINGS_OTHER_CURRENT)>,\n",
       " <Feature: MEAN(credit.CNT_DRAWINGS_POS_CURRENT)>,\n",
       " <Feature: MEAN(credit.CNT_INSTALMENT_MATURE_CUM)>,\n",
       " <Feature: MEAN(credit.SK_DPD)>,\n",
       " <Feature: MEAN(credit.SK_DPD_DEF)>,\n",
       " <Feature: MEAN(bureau_balance.MONTHS_BALANCE)>,\n",
       " <Feature: MEAN(previous.MEAN(installments.NUM_INSTALMENT_VERSION))>,\n",
       " <Feature: MEAN(previous.MEAN(installments.NUM_INSTALMENT_NUMBER))>,\n",
       " <Feature: MEAN(previous.MEAN(installments.DAYS_INSTALMENT))>,\n",
       " <Feature: MEAN(previous.MEAN(installments.DAYS_ENTRY_PAYMENT))>,\n",
       " <Feature: MEAN(previous.MEAN(installments.AMT_INSTALMENT))>,\n",
       " <Feature: MEAN(previous.MEAN(installments.AMT_PAYMENT))>,\n",
       " <Feature: MEAN(previous.MEAN(cash.MONTHS_BALANCE))>,\n",
       " <Feature: MEAN(previous.MEAN(cash.CNT_INSTALMENT))>,\n",
       " <Feature: MEAN(previous.MEAN(cash.CNT_INSTALMENT_FUTURE))>,\n",
       " <Feature: MEAN(previous.MEAN(cash.SK_DPD))>,\n",
       " <Feature: MEAN(previous.MEAN(cash.SK_DPD_DEF))>,\n",
       " <Feature: MEAN(previous.MEAN(credit.MONTHS_BALANCE))>,\n",
       " <Feature: MEAN(previous.MEAN(credit.AMT_BALANCE))>,\n",
       " <Feature: MEAN(previous.MEAN(credit.AMT_CREDIT_LIMIT_ACTUAL))>,\n",
       " <Feature: MEAN(previous.MEAN(credit.AMT_DRAWINGS_ATM_CURRENT))>,\n",
       " <Feature: MEAN(previous.MEAN(credit.AMT_DRAWINGS_CURRENT))>,\n",
       " <Feature: MEAN(previous.MEAN(credit.AMT_DRAWINGS_OTHER_CURRENT))>,\n",
       " <Feature: MEAN(previous.MEAN(credit.AMT_DRAWINGS_POS_CURRENT))>,\n",
       " <Feature: MEAN(previous.MEAN(credit.AMT_INST_MIN_REGULARITY))>,\n",
       " <Feature: MEAN(previous.MEAN(credit.AMT_PAYMENT_CURRENT))>,\n",
       " <Feature: MEAN(previous.MEAN(credit.AMT_PAYMENT_TOTAL_CURRENT))>,\n",
       " <Feature: MEAN(previous.MEAN(credit.AMT_RECEIVABLE_PRINCIPAL))>,\n",
       " <Feature: MEAN(previous.MEAN(credit.AMT_RECIVABLE))>,\n",
       " <Feature: MEAN(previous.MEAN(credit.AMT_TOTAL_RECEIVABLE))>,\n",
       " <Feature: MEAN(previous.MEAN(credit.CNT_DRAWINGS_ATM_CURRENT))>,\n",
       " <Feature: MEAN(previous.MEAN(credit.CNT_DRAWINGS_CURRENT))>,\n",
       " <Feature: MEAN(previous.MEAN(credit.CNT_DRAWINGS_OTHER_CURRENT))>,\n",
       " <Feature: MEAN(previous.MEAN(credit.CNT_DRAWINGS_POS_CURRENT))>,\n",
       " <Feature: MEAN(previous.MEAN(credit.CNT_INSTALMENT_MATURE_CUM))>,\n",
       " <Feature: MEAN(previous.MEAN(credit.SK_DPD))>,\n",
       " <Feature: MEAN(previous.MEAN(credit.SK_DPD_DEF))>,\n",
       " <Feature: MEAN(bureau.CREDIT_LOAN_RATE)>,\n",
       " <Feature: MEAN(bureau.MEAN(bureau_balance.MONTHS_BALANCE))>,\n",
       " <Feature: MEAN(bureau_balance.bureau.CREDIT_LOAN_RATE)>]"
      ]
     },
     "execution_count": 93,
     "metadata": {},
     "output_type": "execute_result"
    }
   ],
   "source": [
    "feature_names"
   ]
  },
  {
   "cell_type": "markdown",
   "metadata": {},
   "source": [
    "#### Domain Features from bureau balance\n",
    "\n",
    "Here we will use a single seed feature that indicates whether the monthly balance was overdue. "
   ]
  },
  {
   "cell_type": "code",
   "execution_count": 68,
   "metadata": {},
   "outputs": [],
   "source": [
    "balance_past_due = ft.Feature(es['bureau_balance']['STATUS']).isin(['1', '2', '3', '4', '5'])"
   ]
  },
  {
   "cell_type": "markdown",
   "metadata": {},
   "source": [
    "#### Domain Features from previous\n",
    "\n",
    "For the interesting values here, we will specify whether the loan was approved or rejected. "
   ]
  },
  {
   "cell_type": "code",
   "execution_count": 69,
   "metadata": {},
   "outputs": [
    {
     "data": {
      "text/plain": [
       "Approved        1036781\n",
       "Canceled         316319\n",
       "Refused          290678\n",
       "Unused offer      26436\n",
       "Name: NAME_CONTRACT_STATUS, dtype: int64"
      ]
     },
     "execution_count": 69,
     "metadata": {},
     "output_type": "execute_result"
    }
   ],
   "source": [
    "previous['NAME_CONTRACT_STATUS'].value_counts()"
   ]
  },
  {
   "cell_type": "code",
   "execution_count": 70,
   "metadata": {},
   "outputs": [],
   "source": [
    "es['previous']['NAME_CONTRACT_STATUS'].interesting_values = ['Approved', 'Refused']"
   ]
  },
  {
   "cell_type": "code",
   "execution_count": 55,
   "metadata": {},
   "outputs": [],
   "source": [
    "application_not_approved = ft.Feature(es['previous']['NAME_CONTRACT_STATUS']) != 'Approved'"
   ]
  },
  {
   "cell_type": "markdown",
   "metadata": {},
   "source": [
    "#### Seed Features from credit"
   ]
  },
  {
   "cell_type": "code",
   "execution_count": 56,
   "metadata": {},
   "outputs": [],
   "source": [
    "credit_card_past_due = ft.Feature(es['credit']['SK_DPD']) > 0.0\n",
    "credit_card_active = ft.Feature(es['credit']['NAME_CONTRACT_STATUS']) == 'Active'"
   ]
  },
  {
   "cell_type": "markdown",
   "metadata": {},
   "source": [
    "#### Seed Features from cash"
   ]
  },
  {
   "cell_type": "code",
   "execution_count": 57,
   "metadata": {},
   "outputs": [],
   "source": [
    "cash_active = ft.Feature(es['cash']['NAME_CONTRACT_STATUS']) == 'Active'\n",
    "cash_past_due = ft.Feature(es['cash']['SK_DPD']) > 0.0"
   ]
  },
  {
   "cell_type": "markdown",
   "metadata": {},
   "source": [
    "#### Seed Features from installments"
   ]
  },
  {
   "cell_type": "code",
   "execution_count": 58,
   "metadata": {},
   "outputs": [],
   "source": [
    "installments_late = ft.Feature(es['installments']['DAYS_ENTRY_PAYMENT']) > ft.Feature(es['installments']['DAYS_INSTALMENT'])\n",
    "installments_low_payment = ft.Feature(es['installments']['AMT_PAYMENT']) < ft.Feature(es['installments']['AMT_INSTALMENT']) "
   ]
  },
  {
   "cell_type": "code",
   "execution_count": 59,
   "metadata": {},
   "outputs": [],
   "source": [
    "seed_features = [installments_low_payment, installments_late,\n",
    "                 cash_past_due, cash_active,\n",
    "                 credit_card_active, credit_card_past_due, \n",
    "                 application_not_approved, balance_past_due,\n",
    "                 credit_overdue, credit_active]"
   ]
  },
  {
   "cell_type": "markdown",
   "metadata": {},
   "source": [
    "## Look at Features"
   ]
  },
  {
   "cell_type": "code",
   "execution_count": 63,
   "metadata": {},
   "outputs": [
    {
     "name": "stdout",
     "output_type": "stream",
     "text": [
      "Built 373 features\n"
     ]
    }
   ],
   "source": [
    "feature_names = ft.dfs(entityset=es, target_entity='app',\n",
    "                       agg_primitives = ['mean', 'max', 'percent_true'],\n",
    "                       seed_features = seed_features,\n",
    "                       verbose = 1, n_jobs = -1, features_only = True,\n",
    "                       max_depth = 2)"
   ]
  },
  {
   "cell_type": "code",
   "execution_count": 64,
   "metadata": {},
   "outputs": [
    {
     "data": {
      "text/plain": [
       "[<Feature: AMT_ANNUITY>,\n",
       " <Feature: AMT_CREDIT>,\n",
       " <Feature: AMT_GOODS_PRICE>,\n",
       " <Feature: AMT_INCOME_TOTAL>,\n",
       " <Feature: AMT_REQ_CREDIT_BUREAU_DAY>,\n",
       " <Feature: AMT_REQ_CREDIT_BUREAU_HOUR>,\n",
       " <Feature: AMT_REQ_CREDIT_BUREAU_MON>,\n",
       " <Feature: AMT_REQ_CREDIT_BUREAU_QRT>,\n",
       " <Feature: AMT_REQ_CREDIT_BUREAU_WEEK>,\n",
       " <Feature: AMT_REQ_CREDIT_BUREAU_YEAR>,\n",
       " <Feature: APARTMENTS_AVG>,\n",
       " <Feature: APARTMENTS_MEDI>,\n",
       " <Feature: APARTMENTS_MODE>,\n",
       " <Feature: BASEMENTAREA_AVG>,\n",
       " <Feature: BASEMENTAREA_MEDI>,\n",
       " <Feature: BASEMENTAREA_MODE>,\n",
       " <Feature: CNT_CHILDREN>,\n",
       " <Feature: CNT_FAM_MEMBERS>,\n",
       " <Feature: CODE_GENDER>,\n",
       " <Feature: COMMONAREA_AVG>,\n",
       " <Feature: COMMONAREA_MEDI>,\n",
       " <Feature: COMMONAREA_MODE>,\n",
       " <Feature: DAYS_BIRTH>,\n",
       " <Feature: DAYS_EMPLOYED>,\n",
       " <Feature: DAYS_ID_PUBLISH>,\n",
       " <Feature: DAYS_LAST_PHONE_CHANGE>,\n",
       " <Feature: DAYS_REGISTRATION>,\n",
       " <Feature: DEF_30_CNT_SOCIAL_CIRCLE>,\n",
       " <Feature: DEF_60_CNT_SOCIAL_CIRCLE>,\n",
       " <Feature: ELEVATORS_AVG>,\n",
       " <Feature: ELEVATORS_MEDI>,\n",
       " <Feature: ELEVATORS_MODE>,\n",
       " <Feature: ENTRANCES_AVG>,\n",
       " <Feature: ENTRANCES_MEDI>,\n",
       " <Feature: ENTRANCES_MODE>,\n",
       " <Feature: EXT_SOURCE_1>,\n",
       " <Feature: EXT_SOURCE_2>,\n",
       " <Feature: EXT_SOURCE_3>,\n",
       " <Feature: FLOORSMAX_AVG>,\n",
       " <Feature: FLOORSMAX_MEDI>,\n",
       " <Feature: FLOORSMAX_MODE>,\n",
       " <Feature: FLOORSMIN_AVG>,\n",
       " <Feature: FLOORSMIN_MEDI>,\n",
       " <Feature: FLOORSMIN_MODE>,\n",
       " <Feature: FONDKAPREMONT_MODE>,\n",
       " <Feature: HOUSETYPE_MODE>,\n",
       " <Feature: LANDAREA_AVG>,\n",
       " <Feature: LANDAREA_MEDI>,\n",
       " <Feature: LANDAREA_MODE>,\n",
       " <Feature: LIVINGAPARTMENTS_AVG>,\n",
       " <Feature: LIVINGAPARTMENTS_MEDI>,\n",
       " <Feature: LIVINGAPARTMENTS_MODE>,\n",
       " <Feature: LIVINGAREA_AVG>,\n",
       " <Feature: LIVINGAREA_MEDI>,\n",
       " <Feature: LIVINGAREA_MODE>,\n",
       " <Feature: NAME_EDUCATION_TYPE>,\n",
       " <Feature: NAME_FAMILY_STATUS>,\n",
       " <Feature: NAME_HOUSING_TYPE>,\n",
       " <Feature: NAME_INCOME_TYPE>,\n",
       " <Feature: NAME_TYPE_SUITE>,\n",
       " <Feature: NONLIVINGAPARTMENTS_AVG>,\n",
       " <Feature: NONLIVINGAPARTMENTS_MEDI>,\n",
       " <Feature: NONLIVINGAPARTMENTS_MODE>,\n",
       " <Feature: NONLIVINGAREA_AVG>,\n",
       " <Feature: NONLIVINGAREA_MEDI>,\n",
       " <Feature: NONLIVINGAREA_MODE>,\n",
       " <Feature: OBS_30_CNT_SOCIAL_CIRCLE>,\n",
       " <Feature: OBS_60_CNT_SOCIAL_CIRCLE>,\n",
       " <Feature: OCCUPATION_TYPE>,\n",
       " <Feature: ORGANIZATION_TYPE>,\n",
       " <Feature: OWN_CAR_AGE>,\n",
       " <Feature: REGION_POPULATION_RELATIVE>,\n",
       " <Feature: TOTALAREA_MODE>,\n",
       " <Feature: WALLSMATERIAL_MODE>,\n",
       " <Feature: YEARS_BEGINEXPLUATATION_AVG>,\n",
       " <Feature: YEARS_BEGINEXPLUATATION_MEDI>,\n",
       " <Feature: YEARS_BEGINEXPLUATATION_MODE>,\n",
       " <Feature: YEARS_BUILD_AVG>,\n",
       " <Feature: YEARS_BUILD_MEDI>,\n",
       " <Feature: YEARS_BUILD_MODE>,\n",
       " <Feature: LOAN_RATE>,\n",
       " <Feature: CREDIT_INCOME_RATIO>,\n",
       " <Feature: EMPLOYED_BIRTH_RATIO>,\n",
       " <Feature: EXT_SOURCE_SUM>,\n",
       " <Feature: EXT_SOURCE_MEAN>,\n",
       " <Feature: AMT_REQ_SUM>,\n",
       " <Feature: EMERGENCYSTATE_MODE>,\n",
       " <Feature: FLAG_CONT_MOBILE>,\n",
       " <Feature: FLAG_DOCUMENT_10>,\n",
       " <Feature: FLAG_DOCUMENT_11>,\n",
       " <Feature: FLAG_DOCUMENT_12>,\n",
       " <Feature: FLAG_DOCUMENT_13>,\n",
       " <Feature: FLAG_DOCUMENT_14>,\n",
       " <Feature: FLAG_DOCUMENT_15>,\n",
       " <Feature: FLAG_DOCUMENT_16>,\n",
       " <Feature: FLAG_DOCUMENT_17>,\n",
       " <Feature: FLAG_DOCUMENT_18>,\n",
       " <Feature: FLAG_DOCUMENT_19>,\n",
       " <Feature: FLAG_DOCUMENT_2>,\n",
       " <Feature: FLAG_DOCUMENT_20>,\n",
       " <Feature: FLAG_DOCUMENT_21>,\n",
       " <Feature: FLAG_DOCUMENT_3>,\n",
       " <Feature: FLAG_DOCUMENT_4>,\n",
       " <Feature: FLAG_DOCUMENT_5>,\n",
       " <Feature: FLAG_DOCUMENT_6>,\n",
       " <Feature: FLAG_DOCUMENT_7>,\n",
       " <Feature: FLAG_DOCUMENT_8>,\n",
       " <Feature: FLAG_DOCUMENT_9>,\n",
       " <Feature: FLAG_EMAIL>,\n",
       " <Feature: FLAG_EMP_PHONE>,\n",
       " <Feature: FLAG_MOBIL>,\n",
       " <Feature: FLAG_OWN_CAR>,\n",
       " <Feature: FLAG_OWN_REALTY>,\n",
       " <Feature: FLAG_PHONE>,\n",
       " <Feature: FLAG_WORK_PHONE>,\n",
       " <Feature: LIVE_CITY_NOT_WORK_CITY>,\n",
       " <Feature: LIVE_REGION_NOT_WORK_REGION>,\n",
       " <Feature: NAME_CONTRACT_TYPE>,\n",
       " <Feature: REG_CITY_NOT_LIVE_CITY>,\n",
       " <Feature: REG_CITY_NOT_WORK_CITY>,\n",
       " <Feature: REG_REGION_NOT_LIVE_REGION>,\n",
       " <Feature: REG_REGION_NOT_WORK_REGION>,\n",
       " <Feature: TARGET>,\n",
       " <Feature: set>,\n",
       " <Feature: REGION_RATING_CLIENT>,\n",
       " <Feature: REGION_RATING_CLIENT_W_CITY>,\n",
       " <Feature: WEEKDAY_APPR_PROCESS_START>,\n",
       " <Feature: HOUR_APPR_PROCESS_START>,\n",
       " <Feature: MEAN(previous.AMT_ANNUITY)>,\n",
       " <Feature: MEAN(previous.AMT_APPLICATION)>,\n",
       " <Feature: MEAN(previous.AMT_CREDIT)>,\n",
       " <Feature: MEAN(previous.AMT_DOWN_PAYMENT)>,\n",
       " <Feature: MEAN(previous.AMT_GOODS_PRICE)>,\n",
       " <Feature: MEAN(previous.HOUR_APPR_PROCESS_START)>,\n",
       " <Feature: MEAN(previous.RATE_DOWN_PAYMENT)>,\n",
       " <Feature: MEAN(previous.RATE_INTEREST_PRIMARY)>,\n",
       " <Feature: MEAN(previous.RATE_INTEREST_PRIVILEGED)>,\n",
       " <Feature: MEAN(previous.DAYS_DECISION)>,\n",
       " <Feature: MEAN(previous.SELLERPLACE_AREA)>,\n",
       " <Feature: MEAN(previous.CNT_PAYMENT)>,\n",
       " <Feature: MEAN(previous.DAYS_FIRST_DRAWING)>,\n",
       " <Feature: MEAN(previous.DAYS_FIRST_DUE)>,\n",
       " <Feature: MEAN(previous.DAYS_LAST_DUE_1ST_VERSION)>,\n",
       " <Feature: MEAN(previous.DAYS_LAST_DUE)>,\n",
       " <Feature: MEAN(previous.DAYS_TERMINATION)>,\n",
       " <Feature: MAX(previous.AMT_ANNUITY)>,\n",
       " <Feature: MAX(previous.AMT_APPLICATION)>,\n",
       " <Feature: MAX(previous.AMT_CREDIT)>,\n",
       " <Feature: MAX(previous.AMT_DOWN_PAYMENT)>,\n",
       " <Feature: MAX(previous.AMT_GOODS_PRICE)>,\n",
       " <Feature: MAX(previous.HOUR_APPR_PROCESS_START)>,\n",
       " <Feature: MAX(previous.RATE_DOWN_PAYMENT)>,\n",
       " <Feature: MAX(previous.RATE_INTEREST_PRIMARY)>,\n",
       " <Feature: MAX(previous.RATE_INTEREST_PRIVILEGED)>,\n",
       " <Feature: MAX(previous.DAYS_DECISION)>,\n",
       " <Feature: MAX(previous.SELLERPLACE_AREA)>,\n",
       " <Feature: MAX(previous.CNT_PAYMENT)>,\n",
       " <Feature: MAX(previous.DAYS_FIRST_DRAWING)>,\n",
       " <Feature: MAX(previous.DAYS_FIRST_DUE)>,\n",
       " <Feature: MAX(previous.DAYS_LAST_DUE_1ST_VERSION)>,\n",
       " <Feature: MAX(previous.DAYS_LAST_DUE)>,\n",
       " <Feature: MAX(previous.DAYS_TERMINATION)>,\n",
       " <Feature: PERCENT_TRUE(previous.FLAG_LAST_APPL_PER_CONTRACT)>,\n",
       " <Feature: PERCENT_TRUE(previous.NFLAG_LAST_APPL_IN_DAY)>,\n",
       " <Feature: PERCENT_TRUE(previous.NFLAG_INSURED_ON_APPROVAL)>,\n",
       " <Feature: MEAN(bureau.DAYS_CREDIT)>,\n",
       " <Feature: MEAN(bureau.CREDIT_DAY_OVERDUE)>,\n",
       " <Feature: MEAN(bureau.DAYS_CREDIT_ENDDATE)>,\n",
       " <Feature: MEAN(bureau.DAYS_ENDDATE_FACT)>,\n",
       " <Feature: MEAN(bureau.AMT_CREDIT_MAX_OVERDUE)>,\n",
       " <Feature: MEAN(bureau.CNT_CREDIT_PROLONG)>,\n",
       " <Feature: MEAN(bureau.AMT_CREDIT_SUM)>,\n",
       " <Feature: MEAN(bureau.AMT_CREDIT_SUM_DEBT)>,\n",
       " <Feature: MEAN(bureau.AMT_CREDIT_SUM_LIMIT)>,\n",
       " <Feature: MEAN(bureau.AMT_CREDIT_SUM_OVERDUE)>,\n",
       " <Feature: MEAN(bureau.DAYS_CREDIT_UPDATE)>,\n",
       " <Feature: MEAN(bureau.AMT_ANNUITY)>,\n",
       " <Feature: MAX(bureau.DAYS_CREDIT)>,\n",
       " <Feature: MAX(bureau.CREDIT_DAY_OVERDUE)>,\n",
       " <Feature: MAX(bureau.DAYS_CREDIT_ENDDATE)>,\n",
       " <Feature: MAX(bureau.DAYS_ENDDATE_FACT)>,\n",
       " <Feature: MAX(bureau.AMT_CREDIT_MAX_OVERDUE)>,\n",
       " <Feature: MAX(bureau.CNT_CREDIT_PROLONG)>,\n",
       " <Feature: MAX(bureau.AMT_CREDIT_SUM)>,\n",
       " <Feature: MAX(bureau.AMT_CREDIT_SUM_DEBT)>,\n",
       " <Feature: MAX(bureau.AMT_CREDIT_SUM_LIMIT)>,\n",
       " <Feature: MAX(bureau.AMT_CREDIT_SUM_OVERDUE)>,\n",
       " <Feature: MAX(bureau.DAYS_CREDIT_UPDATE)>,\n",
       " <Feature: MAX(bureau.AMT_ANNUITY)>,\n",
       " <Feature: MEAN(installments.NUM_INSTALMENT_VERSION)>,\n",
       " <Feature: MEAN(installments.NUM_INSTALMENT_NUMBER)>,\n",
       " <Feature: MEAN(installments.DAYS_INSTALMENT)>,\n",
       " <Feature: MEAN(installments.DAYS_ENTRY_PAYMENT)>,\n",
       " <Feature: MEAN(installments.AMT_INSTALMENT)>,\n",
       " <Feature: MEAN(installments.AMT_PAYMENT)>,\n",
       " <Feature: MAX(installments.NUM_INSTALMENT_VERSION)>,\n",
       " <Feature: MAX(installments.NUM_INSTALMENT_NUMBER)>,\n",
       " <Feature: MAX(installments.DAYS_INSTALMENT)>,\n",
       " <Feature: MAX(installments.DAYS_ENTRY_PAYMENT)>,\n",
       " <Feature: MAX(installments.AMT_INSTALMENT)>,\n",
       " <Feature: MAX(installments.AMT_PAYMENT)>,\n",
       " <Feature: MEAN(cash.MONTHS_BALANCE)>,\n",
       " <Feature: MEAN(cash.CNT_INSTALMENT)>,\n",
       " <Feature: MEAN(cash.CNT_INSTALMENT_FUTURE)>,\n",
       " <Feature: MEAN(cash.SK_DPD)>,\n",
       " <Feature: MEAN(cash.SK_DPD_DEF)>,\n",
       " <Feature: MAX(cash.MONTHS_BALANCE)>,\n",
       " <Feature: MAX(cash.CNT_INSTALMENT)>,\n",
       " <Feature: MAX(cash.CNT_INSTALMENT_FUTURE)>,\n",
       " <Feature: MAX(cash.SK_DPD)>,\n",
       " <Feature: MAX(cash.SK_DPD_DEF)>,\n",
       " <Feature: MEAN(credit.MONTHS_BALANCE)>,\n",
       " <Feature: MEAN(credit.AMT_BALANCE)>,\n",
       " <Feature: MEAN(credit.AMT_CREDIT_LIMIT_ACTUAL)>,\n",
       " <Feature: MEAN(credit.AMT_DRAWINGS_ATM_CURRENT)>,\n",
       " <Feature: MEAN(credit.AMT_DRAWINGS_CURRENT)>,\n",
       " <Feature: MEAN(credit.AMT_DRAWINGS_OTHER_CURRENT)>,\n",
       " <Feature: MEAN(credit.AMT_DRAWINGS_POS_CURRENT)>,\n",
       " <Feature: MEAN(credit.AMT_INST_MIN_REGULARITY)>,\n",
       " <Feature: MEAN(credit.AMT_PAYMENT_CURRENT)>,\n",
       " <Feature: MEAN(credit.AMT_PAYMENT_TOTAL_CURRENT)>,\n",
       " <Feature: MEAN(credit.AMT_RECEIVABLE_PRINCIPAL)>,\n",
       " <Feature: MEAN(credit.AMT_RECIVABLE)>,\n",
       " <Feature: MEAN(credit.AMT_TOTAL_RECEIVABLE)>,\n",
       " <Feature: MEAN(credit.CNT_DRAWINGS_ATM_CURRENT)>,\n",
       " <Feature: MEAN(credit.CNT_DRAWINGS_CURRENT)>,\n",
       " <Feature: MEAN(credit.CNT_DRAWINGS_OTHER_CURRENT)>,\n",
       " <Feature: MEAN(credit.CNT_DRAWINGS_POS_CURRENT)>,\n",
       " <Feature: MEAN(credit.CNT_INSTALMENT_MATURE_CUM)>,\n",
       " <Feature: MEAN(credit.SK_DPD)>,\n",
       " <Feature: MEAN(credit.SK_DPD_DEF)>,\n",
       " <Feature: MAX(credit.MONTHS_BALANCE)>,\n",
       " <Feature: MAX(credit.AMT_BALANCE)>,\n",
       " <Feature: MAX(credit.AMT_CREDIT_LIMIT_ACTUAL)>,\n",
       " <Feature: MAX(credit.AMT_DRAWINGS_ATM_CURRENT)>,\n",
       " <Feature: MAX(credit.AMT_DRAWINGS_CURRENT)>,\n",
       " <Feature: MAX(credit.AMT_DRAWINGS_OTHER_CURRENT)>,\n",
       " <Feature: MAX(credit.AMT_DRAWINGS_POS_CURRENT)>,\n",
       " <Feature: MAX(credit.AMT_INST_MIN_REGULARITY)>,\n",
       " <Feature: MAX(credit.AMT_PAYMENT_CURRENT)>,\n",
       " <Feature: MAX(credit.AMT_PAYMENT_TOTAL_CURRENT)>,\n",
       " <Feature: MAX(credit.AMT_RECEIVABLE_PRINCIPAL)>,\n",
       " <Feature: MAX(credit.AMT_RECIVABLE)>,\n",
       " <Feature: MAX(credit.AMT_TOTAL_RECEIVABLE)>,\n",
       " <Feature: MAX(credit.CNT_DRAWINGS_ATM_CURRENT)>,\n",
       " <Feature: MAX(credit.CNT_DRAWINGS_CURRENT)>,\n",
       " <Feature: MAX(credit.CNT_DRAWINGS_OTHER_CURRENT)>,\n",
       " <Feature: MAX(credit.CNT_DRAWINGS_POS_CURRENT)>,\n",
       " <Feature: MAX(credit.CNT_INSTALMENT_MATURE_CUM)>,\n",
       " <Feature: MAX(credit.SK_DPD)>,\n",
       " <Feature: MAX(credit.SK_DPD_DEF)>,\n",
       " <Feature: MEAN(bureau_balance.MONTHS_BALANCE)>,\n",
       " <Feature: MAX(bureau_balance.MONTHS_BALANCE)>,\n",
       " <Feature: MEAN(previous.MEAN(installments.NUM_INSTALMENT_VERSION))>,\n",
       " <Feature: MEAN(previous.MEAN(installments.NUM_INSTALMENT_NUMBER))>,\n",
       " <Feature: MEAN(previous.MEAN(installments.DAYS_INSTALMENT))>,\n",
       " <Feature: MEAN(previous.MEAN(installments.DAYS_ENTRY_PAYMENT))>,\n",
       " <Feature: MEAN(previous.MEAN(installments.AMT_INSTALMENT))>,\n",
       " <Feature: MEAN(previous.MEAN(installments.AMT_PAYMENT))>,\n",
       " <Feature: MEAN(previous.MAX(installments.NUM_INSTALMENT_VERSION))>,\n",
       " <Feature: MEAN(previous.MAX(installments.NUM_INSTALMENT_NUMBER))>,\n",
       " <Feature: MEAN(previous.MAX(installments.DAYS_INSTALMENT))>,\n",
       " <Feature: MEAN(previous.MAX(installments.DAYS_ENTRY_PAYMENT))>,\n",
       " <Feature: MEAN(previous.MAX(installments.AMT_INSTALMENT))>,\n",
       " <Feature: MEAN(previous.MAX(installments.AMT_PAYMENT))>,\n",
       " <Feature: MEAN(previous.MEAN(cash.MONTHS_BALANCE))>,\n",
       " <Feature: MEAN(previous.MEAN(cash.CNT_INSTALMENT))>,\n",
       " <Feature: MEAN(previous.MEAN(cash.CNT_INSTALMENT_FUTURE))>,\n",
       " <Feature: MEAN(previous.MEAN(cash.SK_DPD))>,\n",
       " <Feature: MEAN(previous.MEAN(cash.SK_DPD_DEF))>,\n",
       " <Feature: MEAN(previous.MAX(cash.MONTHS_BALANCE))>,\n",
       " <Feature: MEAN(previous.MAX(cash.CNT_INSTALMENT))>,\n",
       " <Feature: MEAN(previous.MAX(cash.CNT_INSTALMENT_FUTURE))>,\n",
       " <Feature: MEAN(previous.MAX(cash.SK_DPD))>,\n",
       " <Feature: MEAN(previous.MAX(cash.SK_DPD_DEF))>,\n",
       " <Feature: MEAN(previous.MEAN(credit.MONTHS_BALANCE))>,\n",
       " <Feature: MEAN(previous.MEAN(credit.AMT_BALANCE))>,\n",
       " <Feature: MEAN(previous.MEAN(credit.AMT_CREDIT_LIMIT_ACTUAL))>,\n",
       " <Feature: MEAN(previous.MEAN(credit.AMT_DRAWINGS_ATM_CURRENT))>,\n",
       " <Feature: MEAN(previous.MEAN(credit.AMT_DRAWINGS_CURRENT))>,\n",
       " <Feature: MEAN(previous.MEAN(credit.AMT_DRAWINGS_OTHER_CURRENT))>,\n",
       " <Feature: MEAN(previous.MEAN(credit.AMT_DRAWINGS_POS_CURRENT))>,\n",
       " <Feature: MEAN(previous.MEAN(credit.AMT_INST_MIN_REGULARITY))>,\n",
       " <Feature: MEAN(previous.MEAN(credit.AMT_PAYMENT_CURRENT))>,\n",
       " <Feature: MEAN(previous.MEAN(credit.AMT_PAYMENT_TOTAL_CURRENT))>,\n",
       " <Feature: MEAN(previous.MEAN(credit.AMT_RECEIVABLE_PRINCIPAL))>,\n",
       " <Feature: MEAN(previous.MEAN(credit.AMT_RECIVABLE))>,\n",
       " <Feature: MEAN(previous.MEAN(credit.AMT_TOTAL_RECEIVABLE))>,\n",
       " <Feature: MEAN(previous.MEAN(credit.CNT_DRAWINGS_ATM_CURRENT))>,\n",
       " <Feature: MEAN(previous.MEAN(credit.CNT_DRAWINGS_CURRENT))>,\n",
       " <Feature: MEAN(previous.MEAN(credit.CNT_DRAWINGS_OTHER_CURRENT))>,\n",
       " <Feature: MEAN(previous.MEAN(credit.CNT_DRAWINGS_POS_CURRENT))>,\n",
       " <Feature: MEAN(previous.MEAN(credit.CNT_INSTALMENT_MATURE_CUM))>,\n",
       " <Feature: MEAN(previous.MEAN(credit.SK_DPD))>,\n",
       " <Feature: MEAN(previous.MEAN(credit.SK_DPD_DEF))>,\n",
       " <Feature: MEAN(previous.MAX(credit.MONTHS_BALANCE))>,\n",
       " <Feature: MEAN(previous.MAX(credit.AMT_BALANCE))>,\n",
       " <Feature: MEAN(previous.MAX(credit.AMT_CREDIT_LIMIT_ACTUAL))>,\n",
       " <Feature: MEAN(previous.MAX(credit.AMT_DRAWINGS_ATM_CURRENT))>,\n",
       " <Feature: MEAN(previous.MAX(credit.AMT_DRAWINGS_CURRENT))>,\n",
       " <Feature: MEAN(previous.MAX(credit.AMT_DRAWINGS_OTHER_CURRENT))>,\n",
       " <Feature: MEAN(previous.MAX(credit.AMT_DRAWINGS_POS_CURRENT))>,\n",
       " <Feature: MEAN(previous.MAX(credit.AMT_INST_MIN_REGULARITY))>,\n",
       " <Feature: MEAN(previous.MAX(credit.AMT_PAYMENT_CURRENT))>,\n",
       " <Feature: MEAN(previous.MAX(credit.AMT_PAYMENT_TOTAL_CURRENT))>,\n",
       " <Feature: MEAN(previous.MAX(credit.AMT_RECEIVABLE_PRINCIPAL))>,\n",
       " <Feature: MEAN(previous.MAX(credit.AMT_RECIVABLE))>,\n",
       " <Feature: MEAN(previous.MAX(credit.AMT_TOTAL_RECEIVABLE))>,\n",
       " <Feature: MEAN(previous.MAX(credit.CNT_DRAWINGS_ATM_CURRENT))>,\n",
       " <Feature: MEAN(previous.MAX(credit.CNT_DRAWINGS_CURRENT))>,\n",
       " <Feature: MEAN(previous.MAX(credit.CNT_DRAWINGS_OTHER_CURRENT))>,\n",
       " <Feature: MEAN(previous.MAX(credit.CNT_DRAWINGS_POS_CURRENT))>,\n",
       " <Feature: MEAN(previous.MAX(credit.CNT_INSTALMENT_MATURE_CUM))>,\n",
       " <Feature: MEAN(previous.MAX(credit.SK_DPD))>,\n",
       " <Feature: MEAN(previous.MAX(credit.SK_DPD_DEF))>,\n",
       " <Feature: MAX(previous.MEAN(installments.NUM_INSTALMENT_VERSION))>,\n",
       " <Feature: MAX(previous.MEAN(installments.NUM_INSTALMENT_NUMBER))>,\n",
       " <Feature: MAX(previous.MEAN(installments.DAYS_INSTALMENT))>,\n",
       " <Feature: MAX(previous.MEAN(installments.DAYS_ENTRY_PAYMENT))>,\n",
       " <Feature: MAX(previous.MEAN(installments.AMT_INSTALMENT))>,\n",
       " <Feature: MAX(previous.MEAN(installments.AMT_PAYMENT))>,\n",
       " <Feature: MAX(previous.MEAN(cash.MONTHS_BALANCE))>,\n",
       " <Feature: MAX(previous.MEAN(cash.CNT_INSTALMENT))>,\n",
       " <Feature: MAX(previous.MEAN(cash.CNT_INSTALMENT_FUTURE))>,\n",
       " <Feature: MAX(previous.MEAN(cash.SK_DPD))>,\n",
       " <Feature: MAX(previous.MEAN(cash.SK_DPD_DEF))>,\n",
       " <Feature: MAX(previous.MEAN(credit.MONTHS_BALANCE))>,\n",
       " <Feature: MAX(previous.MEAN(credit.AMT_BALANCE))>,\n",
       " <Feature: MAX(previous.MEAN(credit.AMT_CREDIT_LIMIT_ACTUAL))>,\n",
       " <Feature: MAX(previous.MEAN(credit.AMT_DRAWINGS_ATM_CURRENT))>,\n",
       " <Feature: MAX(previous.MEAN(credit.AMT_DRAWINGS_CURRENT))>,\n",
       " <Feature: MAX(previous.MEAN(credit.AMT_DRAWINGS_OTHER_CURRENT))>,\n",
       " <Feature: MAX(previous.MEAN(credit.AMT_DRAWINGS_POS_CURRENT))>,\n",
       " <Feature: MAX(previous.MEAN(credit.AMT_INST_MIN_REGULARITY))>,\n",
       " <Feature: MAX(previous.MEAN(credit.AMT_PAYMENT_CURRENT))>,\n",
       " <Feature: MAX(previous.MEAN(credit.AMT_PAYMENT_TOTAL_CURRENT))>,\n",
       " <Feature: MAX(previous.MEAN(credit.AMT_RECEIVABLE_PRINCIPAL))>,\n",
       " <Feature: MAX(previous.MEAN(credit.AMT_RECIVABLE))>,\n",
       " <Feature: MAX(previous.MEAN(credit.AMT_TOTAL_RECEIVABLE))>,\n",
       " <Feature: MAX(previous.MEAN(credit.CNT_DRAWINGS_ATM_CURRENT))>,\n",
       " <Feature: MAX(previous.MEAN(credit.CNT_DRAWINGS_CURRENT))>,\n",
       " <Feature: MAX(previous.MEAN(credit.CNT_DRAWINGS_OTHER_CURRENT))>,\n",
       " <Feature: MAX(previous.MEAN(credit.CNT_DRAWINGS_POS_CURRENT))>,\n",
       " <Feature: MAX(previous.MEAN(credit.CNT_INSTALMENT_MATURE_CUM))>,\n",
       " <Feature: MAX(previous.MEAN(credit.SK_DPD))>,\n",
       " <Feature: MAX(previous.MEAN(credit.SK_DPD_DEF))>,\n",
       " <Feature: PERCENT_TRUE(previous.NAME_CONTRACT_STATUS != Approved)>,\n",
       " <Feature: MEAN(bureau.MEAN(bureau_balance.MONTHS_BALANCE))>,\n",
       " <Feature: MEAN(bureau.MAX(bureau_balance.MONTHS_BALANCE))>,\n",
       " <Feature: MAX(bureau.MEAN(bureau_balance.MONTHS_BALANCE))>,\n",
       " <Feature: PERCENT_TRUE(bureau.CREDIT_DAY_OVERDUE > 0.0)>,\n",
       " <Feature: PERCENT_TRUE(bureau.CREDIT_ACTIVE != Closed)>,\n",
       " <Feature: PERCENT_TRUE(installments.AMT_PAYMENT < AMT_INSTALMENT)>,\n",
       " <Feature: PERCENT_TRUE(installments.DAYS_ENTRY_PAYMENT > DAYS_INSTALMENT)>,\n",
       " <Feature: PERCENT_TRUE(cash.SK_DPD > 0.0)>,\n",
       " <Feature: PERCENT_TRUE(cash.NAME_CONTRACT_STATUS = Active)>,\n",
       " <Feature: PERCENT_TRUE(credit.NAME_CONTRACT_STATUS = Active)>,\n",
       " <Feature: PERCENT_TRUE(credit.SK_DPD > 0.0)>,\n",
       " <Feature: PERCENT_TRUE(bureau_balance.STATUS.isin(['1', '2', '3', '4', '5']))>,\n",
       " <Feature: MEAN(previous.PERCENT_TRUE(installments.AMT_PAYMENT < AMT_INSTALMENT))>,\n",
       " <Feature: MEAN(previous.PERCENT_TRUE(installments.DAYS_ENTRY_PAYMENT > DAYS_INSTALMENT))>,\n",
       " <Feature: MEAN(previous.PERCENT_TRUE(cash.SK_DPD > 0.0))>,\n",
       " <Feature: MEAN(previous.PERCENT_TRUE(cash.NAME_CONTRACT_STATUS = Active))>,\n",
       " <Feature: MEAN(previous.PERCENT_TRUE(credit.NAME_CONTRACT_STATUS = Active))>,\n",
       " <Feature: MEAN(previous.PERCENT_TRUE(credit.SK_DPD > 0.0))>,\n",
       " <Feature: MAX(previous.PERCENT_TRUE(installments.AMT_PAYMENT < AMT_INSTALMENT))>,\n",
       " <Feature: MAX(previous.PERCENT_TRUE(installments.DAYS_ENTRY_PAYMENT > DAYS_INSTALMENT))>,\n",
       " <Feature: MAX(previous.PERCENT_TRUE(cash.SK_DPD > 0.0))>,\n",
       " <Feature: MAX(previous.PERCENT_TRUE(cash.NAME_CONTRACT_STATUS = Active))>,\n",
       " <Feature: MAX(previous.PERCENT_TRUE(credit.NAME_CONTRACT_STATUS = Active))>,\n",
       " <Feature: MAX(previous.PERCENT_TRUE(credit.SK_DPD > 0.0))>,\n",
       " <Feature: MEAN(bureau.PERCENT_TRUE(bureau_balance.STATUS.isin(['1', '2', '3', '4', '5'])))>,\n",
       " <Feature: MAX(bureau.PERCENT_TRUE(bureau_balance.STATUS.isin(['1', '2', '3', '4', '5'])))>]"
      ]
     },
     "execution_count": 64,
     "metadata": {},
     "output_type": "execute_result"
    }
   ],
   "source": [
    "feature_names"
   ]
  },
  {
   "cell_type": "markdown",
   "metadata": {},
   "source": [
    "# Feature Primitives\n",
    "\n",
    "A [feature primitive](https://docs.featuretools.com/automated_feature_engineering/primitives.html) is an operation applied to a table or a set of tables to create a feature. These represent simple calculations, many of which we already use in manual feature engineering, that can be stacked on top of each other to create complex features. Feature primitives fall into two categories:\n",
    "\n",
    "* __Aggregation__: function that groups together child datapoints for each parent and then calculates a statistic such as mean, min, max, or standard deviation. An example is calculating the maximum previous loan amount for each client. An aggregation works across multiple tables using relationships between tables.\n",
    "* __Transformation__: an operation applied to one or more columns in a single table. An example would be taking the absolute value of a column, or finding the difference between two columns in one table.\n",
    "\n",
    "A list of the available features primitives in featuretools can be viewed below."
   ]
  },
  {
   "cell_type": "code",
   "execution_count": null,
   "metadata": {},
   "outputs": [],
   "source": [
    "# List the primitives in a dataframe\n",
    "primitives = ft.list_primitives()\n",
    "pd.options.display.max_colwidth = 100\n",
    "primitives[primitives['type'] == 'aggregation'].head(10)"
   ]
  },
  {
   "cell_type": "code",
   "execution_count": null,
   "metadata": {},
   "outputs": [],
   "source": [
    "primitives[primitives['type'] == 'transform'].head(10)"
   ]
  },
  {
   "cell_type": "markdown",
   "metadata": {},
   "source": [
    "# Deep Feature Synthesis\n",
    "\n",
    "Deep Feature Synthesis (DFS) is the process featuretools uses to make new features. DFS stacks feature primitives to form features with a \"depth\" equal to the number of primitives. For example, if we take the maximum value of a client's previous loans (say `MAX(previous.loan_amount)`), that is a \"deep feature\" with a depth of 1. To create a feature with a depth of two, we could stack primitives by taking the maximum value of a client's average montly payments per previous loan (such as `MAX(previous(MEAN(installments.payment)))`). The [original paper on automated feature engineering using deep feature synthesis](https://dai.lids.mit.edu/wp-content/uploads/2017/10/DSAA_DSM_2015.pdf) is worth a read. \n",
    "\n",
    "To perform DFS in featuretools, we use the `dfs`  function passing it an `entityset`, the `target_entity` (where we want to make the features), the `agg_primitives` to use, the `trans_primitives` to use and the `max_depth` of the features. Here we will use the default aggregation and transformation primitives,  a max depth of 2, and calculate primitives for the `app` entity. Because this process is computationally expensive, we can run the function using `features_only = True` to return only a list of the features and not calculate the features themselves. This can be useful to look at the resulting features before starting an extended computation."
   ]
  },
  {
   "cell_type": "markdown",
   "metadata": {},
   "source": [
    "### DFS with Default Primitives\n",
    "\n",
    "First, we can run deep feature synthesis with the default primitives and generate all of the names."
   ]
  },
  {
   "cell_type": "code",
   "execution_count": null,
   "metadata": {},
   "outputs": [],
   "source": [
    "# Default primitives from featuretools\n",
    "default_agg_primitives =  [\"sum\", \"std\", \"max\", \"skew\", \"min\", \"mean\", \"count\", \"percent_true\", \"num_unique\", \"mode\"]\n",
    "default_trans_primitives =  [\"day\", \"year\", \"month\", \"weekday\", \"haversine\", \"numwords\", \"characters\"]\n",
    "\n",
    "# DFS with specified primitives\n",
    "feature_names = ft.dfs(entityset = es, target_entity = 'app',\n",
    "                       trans_primitives = default_trans_primitives,\n",
    "                       agg_primitives=default_agg_primitives, \n",
    "                       max_depth = 2, n_jobs = -1, verbose = 1,\n",
    "                       features_only=True)\n",
    "\n",
    "print('%d Total Features' % len(feature_names))"
   ]
  },
  {
   "cell_type": "markdown",
   "metadata": {},
   "source": [
    "Some of the primitives are not even used in the deep feature synthesis because they are not applicable. "
   ]
  },
  {
   "cell_type": "code",
   "execution_count": null,
   "metadata": {},
   "outputs": [],
   "source": [
    "str(feature_names[1])[10:-1]"
   ]
  },
  {
   "cell_type": "code",
   "execution_count": null,
   "metadata": {},
   "outputs": [],
   "source": [
    "feature_list = []\n",
    "for feature in feature_names:\n",
    "    feature_list.append(str(feature)[10:-1])"
   ]
  },
  {
   "cell_type": "code",
   "execution_count": null,
   "metadata": {},
   "outputs": [],
   "source": [
    "feature_list[-10]"
   ]
  },
  {
   "cell_type": "code",
   "execution_count": null,
   "metadata": {},
   "outputs": [],
   "source": [
    "for primitive in default_agg_primitives:\n",
    "    included = False\n",
    "    for feature in feature_list:\n",
    "        if primitive.upper() in feature:\n",
    "            included = True\n",
    "    if not included:\n",
    "        print('{} not in features.'.format(primitive))"
   ]
  },
  {
   "cell_type": "code",
   "execution_count": null,
   "metadata": {},
   "outputs": [],
   "source": [
    "for primitive in default_trans_primitives:\n",
    "    included = False\n",
    "    for feature in feature_list:\n",
    "        if ('%s(' % primitive.upper()) in feature:\n",
    "            included = True\n",
    "    if not included:\n",
    "        print('{} not in features.'.format(primitive))"
   ]
  },
  {
   "cell_type": "markdown",
   "metadata": {},
   "source": [
    "## DFS with seed features\n",
    "\n",
    "Now we can include the seed features and look at the number of features that will be created. We will select a few aggregation and transformation primitives to use rather than the entire default list. "
   ]
  },
  {
   "cell_type": "code",
   "execution_count": null,
   "metadata": {},
   "outputs": [],
   "source": [
    "agg_primitives =  [\"sum\", \"max\", \"min\", \"mean\", \"count\", \"percent_true\", \"num_unique\", \"mode\"]\n",
    "trans_primitives = ['percentile', 'and']"
   ]
  },
  {
   "cell_type": "code",
   "execution_count": null,
   "metadata": {
    "scrolled": true
   },
   "outputs": [],
   "source": [
    "feature_names = ft.dfs(entityset=es, target_entity='app',\n",
    "                       agg_primitives = agg_primitives,\n",
    "                       trans_primitives = trans_primitives,\n",
    "                       seed_features = seed_features,\n",
    "                       n_jobs = -1, verbose = 1, features_only = True,\n",
    "                       max_depth = 2)\n",
    "\n",
    "print(\"{} total features.\".format(len(feature_names)))"
   ]
  },
  {
   "cell_type": "markdown",
   "metadata": {},
   "source": [
    "## Run Full Deep Feature Synthesis\n",
    "\n",
    "If we are content with the features that will be built, we can run deep feature synthesis and create the feature matrix. The following call runs the full deep feature synthesis. "
   ]
  },
  {
   "cell_type": "code",
   "execution_count": null,
   "metadata": {},
   "outputs": [],
   "source": [
    "import sys\n",
    "sys.getsizeof(es) / 1e9"
   ]
  },
  {
   "cell_type": "code",
   "execution_count": null,
   "metadata": {},
   "outputs": [],
   "source": [
    "import psutil\n",
    "\n",
    "psutil.virtual_memory().total / 1e9"
   ]
  },
  {
   "cell_type": "code",
   "execution_count": null,
   "metadata": {},
   "outputs": [],
   "source": [
    "feature_matrix, feature_names = ft.dfs(entityset=es, target_entity='app',\n",
    "                                       agg_primitives = agg_primitives,\n",
    "                                       trans_primitives = trans_primitives,\n",
    "                                       seed_features = seed_features,\n",
    "                                       n_jobs = 1, verbose = 1, features_only = False,\n",
    "                                       max_depth = 2, chunk_size = 100)"
   ]
  },
  {
   "cell_type": "code",
   "execution_count": null,
   "metadata": {},
   "outputs": [],
   "source": [
    "feature_matrix.reset_index(inplace = True)\n",
    "feature_matrix.to_csv('../../data/kaggle_home_credit/feature_matrix.csv', index = False)"
   ]
  },
  {
   "cell_type": "markdown",
   "metadata": {},
   "source": [
    "# Conclusions\n",
    "\n",
    "In this notebook, we saw how to implement automated feature engineering for a data science problem. Automated feature engineering allows us to create thousands of new features from a set of related data tables, aiding us immensely as data scientists. Moreover, we can still use domain knowledge in our features and even augment our domain knowledge by building on top of our own hand-built features. The benefits of automated feature engineering are significant and will considerably help us in our role as data scientists."
   ]
  },
  {
   "cell_type": "code",
   "execution_count": null,
   "metadata": {},
   "outputs": [],
   "source": []
  }
 ],
 "metadata": {
  "kernelspec": {
   "display_name": "Python 3",
   "language": "python",
   "name": "python3"
  },
  "language_info": {
   "codemirror_mode": {
    "name": "ipython",
    "version": 3
   },
   "file_extension": ".py",
   "mimetype": "text/x-python",
   "name": "python",
   "nbconvert_exporter": "python",
   "pygments_lexer": "ipython3",
   "version": "3.6.5"
  }
 },
 "nbformat": 4,
 "nbformat_minor": 2
}
