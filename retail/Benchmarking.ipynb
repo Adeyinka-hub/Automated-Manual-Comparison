{
 "cells": [
  {
   "cell_type": "code",
   "execution_count": 1,
   "metadata": {},
   "outputs": [],
   "source": [
    "import pandas as pd\n",
    "import numpy as np"
   ]
  },
  {
   "cell_type": "code",
   "execution_count": 2,
   "metadata": {},
   "outputs": [
    {
     "data": {
      "text/html": [
       "<div>\n",
       "<style scoped>\n",
       "    .dataframe tbody tr th:only-of-type {\n",
       "        vertical-align: middle;\n",
       "    }\n",
       "\n",
       "    .dataframe tbody tr th {\n",
       "        vertical-align: top;\n",
       "    }\n",
       "\n",
       "    .dataframe thead th {\n",
       "        text-align: right;\n",
       "    }\n",
       "</style>\n",
       "<table border=\"1\" class=\"dataframe\">\n",
       "  <thead>\n",
       "    <tr style=\"text-align: right;\">\n",
       "      <th></th>\n",
       "      <th>customer_id</th>\n",
       "      <th>time</th>\n",
       "      <th>country</th>\n",
       "      <th>SUM(order_products.quantity)</th>\n",
       "      <th>MAX(order_products.price)</th>\n",
       "      <th>MEAN(order_products.price)</th>\n",
       "      <th>STD(order_products.quantity)</th>\n",
       "      <th>SUM(order_products.price)</th>\n",
       "      <th>NUM_UNIQUE(order_products.product_id)</th>\n",
       "      <th>COUNT(order_products)</th>\n",
       "      <th>...</th>\n",
       "      <th>SUM(orders.MEAN(order_products.price))</th>\n",
       "      <th>MEAN(orders.STD(order_products.quantity))</th>\n",
       "      <th>MODE(orders.MONTH(order_date))</th>\n",
       "      <th>MEAN(orders.MEAN(order_products.price))</th>\n",
       "      <th>NUM_UNIQUE(orders.WEEKDAY(order_date))</th>\n",
       "      <th>STD(orders.MEAN(order_products.price))</th>\n",
       "      <th>NUM_UNIQUE(orders.MONTH(order_date))</th>\n",
       "      <th>NUM_UNIQUE(orders.YEAR(order_date))</th>\n",
       "      <th>MODE(orders.YEAR(order_date))</th>\n",
       "      <th>label</th>\n",
       "    </tr>\n",
       "  </thead>\n",
       "  <tbody>\n",
       "    <tr>\n",
       "      <th>0</th>\n",
       "      <td>12363</td>\n",
       "      <td>2011-08-01</td>\n",
       "      <td>Unspecified</td>\n",
       "      <td>282</td>\n",
       "      <td>7.95</td>\n",
       "      <td>2.281250</td>\n",
       "      <td>8.781194</td>\n",
       "      <td>36.50</td>\n",
       "      <td>16</td>\n",
       "      <td>16</td>\n",
       "      <td>...</td>\n",
       "      <td>2.281250</td>\n",
       "      <td>8.781194</td>\n",
       "      <td>4</td>\n",
       "      <td>2.281250</td>\n",
       "      <td>1</td>\n",
       "      <td>0.000000</td>\n",
       "      <td>1</td>\n",
       "      <td>1</td>\n",
       "      <td>2011</td>\n",
       "      <td>True</td>\n",
       "    </tr>\n",
       "    <tr>\n",
       "      <th>1</th>\n",
       "      <td>12461</td>\n",
       "      <td>2011-08-01</td>\n",
       "      <td>Switzerland</td>\n",
       "      <td>282</td>\n",
       "      <td>8.50</td>\n",
       "      <td>3.207647</td>\n",
       "      <td>4.416076</td>\n",
       "      <td>109.06</td>\n",
       "      <td>34</td>\n",
       "      <td>34</td>\n",
       "      <td>...</td>\n",
       "      <td>3.207647</td>\n",
       "      <td>4.416076</td>\n",
       "      <td>7</td>\n",
       "      <td>3.207647</td>\n",
       "      <td>1</td>\n",
       "      <td>0.000000</td>\n",
       "      <td>1</td>\n",
       "      <td>1</td>\n",
       "      <td>2011</td>\n",
       "      <td>True</td>\n",
       "    </tr>\n",
       "    <tr>\n",
       "      <th>2</th>\n",
       "      <td>12556</td>\n",
       "      <td>2011-08-01</td>\n",
       "      <td>Spain</td>\n",
       "      <td>163</td>\n",
       "      <td>12.50</td>\n",
       "      <td>2.742154</td>\n",
       "      <td>2.518382</td>\n",
       "      <td>178.24</td>\n",
       "      <td>60</td>\n",
       "      <td>65</td>\n",
       "      <td>...</td>\n",
       "      <td>2.742154</td>\n",
       "      <td>2.518382</td>\n",
       "      <td>7</td>\n",
       "      <td>2.742154</td>\n",
       "      <td>1</td>\n",
       "      <td>0.000000</td>\n",
       "      <td>1</td>\n",
       "      <td>1</td>\n",
       "      <td>2011</td>\n",
       "      <td>False</td>\n",
       "    </tr>\n",
       "    <tr>\n",
       "      <th>3</th>\n",
       "      <td>12635</td>\n",
       "      <td>2011-08-01</td>\n",
       "      <td>Germany</td>\n",
       "      <td>399</td>\n",
       "      <td>18.00</td>\n",
       "      <td>2.278000</td>\n",
       "      <td>3.959088</td>\n",
       "      <td>91.12</td>\n",
       "      <td>40</td>\n",
       "      <td>40</td>\n",
       "      <td>...</td>\n",
       "      <td>2.278000</td>\n",
       "      <td>3.959088</td>\n",
       "      <td>7</td>\n",
       "      <td>2.278000</td>\n",
       "      <td>1</td>\n",
       "      <td>0.000000</td>\n",
       "      <td>1</td>\n",
       "      <td>1</td>\n",
       "      <td>2011</td>\n",
       "      <td>False</td>\n",
       "    </tr>\n",
       "    <tr>\n",
       "      <th>4</th>\n",
       "      <td>12649</td>\n",
       "      <td>2011-08-01</td>\n",
       "      <td>Germany</td>\n",
       "      <td>192</td>\n",
       "      <td>18.00</td>\n",
       "      <td>2.640526</td>\n",
       "      <td>7.879986</td>\n",
       "      <td>50.17</td>\n",
       "      <td>19</td>\n",
       "      <td>19</td>\n",
       "      <td>...</td>\n",
       "      <td>4.407059</td>\n",
       "      <td>2.970443</td>\n",
       "      <td>5</td>\n",
       "      <td>2.203529</td>\n",
       "      <td>2</td>\n",
       "      <td>0.553529</td>\n",
       "      <td>2</td>\n",
       "      <td>2</td>\n",
       "      <td>2010</td>\n",
       "      <td>True</td>\n",
       "    </tr>\n",
       "  </tbody>\n",
       "</table>\n",
       "<p>5 rows × 63 columns</p>\n",
       "</div>"
      ],
      "text/plain": [
       "   customer_id        time      country  SUM(order_products.quantity)  \\\n",
       "0        12363  2011-08-01  Unspecified                           282   \n",
       "1        12461  2011-08-01  Switzerland                           282   \n",
       "2        12556  2011-08-01        Spain                           163   \n",
       "3        12635  2011-08-01      Germany                           399   \n",
       "4        12649  2011-08-01      Germany                           192   \n",
       "\n",
       "   MAX(order_products.price)  MEAN(order_products.price)  \\\n",
       "0                       7.95                    2.281250   \n",
       "1                       8.50                    3.207647   \n",
       "2                      12.50                    2.742154   \n",
       "3                      18.00                    2.278000   \n",
       "4                      18.00                    2.640526   \n",
       "\n",
       "   STD(order_products.quantity)  SUM(order_products.price)  \\\n",
       "0                      8.781194                      36.50   \n",
       "1                      4.416076                     109.06   \n",
       "2                      2.518382                     178.24   \n",
       "3                      3.959088                      91.12   \n",
       "4                      7.879986                      50.17   \n",
       "\n",
       "   NUM_UNIQUE(order_products.product_id)  COUNT(order_products)  ...    \\\n",
       "0                                     16                     16  ...     \n",
       "1                                     34                     34  ...     \n",
       "2                                     60                     65  ...     \n",
       "3                                     40                     40  ...     \n",
       "4                                     19                     19  ...     \n",
       "\n",
       "   SUM(orders.MEAN(order_products.price))  \\\n",
       "0                                2.281250   \n",
       "1                                3.207647   \n",
       "2                                2.742154   \n",
       "3                                2.278000   \n",
       "4                                4.407059   \n",
       "\n",
       "   MEAN(orders.STD(order_products.quantity))  MODE(orders.MONTH(order_date))  \\\n",
       "0                                   8.781194                               4   \n",
       "1                                   4.416076                               7   \n",
       "2                                   2.518382                               7   \n",
       "3                                   3.959088                               7   \n",
       "4                                   2.970443                               5   \n",
       "\n",
       "   MEAN(orders.MEAN(order_products.price))  \\\n",
       "0                                 2.281250   \n",
       "1                                 3.207647   \n",
       "2                                 2.742154   \n",
       "3                                 2.278000   \n",
       "4                                 2.203529   \n",
       "\n",
       "   NUM_UNIQUE(orders.WEEKDAY(order_date))  \\\n",
       "0                                       1   \n",
       "1                                       1   \n",
       "2                                       1   \n",
       "3                                       1   \n",
       "4                                       2   \n",
       "\n",
       "   STD(orders.MEAN(order_products.price))  \\\n",
       "0                                0.000000   \n",
       "1                                0.000000   \n",
       "2                                0.000000   \n",
       "3                                0.000000   \n",
       "4                                0.553529   \n",
       "\n",
       "  NUM_UNIQUE(orders.MONTH(order_date))  NUM_UNIQUE(orders.YEAR(order_date))  \\\n",
       "0                                    1                                    1   \n",
       "1                                    1                                    1   \n",
       "2                                    1                                    1   \n",
       "3                                    1                                    1   \n",
       "4                                    2                                    2   \n",
       "\n",
       "   MODE(orders.YEAR(order_date))  label  \n",
       "0                           2011   True  \n",
       "1                           2011   True  \n",
       "2                           2011  False  \n",
       "3                           2011  False  \n",
       "4                           2010   True  \n",
       "\n",
       "[5 rows x 63 columns]"
      ]
     },
     "execution_count": 2,
     "metadata": {},
     "output_type": "execute_result"
    }
   ],
   "source": [
    "df = pd.read_csv('feature_matrix.csv')\n",
    "df.head()"
   ]
  },
  {
   "cell_type": "code",
   "execution_count": 3,
   "metadata": {},
   "outputs": [],
   "source": [
    "from sklearn.model_selection import train_test_split\n",
    "\n",
    "labels = np.array(df['label']).reshape((-1, ))\n",
    "X_train, X_test, y_train, y_test = train_test_split(df.drop(columns = ['label']), labels)\n"
   ]
  },
  {
   "cell_type": "code",
   "execution_count": 5,
   "metadata": {},
   "outputs": [
    {
     "data": {
      "text/plain": [
       "True     732\n",
       "False    228\n",
       "Name: label, dtype: int64"
      ]
     },
     "execution_count": 5,
     "metadata": {},
     "output_type": "execute_result"
    }
   ],
   "source": [
    "X_train['label'] = y_train\n",
    "X_train['label'].value_counts()"
   ]
  },
  {
   "cell_type": "code",
   "execution_count": 6,
   "metadata": {},
   "outputs": [
    {
     "data": {
      "text/plain": [
       "0.5"
      ]
     },
     "execution_count": 6,
     "metadata": {},
     "output_type": "execute_result"
    }
   ],
   "source": [
    "from sklearn.metrics import roc_auc_score\n",
    "\n",
    "roc_auc_score(y_test, [True for _ in range(len(y_test))])"
   ]
  },
  {
   "cell_type": "code",
   "execution_count": 7,
   "metadata": {},
   "outputs": [
    {
     "data": {
      "text/html": [
       "<div>\n",
       "<style scoped>\n",
       "    .dataframe tbody tr th:only-of-type {\n",
       "        vertical-align: middle;\n",
       "    }\n",
       "\n",
       "    .dataframe tbody tr th {\n",
       "        vertical-align: top;\n",
       "    }\n",
       "\n",
       "    .dataframe thead th {\n",
       "        text-align: right;\n",
       "    }\n",
       "</style>\n",
       "<table border=\"1\" class=\"dataframe\">\n",
       "  <thead>\n",
       "    <tr style=\"text-align: right;\">\n",
       "      <th></th>\n",
       "      <th>order_id</th>\n",
       "      <th>product_id</th>\n",
       "      <th>desc</th>\n",
       "      <th>quantity</th>\n",
       "      <th>date</th>\n",
       "      <th>unit_price</th>\n",
       "      <th>customer_id</th>\n",
       "      <th>country</th>\n",
       "    </tr>\n",
       "  </thead>\n",
       "  <tbody>\n",
       "    <tr>\n",
       "      <th>0</th>\n",
       "      <td>536365</td>\n",
       "      <td>85123A</td>\n",
       "      <td>WHITE HANGING HEART T-LIGHT HOLDER</td>\n",
       "      <td>6</td>\n",
       "      <td>2010-12-01 08:26:00</td>\n",
       "      <td>2.55</td>\n",
       "      <td>17850.0</td>\n",
       "      <td>United Kingdom</td>\n",
       "    </tr>\n",
       "    <tr>\n",
       "      <th>1</th>\n",
       "      <td>536365</td>\n",
       "      <td>71053</td>\n",
       "      <td>WHITE METAL LANTERN</td>\n",
       "      <td>6</td>\n",
       "      <td>2010-12-01 08:26:00</td>\n",
       "      <td>3.39</td>\n",
       "      <td>17850.0</td>\n",
       "      <td>United Kingdom</td>\n",
       "    </tr>\n",
       "    <tr>\n",
       "      <th>2</th>\n",
       "      <td>536365</td>\n",
       "      <td>84406B</td>\n",
       "      <td>CREAM CUPID HEARTS COAT HANGER</td>\n",
       "      <td>8</td>\n",
       "      <td>2010-12-01 08:26:00</td>\n",
       "      <td>2.75</td>\n",
       "      <td>17850.0</td>\n",
       "      <td>United Kingdom</td>\n",
       "    </tr>\n",
       "    <tr>\n",
       "      <th>3</th>\n",
       "      <td>536365</td>\n",
       "      <td>84029G</td>\n",
       "      <td>KNITTED UNION FLAG HOT WATER BOTTLE</td>\n",
       "      <td>6</td>\n",
       "      <td>2010-12-01 08:26:00</td>\n",
       "      <td>3.39</td>\n",
       "      <td>17850.0</td>\n",
       "      <td>United Kingdom</td>\n",
       "    </tr>\n",
       "    <tr>\n",
       "      <th>4</th>\n",
       "      <td>536365</td>\n",
       "      <td>84029E</td>\n",
       "      <td>RED WOOLLY HOTTIE WHITE HEART.</td>\n",
       "      <td>6</td>\n",
       "      <td>2010-12-01 08:26:00</td>\n",
       "      <td>3.39</td>\n",
       "      <td>17850.0</td>\n",
       "      <td>United Kingdom</td>\n",
       "    </tr>\n",
       "  </tbody>\n",
       "</table>\n",
       "</div>"
      ],
      "text/plain": [
       "  order_id product_id                                 desc  quantity  \\\n",
       "0   536365     85123A   WHITE HANGING HEART T-LIGHT HOLDER         6   \n",
       "1   536365      71053                  WHITE METAL LANTERN         6   \n",
       "2   536365     84406B       CREAM CUPID HEARTS COAT HANGER         8   \n",
       "3   536365     84029G  KNITTED UNION FLAG HOT WATER BOTTLE         6   \n",
       "4   536365     84029E       RED WOOLLY HOTTIE WHITE HEART.         6   \n",
       "\n",
       "                 date  unit_price  customer_id         country  \n",
       "0 2010-12-01 08:26:00        2.55      17850.0  United Kingdom  \n",
       "1 2010-12-01 08:26:00        3.39      17850.0  United Kingdom  \n",
       "2 2010-12-01 08:26:00        2.75      17850.0  United Kingdom  \n",
       "3 2010-12-01 08:26:00        3.39      17850.0  United Kingdom  \n",
       "4 2010-12-01 08:26:00        3.39      17850.0  United Kingdom  "
      ]
     },
     "execution_count": 7,
     "metadata": {},
     "output_type": "execute_result"
    }
   ],
   "source": [
    "data = pd.read_excel('input/Online Retail.xlsx')\n",
    "data.columns = ['order_id', 'product_id', 'desc', 'quantity', \n",
    "                 'date', 'unit_price', 'customer_id', 'country']\n",
    "data.head()"
   ]
  },
  {
   "cell_type": "code",
   "execution_count": 11,
   "metadata": {},
   "outputs": [],
   "source": [
    "train, test = data[data['customer_id'].isin(X_train['customer_id'])], data[data['customer_id'].isin(X_test['customer_id'])]"
   ]
  },
  {
   "cell_type": "code",
   "execution_count": 12,
   "metadata": {},
   "outputs": [
    {
     "data": {
      "text/plain": [
       "(101155, 8)"
      ]
     },
     "execution_count": 12,
     "metadata": {},
     "output_type": "execute_result"
    }
   ],
   "source": [
    "train.shape"
   ]
  },
  {
   "cell_type": "code",
   "execution_count": 13,
   "metadata": {},
   "outputs": [
    {
     "data": {
      "text/plain": [
       "(36014, 8)"
      ]
     },
     "execution_count": 13,
     "metadata": {},
     "output_type": "execute_result"
    }
   ],
   "source": [
    "test.shape"
   ]
  },
  {
   "cell_type": "code",
   "execution_count": 16,
   "metadata": {},
   "outputs": [],
   "source": [
    "df['time'] = pd.to_datetime(df['time'])"
   ]
  },
  {
   "cell_type": "code",
   "execution_count": 29,
   "metadata": {},
   "outputs": [],
   "source": [
    "totals = []\n",
    "targets = []\n",
    "for i, info in df.iterrows():\n",
    "    month_start = info['time'] - pd.Timedelta(30, 'D')\n",
    "    end = info['time'] + pd.Timedelta(30, 'D')\n",
    "    \n",
    "    subset = data.loc[(data['customer_id'] == info['customer_id']) & (data['date'] > month_start) & (data['date'] < info['time'])].copy()\n",
    "    target_subset = data.loc[(data['customer_id'] == info['customer_id']) & (data['date'] > info['time']) & (data['date'] < end)].copy()\n",
    "    totals.append(subset['unit_price'].sum())\n",
    "    targets.append(target_subset['unit_price'].sum())"
   ]
  },
  {
   "cell_type": "code",
   "execution_count": 34,
   "metadata": {},
   "outputs": [
    {
     "data": {
      "text/plain": [
       "<matplotlib.axes._subplots.AxesSubplot at 0x1a23b46940>"
      ]
     },
     "execution_count": 34,
     "metadata": {},
     "output_type": "execute_result"
    },
    {
     "data": {
      "image/png": "[encoded data removed]",
      "text/plain": [
       "<Figure size 432x288 with 1 Axes>"
      ]
     },
     "metadata": {},
     "output_type": "display_data"
    }
   ],
   "source": [
    "import matplotlib.pyplot as plt\n",
    "import seaborn as sns\n",
    "%matplotlib inline\n",
    "\n",
    "sns.kdeplot(totals)"
   ]
  },
  {
   "cell_type": "code",
   "execution_count": 35,
   "metadata": {},
   "outputs": [
    {
     "data": {
      "text/plain": [
       "<matplotlib.axes._subplots.AxesSubplot at 0x1a23ba3208>"
      ]
     },
     "execution_count": 35,
     "metadata": {},
     "output_type": "execute_result"
    },
    {
     "data": {
      "image/png": "[encoded data removed]",
      "text/plain": [
       "<Figure size 432x288 with 1 Axes>"
      ]
     },
     "metadata": {},
     "output_type": "display_data"
    }
   ],
   "source": [
    "sns.kdeplot(targets)"
   ]
  },
  {
   "cell_type": "code",
   "execution_count": 36,
   "metadata": {},
   "outputs": [],
   "source": [
    "df['total'] = totals\n",
    "df['target'] = targets"
   ]
  },
  {
   "cell_type": "code",
   "execution_count": 37,
   "metadata": {},
   "outputs": [
    {
     "data": {
      "text/html": [
       "<div>\n",
       "<style scoped>\n",
       "    .dataframe tbody tr th:only-of-type {\n",
       "        vertical-align: middle;\n",
       "    }\n",
       "\n",
       "    .dataframe tbody tr th {\n",
       "        vertical-align: top;\n",
       "    }\n",
       "\n",
       "    .dataframe thead th {\n",
       "        text-align: right;\n",
       "    }\n",
       "</style>\n",
       "<table border=\"1\" class=\"dataframe\">\n",
       "  <thead>\n",
       "    <tr style=\"text-align: right;\">\n",
       "      <th></th>\n",
       "      <th>customer_id</th>\n",
       "      <th>time</th>\n",
       "      <th>country</th>\n",
       "      <th>SUM(order_products.quantity)</th>\n",
       "      <th>MAX(order_products.price)</th>\n",
       "      <th>MEAN(order_products.price)</th>\n",
       "      <th>STD(order_products.quantity)</th>\n",
       "      <th>SUM(order_products.price)</th>\n",
       "      <th>NUM_UNIQUE(order_products.product_id)</th>\n",
       "      <th>COUNT(order_products)</th>\n",
       "      <th>...</th>\n",
       "      <th>MEAN(orders.MEAN(order_products.price))</th>\n",
       "      <th>NUM_UNIQUE(orders.WEEKDAY(order_date))</th>\n",
       "      <th>STD(orders.MEAN(order_products.price))</th>\n",
       "      <th>NUM_UNIQUE(orders.MONTH(order_date))</th>\n",
       "      <th>NUM_UNIQUE(orders.YEAR(order_date))</th>\n",
       "      <th>MODE(orders.YEAR(order_date))</th>\n",
       "      <th>label</th>\n",
       "      <th>total</th>\n",
       "      <th>pred</th>\n",
       "      <th>target</th>\n",
       "    </tr>\n",
       "  </thead>\n",
       "  <tbody>\n",
       "    <tr>\n",
       "      <th>0</th>\n",
       "      <td>12363</td>\n",
       "      <td>2011-08-01</td>\n",
       "      <td>Unspecified</td>\n",
       "      <td>282</td>\n",
       "      <td>7.95</td>\n",
       "      <td>2.281250</td>\n",
       "      <td>8.781194</td>\n",
       "      <td>36.50</td>\n",
       "      <td>16</td>\n",
       "      <td>16</td>\n",
       "      <td>...</td>\n",
       "      <td>2.281250</td>\n",
       "      <td>1</td>\n",
       "      <td>0.000000</td>\n",
       "      <td>1</td>\n",
       "      <td>1</td>\n",
       "      <td>2011</td>\n",
       "      <td>True</td>\n",
       "      <td>0.00</td>\n",
       "      <td>False</td>\n",
       "      <td>16.67</td>\n",
       "    </tr>\n",
       "    <tr>\n",
       "      <th>1</th>\n",
       "      <td>12461</td>\n",
       "      <td>2011-08-01</td>\n",
       "      <td>Switzerland</td>\n",
       "      <td>282</td>\n",
       "      <td>8.50</td>\n",
       "      <td>3.207647</td>\n",
       "      <td>4.416076</td>\n",
       "      <td>109.06</td>\n",
       "      <td>34</td>\n",
       "      <td>34</td>\n",
       "      <td>...</td>\n",
       "      <td>3.207647</td>\n",
       "      <td>1</td>\n",
       "      <td>0.000000</td>\n",
       "      <td>1</td>\n",
       "      <td>1</td>\n",
       "      <td>2011</td>\n",
       "      <td>True</td>\n",
       "      <td>109.06</td>\n",
       "      <td>True</td>\n",
       "      <td>0.00</td>\n",
       "    </tr>\n",
       "    <tr>\n",
       "      <th>2</th>\n",
       "      <td>12556</td>\n",
       "      <td>2011-08-01</td>\n",
       "      <td>Spain</td>\n",
       "      <td>163</td>\n",
       "      <td>12.50</td>\n",
       "      <td>2.742154</td>\n",
       "      <td>2.518382</td>\n",
       "      <td>178.24</td>\n",
       "      <td>60</td>\n",
       "      <td>65</td>\n",
       "      <td>...</td>\n",
       "      <td>2.742154</td>\n",
       "      <td>1</td>\n",
       "      <td>0.000000</td>\n",
       "      <td>1</td>\n",
       "      <td>1</td>\n",
       "      <td>2011</td>\n",
       "      <td>False</td>\n",
       "      <td>180.74</td>\n",
       "      <td>True</td>\n",
       "      <td>0.00</td>\n",
       "    </tr>\n",
       "    <tr>\n",
       "      <th>3</th>\n",
       "      <td>12635</td>\n",
       "      <td>2011-08-01</td>\n",
       "      <td>Germany</td>\n",
       "      <td>399</td>\n",
       "      <td>18.00</td>\n",
       "      <td>2.278000</td>\n",
       "      <td>3.959088</td>\n",
       "      <td>91.12</td>\n",
       "      <td>40</td>\n",
       "      <td>40</td>\n",
       "      <td>...</td>\n",
       "      <td>2.278000</td>\n",
       "      <td>1</td>\n",
       "      <td>0.000000</td>\n",
       "      <td>1</td>\n",
       "      <td>1</td>\n",
       "      <td>2011</td>\n",
       "      <td>False</td>\n",
       "      <td>91.12</td>\n",
       "      <td>True</td>\n",
       "      <td>0.00</td>\n",
       "    </tr>\n",
       "    <tr>\n",
       "      <th>4</th>\n",
       "      <td>12649</td>\n",
       "      <td>2011-08-01</td>\n",
       "      <td>Germany</td>\n",
       "      <td>192</td>\n",
       "      <td>18.00</td>\n",
       "      <td>2.640526</td>\n",
       "      <td>7.879986</td>\n",
       "      <td>50.17</td>\n",
       "      <td>19</td>\n",
       "      <td>19</td>\n",
       "      <td>...</td>\n",
       "      <td>2.203529</td>\n",
       "      <td>2</td>\n",
       "      <td>0.553529</td>\n",
       "      <td>2</td>\n",
       "      <td>2</td>\n",
       "      <td>2010</td>\n",
       "      <td>True</td>\n",
       "      <td>0.00</td>\n",
       "      <td>False</td>\n",
       "      <td>36.74</td>\n",
       "    </tr>\n",
       "  </tbody>\n",
       "</table>\n",
       "<p>5 rows × 66 columns</p>\n",
       "</div>"
      ],
      "text/plain": [
       "   customer_id       time      country  SUM(order_products.quantity)  \\\n",
       "0        12363 2011-08-01  Unspecified                           282   \n",
       "1        12461 2011-08-01  Switzerland                           282   \n",
       "2        12556 2011-08-01        Spain                           163   \n",
       "3        12635 2011-08-01      Germany                           399   \n",
       "4        12649 2011-08-01      Germany                           192   \n",
       "\n",
       "   MAX(order_products.price)  MEAN(order_products.price)  \\\n",
       "0                       7.95                    2.281250   \n",
       "1                       8.50                    3.207647   \n",
       "2                      12.50                    2.742154   \n",
       "3                      18.00                    2.278000   \n",
       "4                      18.00                    2.640526   \n",
       "\n",
       "   STD(order_products.quantity)  SUM(order_products.price)  \\\n",
       "0                      8.781194                      36.50   \n",
       "1                      4.416076                     109.06   \n",
       "2                      2.518382                     178.24   \n",
       "3                      3.959088                      91.12   \n",
       "4                      7.879986                      50.17   \n",
       "\n",
       "   NUM_UNIQUE(order_products.product_id)  COUNT(order_products)   ...    \\\n",
       "0                                     16                     16   ...     \n",
       "1                                     34                     34   ...     \n",
       "2                                     60                     65   ...     \n",
       "3                                     40                     40   ...     \n",
       "4                                     19                     19   ...     \n",
       "\n",
       "   MEAN(orders.MEAN(order_products.price))  \\\n",
       "0                                 2.281250   \n",
       "1                                 3.207647   \n",
       "2                                 2.742154   \n",
       "3                                 2.278000   \n",
       "4                                 2.203529   \n",
       "\n",
       "   NUM_UNIQUE(orders.WEEKDAY(order_date))  \\\n",
       "0                                       1   \n",
       "1                                       1   \n",
       "2                                       1   \n",
       "3                                       1   \n",
       "4                                       2   \n",
       "\n",
       "   STD(orders.MEAN(order_products.price))  \\\n",
       "0                                0.000000   \n",
       "1                                0.000000   \n",
       "2                                0.000000   \n",
       "3                                0.000000   \n",
       "4                                0.553529   \n",
       "\n",
       "   NUM_UNIQUE(orders.MONTH(order_date))  NUM_UNIQUE(orders.YEAR(order_date))  \\\n",
       "0                                     1                                    1   \n",
       "1                                     1                                    1   \n",
       "2                                     1                                    1   \n",
       "3                                     1                                    1   \n",
       "4                                     2                                    2   \n",
       "\n",
       "   MODE(orders.YEAR(order_date))  label   total   pred  target  \n",
       "0                           2011   True    0.00  False   16.67  \n",
       "1                           2011   True  109.06   True    0.00  \n",
       "2                           2011  False  180.74   True    0.00  \n",
       "3                           2011  False   91.12   True    0.00  \n",
       "4                           2010   True    0.00  False   36.74  \n",
       "\n",
       "[5 rows x 66 columns]"
      ]
     },
     "execution_count": 37,
     "metadata": {},
     "output_type": "execute_result"
    }
   ],
   "source": [
    "df.head()"
   ]
  },
  {
   "cell_type": "code",
   "execution_count": 22,
   "metadata": {},
   "outputs": [],
   "source": [
    "df['pred'] = df['total'] > 50"
   ]
  },
  {
   "cell_type": "code",
   "execution_count": 23,
   "metadata": {},
   "outputs": [
    {
     "data": {
      "text/plain": [
       "0.375487900078064"
      ]
     },
     "execution_count": 23,
     "metadata": {},
     "output_type": "execute_result"
    }
   ],
   "source": [
    "np.mean(df['pred'] == df['label'])"
   ]
  },
  {
   "cell_type": "code",
   "execution_count": 38,
   "metadata": {},
   "outputs": [
    {
     "data": {
      "text/plain": [
       "35.79"
      ]
     },
     "execution_count": 38,
     "metadata": {},
     "output_type": "execute_result"
    }
   ],
   "source": [
    "np.median(abs(df['total'] - df['target']))"
   ]
  },
  {
   "cell_type": "code",
   "execution_count": 40,
   "metadata": {},
   "outputs": [],
   "source": [
    "features = df.drop(columns = ['label', 'total', 'pred', 'target'])\n",
    "guess = df[['label', 'total', 'pred', 'target']]\n",
    "\n",
    "X_train, X_test, y_train, y_test = train_test_split(features, guess)"
   ]
  },
  {
   "cell_type": "code",
   "execution_count": 41,
   "metadata": {},
   "outputs": [],
   "source": [
    "from sklearn.ensemble import ExtraTreesRegressor"
   ]
  },
  {
   "cell_type": "code",
   "execution_count": 42,
   "metadata": {},
   "outputs": [
    {
     "ename": "TypeError",
     "evalue": "float() argument must be a string or a number, not 'Timestamp'",
     "output_type": "error",
     "traceback": [
      "\u001b[0;31m---------------------------------------------------------------------------\u001b[0m",
      "\u001b[0;31mTypeError\u001b[0m                                 Traceback (most recent call last)",
      "\u001b[0;32m<ipython-input-42-9a3369356f4b>\u001b[0m in \u001b[0;36m<module>\u001b[0;34m()\u001b[0m\n\u001b[1;32m      1\u001b[0m \u001b[0mmodel\u001b[0m \u001b[0;34m=\u001b[0m \u001b[0mExtraTreesRegressor\u001b[0m\u001b[0;34m(\u001b[0m\u001b[0;34m)\u001b[0m\u001b[0;34m\u001b[0m\u001b[0m\n\u001b[1;32m      2\u001b[0m \u001b[0;34m\u001b[0m\u001b[0m\n\u001b[0;32m----> 3\u001b[0;31m \u001b[0mmodel\u001b[0m\u001b[0;34m.\u001b[0m\u001b[0mfit\u001b[0m\u001b[0;34m(\u001b[0m\u001b[0mpd\u001b[0m\u001b[0;34m.\u001b[0m\u001b[0mget_dummies\u001b[0m\u001b[0;34m(\u001b[0m\u001b[0mX_train\u001b[0m\u001b[0;34m)\u001b[0m\u001b[0;34m,\u001b[0m \u001b[0my_train\u001b[0m\u001b[0;34m[\u001b[0m\u001b[0;34m'target'\u001b[0m\u001b[0;34m]\u001b[0m\u001b[0;34m)\u001b[0m\u001b[0;34m\u001b[0m\u001b[0m\n\u001b[0m",
      "\u001b[0;32m/anaconda3/lib/python3.6/site-packages/sklearn/ensemble/forest.py\u001b[0m in \u001b[0;36mfit\u001b[0;34m(self, X, y, sample_weight)\u001b[0m\n\u001b[1;32m    245\u001b[0m         \"\"\"\n\u001b[1;32m    246\u001b[0m         \u001b[0;31m# Validate or convert input data\u001b[0m\u001b[0;34m\u001b[0m\u001b[0;34m\u001b[0m\u001b[0m\n\u001b[0;32m--> 247\u001b[0;31m         \u001b[0mX\u001b[0m \u001b[0;34m=\u001b[0m \u001b[0mcheck_array\u001b[0m\u001b[0;34m(\u001b[0m\u001b[0mX\u001b[0m\u001b[0;34m,\u001b[0m \u001b[0maccept_sparse\u001b[0m\u001b[0;34m=\u001b[0m\u001b[0;34m\"csc\"\u001b[0m\u001b[0;34m,\u001b[0m \u001b[0mdtype\u001b[0m\u001b[0;34m=\u001b[0m\u001b[0mDTYPE\u001b[0m\u001b[0;34m)\u001b[0m\u001b[0;34m\u001b[0m\u001b[0m\n\u001b[0m\u001b[1;32m    248\u001b[0m         \u001b[0my\u001b[0m \u001b[0;34m=\u001b[0m \u001b[0mcheck_array\u001b[0m\u001b[0;34m(\u001b[0m\u001b[0my\u001b[0m\u001b[0;34m,\u001b[0m \u001b[0maccept_sparse\u001b[0m\u001b[0;34m=\u001b[0m\u001b[0;34m'csc'\u001b[0m\u001b[0;34m,\u001b[0m \u001b[0mensure_2d\u001b[0m\u001b[0;34m=\u001b[0m\u001b[0;32mFalse\u001b[0m\u001b[0;34m,\u001b[0m \u001b[0mdtype\u001b[0m\u001b[0;34m=\u001b[0m\u001b[0;32mNone\u001b[0m\u001b[0;34m)\u001b[0m\u001b[0;34m\u001b[0m\u001b[0m\n\u001b[1;32m    249\u001b[0m         \u001b[0;32mif\u001b[0m \u001b[0msample_weight\u001b[0m \u001b[0;32mis\u001b[0m \u001b[0;32mnot\u001b[0m \u001b[0;32mNone\u001b[0m\u001b[0;34m:\u001b[0m\u001b[0;34m\u001b[0m\u001b[0m\n",
      "\u001b[0;32m/anaconda3/lib/python3.6/site-packages/sklearn/utils/validation.py\u001b[0m in \u001b[0;36mcheck_array\u001b[0;34m(array, accept_sparse, dtype, order, copy, force_all_finite, ensure_2d, allow_nd, ensure_min_samples, ensure_min_features, warn_on_dtype, estimator)\u001b[0m\n\u001b[1;32m    431\u001b[0m                                       force_all_finite)\n\u001b[1;32m    432\u001b[0m     \u001b[0;32melse\u001b[0m\u001b[0;34m:\u001b[0m\u001b[0;34m\u001b[0m\u001b[0m\n\u001b[0;32m--> 433\u001b[0;31m         \u001b[0marray\u001b[0m \u001b[0;34m=\u001b[0m \u001b[0mnp\u001b[0m\u001b[0;34m.\u001b[0m\u001b[0marray\u001b[0m\u001b[0;34m(\u001b[0m\u001b[0marray\u001b[0m\u001b[0;34m,\u001b[0m \u001b[0mdtype\u001b[0m\u001b[0;34m=\u001b[0m\u001b[0mdtype\u001b[0m\u001b[0;34m,\u001b[0m \u001b[0morder\u001b[0m\u001b[0;34m=\u001b[0m\u001b[0morder\u001b[0m\u001b[0;34m,\u001b[0m \u001b[0mcopy\u001b[0m\u001b[0;34m=\u001b[0m\u001b[0mcopy\u001b[0m\u001b[0;34m)\u001b[0m\u001b[0;34m\u001b[0m\u001b[0m\n\u001b[0m\u001b[1;32m    434\u001b[0m \u001b[0;34m\u001b[0m\u001b[0m\n\u001b[1;32m    435\u001b[0m         \u001b[0;32mif\u001b[0m \u001b[0mensure_2d\u001b[0m\u001b[0;34m:\u001b[0m\u001b[0;34m\u001b[0m\u001b[0m\n",
      "\u001b[0;31mTypeError\u001b[0m: float() argument must be a string or a number, not 'Timestamp'"
     ]
    }
   ],
   "source": [
    "model = ExtraTreesRegressor()\n",
    "\n",
    "model.fit(pd.get_dummies(X_train), y_train['target'])"
   ]
  },
  {
   "cell_type": "code",
   "execution_count": null,
   "metadata": {},
   "outputs": [],
   "source": []
  }
 ],
 "metadata": {
  "kernelspec": {
   "display_name": "Python 3",
   "language": "python",
   "name": "python3"
  },
  "language_info": {
   "codemirror_mode": {
    "name": "ipython",
    "version": 3
   },
   "file_extension": ".py",
   "mimetype": "text/x-python",
   "name": "python",
   "nbconvert_exporter": "python",
   "pygments_lexer": "ipython3",
   "version": "3.6.5"
  }
 },
 "nbformat": 4,
 "nbformat_minor": 2
}
