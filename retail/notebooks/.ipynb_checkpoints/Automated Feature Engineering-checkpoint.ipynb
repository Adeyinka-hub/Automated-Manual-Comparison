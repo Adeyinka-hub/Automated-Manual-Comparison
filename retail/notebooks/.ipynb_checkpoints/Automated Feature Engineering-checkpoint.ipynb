{
 "cells": [
  {
   "cell_type": "markdown",
   "metadata": {},
   "source": [
    "# Automated Feature Engineering\n",
    "\n",
    "In this notebook, we will try our hand at automated feature engineering with the retail entity set. The objective is to predict whether or not a customer will spend more than \\$500 in the next 30 days.\n",
    "\n",
    "## Roadmap \n",
    "\n",
    "1. Format Data into an entityset\n",
    "2. Develop a prediction problem\n",
    "    * Create a dataframe of labels and cutoff times\n",
    "    * Each customer can appear multiple times as a different label\n",
    "3. Run deep feature sythesis on the entity to make features\n",
    "    * Use the cutoff times to make features using valid data for each labels\n",
    "4. Use the features to train a machine learning model\n",
    "5. Tune deep feature synthesis \n",
    "6. Use random search for hyperparamter tuning the model\n",
    "\n",
    "This problem is a great display of featuretools because it is time-based and can be broken down into different tables. Doing this problem by hand is nearly impossible to keep track of all the different cutoff times and valid data."
   ]
  },
  {
   "cell_type": "code",
   "execution_count": 1,
   "metadata": {},
   "outputs": [],
   "source": [
    "import pandas as pd \n",
    "import numpy as np\n",
    "\n",
    "import matplotlib.pyplot as plt\n",
    "import seaborn as sns\n",
    "\n",
    "%matplotlib inline\n",
    "\n",
    "import featuretools as ft"
   ]
  },
  {
   "cell_type": "markdown",
   "metadata": {},
   "source": [
    "### Load in Raw Data\n",
    "\n",
    "The raw data is a collection of purchases from an online retailer collected in 2011. Each row in the original data represents one product that was purchased.\n",
    "We'll load in the data from an s3 bucket, convert the price in Pounds to dollars (based on the exchange rate on May 31, 2011) and create a column representing the total of the purchase. "
   ]
  },
  {
   "cell_type": "code",
   "execution_count": 2,
   "metadata": {},
   "outputs": [
    {
     "data": {
      "text/html": [
       "<div>\n",
       "<style scoped>\n",
       "    .dataframe tbody tr th:only-of-type {\n",
       "        vertical-align: middle;\n",
       "    }\n",
       "\n",
       "    .dataframe tbody tr th {\n",
       "        vertical-align: top;\n",
       "    }\n",
       "\n",
       "    .dataframe thead th {\n",
       "        text-align: right;\n",
       "    }\n",
       "</style>\n",
       "<table border=\"1\" class=\"dataframe\">\n",
       "  <thead>\n",
       "    <tr style=\"text-align: right;\">\n",
       "      <th></th>\n",
       "      <th>order_id</th>\n",
       "      <th>product_id</th>\n",
       "      <th>description</th>\n",
       "      <th>quantity</th>\n",
       "      <th>order_date</th>\n",
       "      <th>price</th>\n",
       "      <th>customer_id</th>\n",
       "      <th>country</th>\n",
       "      <th>total</th>\n",
       "    </tr>\n",
       "  </thead>\n",
       "  <tbody>\n",
       "    <tr>\n",
       "      <th>0</th>\n",
       "      <td>536365</td>\n",
       "      <td>85123A</td>\n",
       "      <td>WHITE HANGING HEART T-LIGHT HOLDER</td>\n",
       "      <td>6</td>\n",
       "      <td>2010-12-01 08:26:00</td>\n",
       "      <td>4.2075</td>\n",
       "      <td>17850.0</td>\n",
       "      <td>United Kingdom</td>\n",
       "      <td>25.245</td>\n",
       "    </tr>\n",
       "    <tr>\n",
       "      <th>1</th>\n",
       "      <td>536365</td>\n",
       "      <td>71053</td>\n",
       "      <td>WHITE METAL LANTERN</td>\n",
       "      <td>6</td>\n",
       "      <td>2010-12-01 08:26:00</td>\n",
       "      <td>5.5935</td>\n",
       "      <td>17850.0</td>\n",
       "      <td>United Kingdom</td>\n",
       "      <td>33.561</td>\n",
       "    </tr>\n",
       "    <tr>\n",
       "      <th>2</th>\n",
       "      <td>536365</td>\n",
       "      <td>84406B</td>\n",
       "      <td>CREAM CUPID HEARTS COAT HANGER</td>\n",
       "      <td>8</td>\n",
       "      <td>2010-12-01 08:26:00</td>\n",
       "      <td>4.5375</td>\n",
       "      <td>17850.0</td>\n",
       "      <td>United Kingdom</td>\n",
       "      <td>36.300</td>\n",
       "    </tr>\n",
       "    <tr>\n",
       "      <th>3</th>\n",
       "      <td>536365</td>\n",
       "      <td>84029G</td>\n",
       "      <td>KNITTED UNION FLAG HOT WATER BOTTLE</td>\n",
       "      <td>6</td>\n",
       "      <td>2010-12-01 08:26:00</td>\n",
       "      <td>5.5935</td>\n",
       "      <td>17850.0</td>\n",
       "      <td>United Kingdom</td>\n",
       "      <td>33.561</td>\n",
       "    </tr>\n",
       "    <tr>\n",
       "      <th>4</th>\n",
       "      <td>536365</td>\n",
       "      <td>84029E</td>\n",
       "      <td>RED WOOLLY HOTTIE WHITE HEART.</td>\n",
       "      <td>6</td>\n",
       "      <td>2010-12-01 08:26:00</td>\n",
       "      <td>5.5935</td>\n",
       "      <td>17850.0</td>\n",
       "      <td>United Kingdom</td>\n",
       "      <td>33.561</td>\n",
       "    </tr>\n",
       "  </tbody>\n",
       "</table>\n",
       "</div>"
      ],
      "text/plain": [
       "  order_id product_id                          description  quantity  \\\n",
       "0   536365     85123A   WHITE HANGING HEART T-LIGHT HOLDER         6   \n",
       "1   536365      71053                  WHITE METAL LANTERN         6   \n",
       "2   536365     84406B       CREAM CUPID HEARTS COAT HANGER         8   \n",
       "3   536365     84029G  KNITTED UNION FLAG HOT WATER BOTTLE         6   \n",
       "4   536365     84029E       RED WOOLLY HOTTIE WHITE HEART.         6   \n",
       "\n",
       "           order_date   price  customer_id         country   total  \n",
       "0 2010-12-01 08:26:00  4.2075      17850.0  United Kingdom  25.245  \n",
       "1 2010-12-01 08:26:00  5.5935      17850.0  United Kingdom  33.561  \n",
       "2 2010-12-01 08:26:00  4.5375      17850.0  United Kingdom  36.300  \n",
       "3 2010-12-01 08:26:00  5.5935      17850.0  United Kingdom  33.561  \n",
       "4 2010-12-01 08:26:00  5.5935      17850.0  United Kingdom  33.561  "
      ]
     },
     "execution_count": 2,
     "metadata": {},
     "output_type": "execute_result"
    }
   ],
   "source": [
    "csv_s3 = \"s3://featurelabs-static/online-retail-logs.csv\"\n",
    "data = pd.read_csv(csv_s3, parse_dates=[\"order_date\"])\n",
    "# Convert to dollars\n",
    "data['price'] = data['price'] * 1.65\n",
    "data['total'] = data['price'] * data['quantity']\n",
    "\n",
    "data.head()"
   ]
  },
  {
   "cell_type": "markdown",
   "metadata": {},
   "source": [
    "There are a few issues we need to address with the data. First, we'll drop the duplicated rows, then we'll drop any rows that contain a `nan`. Finally, we can add a `Boolean` column indicating whether or not an order is a cancellation."
   ]
  },
  {
   "cell_type": "code",
   "execution_count": 3,
   "metadata": {},
   "outputs": [
    {
     "data": {
      "image/png": "[encoded data removed]",
      "text/plain": [
       "<Figure size 432x288 with 1 Axes>"
      ]
     },
     "metadata": {},
     "output_type": "display_data"
    }
   ],
   "source": [
    "# drop the duplicates\n",
    "data = data.drop_duplicates()\n",
    "\n",
    "# drop rows with null customer id\n",
    "data = data.dropna(axis=0)\n",
    "\n",
    "data['cancelled'] = data['order_id'].str.startswith('C')\n",
    "data['cancelled'].value_counts().plot.bar();\n",
    "plt.title('Cancelled Purchases Breakdown');"
   ]
  },
  {
   "cell_type": "markdown",
   "metadata": {},
   "source": [
    "All of the cancelled orders have negative quantities which mean that they cancel out with the corresponding purchase. "
   ]
  },
  {
   "cell_type": "code",
   "execution_count": 4,
   "metadata": {},
   "outputs": [
    {
     "data": {
      "image/png": "[encoded data removed]",
      "text/plain": [
       "<Figure size 432x288 with 1 Axes>"
      ]
     },
     "metadata": {},
     "output_type": "display_data"
    }
   ],
   "source": [
    "sns.violinplot(x = 'cancelled', y = 'total', data = data);\n",
    "plt.title(\"Total Purchase Amount Violin Plot\");"
   ]
  },
  {
   "cell_type": "markdown",
   "metadata": {},
   "source": [
    "Now we can go ahead and create an `EntitySet`. Initially we'll add the entire `data` as an `entity` to the set."
   ]
  },
  {
   "cell_type": "code",
   "execution_count": 5,
   "metadata": {},
   "outputs": [
    {
     "name": "stdout",
     "output_type": "stream",
     "text": [
      "2018-07-26 15:32:04,019 featuretools.entityset - WARNING    index order_product_id not found in dataframe, creating new integer column\n"
     ]
    },
    {
     "data": {
      "text/plain": [
       "Entityset: Online Retail Logs\n",
       "  Entities:\n",
       "    order_products [Rows: 401604, Columns: 11]\n",
       "  Relationships:\n",
       "    No relationships"
      ]
     },
     "execution_count": 5,
     "metadata": {},
     "output_type": "execute_result"
    }
   ],
   "source": [
    "es = ft.EntitySet(id=\"Online Retail Logs\")\n",
    "\n",
    "# Add the entire data table as an entity\n",
    "es.entity_from_dataframe(\"order_products\",\n",
    "                         dataframe=data,\n",
    "                         index=\"order_product_id\",\n",
    "                         time_index = 'order_date',\n",
    "                         variable_types={'description': ft.variable_types.Text})"
   ]
  },
  {
   "cell_type": "markdown",
   "metadata": {},
   "source": [
    "In order to create new tables out of the original table, we can normalize this `entity`. This creates new tables by creating a unique row for every variable that we pass in, such as the customer or the product."
   ]
  },
  {
   "cell_type": "code",
   "execution_count": 6,
   "metadata": {},
   "outputs": [
    {
     "data": {
      "text/html": [
       "<div>\n",
       "<style scoped>\n",
       "    .dataframe tbody tr th:only-of-type {\n",
       "        vertical-align: middle;\n",
       "    }\n",
       "\n",
       "    .dataframe tbody tr th {\n",
       "        vertical-align: top;\n",
       "    }\n",
       "\n",
       "    .dataframe thead th {\n",
       "        text-align: right;\n",
       "    }\n",
       "</style>\n",
       "<table border=\"1\" class=\"dataframe\">\n",
       "  <thead>\n",
       "    <tr style=\"text-align: right;\">\n",
       "      <th></th>\n",
       "      <th>product_id</th>\n",
       "      <th>description</th>\n",
       "      <th>first_order_products_time</th>\n",
       "    </tr>\n",
       "  </thead>\n",
       "  <tbody>\n",
       "    <tr>\n",
       "      <th>21730</th>\n",
       "      <td>21730</td>\n",
       "      <td>GLASS STAR FROSTED T-LIGHT HOLDER</td>\n",
       "      <td>2010-12-01 08:26:00</td>\n",
       "    </tr>\n",
       "    <tr>\n",
       "      <th>22752</th>\n",
       "      <td>22752</td>\n",
       "      <td>SET 7 BABUSHKA NESTING BOXES</td>\n",
       "      <td>2010-12-01 08:26:00</td>\n",
       "    </tr>\n",
       "    <tr>\n",
       "      <th>71053</th>\n",
       "      <td>71053</td>\n",
       "      <td>WHITE METAL LANTERN</td>\n",
       "      <td>2010-12-01 08:26:00</td>\n",
       "    </tr>\n",
       "    <tr>\n",
       "      <th>84029E</th>\n",
       "      <td>84029E</td>\n",
       "      <td>RED WOOLLY HOTTIE WHITE HEART.</td>\n",
       "      <td>2010-12-01 08:26:00</td>\n",
       "    </tr>\n",
       "    <tr>\n",
       "      <th>84029G</th>\n",
       "      <td>84029G</td>\n",
       "      <td>KNITTED UNION FLAG HOT WATER BOTTLE</td>\n",
       "      <td>2010-12-01 08:26:00</td>\n",
       "    </tr>\n",
       "  </tbody>\n",
       "</table>\n",
       "</div>"
      ],
      "text/plain": [
       "       product_id                          description  \\\n",
       "21730       21730    GLASS STAR FROSTED T-LIGHT HOLDER   \n",
       "22752       22752         SET 7 BABUSHKA NESTING BOXES   \n",
       "71053       71053                  WHITE METAL LANTERN   \n",
       "84029E     84029E       RED WOOLLY HOTTIE WHITE HEART.   \n",
       "84029G     84029G  KNITTED UNION FLAG HOT WATER BOTTLE   \n",
       "\n",
       "       first_order_products_time  \n",
       "21730        2010-12-01 08:26:00  \n",
       "22752        2010-12-01 08:26:00  \n",
       "71053        2010-12-01 08:26:00  \n",
       "84029E       2010-12-01 08:26:00  \n",
       "84029G       2010-12-01 08:26:00  "
      ]
     },
     "execution_count": 6,
     "metadata": {},
     "output_type": "execute_result"
    }
   ],
   "source": [
    "# create a new \"products\" entity\n",
    "es.normalize_entity(new_entity_id=\"products\",\n",
    "                    base_entity_id=\"order_products\",\n",
    "                    index=\"product_id\",\n",
    "                    additional_variables=[\"description\"])\n",
    "\n",
    "es['products'].df.head()"
   ]
  },
  {
   "cell_type": "markdown",
   "metadata": {},
   "source": [
    "What this has done is created a new table where every product has one row (it is normalized by the product). The `first_order_products_time` represents the first time the `product` appears in the data. We can use this table to create new features and this table is a parent of the `order_products` table with the linknage through the `product_id`.\n",
    "\n",
    "We'll repeat the process to create tables for both the `customers` and the `orders`. Using `normalize_entity` automatically creates the relationships and time index so we don't have to do that ourselves."
   ]
  },
  {
   "cell_type": "code",
   "execution_count": 7,
   "metadata": {},
   "outputs": [
    {
     "data": {
      "text/plain": [
       "Entityset: Online Retail Logs\n",
       "  Entities:\n",
       "    order_products [Rows: 401604, Columns: 7]\n",
       "    products [Rows: 3684, Columns: 3]\n",
       "    orders [Rows: 22190, Columns: 5]\n",
       "    customers [Rows: 4372, Columns: 2]\n",
       "  Relationships:\n",
       "    order_products.product_id -> products.product_id\n",
       "    order_products.order_id -> orders.order_id\n",
       "    orders.customer_id -> customers.customer_id"
      ]
     },
     "execution_count": 7,
     "metadata": {},
     "output_type": "execute_result"
    }
   ],
   "source": [
    "# create a new \"orders\" entity\n",
    "es.normalize_entity(new_entity_id=\"orders\",\n",
    "                    base_entity_id=\"order_products\",\n",
    "                    index=\"order_id\",\n",
    "                    additional_variables=[\n",
    "                        \"customer_id\", \"country\", 'cancelled'])\n",
    "\n",
    "# create a new \"customers\" entity based on the orders entity\n",
    "es.normalize_entity(new_entity_id=\"customers\",\n",
    "                    base_entity_id=\"orders\",\n",
    "                    index=\"customer_id\")\n",
    "\n",
    "es"
   ]
  },
  {
   "cell_type": "markdown",
   "metadata": {},
   "source": [
    "The next step is to define the prediction problem.\n",
    "\n",
    "# Prediction Problem\n",
    "\n",
    "The goal of machine learning is to predict some quantity or a label. In this case, we will make it our aim to predict whether or not a customer will spend more than \\$500 in the next 30 days. However, instead of picking one point in the data and making predictions for the next 30 days, we can select multiple points in the data and ask will the customer spend \\$500 over the next month. We therefore get multiple labelled training examples for each customer.\n",
    "\n",
    "The function below takes in a start date and an end date (which we can set to 30 days apart) and generates a dataframe of the labels, which is the amount the customter spent in the period. For customers who appear in the data prior to the start date but then do have a purchase in between the start and end date, we want to set their total to 0."
   ]
  },
  {
   "cell_type": "code",
   "execution_count": 49,
   "metadata": {},
   "outputs": [],
   "source": [
    "def make_retail_cutoffs_total(start_date, end_date, threshold = 500):\n",
    "    \n",
    "    # Find customers who exist before start date\n",
    "    customer_pool = data[data['order_date'] < start_date]['customer_id'].unique()\n",
    "    tmp = pd.DataFrame({'customer_id': customer_pool})\n",
    "\n",
    "    # For customers in the customer pool, find their sum between the start and end date\n",
    "    totals = data[data['customer_id'].isin(customer_pool) & \n",
    "        (data['order_date'] > start_date) & \n",
    "        (data['order_date']<end_date)\n",
    "    ].groupby('customer_id')['total'].sum().reset_index()\n",
    "    \n",
    "    # Merge with all the customer ids to record all customers who existed before start date\n",
    "    totals = totals.merge(tmp, on = 'customer_id', how = 'right')\n",
    "\n",
    "    # Set the total for any customer who did not have a purchase in the timeframe equal to 0\n",
    "    totals['total'] = totals['total'].fillna(0)\n",
    "    \n",
    "    # Label is based on the threshold\n",
    "    totals['label'] = (totals['total'] > threshold).astype(int)\n",
    "        \n",
    "    # The cutoff time is the start date\n",
    "    totals['cutoff_time'] = pd.to_datetime(start_date)\n",
    "    totals = totals[['customer_id', 'cutoff_time', 'total', 'label']]\n",
    "    \n",
    "    return totals"
   ]
  },
  {
   "cell_type": "code",
   "execution_count": 50,
   "metadata": {},
   "outputs": [
    {
     "data": {
      "text/html": [
       "<div>\n",
       "<style scoped>\n",
       "    .dataframe tbody tr th:only-of-type {\n",
       "        vertical-align: middle;\n",
       "    }\n",
       "\n",
       "    .dataframe tbody tr th {\n",
       "        vertical-align: top;\n",
       "    }\n",
       "\n",
       "    .dataframe thead th {\n",
       "        text-align: right;\n",
       "    }\n",
       "</style>\n",
       "<table border=\"1\" class=\"dataframe\">\n",
       "  <thead>\n",
       "    <tr style=\"text-align: right;\">\n",
       "      <th></th>\n",
       "      <th>customer_id</th>\n",
       "      <th>cutoff_time</th>\n",
       "      <th>total</th>\n",
       "      <th>label</th>\n",
       "    </tr>\n",
       "  </thead>\n",
       "  <tbody>\n",
       "    <tr>\n",
       "      <th>0</th>\n",
       "      <td>12372.0</td>\n",
       "      <td>2011-05-01</td>\n",
       "      <td>850.9050</td>\n",
       "      <td>1</td>\n",
       "    </tr>\n",
       "    <tr>\n",
       "      <th>1</th>\n",
       "      <td>12395.0</td>\n",
       "      <td>2011-05-01</td>\n",
       "      <td>547.4535</td>\n",
       "      <td>1</td>\n",
       "    </tr>\n",
       "    <tr>\n",
       "      <th>2</th>\n",
       "      <td>12399.0</td>\n",
       "      <td>2011-05-01</td>\n",
       "      <td>793.4850</td>\n",
       "      <td>1</td>\n",
       "    </tr>\n",
       "    <tr>\n",
       "      <th>3</th>\n",
       "      <td>12414.0</td>\n",
       "      <td>2011-05-01</td>\n",
       "      <td>273.6525</td>\n",
       "      <td>0</td>\n",
       "    </tr>\n",
       "    <tr>\n",
       "      <th>4</th>\n",
       "      <td>12415.0</td>\n",
       "      <td>2011-05-01</td>\n",
       "      <td>20940.4140</td>\n",
       "      <td>1</td>\n",
       "    </tr>\n",
       "  </tbody>\n",
       "</table>\n",
       "</div>"
      ],
      "text/plain": [
       "   customer_id cutoff_time       total  label\n",
       "0      12372.0  2011-05-01    850.9050      1\n",
       "1      12395.0  2011-05-01    547.4535      1\n",
       "2      12399.0  2011-05-01    793.4850      1\n",
       "3      12414.0  2011-05-01    273.6525      0\n",
       "4      12415.0  2011-05-01  20940.4140      1"
      ]
     },
     "execution_count": 50,
     "metadata": {},
     "output_type": "execute_result"
    }
   ],
   "source": [
    "may_spending = make_retail_cutoffs_total(pd.datetime(2011, 5, 1), pd.datetime(2011, 6, 1))\n",
    "may_spending.head()"
   ]
  },
  {
   "cell_type": "markdown",
   "metadata": {},
   "source": [
    "Because we set the total to zero for any customers who did not have a purchase, the `total` comes out to be very imbalanced. However, we cannot only count the customers who did have a purchase in the time frame because that would be essentially cheating with the data!"
   ]
  },
  {
   "cell_type": "code",
   "execution_count": 51,
   "metadata": {},
   "outputs": [
    {
     "data": {
      "image/png": "[encoded data removed]",
      "text/plain": [
       "<Figure size 432x288 with 1 Axes>"
      ]
     },
     "metadata": {},
     "output_type": "display_data"
    }
   ],
   "source": [
    "sns.violinplot(may_spending['total']);"
   ]
  },
  {
   "cell_type": "code",
   "execution_count": 52,
   "metadata": {},
   "outputs": [
    {
     "data": {
      "image/png": "[encoded data removed]",
      "text/plain": [
       "<Figure size 432x288 with 1 Axes>"
      ]
     },
     "metadata": {},
     "output_type": "display_data"
    }
   ],
   "source": [
    "may_spending['label'].value_counts().plot.bar();"
   ]
  },
  {
   "cell_type": "markdown",
   "metadata": {},
   "source": [
    "We also have negative spending indicating customers who only had a cancelled order in the month (or at least more cancellations than purchases). These aren't necessarily an issue because we will frame this as a binary classification problem. We can now calculate the labels for 7 more months using the threshold of \\$500. At the end we will concatenate all of these into one label dataframe."
   ]
  },
  {
   "cell_type": "code",
   "execution_count": 53,
   "metadata": {},
   "outputs": [],
   "source": [
    "june_spending = make_retail_cutoffs_total('2011-06-01', '2011-07-01', 500)\n",
    "july_spending = make_retail_cutoffs_total('2011-07-01', '2011-08-01', 500)\n",
    "august_spending = make_retail_cutoffs_total('2011-08-01', '2011-09-01', 500)\n",
    "september_spending = make_retail_cutoffs_total('2011-09-01', '2011-10-01', 500)\n",
    "october_spending = make_retail_cutoffs_total('2011-10-01', '2011-11-01', 500)\n",
    "november_spending = make_retail_cutoffs_total('2011-11-01', '2011-12-01', 500)\n",
    "december_spending = make_retail_cutoffs_total('2011-12-01', '2012-01-01', 500)"
   ]
  },
  {
   "cell_type": "code",
   "execution_count": 54,
   "metadata": {},
   "outputs": [
    {
     "data": {
      "text/html": [
       "<div>\n",
       "<style scoped>\n",
       "    .dataframe tbody tr th:only-of-type {\n",
       "        vertical-align: middle;\n",
       "    }\n",
       "\n",
       "    .dataframe tbody tr th {\n",
       "        vertical-align: top;\n",
       "    }\n",
       "\n",
       "    .dataframe thead th {\n",
       "        text-align: right;\n",
       "    }\n",
       "</style>\n",
       "<table border=\"1\" class=\"dataframe\">\n",
       "  <thead>\n",
       "    <tr style=\"text-align: right;\">\n",
       "      <th></th>\n",
       "      <th>customer_id</th>\n",
       "      <th>total</th>\n",
       "      <th>label</th>\n",
       "    </tr>\n",
       "  </thead>\n",
       "  <tbody>\n",
       "    <tr>\n",
       "      <th>count</th>\n",
       "      <td>26809.000000</td>\n",
       "      <td>26809.000000</td>\n",
       "      <td>26809.000000</td>\n",
       "    </tr>\n",
       "    <tr>\n",
       "      <th>mean</th>\n",
       "      <td>15292.455929</td>\n",
       "      <td>307.491736</td>\n",
       "      <td>0.160879</td>\n",
       "    </tr>\n",
       "    <tr>\n",
       "      <th>std</th>\n",
       "      <td>1721.282564</td>\n",
       "      <td>1860.833564</td>\n",
       "      <td>0.367426</td>\n",
       "    </tr>\n",
       "    <tr>\n",
       "      <th>min</th>\n",
       "      <td>12346.000000</td>\n",
       "      <td>-5916.636000</td>\n",
       "      <td>0.000000</td>\n",
       "    </tr>\n",
       "    <tr>\n",
       "      <th>25%</th>\n",
       "      <td>13807.000000</td>\n",
       "      <td>0.000000</td>\n",
       "      <td>0.000000</td>\n",
       "    </tr>\n",
       "    <tr>\n",
       "      <th>50%</th>\n",
       "      <td>15265.000000</td>\n",
       "      <td>0.000000</td>\n",
       "      <td>0.000000</td>\n",
       "    </tr>\n",
       "    <tr>\n",
       "      <th>75%</th>\n",
       "      <td>16771.000000</td>\n",
       "      <td>129.624000</td>\n",
       "      <td>0.000000</td>\n",
       "    </tr>\n",
       "    <tr>\n",
       "      <th>max</th>\n",
       "      <td>18287.000000</td>\n",
       "      <td>115906.725000</td>\n",
       "      <td>1.000000</td>\n",
       "    </tr>\n",
       "  </tbody>\n",
       "</table>\n",
       "</div>"
      ],
      "text/plain": [
       "        customer_id          total         label\n",
       "count  26809.000000   26809.000000  26809.000000\n",
       "mean   15292.455929     307.491736      0.160879\n",
       "std     1721.282564    1860.833564      0.367426\n",
       "min    12346.000000   -5916.636000      0.000000\n",
       "25%    13807.000000       0.000000      0.000000\n",
       "50%    15265.000000       0.000000      0.000000\n",
       "75%    16771.000000     129.624000      0.000000\n",
       "max    18287.000000  115906.725000      1.000000"
      ]
     },
     "execution_count": 54,
     "metadata": {},
     "output_type": "execute_result"
    }
   ],
   "source": [
    "labels = pd.concat([may_spending, june_spending, july_spending, august_spending, \n",
    "                    september_spending, october_spending, november_spending, december_spending], axis = 0)\n",
    "labels.describe()"
   ]
  },
  {
   "cell_type": "markdown",
   "metadata": {},
   "source": [
    "That gives us over 25,000 labels to work with. Each label represents one customer-month with ~16% of the labels as True. We can plot the total spending by month. "
   ]
  },
  {
   "cell_type": "code",
   "execution_count": 55,
   "metadata": {},
   "outputs": [
    {
     "data": {
      "image/png": "[encoded data removed]",
      "text/plain": [
       "<Figure size 432x288 with 1 Axes>"
      ]
     },
     "metadata": {},
     "output_type": "display_data"
    }
   ],
   "source": [
    "labels['month'] = labels['cutoff_time'].dt.month\n",
    "sns.boxplot(x = 'month', y = 'total', data = labels);\n",
    "plt.title('Customer Spending by Month');"
   ]
  },
  {
   "cell_type": "code",
   "execution_count": 105,
   "metadata": {},
   "outputs": [
    {
     "data": {
      "text/plain": [
       "15215.0    8\n",
       "16951.0    8\n",
       "17980.0    8\n",
       "16942.0    8\n",
       "14258.0    8\n",
       "Name: customer_id, dtype: int64"
      ]
     },
     "execution_count": 105,
     "metadata": {},
     "output_type": "execute_result"
    }
   ],
   "source": [
    "labels['customer_id'].value_counts().sort_values(ascending = False).head()"
   ]
  },
  {
   "cell_type": "code",
   "execution_count": 101,
   "metadata": {},
   "outputs": [
    {
     "data": {
      "text/html": [
       "<div>\n",
       "<style scoped>\n",
       "    .dataframe tbody tr th:only-of-type {\n",
       "        vertical-align: middle;\n",
       "    }\n",
       "\n",
       "    .dataframe tbody tr th {\n",
       "        vertical-align: top;\n",
       "    }\n",
       "\n",
       "    .dataframe thead th {\n",
       "        text-align: right;\n",
       "    }\n",
       "</style>\n",
       "<table border=\"1\" class=\"dataframe\">\n",
       "  <thead>\n",
       "    <tr style=\"text-align: right;\">\n",
       "      <th></th>\n",
       "      <th>customer_id</th>\n",
       "      <th>cutoff_time</th>\n",
       "      <th>total</th>\n",
       "      <th>label</th>\n",
       "      <th>month</th>\n",
       "    </tr>\n",
       "  </thead>\n",
       "  <tbody>\n",
       "    <tr>\n",
       "      <th>0</th>\n",
       "      <td>12372.0</td>\n",
       "      <td>2011-05-01</td>\n",
       "      <td>850.9050</td>\n",
       "      <td>1</td>\n",
       "      <td>5</td>\n",
       "    </tr>\n",
       "    <tr>\n",
       "      <th>1</th>\n",
       "      <td>12395.0</td>\n",
       "      <td>2011-05-01</td>\n",
       "      <td>547.4535</td>\n",
       "      <td>1</td>\n",
       "      <td>5</td>\n",
       "    </tr>\n",
       "    <tr>\n",
       "      <th>2</th>\n",
       "      <td>12399.0</td>\n",
       "      <td>2011-05-01</td>\n",
       "      <td>793.4850</td>\n",
       "      <td>1</td>\n",
       "      <td>5</td>\n",
       "    </tr>\n",
       "    <tr>\n",
       "      <th>3</th>\n",
       "      <td>12414.0</td>\n",
       "      <td>2011-05-01</td>\n",
       "      <td>273.6525</td>\n",
       "      <td>0</td>\n",
       "      <td>5</td>\n",
       "    </tr>\n",
       "    <tr>\n",
       "      <th>4</th>\n",
       "      <td>12415.0</td>\n",
       "      <td>2011-05-01</td>\n",
       "      <td>20940.4140</td>\n",
       "      <td>1</td>\n",
       "      <td>5</td>\n",
       "    </tr>\n",
       "  </tbody>\n",
       "</table>\n",
       "</div>"
      ],
      "text/plain": [
       "   customer_id cutoff_time       total  label  month\n",
       "0      12372.0  2011-05-01    850.9050      1      5\n",
       "1      12395.0  2011-05-01    547.4535      1      5\n",
       "2      12399.0  2011-05-01    793.4850      1      5\n",
       "3      12414.0  2011-05-01    273.6525      0      5\n",
       "4      12415.0  2011-05-01  20940.4140      1      5"
      ]
     },
     "execution_count": 101,
     "metadata": {},
     "output_type": "execute_result"
    }
   ],
   "source": [
    "labels.head()"
   ]
  },
  {
   "cell_type": "markdown",
   "metadata": {},
   "source": [
    "# Deep Feature Synthesis \n",
    "\n",
    "Using the labels and the entityset, we can now directly use deep feature synthesis. The following function will generate 100s of features for our problem, with one row for each customer and the columns holding the features."
   ]
  },
  {
   "cell_type": "code",
   "execution_count": 59,
   "metadata": {},
   "outputs": [
    {
     "name": "stdout",
     "output_type": "stream",
     "text": [
      "Built 143 features\n",
      "EntitySet scattered to workers in 2.011 seconds\n",
      "Elapsed: 11:45 | Remaining: 00:00 | Progress: 100%|██████████| Calculated: 1/1 chunks\n"
     ]
    },
    {
     "data": {
      "text/html": [
       "<div>\n",
       "<style scoped>\n",
       "    .dataframe tbody tr th:only-of-type {\n",
       "        vertical-align: middle;\n",
       "    }\n",
       "\n",
       "    .dataframe tbody tr th {\n",
       "        vertical-align: top;\n",
       "    }\n",
       "\n",
       "    .dataframe thead th {\n",
       "        text-align: right;\n",
       "    }\n",
       "</style>\n",
       "<table border=\"1\" class=\"dataframe\">\n",
       "  <thead>\n",
       "    <tr style=\"text-align: right;\">\n",
       "      <th></th>\n",
       "      <th>COUNT(orders)</th>\n",
       "      <th>PERCENT_TRUE(orders.cancelled)</th>\n",
       "      <th>NUM_UNIQUE(orders.country)</th>\n",
       "      <th>MODE(orders.country)</th>\n",
       "      <th>SUM(order_products.quantity)</th>\n",
       "      <th>SUM(order_products.price)</th>\n",
       "      <th>SUM(order_products.total)</th>\n",
       "      <th>STD(order_products.quantity)</th>\n",
       "      <th>STD(order_products.price)</th>\n",
       "      <th>STD(order_products.total)</th>\n",
       "      <th>...</th>\n",
       "      <th>NUM_UNIQUE(orders.MONTH(first_order_products_time))</th>\n",
       "      <th>NUM_UNIQUE(orders.WEEKDAY(first_order_products_time))</th>\n",
       "      <th>MODE(orders.MODE(order_products.product_id))</th>\n",
       "      <th>MODE(orders.DAY(first_order_products_time))</th>\n",
       "      <th>MODE(orders.YEAR(first_order_products_time))</th>\n",
       "      <th>MODE(orders.MONTH(first_order_products_time))</th>\n",
       "      <th>MODE(orders.WEEKDAY(first_order_products_time))</th>\n",
       "      <th>total</th>\n",
       "      <th>label</th>\n",
       "      <th>month</th>\n",
       "    </tr>\n",
       "    <tr>\n",
       "      <th>customer_id</th>\n",
       "      <th></th>\n",
       "      <th></th>\n",
       "      <th></th>\n",
       "      <th></th>\n",
       "      <th></th>\n",
       "      <th></th>\n",
       "      <th></th>\n",
       "      <th></th>\n",
       "      <th></th>\n",
       "      <th></th>\n",
       "      <th></th>\n",
       "      <th></th>\n",
       "      <th></th>\n",
       "      <th></th>\n",
       "      <th></th>\n",
       "      <th></th>\n",
       "      <th></th>\n",
       "      <th></th>\n",
       "      <th></th>\n",
       "      <th></th>\n",
       "      <th></th>\n",
       "    </tr>\n",
       "  </thead>\n",
       "  <tbody>\n",
       "    <tr>\n",
       "      <th>12346.0</th>\n",
       "      <td>2</td>\n",
       "      <td>0.500</td>\n",
       "      <td>1</td>\n",
       "      <td>United Kingdom</td>\n",
       "      <td>0</td>\n",
       "      <td>3.4320</td>\n",
       "      <td>0.0000</td>\n",
       "      <td>74215.000000</td>\n",
       "      <td>0.000000</td>\n",
       "      <td>127352.940000</td>\n",
       "      <td>...</td>\n",
       "      <td>1</td>\n",
       "      <td>1</td>\n",
       "      <td>23166</td>\n",
       "      <td>18</td>\n",
       "      <td>2011</td>\n",
       "      <td>1</td>\n",
       "      <td>1</td>\n",
       "      <td>0.0</td>\n",
       "      <td>0</td>\n",
       "      <td>5</td>\n",
       "    </tr>\n",
       "    <tr>\n",
       "      <th>12347.0</th>\n",
       "      <td>3</td>\n",
       "      <td>0.000</td>\n",
       "      <td>1</td>\n",
       "      <td>Iceland</td>\n",
       "      <td>1117</td>\n",
       "      <td>371.3325</td>\n",
       "      <td>3008.6595</td>\n",
       "      <td>25.986617</td>\n",
       "      <td>3.552460</td>\n",
       "      <td>44.460045</td>\n",
       "      <td>...</td>\n",
       "      <td>3</td>\n",
       "      <td>3</td>\n",
       "      <td>16008</td>\n",
       "      <td>7</td>\n",
       "      <td>2011</td>\n",
       "      <td>1</td>\n",
       "      <td>1</td>\n",
       "      <td>0.0</td>\n",
       "      <td>0</td>\n",
       "      <td>5</td>\n",
       "    </tr>\n",
       "    <tr>\n",
       "      <th>12348.0</th>\n",
       "      <td>3</td>\n",
       "      <td>0.000</td>\n",
       "      <td>1</td>\n",
       "      <td>Finland</td>\n",
       "      <td>2124</td>\n",
       "      <td>224.7465</td>\n",
       "      <td>2453.9460</td>\n",
       "      <td>50.127491</td>\n",
       "      <td>20.091409</td>\n",
       "      <td>74.648848</td>\n",
       "      <td>...</td>\n",
       "      <td>3</td>\n",
       "      <td>2</td>\n",
       "      <td>21213</td>\n",
       "      <td>5</td>\n",
       "      <td>2011</td>\n",
       "      <td>1</td>\n",
       "      <td>1</td>\n",
       "      <td>0.0</td>\n",
       "      <td>0</td>\n",
       "      <td>5</td>\n",
       "    </tr>\n",
       "    <tr>\n",
       "      <th>12350.0</th>\n",
       "      <td>1</td>\n",
       "      <td>0.000</td>\n",
       "      <td>1</td>\n",
       "      <td>Norway</td>\n",
       "      <td>197</td>\n",
       "      <td>107.7450</td>\n",
       "      <td>551.7600</td>\n",
       "      <td>4.215641</td>\n",
       "      <td>14.942464</td>\n",
       "      <td>11.646210</td>\n",
       "      <td>...</td>\n",
       "      <td>1</td>\n",
       "      <td>1</td>\n",
       "      <td>20615</td>\n",
       "      <td>2</td>\n",
       "      <td>2011</td>\n",
       "      <td>2</td>\n",
       "      <td>2</td>\n",
       "      <td>0.0</td>\n",
       "      <td>0</td>\n",
       "      <td>5</td>\n",
       "    </tr>\n",
       "    <tr>\n",
       "      <th>12352.0</th>\n",
       "      <td>8</td>\n",
       "      <td>0.375</td>\n",
       "      <td>1</td>\n",
       "      <td>Norway</td>\n",
       "      <td>188</td>\n",
       "      <td>3135.1155</td>\n",
       "      <td>991.9470</td>\n",
       "      <td>6.960703</td>\n",
       "      <td>157.369454</td>\n",
       "      <td>171.627342</td>\n",
       "      <td>...</td>\n",
       "      <td>2</td>\n",
       "      <td>3</td>\n",
       "      <td>21914</td>\n",
       "      <td>1</td>\n",
       "      <td>2011</td>\n",
       "      <td>3</td>\n",
       "      <td>1</td>\n",
       "      <td>0.0</td>\n",
       "      <td>0</td>\n",
       "      <td>5</td>\n",
       "    </tr>\n",
       "  </tbody>\n",
       "</table>\n",
       "<p>5 rows × 146 columns</p>\n",
       "</div>"
      ],
      "text/plain": [
       "             COUNT(orders)  PERCENT_TRUE(orders.cancelled)  \\\n",
       "customer_id                                                  \n",
       "12346.0                  2                           0.500   \n",
       "12347.0                  3                           0.000   \n",
       "12348.0                  3                           0.000   \n",
       "12350.0                  1                           0.000   \n",
       "12352.0                  8                           0.375   \n",
       "\n",
       "             NUM_UNIQUE(orders.country) MODE(orders.country)  \\\n",
       "customer_id                                                    \n",
       "12346.0                               1       United Kingdom   \n",
       "12347.0                               1              Iceland   \n",
       "12348.0                               1              Finland   \n",
       "12350.0                               1               Norway   \n",
       "12352.0                               1               Norway   \n",
       "\n",
       "             SUM(order_products.quantity)  SUM(order_products.price)  \\\n",
       "customer_id                                                            \n",
       "12346.0                                 0                     3.4320   \n",
       "12347.0                              1117                   371.3325   \n",
       "12348.0                              2124                   224.7465   \n",
       "12350.0                               197                   107.7450   \n",
       "12352.0                               188                  3135.1155   \n",
       "\n",
       "             SUM(order_products.total)  STD(order_products.quantity)  \\\n",
       "customer_id                                                            \n",
       "12346.0                         0.0000                  74215.000000   \n",
       "12347.0                      3008.6595                     25.986617   \n",
       "12348.0                      2453.9460                     50.127491   \n",
       "12350.0                       551.7600                      4.215641   \n",
       "12352.0                       991.9470                      6.960703   \n",
       "\n",
       "             STD(order_products.price)  STD(order_products.total)  ...    \\\n",
       "customer_id                                                        ...     \n",
       "12346.0                       0.000000              127352.940000  ...     \n",
       "12347.0                       3.552460                  44.460045  ...     \n",
       "12348.0                      20.091409                  74.648848  ...     \n",
       "12350.0                      14.942464                  11.646210  ...     \n",
       "12352.0                     157.369454                 171.627342  ...     \n",
       "\n",
       "             NUM_UNIQUE(orders.MONTH(first_order_products_time))  \\\n",
       "customer_id                                                        \n",
       "12346.0                                                      1     \n",
       "12347.0                                                      3     \n",
       "12348.0                                                      3     \n",
       "12350.0                                                      1     \n",
       "12352.0                                                      2     \n",
       "\n",
       "             NUM_UNIQUE(orders.WEEKDAY(first_order_products_time))  \\\n",
       "customer_id                                                          \n",
       "12346.0                                                      1       \n",
       "12347.0                                                      3       \n",
       "12348.0                                                      2       \n",
       "12350.0                                                      1       \n",
       "12352.0                                                      3       \n",
       "\n",
       "             MODE(orders.MODE(order_products.product_id))  \\\n",
       "customer_id                                                 \n",
       "12346.0                                             23166   \n",
       "12347.0                                             16008   \n",
       "12348.0                                             21213   \n",
       "12350.0                                             20615   \n",
       "12352.0                                             21914   \n",
       "\n",
       "             MODE(orders.DAY(first_order_products_time))  \\\n",
       "customer_id                                                \n",
       "12346.0                                               18   \n",
       "12347.0                                                7   \n",
       "12348.0                                                5   \n",
       "12350.0                                                2   \n",
       "12352.0                                                1   \n",
       "\n",
       "             MODE(orders.YEAR(first_order_products_time))  \\\n",
       "customer_id                                                 \n",
       "12346.0                                              2011   \n",
       "12347.0                                              2011   \n",
       "12348.0                                              2011   \n",
       "12350.0                                              2011   \n",
       "12352.0                                              2011   \n",
       "\n",
       "             MODE(orders.MONTH(first_order_products_time))  \\\n",
       "customer_id                                                  \n",
       "12346.0                                                  1   \n",
       "12347.0                                                  1   \n",
       "12348.0                                                  1   \n",
       "12350.0                                                  2   \n",
       "12352.0                                                  3   \n",
       "\n",
       "             MODE(orders.WEEKDAY(first_order_products_time))  total  label  \\\n",
       "customer_id                                                                  \n",
       "12346.0                                                    1    0.0      0   \n",
       "12347.0                                                    1    0.0      0   \n",
       "12348.0                                                    1    0.0      0   \n",
       "12350.0                                                    2    0.0      0   \n",
       "12352.0                                                    1    0.0      0   \n",
       "\n",
       "             month  \n",
       "customer_id         \n",
       "12346.0          5  \n",
       "12347.0          5  \n",
       "12348.0          5  \n",
       "12350.0          5  \n",
       "12352.0          5  \n",
       "\n",
       "[5 rows x 146 columns]"
      ]
     },
     "execution_count": 59,
     "metadata": {},
     "output_type": "execute_result"
    }
   ],
   "source": [
    "feature_matrix, feature_names = ft.dfs(entityset=es, target_entity='customers',\n",
    "                                       cutoff_time = labels, verbose = 2,\n",
    "                                       chunk_size = len(labels), n_jobs = -1)\n",
    "\n",
    "feature_matrix.head()"
   ]
  },
  {
   "cell_type": "code",
   "execution_count": 90,
   "metadata": {},
   "outputs": [
    {
     "data": {
      "text/plain": [
       "(26809, 143)"
      ]
     },
     "execution_count": 90,
     "metadata": {},
     "output_type": "execute_result"
    }
   ],
   "source": [
    "feature_matrix = feature_matrix.drop(columns = ['total', 'label', 'month'])\n",
    "feature_matrix.shape"
   ]
  },
  {
   "cell_type": "markdown",
   "metadata": {},
   "source": [
    "## Preliminary modeling\n",
    "\n",
    "At this point the matrix is ready to for modeling. We will want to one-hot encode the columns first and then we can get to machine learning. We'll make sure to split the data into a training and testing set first. \n",
    "\n",
    "## Metrics\n",
    "\n",
    "The primary metric will be f1 score. "
   ]
  },
  {
   "cell_type": "code",
   "execution_count": 91,
   "metadata": {},
   "outputs": [],
   "source": [
    "from sklearn.metrics import f1_score, roc_auc_score\n",
    "from sklearn.model_selection import train_test_split, cross_val_score\n",
    "from sklearn.ensemble import RandomForestClassifier"
   ]
  },
  {
   "cell_type": "code",
   "execution_count": 92,
   "metadata": {},
   "outputs": [],
   "source": [
    "feature_matrix_enc = pd.get_dummies(feature_matrix)\n",
    "X_train, X_test, y_train, y_test = train_test_split(feature_matrix_enc, labels['label'], test_size = 0.3)"
   ]
  },
  {
   "cell_type": "code",
   "execution_count": 93,
   "metadata": {},
   "outputs": [
    {
     "name": "stderr",
     "output_type": "stream",
     "text": [
      "[Parallel(n_jobs=-1)]: Done  34 tasks      | elapsed:    2.4s\n",
      "[Parallel(n_jobs=-1)]: Done 184 tasks      | elapsed:   11.2s\n",
      "[Parallel(n_jobs=-1)]: Done 434 tasks      | elapsed:   28.2s\n",
      "[Parallel(n_jobs=-1)]: Done 784 tasks      | elapsed:   52.0s\n",
      "[Parallel(n_jobs=-1)]: Done 1000 out of 1000 | elapsed:  1.1min finished\n"
     ]
    },
    {
     "data": {
      "text/plain": [
       "RandomForestClassifier(bootstrap=True, class_weight=None, criterion='gini',\n",
       "            max_depth=None, max_features='auto', max_leaf_nodes=None,\n",
       "            min_impurity_decrease=0.0, min_impurity_split=None,\n",
       "            min_samples_leaf=1, min_samples_split=2,\n",
       "            min_weight_fraction_leaf=0.0, n_estimators=1000, n_jobs=-1,\n",
       "            oob_score=False, random_state=50, verbose=1, warm_start=False)"
      ]
     },
     "execution_count": 93,
     "metadata": {},
     "output_type": "execute_result"
    }
   ],
   "source": [
    "model = RandomForestClassifier(n_estimators = 1000, random_state = 50,\n",
    "                               n_jobs = -1, verbose = 1)\n",
    "model.fit(X_train, y_train)"
   ]
  },
  {
   "cell_type": "code",
   "execution_count": 94,
   "metadata": {},
   "outputs": [
    {
     "name": "stderr",
     "output_type": "stream",
     "text": [
      "[Parallel(n_jobs=8)]: Done  34 tasks      | elapsed:    0.0s\n",
      "[Parallel(n_jobs=8)]: Done 184 tasks      | elapsed:    0.1s\n",
      "[Parallel(n_jobs=8)]: Done 434 tasks      | elapsed:    0.2s\n",
      "[Parallel(n_jobs=8)]: Done 784 tasks      | elapsed:    0.4s\n",
      "[Parallel(n_jobs=8)]: Done 1000 out of 1000 | elapsed:    0.5s finished\n"
     ]
    },
    {
     "name": "stdout",
     "output_type": "stream",
     "text": [
      "F1 Score: 0.46336.\n"
     ]
    },
    {
     "name": "stderr",
     "output_type": "stream",
     "text": [
      "[Parallel(n_jobs=8)]: Done  34 tasks      | elapsed:    0.0s\n",
      "[Parallel(n_jobs=8)]: Done 184 tasks      | elapsed:    0.1s\n",
      "[Parallel(n_jobs=8)]: Done 434 tasks      | elapsed:    0.2s\n",
      "[Parallel(n_jobs=8)]: Done 784 tasks      | elapsed:    0.4s\n"
     ]
    },
    {
     "name": "stdout",
     "output_type": "stream",
     "text": [
      "ROC AUC Score: 0.86040.\n"
     ]
    },
    {
     "name": "stderr",
     "output_type": "stream",
     "text": [
      "[Parallel(n_jobs=8)]: Done 1000 out of 1000 | elapsed:    0.5s finished\n"
     ]
    }
   ],
   "source": [
    "print('F1 Score: {:.5f}.'.format(f1_score(y_test, model.predict(X_test))))\n",
    "print('ROC AUC Score: {:.5f}.'.format(roc_auc_score(y_test, model.predict_proba(X_test)[:, 1])))"
   ]
  },
  {
   "cell_type": "markdown",
   "metadata": {},
   "source": [
    "## Comparison to Baseline\n",
    "\n",
    "Now let's look at how these numbers compare to the baseline. If we use the amount the customer spent in the past month, can we use that to predict how much they will spend in the next month? We can try this for July 2011."
   ]
  },
  {
   "cell_type": "code",
   "execution_count": 95,
   "metadata": {},
   "outputs": [
    {
     "data": {
      "text/html": [
       "<div>\n",
       "<style scoped>\n",
       "    .dataframe tbody tr th:only-of-type {\n",
       "        vertical-align: middle;\n",
       "    }\n",
       "\n",
       "    .dataframe tbody tr th {\n",
       "        vertical-align: top;\n",
       "    }\n",
       "\n",
       "    .dataframe thead th {\n",
       "        text-align: right;\n",
       "    }\n",
       "</style>\n",
       "<table border=\"1\" class=\"dataframe\">\n",
       "  <thead>\n",
       "    <tr style=\"text-align: right;\">\n",
       "      <th></th>\n",
       "      <th>customer_id</th>\n",
       "      <th>cutoff_time</th>\n",
       "      <th>july_total</th>\n",
       "      <th>label</th>\n",
       "      <th>month</th>\n",
       "      <th>june_total</th>\n",
       "      <th>prediction</th>\n",
       "    </tr>\n",
       "  </thead>\n",
       "  <tbody>\n",
       "    <tr>\n",
       "      <th>0</th>\n",
       "      <td>12362.0</td>\n",
       "      <td>2011-07-01</td>\n",
       "      <td>501.2040</td>\n",
       "      <td>1</td>\n",
       "      <td>7</td>\n",
       "      <td>0.0</td>\n",
       "      <td>0</td>\n",
       "    </tr>\n",
       "    <tr>\n",
       "      <th>1</th>\n",
       "      <td>12379.0</td>\n",
       "      <td>2011-07-01</td>\n",
       "      <td>-3.2175</td>\n",
       "      <td>0</td>\n",
       "      <td>7</td>\n",
       "      <td>0.0</td>\n",
       "      <td>0</td>\n",
       "    </tr>\n",
       "    <tr>\n",
       "      <th>2</th>\n",
       "      <td>12388.0</td>\n",
       "      <td>2011-07-01</td>\n",
       "      <td>1488.4485</td>\n",
       "      <td>1</td>\n",
       "      <td>7</td>\n",
       "      <td>0.0</td>\n",
       "      <td>0</td>\n",
       "    </tr>\n",
       "    <tr>\n",
       "      <th>3</th>\n",
       "      <td>12407.0</td>\n",
       "      <td>2011-07-01</td>\n",
       "      <td>1503.8100</td>\n",
       "      <td>1</td>\n",
       "      <td>7</td>\n",
       "      <td>0.0</td>\n",
       "      <td>0</td>\n",
       "    </tr>\n",
       "    <tr>\n",
       "      <th>4</th>\n",
       "      <td>12412.0</td>\n",
       "      <td>2011-07-01</td>\n",
       "      <td>620.7960</td>\n",
       "      <td>1</td>\n",
       "      <td>7</td>\n",
       "      <td>0.0</td>\n",
       "      <td>0</td>\n",
       "    </tr>\n",
       "  </tbody>\n",
       "</table>\n",
       "</div>"
      ],
      "text/plain": [
       "   customer_id cutoff_time  july_total  label  month  june_total  prediction\n",
       "0      12362.0  2011-07-01    501.2040      1      7         0.0           0\n",
       "1      12379.0  2011-07-01     -3.2175      0      7         0.0           0\n",
       "2      12388.0  2011-07-01   1488.4485      1      7         0.0           0\n",
       "3      12407.0  2011-07-01   1503.8100      1      7         0.0           0\n",
       "4      12412.0  2011-07-01    620.7960      1      7         0.0           0"
      ]
     },
     "execution_count": 95,
     "metadata": {},
     "output_type": "execute_result"
    }
   ],
   "source": [
    "july_labels = labels[labels['month'] == 7]\n",
    "june_labels = labels[labels['month'] == 6]\n",
    "\n",
    "july_labels = july_labels.rename(columns = {'total': 'july_total'})\n",
    "june_labels = june_labels.rename(columns = {'total': 'june_total'})\n",
    "\n",
    "july_labels = july_labels.merge(june_labels[['customer_id', 'june_total']], on = 'customer_id', how = 'left')\n",
    "july_labels['june_total'] = july_labels['june_total'].fillna(0)\n",
    "july_labels['prediction'] = (july_labels['june_total'] > 500).astype(int)\n",
    "july_labels.head()"
   ]
  },
  {
   "cell_type": "code",
   "execution_count": 96,
   "metadata": {},
   "outputs": [
    {
     "name": "stdout",
     "output_type": "stream",
     "text": [
      "F1 Score: 0.40807.\n",
      "ROC AUC Score: 0.64968.\n"
     ]
    }
   ],
   "source": [
    "print('F1 Score: {:.5f}.'.format(f1_score(july_labels['label'], july_labels['prediction'])))\n",
    "print('ROC AUC Score: {:.5f}.'.format(roc_auc_score(july_labels['label'], july_labels['prediction'])))"
   ]
  },
  {
   "cell_type": "code",
   "execution_count": 97,
   "metadata": {},
   "outputs": [],
   "source": [
    "def informed_baseline(month_number):\n",
    "    month = labels[labels['month'] == month_number]\n",
    "    previous_month = labels[labels['month'] == (month_number - 1)]\n",
    "    \n",
    "    previous_month = previous_month.rename(columns = {'total': 'previous_total'})\n",
    "\n",
    "    month = month.merge(previous_month[['customer_id', 'previous_total']], on = 'customer_id', how = 'left')\n",
    "    month['previous_total'] = month['previous_total'].fillna(0)\n",
    "    month['prediction'] = (month['previous_total'] > 500).astype(int)\n",
    "    \n",
    "    print('F1 Score: {:.5f}.'.format(f1_score(month['label'], month['prediction'])))\n",
    "    print('ROC AUC Score: {:.5f}.'.format(roc_auc_score(month['label'], month['prediction'])))\n",
    "    \n",
    "    return month"
   ]
  },
  {
   "cell_type": "code",
   "execution_count": 98,
   "metadata": {},
   "outputs": [
    {
     "name": "stdout",
     "output_type": "stream",
     "text": [
      "F1 Score: 0.31055.\n",
      "ROC AUC Score: 0.70341.\n"
     ]
    }
   ],
   "source": [
    "december = informed_baseline(12)"
   ]
  },
  {
   "cell_type": "code",
   "execution_count": 99,
   "metadata": {},
   "outputs": [
    {
     "data": {
      "image/png": "[encoded data removed]",
      "text/plain": [
       "<Figure size 864x432 with 1 Axes>"
      ]
     },
     "metadata": {},
     "output_type": "display_data"
    }
   ],
   "source": [
    "plt.figure(figsize = (12, 6))\n",
    "sns.kdeplot(december['total'], label = 'December Total');\n",
    "sns.kdeplot(december['previous_total'], label = 'November Total');\n",
    "plt.legend(); plt.xlabel('Total'); plt.ylabel('Density');"
   ]
  },
  {
   "cell_type": "markdown",
   "metadata": {},
   "source": [
    "From this analysis, we can conclude that machine learning delivers some value for the problem. Let's take a look at the feature importances."
   ]
  },
  {
   "cell_type": "code",
   "execution_count": 100,
   "metadata": {},
   "outputs": [
    {
     "data": {
      "image/png": "[encoded data removed]",
      "text/plain": [
       "<Figure size 864x576 with 1 Axes>"
      ]
     },
     "metadata": {},
     "output_type": "display_data"
    }
   ],
   "source": [
    "from utils import plot_feature_importances, feature_selection\n",
    "\n",
    "fi = pd.DataFrame({'feature': list(feature_matrix_enc.columns),\n",
    "                   'importance': model.feature_importances_})\n",
    "norm_fi = plot_feature_importances(fi)"
   ]
  },
  {
   "cell_type": "code",
   "execution_count": 121,
   "metadata": {},
   "outputs": [
    {
     "name": "stdout",
     "output_type": "stream",
     "text": [
      "Original shape:  (18766, 2712)\n",
      "355  non-unique valued columns.\n",
      "0 missing columns with threshold: 90.\n",
      "1 zero variance columns.\n",
      "58 collinear columns removed with threshold: 0.95.\n",
      "Total columns removed:  414\n",
      "Shape after feature selection: (18766, 2298).\n"
     ]
    }
   ],
   "source": [
    "X_train = feature_selection(X_train)\n",
    "X_test = X_test[X_train.columns]"
   ]
  },
  {
   "cell_type": "code",
   "execution_count": 122,
   "metadata": {},
   "outputs": [
    {
     "name": "stderr",
     "output_type": "stream",
     "text": [
      "[Parallel(n_jobs=-1)]: Done  34 tasks      | elapsed:    2.0s\n",
      "[Parallel(n_jobs=-1)]: Done 184 tasks      | elapsed:    9.3s\n",
      "[Parallel(n_jobs=-1)]: Done 434 tasks      | elapsed:   21.7s\n",
      "[Parallel(n_jobs=-1)]: Done 784 tasks      | elapsed:   39.1s\n",
      "[Parallel(n_jobs=-1)]: Done 1000 out of 1000 | elapsed:   49.8s finished\n",
      "[Parallel(n_jobs=8)]: Done  34 tasks      | elapsed:    0.0s\n",
      "[Parallel(n_jobs=8)]: Done 184 tasks      | elapsed:    0.1s\n",
      "[Parallel(n_jobs=8)]: Done 434 tasks      | elapsed:    0.3s\n",
      "[Parallel(n_jobs=8)]: Done 784 tasks      | elapsed:    0.5s\n",
      "[Parallel(n_jobs=8)]: Done 1000 out of 1000 | elapsed:    0.6s finished\n",
      "[Parallel(n_jobs=8)]: Done  34 tasks      | elapsed:    0.0s\n"
     ]
    },
    {
     "name": "stdout",
     "output_type": "stream",
     "text": [
      "F1 Score: 0.46331.\n"
     ]
    },
    {
     "name": "stderr",
     "output_type": "stream",
     "text": [
      "[Parallel(n_jobs=8)]: Done 184 tasks      | elapsed:    0.1s\n",
      "[Parallel(n_jobs=8)]: Done 434 tasks      | elapsed:    0.3s\n"
     ]
    },
    {
     "name": "stdout",
     "output_type": "stream",
     "text": [
      "ROC AUC Score: 0.85870.\n"
     ]
    },
    {
     "name": "stderr",
     "output_type": "stream",
     "text": [
      "[Parallel(n_jobs=8)]: Done 784 tasks      | elapsed:    0.4s\n",
      "[Parallel(n_jobs=8)]: Done 1000 out of 1000 | elapsed:    0.6s finished\n"
     ]
    }
   ],
   "source": [
    "model.fit(X_train, y_train)\n",
    "print('F1 Score: {:.5f}.'.format(f1_score(y_test, model.predict(X_test))))\n",
    "print('ROC AUC Score: {:.5f}.'.format(roc_auc_score(y_test, model.predict_proba(X_test)[:, 1])))"
   ]
  },
  {
   "cell_type": "code",
   "execution_count": 124,
   "metadata": {},
   "outputs": [
    {
     "data": {
      "image/png": "[encoded data removed]",
      "text/plain": [
       "<Figure size 864x576 with 1 Axes>"
      ]
     },
     "metadata": {},
     "output_type": "display_data"
    }
   ],
   "source": [
    "fi = pd.DataFrame({'feature': list(X_train.columns),\n",
    "                   'importance': model.feature_importances_})\n",
    "norm_fi = plot_feature_importances(fi)"
   ]
  },
  {
   "cell_type": "code",
   "execution_count": null,
   "metadata": {},
   "outputs": [],
   "source": [
    "def ecdf(data):\n",
    "    x = np.sort(data)\n",
    "    y = np.arange(1, len(x) + 1) / len(x)\n",
    "    return x, y"
   ]
  },
  {
   "cell_type": "code",
   "execution_count": null,
   "metadata": {},
   "outputs": [],
   "source": [
    "x, y = ecdf(labels['total'])\n",
    "plt.plot(x, y, marker = '.')\n",
    "plt.xlabel('Total'); plt.ylabel('Percentile'); plt.title('ECDF of Total');"
   ]
  },
  {
   "cell_type": "code",
   "execution_count": null,
   "metadata": {},
   "outputs": [],
   "source": [
    "es = ft.read_pickle('../input/es/')\n",
    "es"
   ]
  },
  {
   "cell_type": "code",
   "execution_count": null,
   "metadata": {},
   "outputs": [],
   "source": [
    "labels = pd.read_csv('../input/testing_cutoffs.csv', index_col=0)\n",
    "cutoff_times = pd.DataFrame(labels[['customer_id', 'cutoff_time']]).rename(columns = {'cutoff_time': 'time'})\n",
    "cutoff_times['time'] = pd.to_datetime(cutoff_times['time'])\n",
    "cutoff_times.head()"
   ]
  },
  {
   "cell_type": "code",
   "execution_count": null,
   "metadata": {},
   "outputs": [],
   "source": [
    "es"
   ]
  },
  {
   "cell_type": "code",
   "execution_count": null,
   "metadata": {},
   "outputs": [],
   "source": [
    "feature_matrix, feature_names = ft.dfs(entityset = es, \n",
    "                                       target_entity='customers',\n",
    "                                       cutoff_time = cutoff_times,\n",
    "                                       cutoff_time_in_index = True, verbose = 2, \n",
    "                                       n_jobs = -1, chunk_size = 1000)"
   ]
  },
  {
   "cell_type": "code",
   "execution_count": null,
   "metadata": {},
   "outputs": [],
   "source": [
    "feature_matrix.shape"
   ]
  },
  {
   "cell_type": "code",
   "execution_count": null,
   "metadata": {},
   "outputs": [],
   "source": [
    "es = ft.EntitySet(id=\"Online Retail Logs\")\n",
    "es.entity_from_dataframe(\"order_products\",\n",
    "                         dataframe=data,\n",
    "                         index=\"order_product_id\",\n",
    "                         time_index = 'order_date',\n",
    "                         variable_types={'description': ft.variable_types.Text})\n",
    "\n",
    "# create a new \"products\" entity\n",
    "es.normalize_entity(new_entity_id=\"products\",\n",
    "                    base_entity_id=\"order_products\",\n",
    "                    index=\"product_id\",\n",
    "                    additional_variables=[\"description\"])\n",
    "\n",
    "# create a new \"orders\" entity\n",
    "es.normalize_entity(new_entity_id=\"orders\",\n",
    "                    base_entity_id=\"order_products\",\n",
    "                    index=\"order_id\",\n",
    "                    additional_variables=[\n",
    "                        \"customer_id\", \"country\", 'cancelled'])\n",
    "\n",
    "# create a new \"customers\" entity based on the orders entity\n",
    "es.normalize_entity(new_entity_id=\"customers\",\n",
    "                    base_entity_id=\"orders\",\n",
    "                    index=\"customer_id\")\n",
    "\n",
    "es.add_last_time_indexes()\n",
    "es"
   ]
  },
  {
   "cell_type": "code",
   "execution_count": null,
   "metadata": {},
   "outputs": [],
   "source": [
    "cutoff_times.head()"
   ]
  },
  {
   "cell_type": "code",
   "execution_count": null,
   "metadata": {},
   "outputs": [],
   "source": [
    "cutoff_times['customer_id'].value_counts().sort_values(ascending = False)"
   ]
  },
  {
   "cell_type": "code",
   "execution_count": null,
   "metadata": {},
   "outputs": [],
   "source": [
    "cutoff_times.isnull().sum()"
   ]
  },
  {
   "cell_type": "code",
   "execution_count": null,
   "metadata": {},
   "outputs": [],
   "source": [
    "feature_matrix_small, feature_names = ft.dfs(entityset = es, \n",
    "                                       target_entity='customers',\n",
    "                                       cutoff_time = cutoff_times[cutoff_times['customer_id'].isin([12347, 12359])],\n",
    "                                       cutoff_time_in_index = True, verbose = 2, \n",
    "                                       n_jobs = 1, chunk_size = 2)"
   ]
  },
  {
   "cell_type": "code",
   "execution_count": null,
   "metadata": {},
   "outputs": [],
   "source": [
    "feature_matrix_small"
   ]
  },
  {
   "cell_type": "code",
   "execution_count": null,
   "metadata": {},
   "outputs": [],
   "source": [
    "feature_matrix.loc[12347.0]"
   ]
  },
  {
   "cell_type": "code",
   "execution_count": null,
   "metadata": {},
   "outputs": [],
   "source": [
    "feature_matrix.head(20)"
   ]
  },
  {
   "cell_type": "code",
   "execution_count": null,
   "metadata": {},
   "outputs": [],
   "source": [
    "cutoff_times.shape"
   ]
  },
  {
   "cell_type": "code",
   "execution_count": null,
   "metadata": {},
   "outputs": [],
   "source": [
    "cutoff_times.groupby('customer_id')['time'].count()"
   ]
  },
  {
   "cell_type": "code",
   "execution_count": null,
   "metadata": {},
   "outputs": [],
   "source": [
    "feature_matrix.groupby('customer_id')['COUNT(orders)'].count() / cutoff_times.groupby('customer_id')['time'].count()"
   ]
  },
  {
   "cell_type": "code",
   "execution_count": null,
   "metadata": {},
   "outputs": [],
   "source": [
    "feature_matrix.groupby('customer_id')['COUNT(orders)'].count()"
   ]
  },
  {
   "cell_type": "code",
   "execution_count": null,
   "metadata": {},
   "outputs": [],
   "source": [
    "feature_matrix.head()"
   ]
  },
  {
   "cell_type": "code",
   "execution_count": null,
   "metadata": {},
   "outputs": [],
   "source": [
    "labels['total'].describe()"
   ]
  },
  {
   "cell_type": "code",
   "execution_count": null,
   "metadata": {},
   "outputs": [],
   "source": [
    "labels['label'] = 1.0 * (labels['total'] > 500)\n",
    "labels['label'].value_counts().plot.bar()"
   ]
  },
  {
   "cell_type": "code",
   "execution_count": null,
   "metadata": {},
   "outputs": [],
   "source": [
    "feature_matrix.shape"
   ]
  },
  {
   "cell_type": "code",
   "execution_count": null,
   "metadata": {},
   "outputs": [],
   "source": [
    "6543 * 5"
   ]
  },
  {
   "cell_type": "code",
   "execution_count": null,
   "metadata": {},
   "outputs": [],
   "source": [
    "feature_matrix_enc = pd.get_dummies(feature_matrix.drop_duplicates())\n",
    "feature_matrix_enc.shape"
   ]
  },
  {
   "cell_type": "code",
   "execution_count": null,
   "metadata": {},
   "outputs": [],
   "source": [
    "labels.shape"
   ]
  },
  {
   "cell_type": "code",
   "execution_count": null,
   "metadata": {},
   "outputs": [],
   "source": []
  },
  {
   "cell_type": "code",
   "execution_count": null,
   "metadata": {},
   "outputs": [],
   "source": [
    "cutoff_times.shape"
   ]
  },
  {
   "cell_type": "code",
   "execution_count": null,
   "metadata": {},
   "outputs": [],
   "source": [
    "feature_matrix.drop_duplicates().shape"
   ]
  },
  {
   "cell_type": "code",
   "execution_count": null,
   "metadata": {},
   "outputs": [],
   "source": []
  },
  {
   "cell_type": "code",
   "execution_count": null,
   "metadata": {},
   "outputs": [],
   "source": [
    "f = list(X_train.columns)\n",
    "fi = pd.DataFrame({'feature': f, 'importance': model.feature_importances_})"
   ]
  },
  {
   "cell_type": "code",
   "execution_count": null,
   "metadata": {},
   "outputs": [],
   "source": [
    "def plot_feature_importances(df, n = 15, threshold = None):\n",
    "    \"\"\"Plots n most important features. Also plots the cumulative importance if\n",
    "    threshold is specified and prints the number of features needed to reach threshold cumulative importance.\n",
    "    Intended for use with any tree-based feature importances. \n",
    "    \n",
    "    Args:\n",
    "        df (dataframe): Dataframe of feature importances. Columns must be \"feature\" and \"importance\".\n",
    "    \n",
    "        n (int): Number of most important features to plot. Default is 15.\n",
    "    \n",
    "        threshold (float): Threshold for cumulative importance plot. If not provided, no plot is made. Default is None.\n",
    "        \n",
    "    Returns:\n",
    "        df (dataframe): Dataframe ordered by feature importances with a normalized column (sums to 1) \n",
    "                        and a cumulative importance column\n",
    "    \n",
    "    Note:\n",
    "    \n",
    "        * Normalization in this case means sums to 1. \n",
    "        * Cumulative importance is calculated by summing features from most to least important\n",
    "        * A threshold of 0.9 will show the most important features needed to reach 90% of cumulative importance\n",
    "    \n",
    "    \"\"\"\n",
    "    \n",
    "    # Sort features with most important at the head\n",
    "    df = df.sort_values('importance', ascending = False).reset_index(drop = True)\n",
    "    \n",
    "    # Normalize the feature importances to add up to one and calculate cumulative importance\n",
    "    df['importance_normalized'] = df['importance'] / df['importance'].sum()\n",
    "    df['cumulative_importance'] = np.cumsum(df['importance_normalized'])\n",
    "    \n",
    "    plt.rcParams['font.size'] = 12\n",
    "    \n",
    "    # Bar plot of n most important features\n",
    "    df.loc[:n, :].plot.barh(y = 'importance_normalized', \n",
    "                            x = 'feature', color = 'blue', \n",
    "                            edgecolor = 'k', figsize = (12, 8),\n",
    "                            legend = False)\n",
    "\n",
    "    plt.xlabel('Normalized Importance', size = 18); plt.ylabel(''); \n",
    "    plt.title(f'Top {n} Most Important Features', size = 18)\n",
    "    plt.gca().invert_yaxis()\n",
    "    \n",
    "    \n",
    "    if threshold:\n",
    "        # Cumulative importance plot\n",
    "        plt.figure(figsize = (8, 6))\n",
    "        plt.plot(list(range(len(df))), df['cumulative_importance'], 'b-')\n",
    "        plt.xlabel('Number of Features', size = 16); plt.ylabel('Cumulative Importance', size = 16); \n",
    "        plt.title('Cumulative Feature Importance', size = 18);\n",
    "        \n",
    "        # Number of features needed for threshold cumulative importance\n",
    "        # This is the index (will need to add 1 for the actual number)\n",
    "        importance_index = np.min(np.where(df['cumulative_importance'] > threshold))\n",
    "        \n",
    "        # Add vertical line to plot\n",
    "        plt.vlines(importance_index + 1, ymin = 0, ymax = 1.05, linestyles = '--', colors = 'red')\n",
    "        plt.show();\n",
    "        \n",
    "        print('{} features required for {:.0f}% of cumulative importance.'.format(importance_index + 1, \n",
    "                                                                                  100 * threshold))\n",
    "    \n",
    "    return df"
   ]
  },
  {
   "cell_type": "code",
   "execution_count": null,
   "metadata": {},
   "outputs": [],
   "source": [
    "norm_fi = plot_feature_importances(fi)"
   ]
  },
  {
   "cell_type": "code",
   "execution_count": null,
   "metadata": {},
   "outputs": [],
   "source": []
  },
  {
   "cell_type": "code",
   "execution_count": null,
   "metadata": {},
   "outputs": [],
   "source": [
    "cv_results = cross_val_score(model, X_train, y_train, cv = 5, scoring = 'f1')\n",
    "cv_results.mean()"
   ]
  },
  {
   "cell_type": "code",
   "execution_count": null,
   "metadata": {},
   "outputs": [],
   "source": [
    "cv_results_roc = cross_val_score(model, X_train, y_train, cv = 5, scoring = 'roc_auc')\n",
    "cv_results_roc.mean()"
   ]
  },
  {
   "cell_type": "code",
   "execution_count": null,
   "metadata": {},
   "outputs": [],
   "source": [
    "labels['cutoff_time'] = pd.to_datetime(labels['cutoff_time'])"
   ]
  },
  {
   "cell_type": "code",
   "execution_count": null,
   "metadata": {},
   "outputs": [],
   "source": [
    "labels_september = labels[labels['cutoff_time'].dt.month == 8]\n",
    "labels_september.head()"
   ]
  },
  {
   "cell_type": "code",
   "execution_count": null,
   "metadata": {},
   "outputs": [],
   "source": [
    "labels_july = labels[labels['cutoff_time'].dt.month == 7].rename(columns = {'label': 'july', 'total': 'total_july'})\n",
    "labels_july.head()"
   ]
  },
  {
   "cell_type": "code",
   "execution_count": null,
   "metadata": {},
   "outputs": [],
   "source": [
    "labels_september = labels_september.merge(labels_july[['total_july', 'customer_id', 'july']], on = 'customer_id', how = 'left')\n",
    "labels_september.head()"
   ]
  },
  {
   "cell_type": "code",
   "execution_count": null,
   "metadata": {},
   "outputs": [],
   "source": [
    "labels_september['july'] = labels_september['july'].fillna(0)"
   ]
  },
  {
   "cell_type": "code",
   "execution_count": null,
   "metadata": {},
   "outputs": [],
   "source": [
    "f1_score(labels_september['label'], labels_september['july'])"
   ]
  },
  {
   "cell_type": "code",
   "execution_count": null,
   "metadata": {},
   "outputs": [],
   "source": [
    "roc_auc_score(labels_september['label'], labels_september['july'])"
   ]
  },
  {
   "cell_type": "code",
   "execution_count": null,
   "metadata": {},
   "outputs": [],
   "source": []
  }
 ],
 "metadata": {
  "kernelspec": {
   "display_name": "Python 3",
   "language": "python",
   "name": "python3"
  },
  "language_info": {
   "codemirror_mode": {
    "name": "ipython",
    "version": 3
   },
   "file_extension": ".py",
   "mimetype": "text/x-python",
   "name": "python",
   "nbconvert_exporter": "python",
   "pygments_lexer": "ipython3",
   "version": "3.6.5"
  }
 },
 "nbformat": 4,
 "nbformat_minor": 2
}
