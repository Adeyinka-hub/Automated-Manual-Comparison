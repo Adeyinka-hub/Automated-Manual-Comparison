{
 "cells": [
  {
   "cell_type": "markdown",
   "metadata": {},
   "source": [
    "# Manual Feature Engineering on the Retail Dataset\n",
    "\n",
    "In this notebook we will work on manual feature engineering of a retail dataset. This dataset is originally from the UCI machine learning repository and is reminiscient of real-world data."
   ]
  },
  {
   "cell_type": "code",
   "execution_count": 1,
   "metadata": {},
   "outputs": [],
   "source": [
    "import numpy as np\n",
    "import pandas as pd\n",
    "\n",
    "import featuretools as ft"
   ]
  },
  {
   "cell_type": "markdown",
   "metadata": {},
   "source": [
    "First let's load in the raw data and take a look."
   ]
  },
  {
   "cell_type": "code",
   "execution_count": null,
   "metadata": {},
   "outputs": [],
   "source": [
    "data = pd.read_excel('../input/Online Retail.xlsx')\n",
    "data.head()"
   ]
  },
  {
   "cell_type": "code",
   "execution_count": null,
   "metadata": {},
   "outputs": [],
   "source": [
    "csv_s3 = \"s3://featurelabs-static/online-retail-logs.csv\"\n",
    "altered_data = pd.read_csv(csv_s3, parse_dates=[\"order_date\"])\n",
    "altered_data.head()"
   ]
  },
  {
   "cell_type": "markdown",
   "metadata": {},
   "source": [
    "First we need to understand what each of the columns represents. For that we can look at the [data description on the UCI Machine Learning Repository.](https://archive.ics.uci.edu/ml/datasets/online+retail#)\n",
    "\n",
    "* `InvoiceNo`: Invoice number. Nominal, a 6-digit integral number uniquely assigned to each transaction. If this code starts with letter 'c', it indicates a cancellation. \n",
    "* `StockCode`: Product (item) code. Nominal, a 5-digit integral number uniquely assigned to each distinct product. \n",
    "* `Description`: Product (item) name. Nominal. \n",
    "* `Quantity`: The quantities of each product (item) per transaction. Numeric.\t\n",
    "* `InvoiceDate`: Invice Date and time. Numeric, the day and time when each transaction was generated. \n",
    "* `UnitPrice`: Unit price. Numeric, Product price per unit in sterling. \n",
    "* `CustomerID`: Customer number. Nominal, a 5-digit integral number uniquely assigned to each customer. \n",
    "* `Country`: Country name. Nominal, the name of the country where each customer resides.\n",
    "\n",
    "Based on these descriptions, we will rename the columns so they are easier to remember."
   ]
  },
  {
   "cell_type": "code",
   "execution_count": null,
   "metadata": {},
   "outputs": [],
   "source": [
    "data.columns = ['order_id', 'product_id', 'desc', 'quantity', \n",
    "                 'date', 'unit_price', 'customer_id', 'country']"
   ]
  },
  {
   "cell_type": "markdown",
   "metadata": {},
   "source": [
    "## Issues: Duplicated Rows\n",
    "\n",
    "One problem we can quickly check for is duplicated rows. "
   ]
  },
  {
   "cell_type": "code",
   "execution_count": null,
   "metadata": {},
   "outputs": [],
   "source": [
    "duplicated_rows = data[data.duplicated(keep = 'first')]\n",
    "print('There are {} duplicated rows.'.format(len(duplicated_rows)))\n",
    "duplicated_rows.head(5)"
   ]
  },
  {
   "cell_type": "markdown",
   "metadata": {},
   "source": [
    "In this case, because the customers may be wholesalers who then sell to their own customers, it is possible that the duplicates are legitimate. These customers may order two of the same product at the same time to sell to 2 of their own customers. Given the number of duplicated rows (about 1% of the data), it seems this is a common occurrence. For now, we will not drop the duplicated rows.\n",
    "\n",
    "## Issues: Cancelled Orders\n",
    "\n",
    "A second potential problem is that of cancelled orders. Any `order_id` beginning with a 'C' indicates an order that was cancelled."
   ]
  },
  {
   "cell_type": "code",
   "execution_count": null,
   "metadata": {},
   "outputs": [],
   "source": [
    "data['order_id'] = data['order_id'].astype(str)\n",
    "data['product_id'] = data['product_id'].astype(str)\n",
    "cancelled_orders = data[data['order_id'].str.startswith('C')]\n",
    "cancelled_orders.head()"
   ]
  },
  {
   "cell_type": "markdown",
   "metadata": {},
   "source": [
    "The issue is that the corresponding purchase cannot be found by just looking up the cancelled `order_id` without the 'C'."
   ]
  },
  {
   "cell_type": "code",
   "execution_count": null,
   "metadata": {},
   "outputs": [],
   "source": [
    "data[data['order_id'] == '536391']"
   ]
  },
  {
   "cell_type": "markdown",
   "metadata": {},
   "source": [
    "What happens if we try to match on the `product_id`, absolute value of `quantity`, and `customer_id`?"
   ]
  },
  {
   "cell_type": "code",
   "execution_count": null,
   "metadata": {},
   "outputs": [],
   "source": [
    "print('Matching on product_id, absolute value of quantity, and customer_id.')\n",
    "data[(data['product_id'] == '21983') & (data['quantity'] == 24) & (data['customer_id'] == 17548)]"
   ]
  },
  {
   "cell_type": "code",
   "execution_count": null,
   "metadata": {},
   "outputs": [],
   "source": [
    "print('Matching on product_id and customer_id.')\n",
    "data[(data['product_id'] == '21983') & (data['customer_id'] == 17548)]"
   ]
  },
  {
   "cell_type": "markdown",
   "metadata": {},
   "source": [
    "We get nothing! For this order, there is only the cancelled order but no corresponding purchase. The two options I see are:\n",
    "\n",
    "1. The purchase was not recorded in this data because it falls outside of the time frame.\n",
    "2. The purchase was made by a different customer than the customer who made the cancellation. \n",
    "\n",
    "The second option strikes me as unlikely because that would mean customers can cancel each other's orders. The first option appears more realistic: there are gaps in the data that don't cover all of the purchases. This is something that we just have to deal with in real-world data (unless we have the option to go and gather more data). \n",
    "\n",
    "Let's do another check of the data for any unusual `order_id`s"
   ]
  },
  {
   "cell_type": "code",
   "execution_count": null,
   "metadata": {},
   "outputs": [],
   "source": [
    "unusual = data[data['order_id'].str.contains('^[A-Z]')]\n",
    "unusual[~unusual['order_id'].str.startswith('C')]"
   ]
  },
  {
   "cell_type": "markdown",
   "metadata": {},
   "source": [
    "The only other unusual information concerns three rows that represent: `Adjust bad debt`. These all have `NaN` for the customer, and since our primary focus will be on a customer level, we can remove these rows. In fact, we will remove any rows that have `NaN` for the customer id. "
   ]
  },
  {
   "cell_type": "code",
   "execution_count": null,
   "metadata": {},
   "outputs": [],
   "source": [
    "n_nan_customers = np.sum(data['customer_id'].isnull())\n",
    "print(f'Dropping {n_nan_customers} rows.')\n",
    "data = data[data['customer_id'].notnull()]"
   ]
  },
  {
   "cell_type": "markdown",
   "metadata": {},
   "source": [
    "That operation removed a considerable number of observations. However, because we are going by customers, if we can't identify the purchase with a customer, then we cannot use that information. We could use the information on a `Country` level basis, but that is not our concern at the moment. "
   ]
  },
  {
   "cell_type": "markdown",
   "metadata": {},
   "source": [
    "# Prediction Problem\n",
    "\n",
    "The first step we need to decide is what exactly we want to predict from this data. One question of interest to businesses is predicting the amount a customer will spend in the next 30 days. Customers predicted to spend more could potentially be of higher interest - meaning more time should be spent advertisting products to them - or this information could be used to form customers \"groupings\" allowing for more efficient marketing. We'll formulate our problem as trying to predict __how much will a customer spend in the next 30 days.__\n",
    "\n",
    "To do this, our first step is to identify the last date in the data for each customer. We'll then go forward 30 days in the data to establish a prediction point (known as a cutoff time). The target will be the total amoung of spending between the cutoff point and the last date in the data and we cannot use any information past the cutoff point for predicting the target. Because we want to know the total price spent (in Sterling), we'll multiple the `quantity` by the `unit_price`. Then we can form the targets and subset the data to that which is usable for each customer. "
   ]
  },
  {
   "cell_type": "code",
   "execution_count": null,
   "metadata": {},
   "outputs": [],
   "source": [
    "data['total_price'] = data['quantity'] * data['unit_price']\n",
    "n_nan_price = np.sum(data['total_price'].isnull())\n",
    "print(f'Removing {n_nan_price} rows with unknown total prices.')\n",
    "data = data[data['total_price'].notnull()]"
   ]
  },
  {
   "cell_type": "markdown",
   "metadata": {},
   "source": [
    "Before we get to forming the labels, it's helpful to graph the distribution of prices to see if there are any outliers."
   ]
  },
  {
   "cell_type": "code",
   "execution_count": null,
   "metadata": {},
   "outputs": [],
   "source": [
    "import matplotlib.pyplot as plt\n",
    "import seaborn as sns\n",
    "%matplotlib inline\n",
    "\n",
    "plt.rcParams['font.size'] = 18\n",
    "from IPython.core.pylabtools import figsize\n",
    "figsize(8, 6)\n",
    "\n",
    "# KDE plot of total price\n",
    "sns.distplot(data['total_price'], hist=False, color = 'red');\n",
    "plt.title('Total Purchase Price Distribution');\n",
    "plt.xlabel('Purchase Price'); plt.ylabel('Density');"
   ]
  },
  {
   "cell_type": "markdown",
   "metadata": {},
   "source": [
    "There appear to be two issues: 1. There are negative purchase prices, and 2. There are extreme outliers on both the upper and lower limit.\n",
    "\n",
    "The first problem makes sense if we think about the cancellations, which we left in the data. These appear as negative quantities and hence the `total_price` would be negative. However, this is actually not an issue if our goal is to predict total spending. A negative purchase offsets a positive purchase and so even though it might seem odd at first, leaving these cancellations in will allow us to incorporate all of the information about a customer. \n",
    "\n",
    "The outliers on both the high and the low end should also be left in because we have no reason to believe these are false. To investigate, we can look at both the highest and lowest total purchases."
   ]
  },
  {
   "cell_type": "code",
   "execution_count": null,
   "metadata": {},
   "outputs": [],
   "source": [
    "data.loc[data['total_price'].idxmax]"
   ]
  },
  {
   "cell_type": "code",
   "execution_count": null,
   "metadata": {},
   "outputs": [],
   "source": [
    "data.loc[data['total_price'].idxmin]"
   ]
  },
  {
   "cell_type": "markdown",
   "metadata": {},
   "source": [
    "The highest total purchase price is for an order that was eventualy cancelled (12 minutes later!). This means that for this customer, the total of these two orders would come out to \\$0.0. \n",
    "\n",
    "The only potential issue with leaving in the cancellations is for the edge cases where the purchase occurred before the cutoff point but the cancellation was after the cutoff point which could mess with the data. However, we'll not worry about this low probability event for the moment.\n",
    "\n",
    "Now, back to making the prediction problem. The lines below establish a cutoff dataframe that we'll use for building the problem."
   ]
  },
  {
   "cell_type": "code",
   "execution_count": null,
   "metadata": {},
   "outputs": [],
   "source": [
    "problem = pd.DataFrame(data.groupby(['customer_id'])['date'].max())\n",
    "problem['cutoff_point'] = [date - pd.Timedelta(30, unit = 'd') for date in last_purchase['date']]\n",
    "problem.head()"
   ]
  },
  {
   "cell_type": "markdown",
   "metadata": {},
   "source": [
    "The next step is to iterate through each customer and find the total spending in the last month of data. "
   ]
  },
  {
   "cell_type": "code",
   "execution_count": null,
   "metadata": {},
   "outputs": [],
   "source": [
    "totals = []\n",
    "\n",
    "# Iterate through each customer\n",
    "for customer_id, customer_info in problem.iterrows():\n",
    "    cutoff_point = customer_info['cutoff_point']\n",
    "    \n",
    "    # Subset the data to after the prediction point\n",
    "    subset = data.loc[(data['date'] > cutoff_point) & (data['customer_id'] == customer_id), :].copy()\n",
    "    \n",
    "    # Add the number of unique orders in the month to a list\n",
    "    totals.append(subset['total_price'].sum())"
   ]
  },
  {
   "cell_type": "markdown",
   "metadata": {},
   "source": [
    "To make sure the labels seem reasonable, we should calculate the statistics and show a visual or two."
   ]
  },
  {
   "cell_type": "code",
   "execution_count": null,
   "metadata": {},
   "outputs": [],
   "source": [
    "problem['target'] = totals\n",
    "problem['target'].describe()"
   ]
  },
  {
   "cell_type": "markdown",
   "metadata": {},
   "source": [
    "We do end up with some outliers. However, we'll have to live with these discrepancies. We can remove the customers with a negative label because we want to focus on customers that can generate revenue."
   ]
  },
  {
   "cell_type": "code",
   "execution_count": null,
   "metadata": {},
   "outputs": [],
   "source": [
    "problem = problem[problem['target'] > 0]"
   ]
  },
  {
   "cell_type": "code",
   "execution_count": null,
   "metadata": {},
   "outputs": [],
   "source": [
    "bins = 10**(np.arange(0,5))\n",
    "p = plt.hist(problem['target'], bins = [1, 10, 100, 100, 1000, 10000, 100000] , \n",
    "             edgecolor = 'k')\n",
    "plt.xscale('log'); plt.xlabel('Total Purchase ($)'); plt.ylabel('Count'); plt.title('Total Purchase in Last Month');"
   ]
  },
  {
   "cell_type": "markdown",
   "metadata": {},
   "source": [
    "The vast majority of purchases fall in between \\$100 and \\$1000. We can also view the data with an empirical cumulative distribution function plot."
   ]
  },
  {
   "cell_type": "code",
   "execution_count": null,
   "metadata": {},
   "outputs": [],
   "source": [
    "def ecdf(a):\n",
    "    x = np.sort(a)\n",
    "    y = np.arange(len(x)) / float(len(x))\n",
    "    return x, y"
   ]
  },
  {
   "cell_type": "code",
   "execution_count": null,
   "metadata": {},
   "outputs": [],
   "source": [
    "x, y = ecdf(problem['target'])\n",
    "plt.plot(x, y);\n",
    "plt.xlabel('Total Purchase'); plt.ylabel('Percentile'); plt.title('ECDF of Target');\n",
    "print(f'The 90th percentile is at ${x[np.where(y > 0.9)[0][0]]}')"
   ]
  },
  {
   "cell_type": "markdown",
   "metadata": {},
   "source": [
    "## Limit Data to before the Prediction Point\n",
    "\n",
    "The cutoff date represents the last time we can use information in the data for that customer to train a model for our prediction problem. We now need to use these cutoff dates to limit the data to that which is allowable. "
   ]
  },
  {
   "cell_type": "code",
   "execution_count": null,
   "metadata": {},
   "outputs": [],
   "source": [
    "usable_data = pd.DataFrame(columns = data.columns)\n",
    "\n",
    "# Iterate through each customer\n",
    "for customer_id, row in problem.iterrows():\n",
    "    subset = data[(data['customer_id'] == customer_id) & (data['date'] > row['cutoff_point'])]\n",
    "    usable_data = usable_data.append(subset, ignore_index = True, sort = False)\n",
    "    \n",
    "usable_data.head()"
   ]
  },
  {
   "cell_type": "code",
   "execution_count": null,
   "metadata": {},
   "outputs": [],
   "source": [
    "print(f'There are {len(usable_data)} observations in the final data with {usable_data[\"customer_id\"].nuique()} unique customers.')"
   ]
  },
  {
   "cell_type": "code",
   "execution_count": 24,
   "metadata": {},
   "outputs": [],
   "source": [
    "data = usable_data.copy()\n",
    "usable_data.to_csv('../input/usable_purchases.csv')"
   ]
  },
  {
   "cell_type": "markdown",
   "metadata": {},
   "source": [
    "# Normalizing Data\n",
    "\n",
    "The first step we need to take is get the data into discrete normalized tables. We'll create 4 tables of information:\n",
    "\n",
    "* customers: each customer (`customter_id`) will have one row\n",
    "* products: each product (`product_id`) will have one row\n",
    "* orders: each invoice (`order_id`) will have one row\n",
    "* purchases: each purchased item will have one row\n",
    "\n",
    "The purchases dataframe is the child of all the other dataframes. The `customers` dataframe is where we will make our features for the prediction problem. "
   ]
  },
  {
   "cell_type": "code",
   "execution_count": 25,
   "metadata": {},
   "outputs": [
    {
     "data": {
      "text/html": [
       "<div>\n",
       "<style scoped>\n",
       "    .dataframe tbody tr th:only-of-type {\n",
       "        vertical-align: middle;\n",
       "    }\n",
       "\n",
       "    .dataframe tbody tr th {\n",
       "        vertical-align: top;\n",
       "    }\n",
       "\n",
       "    .dataframe thead th {\n",
       "        text-align: right;\n",
       "    }\n",
       "</style>\n",
       "<table border=\"1\" class=\"dataframe\">\n",
       "  <thead>\n",
       "    <tr style=\"text-align: right;\">\n",
       "      <th></th>\n",
       "      <th>order_id</th>\n",
       "      <th>product_id</th>\n",
       "      <th>desc</th>\n",
       "      <th>quantity</th>\n",
       "      <th>date</th>\n",
       "      <th>unit_price</th>\n",
       "      <th>customer_id</th>\n",
       "      <th>country</th>\n",
       "    </tr>\n",
       "  </thead>\n",
       "  <tbody>\n",
       "    <tr>\n",
       "      <th>0</th>\n",
       "      <td>541431</td>\n",
       "      <td>23166</td>\n",
       "      <td>MEDIUM CERAMIC TOP STORAGE JAR</td>\n",
       "      <td>74215</td>\n",
       "      <td>2011-01-18 10:01:00</td>\n",
       "      <td>1.04</td>\n",
       "      <td>12346.0</td>\n",
       "      <td>United Kingdom</td>\n",
       "    </tr>\n",
       "    <tr>\n",
       "      <th>1</th>\n",
       "      <td>C541433</td>\n",
       "      <td>23166</td>\n",
       "      <td>MEDIUM CERAMIC TOP STORAGE JAR</td>\n",
       "      <td>-74215</td>\n",
       "      <td>2011-01-18 10:17:00</td>\n",
       "      <td>1.04</td>\n",
       "      <td>12346.0</td>\n",
       "      <td>United Kingdom</td>\n",
       "    </tr>\n",
       "    <tr>\n",
       "      <th>2</th>\n",
       "      <td>581180</td>\n",
       "      <td>23497</td>\n",
       "      <td>CLASSIC CHROME BICYCLE BELL</td>\n",
       "      <td>12</td>\n",
       "      <td>2011-12-07 15:52:00</td>\n",
       "      <td>1.45</td>\n",
       "      <td>12347.0</td>\n",
       "      <td>Iceland</td>\n",
       "    </tr>\n",
       "    <tr>\n",
       "      <th>3</th>\n",
       "      <td>581180</td>\n",
       "      <td>23552</td>\n",
       "      <td>BICYCLE PUNCTURE REPAIR KIT</td>\n",
       "      <td>6</td>\n",
       "      <td>2011-12-07 15:52:00</td>\n",
       "      <td>2.08</td>\n",
       "      <td>12347.0</td>\n",
       "      <td>Iceland</td>\n",
       "    </tr>\n",
       "    <tr>\n",
       "      <th>4</th>\n",
       "      <td>581180</td>\n",
       "      <td>21064</td>\n",
       "      <td>BOOM BOX SPEAKER BOYS</td>\n",
       "      <td>24</td>\n",
       "      <td>2011-12-07 15:52:00</td>\n",
       "      <td>1.25</td>\n",
       "      <td>12347.0</td>\n",
       "      <td>Iceland</td>\n",
       "    </tr>\n",
       "  </tbody>\n",
       "</table>\n",
       "</div>"
      ],
      "text/plain": [
       "  order_id product_id                            desc quantity  \\\n",
       "0   541431      23166  MEDIUM CERAMIC TOP STORAGE JAR    74215   \n",
       "1  C541433      23166  MEDIUM CERAMIC TOP STORAGE JAR   -74215   \n",
       "2   581180      23497    CLASSIC CHROME BICYCLE BELL        12   \n",
       "3   581180      23552    BICYCLE PUNCTURE REPAIR KIT         6   \n",
       "4   581180      21064           BOOM BOX SPEAKER BOYS       24   \n",
       "\n",
       "                 date  unit_price  customer_id         country  \n",
       "0 2011-01-18 10:01:00        1.04      12346.0  United Kingdom  \n",
       "1 2011-01-18 10:17:00        1.04      12346.0  United Kingdom  \n",
       "2 2011-12-07 15:52:00        1.45      12347.0         Iceland  \n",
       "3 2011-12-07 15:52:00        2.08      12347.0         Iceland  \n",
       "4 2011-12-07 15:52:00        1.25      12347.0         Iceland  "
      ]
     },
     "execution_count": 25,
     "metadata": {},
     "output_type": "execute_result"
    }
   ],
   "source": [
    "data.head()"
   ]
  },
  {
   "cell_type": "markdown",
   "metadata": {},
   "source": [
    "### Orders\n",
    "\n",
    "First we'll create a table of just the orders. Each order is uniquely identified by the `order_id` and also has a date, customer, and country. "
   ]
  },
  {
   "cell_type": "code",
   "execution_count": 26,
   "metadata": {},
   "outputs": [
    {
     "data": {
      "text/html": [
       "<div>\n",
       "<style scoped>\n",
       "    .dataframe tbody tr th:only-of-type {\n",
       "        vertical-align: middle;\n",
       "    }\n",
       "\n",
       "    .dataframe tbody tr th {\n",
       "        vertical-align: top;\n",
       "    }\n",
       "\n",
       "    .dataframe thead th {\n",
       "        text-align: right;\n",
       "    }\n",
       "</style>\n",
       "<table border=\"1\" class=\"dataframe\">\n",
       "  <thead>\n",
       "    <tr style=\"text-align: right;\">\n",
       "      <th></th>\n",
       "      <th>order_id</th>\n",
       "      <th>date</th>\n",
       "      <th>customer_id</th>\n",
       "      <th>country</th>\n",
       "    </tr>\n",
       "  </thead>\n",
       "  <tbody>\n",
       "    <tr>\n",
       "      <th>0</th>\n",
       "      <td>536384</td>\n",
       "      <td>2010-12-01 09:53:00</td>\n",
       "      <td>18074.0</td>\n",
       "      <td>United Kingdom</td>\n",
       "    </tr>\n",
       "    <tr>\n",
       "      <th>1</th>\n",
       "      <td>536393</td>\n",
       "      <td>2010-12-01 10:37:00</td>\n",
       "      <td>13747.0</td>\n",
       "      <td>United Kingdom</td>\n",
       "    </tr>\n",
       "    <tr>\n",
       "      <th>2</th>\n",
       "      <td>536403</td>\n",
       "      <td>2010-12-01 11:27:00</td>\n",
       "      <td>12791.0</td>\n",
       "      <td>Netherlands</td>\n",
       "    </tr>\n",
       "    <tr>\n",
       "      <th>3</th>\n",
       "      <td>536409</td>\n",
       "      <td>2010-12-01 11:45:00</td>\n",
       "      <td>17908.0</td>\n",
       "      <td>United Kingdom</td>\n",
       "    </tr>\n",
       "    <tr>\n",
       "      <th>4</th>\n",
       "      <td>536420</td>\n",
       "      <td>2010-12-01 12:03:00</td>\n",
       "      <td>16583.0</td>\n",
       "      <td>United Kingdom</td>\n",
       "    </tr>\n",
       "  </tbody>\n",
       "</table>\n",
       "</div>"
      ],
      "text/plain": [
       "  order_id                date  customer_id         country\n",
       "0   536384 2010-12-01 09:53:00      18074.0  United Kingdom\n",
       "1   536393 2010-12-01 10:37:00      13747.0  United Kingdom\n",
       "2   536403 2010-12-01 11:27:00      12791.0     Netherlands\n",
       "3   536409 2010-12-01 11:45:00      17908.0  United Kingdom\n",
       "4   536420 2010-12-01 12:03:00      16583.0  United Kingdom"
      ]
     },
     "execution_count": 26,
     "metadata": {},
     "output_type": "execute_result"
    }
   ],
   "source": [
    "orders = pd.DataFrame(data.groupby(['order_id', 'date', 'customer_id', 'country'])['quantity'].sum().reset_index())\n",
    "orders.drop(columns = ['quantity'], inplace = True)\n",
    "orders.head()"
   ]
  },
  {
   "cell_type": "markdown",
   "metadata": {},
   "source": [
    "### Customers\n",
    "\n",
    "Each customer is uniquely identified by the `customer_id`. We can use the last purchase data as the customers table."
   ]
  },
  {
   "cell_type": "code",
   "execution_count": 27,
   "metadata": {},
   "outputs": [
    {
     "data": {
      "text/html": [
       "<div>\n",
       "<style scoped>\n",
       "    .dataframe tbody tr th:only-of-type {\n",
       "        vertical-align: middle;\n",
       "    }\n",
       "\n",
       "    .dataframe tbody tr th {\n",
       "        vertical-align: top;\n",
       "    }\n",
       "\n",
       "    .dataframe thead th {\n",
       "        text-align: right;\n",
       "    }\n",
       "</style>\n",
       "<table border=\"1\" class=\"dataframe\">\n",
       "  <thead>\n",
       "    <tr style=\"text-align: right;\">\n",
       "      <th></th>\n",
       "      <th>customer_id</th>\n",
       "      <th>prediction_point</th>\n",
       "      <th>orders</th>\n",
       "      <th>label</th>\n",
       "    </tr>\n",
       "  </thead>\n",
       "  <tbody>\n",
       "    <tr>\n",
       "      <th>0</th>\n",
       "      <td>12346.0</td>\n",
       "      <td>2010-12-19 10:17:00</td>\n",
       "      <td>2</td>\n",
       "      <td>False</td>\n",
       "    </tr>\n",
       "    <tr>\n",
       "      <th>1</th>\n",
       "      <td>12347.0</td>\n",
       "      <td>2011-11-07 15:52:00</td>\n",
       "      <td>1</td>\n",
       "      <td>False</td>\n",
       "    </tr>\n",
       "    <tr>\n",
       "      <th>2</th>\n",
       "      <td>12348.0</td>\n",
       "      <td>2011-08-26 13:13:00</td>\n",
       "      <td>1</td>\n",
       "      <td>False</td>\n",
       "    </tr>\n",
       "    <tr>\n",
       "      <th>3</th>\n",
       "      <td>12349.0</td>\n",
       "      <td>2011-10-22 09:51:00</td>\n",
       "      <td>1</td>\n",
       "      <td>False</td>\n",
       "    </tr>\n",
       "    <tr>\n",
       "      <th>4</th>\n",
       "      <td>12350.0</td>\n",
       "      <td>2011-01-03 16:01:00</td>\n",
       "      <td>1</td>\n",
       "      <td>False</td>\n",
       "    </tr>\n",
       "  </tbody>\n",
       "</table>\n",
       "</div>"
      ],
      "text/plain": [
       "   customer_id    prediction_point  orders  label\n",
       "0      12346.0 2010-12-19 10:17:00       2  False\n",
       "1      12347.0 2011-11-07 15:52:00       1  False\n",
       "2      12348.0 2011-08-26 13:13:00       1  False\n",
       "3      12349.0 2011-10-22 09:51:00       1  False\n",
       "4      12350.0 2011-01-03 16:01:00       1  False"
      ]
     },
     "execution_count": 27,
     "metadata": {},
     "output_type": "execute_result"
    }
   ],
   "source": [
    "customers = last_purchase.drop(columns = ['date']).reset_index().copy()\n",
    "customers.head()"
   ]
  },
  {
   "cell_type": "markdown",
   "metadata": {},
   "source": [
    "### Products\n",
    "\n",
    "Each product is identified by the `product_id`. The unit price might not stay the same so we cannot associate this with each product."
   ]
  },
  {
   "cell_type": "code",
   "execution_count": 28,
   "metadata": {},
   "outputs": [
    {
     "data": {
      "text/html": [
       "<div>\n",
       "<style scoped>\n",
       "    .dataframe tbody tr th:only-of-type {\n",
       "        vertical-align: middle;\n",
       "    }\n",
       "\n",
       "    .dataframe tbody tr th {\n",
       "        vertical-align: top;\n",
       "    }\n",
       "\n",
       "    .dataframe thead th {\n",
       "        text-align: right;\n",
       "    }\n",
       "</style>\n",
       "<table border=\"1\" class=\"dataframe\">\n",
       "  <thead>\n",
       "    <tr style=\"text-align: right;\">\n",
       "      <th></th>\n",
       "      <th>product_id</th>\n",
       "    </tr>\n",
       "  </thead>\n",
       "  <tbody>\n",
       "    <tr>\n",
       "      <th>0</th>\n",
       "      <td>23166</td>\n",
       "    </tr>\n",
       "    <tr>\n",
       "      <th>1</th>\n",
       "      <td>23497</td>\n",
       "    </tr>\n",
       "    <tr>\n",
       "      <th>2</th>\n",
       "      <td>23552</td>\n",
       "    </tr>\n",
       "    <tr>\n",
       "      <th>3</th>\n",
       "      <td>21064</td>\n",
       "    </tr>\n",
       "    <tr>\n",
       "      <th>4</th>\n",
       "      <td>84625A</td>\n",
       "    </tr>\n",
       "  </tbody>\n",
       "</table>\n",
       "</div>"
      ],
      "text/plain": [
       "  product_id\n",
       "0      23166\n",
       "1      23497\n",
       "2      23552\n",
       "3      21064\n",
       "4     84625A"
      ]
     },
     "execution_count": 28,
     "metadata": {},
     "output_type": "execute_result"
    }
   ],
   "source": [
    "products = pd.DataFrame(data['product_id'].unique(), columns = ['product_id'])\n",
    "products.head()"
   ]
  },
  {
   "cell_type": "markdown",
   "metadata": {},
   "source": [
    "### Purchases\n",
    "\n",
    "Each purchase is idenitifed by combination of the `order_id`, the `customer_id`, and the `product_id`. We'll have to be careful about which purchases we use for each customer because we cannot use any data from before the `prediction_point` for each customer. However, we can use information about one customer from after their prediction point for a different customer to create features."
   ]
  },
  {
   "cell_type": "code",
   "execution_count": 29,
   "metadata": {},
   "outputs": [
    {
     "data": {
      "text/html": [
       "<div>\n",
       "<style scoped>\n",
       "    .dataframe tbody tr th:only-of-type {\n",
       "        vertical-align: middle;\n",
       "    }\n",
       "\n",
       "    .dataframe tbody tr th {\n",
       "        vertical-align: top;\n",
       "    }\n",
       "\n",
       "    .dataframe thead th {\n",
       "        text-align: right;\n",
       "    }\n",
       "</style>\n",
       "<table border=\"1\" class=\"dataframe\">\n",
       "  <thead>\n",
       "    <tr style=\"text-align: right;\">\n",
       "      <th></th>\n",
       "      <th>order_id</th>\n",
       "      <th>product_id</th>\n",
       "      <th>desc</th>\n",
       "      <th>quantity</th>\n",
       "      <th>date</th>\n",
       "      <th>unit_price</th>\n",
       "      <th>customer_id</th>\n",
       "      <th>country</th>\n",
       "    </tr>\n",
       "  </thead>\n",
       "  <tbody>\n",
       "    <tr>\n",
       "      <th>0</th>\n",
       "      <td>541431</td>\n",
       "      <td>23166</td>\n",
       "      <td>MEDIUM CERAMIC TOP STORAGE JAR</td>\n",
       "      <td>74215</td>\n",
       "      <td>2011-01-18 10:01:00</td>\n",
       "      <td>1.04</td>\n",
       "      <td>12346.0</td>\n",
       "      <td>United Kingdom</td>\n",
       "    </tr>\n",
       "    <tr>\n",
       "      <th>1</th>\n",
       "      <td>C541433</td>\n",
       "      <td>23166</td>\n",
       "      <td>MEDIUM CERAMIC TOP STORAGE JAR</td>\n",
       "      <td>-74215</td>\n",
       "      <td>2011-01-18 10:17:00</td>\n",
       "      <td>1.04</td>\n",
       "      <td>12346.0</td>\n",
       "      <td>United Kingdom</td>\n",
       "    </tr>\n",
       "    <tr>\n",
       "      <th>2</th>\n",
       "      <td>581180</td>\n",
       "      <td>23497</td>\n",
       "      <td>CLASSIC CHROME BICYCLE BELL</td>\n",
       "      <td>12</td>\n",
       "      <td>2011-12-07 15:52:00</td>\n",
       "      <td>1.45</td>\n",
       "      <td>12347.0</td>\n",
       "      <td>Iceland</td>\n",
       "    </tr>\n",
       "    <tr>\n",
       "      <th>3</th>\n",
       "      <td>581180</td>\n",
       "      <td>23552</td>\n",
       "      <td>BICYCLE PUNCTURE REPAIR KIT</td>\n",
       "      <td>6</td>\n",
       "      <td>2011-12-07 15:52:00</td>\n",
       "      <td>2.08</td>\n",
       "      <td>12347.0</td>\n",
       "      <td>Iceland</td>\n",
       "    </tr>\n",
       "    <tr>\n",
       "      <th>4</th>\n",
       "      <td>581180</td>\n",
       "      <td>21064</td>\n",
       "      <td>BOOM BOX SPEAKER BOYS</td>\n",
       "      <td>24</td>\n",
       "      <td>2011-12-07 15:52:00</td>\n",
       "      <td>1.25</td>\n",
       "      <td>12347.0</td>\n",
       "      <td>Iceland</td>\n",
       "    </tr>\n",
       "  </tbody>\n",
       "</table>\n",
       "</div>"
      ],
      "text/plain": [
       "  order_id product_id                            desc quantity  \\\n",
       "0   541431      23166  MEDIUM CERAMIC TOP STORAGE JAR    74215   \n",
       "1  C541433      23166  MEDIUM CERAMIC TOP STORAGE JAR   -74215   \n",
       "2   581180      23497    CLASSIC CHROME BICYCLE BELL        12   \n",
       "3   581180      23552    BICYCLE PUNCTURE REPAIR KIT         6   \n",
       "4   581180      21064           BOOM BOX SPEAKER BOYS       24   \n",
       "\n",
       "                 date  unit_price  customer_id         country  \n",
       "0 2011-01-18 10:01:00        1.04      12346.0  United Kingdom  \n",
       "1 2011-01-18 10:17:00        1.04      12346.0  United Kingdom  \n",
       "2 2011-12-07 15:52:00        1.45      12347.0         Iceland  \n",
       "3 2011-12-07 15:52:00        2.08      12347.0         Iceland  \n",
       "4 2011-12-07 15:52:00        1.25      12347.0         Iceland  "
      ]
     },
     "execution_count": 29,
     "metadata": {},
     "output_type": "execute_result"
    }
   ],
   "source": [
    "data.head()"
   ]
  },
  {
   "cell_type": "markdown",
   "metadata": {},
   "source": [
    "# Feature Engineering\n",
    "\n",
    "The first steps we can take for feature engineering are to modify columns of the purchases data. For example, we can make a `total_cost` column by multipying the `quantity` by the `unit_price`. We can also find the `weekday`, `month`, `hour`, and `minute` of the purchase."
   ]
  },
  {
   "cell_type": "code",
   "execution_count": 30,
   "metadata": {},
   "outputs": [
    {
     "data": {
      "image/png": "[encoded data removed]",
      "text/plain": [
       "<Figure size 432x288 with 1 Axes>"
      ]
     },
     "metadata": {},
     "output_type": "display_data"
    }
   ],
   "source": [
    "import seaborn as sns\n",
    "\n",
    "data['total_price'] = (data['quantity'] * data['unit_price']).astype(np.float32)\n",
    "sns.kdeplot(data['total_price']);"
   ]
  },
  {
   "cell_type": "code",
   "execution_count": 31,
   "metadata": {},
   "outputs": [
    {
     "data": {
      "text/plain": [
       "count    138378.000000\n",
       "mean         17.363026\n",
       "std         723.216187\n",
       "min     -168469.593750\n",
       "25%           3.750000\n",
       "50%          10.200000\n",
       "75%          17.700001\n",
       "max      168469.593750\n",
       "Name: total_price, dtype: float64"
      ]
     },
     "execution_count": 31,
     "metadata": {},
     "output_type": "execute_result"
    }
   ],
   "source": [
    "data['total_price'].describe()"
   ]
  },
  {
   "cell_type": "markdown",
   "metadata": {},
   "source": [
    "There are several negative total prices which are not physically possible. If we look at the original data, this is because there are several orders that were cancelled (identifed by a 'C' preceding the order id). To handle these, we'll remove the cancelled lines themselves but add a flag indicating the order was cancelled.  "
   ]
  },
  {
   "cell_type": "code",
   "execution_count": 32,
   "metadata": {},
   "outputs": [
    {
     "data": {
      "text/plain": [
       "2603"
      ]
     },
     "execution_count": 32,
     "metadata": {},
     "output_type": "execute_result"
    }
   ],
   "source": [
    "data['order_id'] = data['order_id'].astype(str)\n",
    "cancelled_order_ids = [x[1:] for x in data['order_id'] if x.startswith('C')]\n",
    "len(cancelled_order_ids)"
   ]
  },
  {
   "cell_type": "code",
   "execution_count": 33,
   "metadata": {},
   "outputs": [
    {
     "data": {
      "text/plain": [
       "(138378, 10)"
      ]
     },
     "execution_count": 33,
     "metadata": {},
     "output_type": "execute_result"
    }
   ],
   "source": [
    "data['cancelled'] = data['order_id'].isin(cancelled_order_ids)\n",
    "data.shape"
   ]
  },
  {
   "cell_type": "code",
   "execution_count": 34,
   "metadata": {},
   "outputs": [
    {
     "data": {
      "text/plain": [
       "(135775, 10)"
      ]
     },
     "execution_count": 34,
     "metadata": {},
     "output_type": "execute_result"
    }
   ],
   "source": [
    "data = data[~data['order_id'].str.startswith('C')]\n",
    "data.shape"
   ]
  },
  {
   "cell_type": "markdown",
   "metadata": {},
   "source": [
    "Now we'll set to 0 any of the total value where the order was cancelled."
   ]
  },
  {
   "cell_type": "code",
   "execution_count": null,
   "metadata": {},
   "outputs": [],
   "source": [
    "data.loc[data['cancelled'], 'total_price'] = np.nan\n",
    "sns.kdeplot(data['total_price'])"
   ]
  },
  {
   "cell_type": "markdown",
   "metadata": {},
   "source": [
    "The cancelled orders are not duplicated in the orders table but are instead identified by a 'C' in front of the order id. We'll add a flag indicating if the order was cancelled. "
   ]
  },
  {
   "cell_type": "code",
   "execution_count": null,
   "metadata": {},
   "outputs": [],
   "source": [
    "orders['order_id'] = orders['order_id'].astype(str)"
   ]
  },
  {
   "cell_type": "code",
   "execution_count": null,
   "metadata": {},
   "outputs": [],
   "source": [
    "orders['cancelled'] = orders['order_id'].str.startswith('C')\n",
    "orders['cancelled'].value_counts()"
   ]
  },
  {
   "cell_type": "markdown",
   "metadata": {},
   "source": [
    "To make a feature for customers, we can count the number of cancelled orders and the number of non-cancelled orders."
   ]
  },
  {
   "cell_type": "code",
   "execution_count": null,
   "metadata": {},
   "outputs": [],
   "source": [
    "cancelled = pd.DataFrame(orders.groupby('customer_id')['cancelled'].sum())\n",
    "total = pd.DataFrame(orders.groupby('customer_id')['cancelled'].count()).rename(columns = {'cancelled': 'total'})\n",
    "customer_orders = cancelled.merge(total, on = 'customer_id')\n",
    "customer_orders['non_cancelled'] = customer_orders['total'] - customer_orders['cancelled']\n",
    "customer_orders.head()"
   ]
  },
  {
   "cell_type": "code",
   "execution_count": null,
   "metadata": {},
   "outputs": [],
   "source": [
    "customer_orders.describe()"
   ]
  },
  {
   "cell_type": "markdown",
   "metadata": {},
   "source": [
    "We can try to build a model from just this information and see if it is at all useful! "
   ]
  },
  {
   "cell_type": "code",
   "execution_count": null,
   "metadata": {},
   "outputs": [],
   "source": [
    "customers.head()"
   ]
  },
  {
   "cell_type": "code",
   "execution_count": null,
   "metadata": {},
   "outputs": [],
   "source": [
    "from sklearn.model_selection import train_test_split\n",
    "\n",
    "X, X_test, y, y_test = train_test_split(customer_orders, customers['label'],\n",
    "                                        stratify = customers['label'])"
   ]
  },
  {
   "cell_type": "code",
   "execution_count": null,
   "metadata": {},
   "outputs": [],
   "source": [
    "from sklearn.metrics import f1_score, make_scorer\n",
    "\n",
    "scorer = make_scorer(f1_score, average = 'weighted')"
   ]
  },
  {
   "cell_type": "code",
   "execution_count": null,
   "metadata": {},
   "outputs": [],
   "source": [
    "from sklearn.model_selection import cross_val_score\n",
    "from sklearn.ensemble import RandomForestClassifier"
   ]
  },
  {
   "cell_type": "code",
   "execution_count": null,
   "metadata": {},
   "outputs": [],
   "source": [
    "model = RandomForestClassifier()\n",
    "model.fit(X, y)"
   ]
  },
  {
   "cell_type": "code",
   "execution_count": null,
   "metadata": {},
   "outputs": [],
   "source": [
    "lengths = data.groupby('customer_id')['date'].apply(lambda x: x.max() - x.min())"
   ]
  },
  {
   "cell_type": "code",
   "execution_count": null,
   "metadata": {},
   "outputs": [],
   "source": [
    "lengths.describe()"
   ]
  },
  {
   "cell_type": "code",
   "execution_count": null,
   "metadata": {},
   "outputs": [],
   "source": [
    "cross_val_score(model, X, y, scoring = scorer, cv = 5)"
   ]
  },
  {
   "cell_type": "code",
   "execution_count": null,
   "metadata": {},
   "outputs": [],
   "source": [
    "model.feature_importances_"
   ]
  },
  {
   "cell_type": "code",
   "execution_count": null,
   "metadata": {},
   "outputs": [],
   "source": [
    "preds"
   ]
  },
  {
   "cell_type": "code",
   "execution_count": null,
   "metadata": {},
   "outputs": [],
   "source": [
    "X_test"
   ]
  },
  {
   "cell_type": "code",
   "execution_count": null,
   "metadata": {},
   "outputs": [],
   "source": [
    "preds = model.predict(X_test)\n",
    "f1_score(y_test, preds)"
   ]
  },
  {
   "cell_type": "code",
   "execution_count": null,
   "metadata": {},
   "outputs": [],
   "source": []
  },
  {
   "cell_type": "code",
   "execution_count": null,
   "metadata": {},
   "outputs": [],
   "source": [
    "x, y = ecdf(data['total_price'])\n",
    "plt.plot(x, y)"
   ]
  },
  {
   "cell_type": "code",
   "execution_count": null,
   "metadata": {},
   "outputs": [],
   "source": [
    "data.loc[(data['total_price'] < 0) | (data['total_price'] > 10000), 'total_price'] = np.nan\n",
    "sns.kdeplot(data['total_price']);"
   ]
  },
  {
   "cell_type": "code",
   "execution_count": null,
   "metadata": {},
   "outputs": [],
   "source": [
    "data['weekday'] = data['date'].dt.weekday\n",
    "data['month'] = data['date'].dt.month\n",
    "data['minute'] = data['date'].dt.minute\n",
    "data['hour'] = data['date'].dt.hour\n",
    "\n",
    "data.head()"
   ]
  },
  {
   "cell_type": "code",
   "execution_count": null,
   "metadata": {},
   "outputs": [],
   "source": [
    "data['weekday'].value_counts().sort_index().plot.bar(color = 'orange');"
   ]
  },
  {
   "cell_type": "code",
   "execution_count": null,
   "metadata": {},
   "outputs": [],
   "source": [
    "data['hour'].value_counts().sort_index().plot.bar(color = 'orange');"
   ]
  },
  {
   "cell_type": "markdown",
   "metadata": {},
   "source": [
    "Now we can start making features for each customer. As an example, we can count the number of previous orders by the customer. Then, we can divide the number of previous orders by the date between the first and last occurrence of the customer in the data to come up with a rate of purchases. "
   ]
  },
  {
   "cell_type": "code",
   "execution_count": null,
   "metadata": {},
   "outputs": [],
   "source": [
    "date_limits = usable_data"
   ]
  },
  {
   "cell_type": "code",
   "execution_count": null,
   "metadata": {},
   "outputs": [],
   "source": [
    "orders = orders.merge(data, on = 'order_id', how = 'left'a\n",
    "                     )\n",
    "orders.head()"
   ]
  },
  {
   "cell_type": "code",
   "execution_count": null,
   "metadata": {},
   "outputs": [],
   "source": [
    "ft_data = ft.demo.load_retail()\n",
    "ft_data"
   ]
  },
  {
   "cell_type": "code",
   "execution_count": null,
   "metadata": {},
   "outputs": [],
   "source": []
  }
 ],
 "metadata": {
  "kernelspec": {
   "display_name": "Python 3",
   "language": "python",
   "name": "python3"
  },
  "language_info": {
   "codemirror_mode": {
    "name": "ipython",
    "version": 3
   },
   "file_extension": ".py",
   "mimetype": "text/x-python",
   "name": "python",
   "nbconvert_exporter": "python",
   "pygments_lexer": "ipython3",
   "version": "3.6.5"
  }
 },
 "nbformat": 4,
 "nbformat_minor": 2
}
