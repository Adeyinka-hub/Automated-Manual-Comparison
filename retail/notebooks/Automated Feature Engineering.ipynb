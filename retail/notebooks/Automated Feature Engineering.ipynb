{
 "cells": [
  {
   "cell_type": "markdown",
   "metadata": {},
   "source": [
    "# Automated Feature Engineering\n",
    "\n",
    "In this notebook, we will try our hand at automated feature engineering with the retail entity set. The objective is to predict whether or not a customer will spend more than \\$500 in the next 30 days.\n",
    "\n",
    "## Roadmap \n",
    "\n",
    "1. Format Data into an entityset\n",
    "2. Develop a prediction problem\n",
    "    * Create a dataframe of labels and cutoff times\n",
    "    * Each customer can appear multiple times as a different label\n",
    "3. Run deep feature sythesis on the entity to make features\n",
    "    * Use the cutoff times to make features using valid data for each labels\n",
    "4. Use the features to train a machine learning model\n",
    "5. Tune deep feature synthesis \n",
    "6. Use random search for hyperparamter tuning the model\n",
    "\n",
    "This problem is a great display of featuretools because it is time-based and can be broken down into different tables. Doing this problem by hand is nearly impossible to keep track of all the different cutoff times and valid data."
   ]
  },
  {
   "cell_type": "code",
   "execution_count": null,
   "metadata": {},
   "outputs": [],
   "source": [
    "import pandas as pd \n",
    "import numpy as np\n",
    "\n",
    "import matplotlib.pyplot as plt\n",
    "import seaborn as sns\n",
    "\n",
    "%matplotlib inline\n",
    "\n",
    "import featuretools as ft\n",
    "\n",
    "from sklearn.pipeline import Pipeline"
   ]
  },
  {
   "cell_type": "markdown",
   "metadata": {},
   "source": [
    "### Load in Raw Data\n",
    "\n",
    "The raw data is a collection of purchases from an online retailer collected in 2011. Each row in the original data represents one product that was purchased.\n",
    "We'll load in the data from an s3 bucket, convert the price in Pounds to dollars (based on the exchange rate on May 31, 2011) and create a column representing the total of the purchase. "
   ]
  },
  {
   "cell_type": "code",
   "execution_count": 50,
   "metadata": {},
   "outputs": [
    {
     "data": {
      "text/html": [
       "<div>\n",
       "<style scoped>\n",
       "    .dataframe tbody tr th:only-of-type {\n",
       "        vertical-align: middle;\n",
       "    }\n",
       "\n",
       "    .dataframe tbody tr th {\n",
       "        vertical-align: top;\n",
       "    }\n",
       "\n",
       "    .dataframe thead th {\n",
       "        text-align: right;\n",
       "    }\n",
       "</style>\n",
       "<table border=\"1\" class=\"dataframe\">\n",
       "  <thead>\n",
       "    <tr style=\"text-align: right;\">\n",
       "      <th></th>\n",
       "      <th>order_id</th>\n",
       "      <th>product_id</th>\n",
       "      <th>description</th>\n",
       "      <th>quantity</th>\n",
       "      <th>order_date</th>\n",
       "      <th>price</th>\n",
       "      <th>customer_id</th>\n",
       "      <th>country</th>\n",
       "      <th>total</th>\n",
       "    </tr>\n",
       "  </thead>\n",
       "  <tbody>\n",
       "    <tr>\n",
       "      <th>42481</th>\n",
       "      <td>539993</td>\n",
       "      <td>22386</td>\n",
       "      <td>JUMBO BAG PINK POLKADOT</td>\n",
       "      <td>10</td>\n",
       "      <td>2011-01-04 10:00:00</td>\n",
       "      <td>3.2175</td>\n",
       "      <td>13313.0</td>\n",
       "      <td>United Kingdom</td>\n",
       "      <td>32.175</td>\n",
       "    </tr>\n",
       "    <tr>\n",
       "      <th>42482</th>\n",
       "      <td>539993</td>\n",
       "      <td>21499</td>\n",
       "      <td>BLUE POLKADOT WRAP</td>\n",
       "      <td>25</td>\n",
       "      <td>2011-01-04 10:00:00</td>\n",
       "      <td>0.6930</td>\n",
       "      <td>13313.0</td>\n",
       "      <td>United Kingdom</td>\n",
       "      <td>17.325</td>\n",
       "    </tr>\n",
       "    <tr>\n",
       "      <th>42483</th>\n",
       "      <td>539993</td>\n",
       "      <td>21498</td>\n",
       "      <td>RED RETROSPOT WRAP</td>\n",
       "      <td>25</td>\n",
       "      <td>2011-01-04 10:00:00</td>\n",
       "      <td>0.6930</td>\n",
       "      <td>13313.0</td>\n",
       "      <td>United Kingdom</td>\n",
       "      <td>17.325</td>\n",
       "    </tr>\n",
       "    <tr>\n",
       "      <th>42484</th>\n",
       "      <td>539993</td>\n",
       "      <td>22379</td>\n",
       "      <td>RECYCLING BAG RETROSPOT</td>\n",
       "      <td>5</td>\n",
       "      <td>2011-01-04 10:00:00</td>\n",
       "      <td>3.4650</td>\n",
       "      <td>13313.0</td>\n",
       "      <td>United Kingdom</td>\n",
       "      <td>17.325</td>\n",
       "    </tr>\n",
       "    <tr>\n",
       "      <th>42485</th>\n",
       "      <td>539993</td>\n",
       "      <td>20718</td>\n",
       "      <td>RED RETROSPOT SHOPPER BAG</td>\n",
       "      <td>10</td>\n",
       "      <td>2011-01-04 10:00:00</td>\n",
       "      <td>2.0625</td>\n",
       "      <td>13313.0</td>\n",
       "      <td>United Kingdom</td>\n",
       "      <td>20.625</td>\n",
       "    </tr>\n",
       "  </tbody>\n",
       "</table>\n",
       "</div>"
      ],
      "text/plain": [
       "      order_id product_id                description  quantity  \\\n",
       "42481   539993      22386    JUMBO BAG PINK POLKADOT        10   \n",
       "42482   539993      21499         BLUE POLKADOT WRAP        25   \n",
       "42483   539993      21498        RED RETROSPOT WRAP         25   \n",
       "42484   539993      22379   RECYCLING BAG RETROSPOT          5   \n",
       "42485   539993      20718  RED RETROSPOT SHOPPER BAG        10   \n",
       "\n",
       "               order_date   price  customer_id         country   total  \n",
       "42481 2011-01-04 10:00:00  3.2175      13313.0  United Kingdom  32.175  \n",
       "42482 2011-01-04 10:00:00  0.6930      13313.0  United Kingdom  17.325  \n",
       "42483 2011-01-04 10:00:00  0.6930      13313.0  United Kingdom  17.325  \n",
       "42484 2011-01-04 10:00:00  3.4650      13313.0  United Kingdom  17.325  \n",
       "42485 2011-01-04 10:00:00  2.0625      13313.0  United Kingdom  20.625  "
      ]
     },
     "execution_count": 50,
     "metadata": {},
     "output_type": "execute_result"
    }
   ],
   "source": [
    "csv_s3 = \"s3://featurelabs-static/online-retail-logs.csv\"\n",
    "data = pd.read_csv(csv_s3, parse_dates=[\"order_date\"])\n",
    "# Convert to dollars\n",
    "data['price'] = data['price'] * 1.65\n",
    "data['total'] = data['price'] * data['quantity']\n",
    "\n",
    "# Restrict data to 2011\n",
    "data = data[data['order_date'].dt.year == 2011]\n",
    "\n",
    "data.head()"
   ]
  },
  {
   "cell_type": "markdown",
   "metadata": {},
   "source": [
    "There are a few issues we need to address with the data. First, we'll drop the duplicated rows, then we'll drop any rows that contain a `nan`. Finally, we can add a `Boolean` column indicating whether or not an order is a cancellation."
   ]
  },
  {
   "cell_type": "code",
   "execution_count": 51,
   "metadata": {},
   "outputs": [
    {
     "data": {
      "image/png": "[encoded data removed]",
      "text/plain": [
       "<Figure size 432x288 with 1 Axes>"
      ]
     },
     "metadata": {},
     "output_type": "display_data"
    }
   ],
   "source": [
    "# drop the duplicates\n",
    "data = data.drop_duplicates()\n",
    "\n",
    "# drop rows with null customer id\n",
    "data = data.dropna(axis=0)\n",
    "\n",
    "data['cancelled'] = data['order_id'].str.startswith('C')\n",
    "data['cancelled'].value_counts().plot.bar();\n",
    "plt.title('Cancelled Purchases Breakdown');"
   ]
  },
  {
   "cell_type": "markdown",
   "metadata": {},
   "source": [
    "All of the cancelled orders have negative quantities which mean that they cancel out with the corresponding purchase. "
   ]
  },
  {
   "cell_type": "code",
   "execution_count": 52,
   "metadata": {},
   "outputs": [
    {
     "data": {
      "image/png": "[encoded data removed]",
      "text/plain": [
       "<Figure size 432x288 with 1 Axes>"
      ]
     },
     "metadata": {},
     "output_type": "display_data"
    }
   ],
   "source": [
    "sns.violinplot(x = 'cancelled', y = 'total', data = data);\n",
    "plt.title(\"Total Purchase Amount Violin Plot\");"
   ]
  },
  {
   "cell_type": "markdown",
   "metadata": {},
   "source": [
    "Now we can go ahead and create an `EntitySet`. Initially we'll add the entire `data` as an `entity` to the set."
   ]
  },
  {
   "cell_type": "code",
   "execution_count": 53,
   "metadata": {},
   "outputs": [
    {
     "name": "stdout",
     "output_type": "stream",
     "text": [
      "2018-07-27 10:21:04,536 featuretools.entityset - WARNING    index order_product_id not found in dataframe, creating new integer column\n"
     ]
    },
    {
     "data": {
      "text/plain": [
       "Entityset: Online Retail Logs\n",
       "  Entities:\n",
       "    order_products [Rows: 375250, Columns: 11]\n",
       "  Relationships:\n",
       "    No relationships"
      ]
     },
     "execution_count": 53,
     "metadata": {},
     "output_type": "execute_result"
    }
   ],
   "source": [
    "es = ft.EntitySet(id=\"Online Retail Logs\")\n",
    "\n",
    "# Add the entire data table as an entity\n",
    "es.entity_from_dataframe(\"order_products\",\n",
    "                         dataframe=data,\n",
    "                         index=\"order_product_id\",\n",
    "                         time_index = 'order_date',\n",
    "                         variable_types={'description': ft.variable_types.Text})"
   ]
  },
  {
   "cell_type": "markdown",
   "metadata": {},
   "source": [
    "In order to create new tables out of the original table, we can normalize this `entity`. This creates new tables by creating a unique row for every variable that we pass in, such as the customer or the product."
   ]
  },
  {
   "cell_type": "code",
   "execution_count": 54,
   "metadata": {},
   "outputs": [
    {
     "data": {
      "text/html": [
       "<div>\n",
       "<style scoped>\n",
       "    .dataframe tbody tr th:only-of-type {\n",
       "        vertical-align: middle;\n",
       "    }\n",
       "\n",
       "    .dataframe tbody tr th {\n",
       "        vertical-align: top;\n",
       "    }\n",
       "\n",
       "    .dataframe thead th {\n",
       "        text-align: right;\n",
       "    }\n",
       "</style>\n",
       "<table border=\"1\" class=\"dataframe\">\n",
       "  <thead>\n",
       "    <tr style=\"text-align: right;\">\n",
       "      <th></th>\n",
       "      <th>product_id</th>\n",
       "      <th>description</th>\n",
       "      <th>first_order_products_time</th>\n",
       "    </tr>\n",
       "  </thead>\n",
       "  <tbody>\n",
       "    <tr>\n",
       "      <th>20682</th>\n",
       "      <td>20682</td>\n",
       "      <td>RED RETROSPOT CHILDRENS UMBRELLA</td>\n",
       "      <td>2011-01-04 10:00:00</td>\n",
       "    </tr>\n",
       "    <tr>\n",
       "      <th>20718</th>\n",
       "      <td>20718</td>\n",
       "      <td>RED RETROSPOT SHOPPER BAG</td>\n",
       "      <td>2011-01-04 10:00:00</td>\n",
       "    </tr>\n",
       "    <tr>\n",
       "      <th>21498</th>\n",
       "      <td>21498</td>\n",
       "      <td>RED RETROSPOT WRAP</td>\n",
       "      <td>2011-01-04 10:00:00</td>\n",
       "    </tr>\n",
       "    <tr>\n",
       "      <th>21499</th>\n",
       "      <td>21499</td>\n",
       "      <td>BLUE POLKADOT WRAP</td>\n",
       "      <td>2011-01-04 10:00:00</td>\n",
       "    </tr>\n",
       "    <tr>\n",
       "      <th>22302</th>\n",
       "      <td>22302</td>\n",
       "      <td>COFFEE MUG PEARS  DESIGN</td>\n",
       "      <td>2011-01-04 10:00:00</td>\n",
       "    </tr>\n",
       "  </tbody>\n",
       "</table>\n",
       "</div>"
      ],
      "text/plain": [
       "      product_id                       description first_order_products_time\n",
       "20682      20682  RED RETROSPOT CHILDRENS UMBRELLA       2011-01-04 10:00:00\n",
       "20718      20718         RED RETROSPOT SHOPPER BAG       2011-01-04 10:00:00\n",
       "21498      21498               RED RETROSPOT WRAP        2011-01-04 10:00:00\n",
       "21499      21499                BLUE POLKADOT WRAP       2011-01-04 10:00:00\n",
       "22302      22302          COFFEE MUG PEARS  DESIGN       2011-01-04 10:00:00"
      ]
     },
     "execution_count": 54,
     "metadata": {},
     "output_type": "execute_result"
    }
   ],
   "source": [
    "# create a new \"products\" entity\n",
    "es.normalize_entity(new_entity_id=\"products\",\n",
    "                    base_entity_id=\"order_products\",\n",
    "                    index=\"product_id\",\n",
    "                    additional_variables=[\"description\"])\n",
    "\n",
    "es['products'].df.head()"
   ]
  },
  {
   "cell_type": "markdown",
   "metadata": {},
   "source": [
    "What this has done is created a new table where every product has one row (it is normalized by the product). The `first_order_products_time` represents the first time the `product` appears in the data. We can use this table to create new features and this table is a parent of the `order_products` table with the linknage through the `product_id`.\n",
    "\n",
    "We'll repeat the process to create tables for both the `customers` and the `orders`. Using `normalize_entity` automatically creates the relationships and time index so we don't have to do that ourselves."
   ]
  },
  {
   "cell_type": "code",
   "execution_count": 55,
   "metadata": {},
   "outputs": [
    {
     "data": {
      "text/plain": [
       "Entityset: Online Retail Logs\n",
       "  Entities:\n",
       "    order_products [Rows: 375250, Columns: 7]\n",
       "    products [Rows: 3612, Columns: 3]\n",
       "    orders [Rows: 20482, Columns: 5]\n",
       "    customers [Rows: 4244, Columns: 2]\n",
       "  Relationships:\n",
       "    order_products.product_id -> products.product_id\n",
       "    order_products.order_id -> orders.order_id\n",
       "    orders.customer_id -> customers.customer_id"
      ]
     },
     "execution_count": 55,
     "metadata": {},
     "output_type": "execute_result"
    }
   ],
   "source": [
    "# create a new \"orders\" entity\n",
    "es.normalize_entity(new_entity_id=\"orders\",\n",
    "                    base_entity_id=\"order_products\",\n",
    "                    index=\"order_id\",\n",
    "                    additional_variables=[\n",
    "                        \"customer_id\", \"country\", 'cancelled'])\n",
    "\n",
    "# create a new \"customers\" entity based on the orders entity\n",
    "es.normalize_entity(new_entity_id=\"customers\",\n",
    "                    base_entity_id=\"orders\",\n",
    "                    index=\"customer_id\")\n",
    "\n",
    "es"
   ]
  },
  {
   "cell_type": "markdown",
   "metadata": {},
   "source": [
    "The next step is to define the prediction problem.\n",
    "\n",
    "# Prediction Problem\n",
    "\n",
    "The goal of machine learning is to predict some quantity or a label. In this case, we will make it our aim to predict whether or not a customer will spend more than \\$500 in the next 30 days. However, instead of picking one point in the data and making predictions for the next 30 days, we can select multiple points in the data and ask will the customer spend \\$500 over the next month. We therefore get multiple labelled training examples for each customer.\n",
    "\n",
    "The function below takes in a start date and an end date (which we can set to 30 days apart) and generates a dataframe of the labels, which is the amount the customter spent in the period. For customers who appear in the data prior to the start date but then do have a purchase in between the start and end date, we want to set their total to 0."
   ]
  },
  {
   "cell_type": "code",
   "execution_count": 56,
   "metadata": {},
   "outputs": [],
   "source": [
    "def make_retail_cutoffs_total(start_date, end_date, threshold = 500):\n",
    "    \n",
    "    # Find customers who exist before start date\n",
    "    customer_pool = data[data['order_date'] < start_date]['customer_id'].unique()\n",
    "    tmp = pd.DataFrame({'customer_id': customer_pool})\n",
    "\n",
    "    # For customers in the customer pool, find their sum between the start and end date\n",
    "    totals = data[data['customer_id'].isin(customer_pool) & \n",
    "        (data['order_date'] > start_date) & \n",
    "        (data['order_date']<end_date)\n",
    "    ].groupby('customer_id')['total'].sum().reset_index()\n",
    "    \n",
    "    # Merge with all the customer ids to record all customers who existed before start date\n",
    "    totals = totals.merge(tmp, on = 'customer_id', how = 'right')\n",
    "\n",
    "    # Set the total for any customer who did not have a purchase in the timeframe equal to 0\n",
    "    totals['total'] = totals['total'].fillna(0)\n",
    "    \n",
    "    # Label is based on the threshold\n",
    "    totals['label'] = (totals['total'] > threshold).astype(int)\n",
    "        \n",
    "    # The cutoff time is the start date\n",
    "    totals['cutoff_time'] = pd.to_datetime(start_date)\n",
    "    totals = totals[['customer_id', 'cutoff_time', 'total', 'label']]\n",
    "    \n",
    "    return totals"
   ]
  },
  {
   "cell_type": "code",
   "execution_count": 57,
   "metadata": {},
   "outputs": [
    {
     "data": {
      "text/html": [
       "<div>\n",
       "<style scoped>\n",
       "    .dataframe tbody tr th:only-of-type {\n",
       "        vertical-align: middle;\n",
       "    }\n",
       "\n",
       "    .dataframe tbody tr th {\n",
       "        vertical-align: top;\n",
       "    }\n",
       "\n",
       "    .dataframe thead th {\n",
       "        text-align: right;\n",
       "    }\n",
       "</style>\n",
       "<table border=\"1\" class=\"dataframe\">\n",
       "  <thead>\n",
       "    <tr style=\"text-align: right;\">\n",
       "      <th></th>\n",
       "      <th>customer_id</th>\n",
       "      <th>cutoff_time</th>\n",
       "      <th>total</th>\n",
       "      <th>label</th>\n",
       "    </tr>\n",
       "  </thead>\n",
       "  <tbody>\n",
       "    <tr>\n",
       "      <th>0</th>\n",
       "      <td>12372.0</td>\n",
       "      <td>2011-05-01</td>\n",
       "      <td>850.9050</td>\n",
       "      <td>1</td>\n",
       "    </tr>\n",
       "    <tr>\n",
       "      <th>1</th>\n",
       "      <td>12395.0</td>\n",
       "      <td>2011-05-01</td>\n",
       "      <td>547.4535</td>\n",
       "      <td>1</td>\n",
       "    </tr>\n",
       "    <tr>\n",
       "      <th>2</th>\n",
       "      <td>12399.0</td>\n",
       "      <td>2011-05-01</td>\n",
       "      <td>793.4850</td>\n",
       "      <td>1</td>\n",
       "    </tr>\n",
       "    <tr>\n",
       "      <th>3</th>\n",
       "      <td>12414.0</td>\n",
       "      <td>2011-05-01</td>\n",
       "      <td>273.6525</td>\n",
       "      <td>0</td>\n",
       "    </tr>\n",
       "    <tr>\n",
       "      <th>4</th>\n",
       "      <td>12415.0</td>\n",
       "      <td>2011-05-01</td>\n",
       "      <td>20940.4140</td>\n",
       "      <td>1</td>\n",
       "    </tr>\n",
       "  </tbody>\n",
       "</table>\n",
       "</div>"
      ],
      "text/plain": [
       "   customer_id cutoff_time       total  label\n",
       "0      12372.0  2011-05-01    850.9050      1\n",
       "1      12395.0  2011-05-01    547.4535      1\n",
       "2      12399.0  2011-05-01    793.4850      1\n",
       "3      12414.0  2011-05-01    273.6525      0\n",
       "4      12415.0  2011-05-01  20940.4140      1"
      ]
     },
     "execution_count": 57,
     "metadata": {},
     "output_type": "execute_result"
    }
   ],
   "source": [
    "may_spending = make_retail_cutoffs_total(pd.datetime(2011, 5, 1), pd.datetime(2011, 6, 1))\n",
    "may_spending.head()"
   ]
  },
  {
   "cell_type": "markdown",
   "metadata": {},
   "source": [
    "Because we set the total to zero for any customers who did not have a purchase, the `total` comes out to be very imbalanced. However, we cannot only count the customers who did have a purchase in the time frame because that would be essentially cheating with the data!"
   ]
  },
  {
   "cell_type": "code",
   "execution_count": 58,
   "metadata": {},
   "outputs": [
    {
     "data": {
      "image/png": "[encoded data removed]",
      "text/plain": [
       "<Figure size 432x288 with 1 Axes>"
      ]
     },
     "metadata": {},
     "output_type": "display_data"
    }
   ],
   "source": [
    "sns.violinplot(may_spending['total']);"
   ]
  },
  {
   "cell_type": "code",
   "execution_count": 59,
   "metadata": {},
   "outputs": [
    {
     "data": {
      "image/png": "[encoded data removed]",
      "text/plain": [
       "<Figure size 432x288 with 1 Axes>"
      ]
     },
     "metadata": {},
     "output_type": "display_data"
    }
   ],
   "source": [
    "may_spending['label'].value_counts().plot.bar();"
   ]
  },
  {
   "cell_type": "markdown",
   "metadata": {},
   "source": [
    "We also have negative spending indicating customers who only had a cancelled order in the month (or at least more cancellations than purchases). These aren't necessarily an issue because we will frame this as a binary classification problem. We can now calculate the labels for 7 more months using the threshold of \\$500. At the end we will concatenate all of these into one label dataframe."
   ]
  },
  {
   "cell_type": "code",
   "execution_count": 60,
   "metadata": {},
   "outputs": [],
   "source": [
    "june_spending = make_retail_cutoffs_total('2011-06-01', '2011-07-01', 500)\n",
    "july_spending = make_retail_cutoffs_total('2011-07-01', '2011-08-01', 500)\n",
    "august_spending = make_retail_cutoffs_total('2011-08-01', '2011-09-01', 500)\n",
    "september_spending = make_retail_cutoffs_total('2011-09-01', '2011-10-01', 500)\n",
    "october_spending = make_retail_cutoffs_total('2011-10-01', '2011-11-01', 500)\n",
    "november_spending = make_retail_cutoffs_total('2011-11-01', '2011-12-01', 500)\n",
    "december_spending = make_retail_cutoffs_total('2011-12-01', '2012-01-01', 500)"
   ]
  },
  {
   "cell_type": "code",
   "execution_count": 61,
   "metadata": {},
   "outputs": [
    {
     "data": {
      "text/html": [
       "<div>\n",
       "<style scoped>\n",
       "    .dataframe tbody tr th:only-of-type {\n",
       "        vertical-align: middle;\n",
       "    }\n",
       "\n",
       "    .dataframe tbody tr th {\n",
       "        vertical-align: top;\n",
       "    }\n",
       "\n",
       "    .dataframe thead th {\n",
       "        text-align: right;\n",
       "    }\n",
       "</style>\n",
       "<table border=\"1\" class=\"dataframe\">\n",
       "  <thead>\n",
       "    <tr style=\"text-align: right;\">\n",
       "      <th></th>\n",
       "      <th>customer_id</th>\n",
       "      <th>total</th>\n",
       "      <th>label</th>\n",
       "    </tr>\n",
       "  </thead>\n",
       "  <tbody>\n",
       "    <tr>\n",
       "      <th>count</th>\n",
       "      <td>25039.000000</td>\n",
       "      <td>25039.000000</td>\n",
       "      <td>25039.000000</td>\n",
       "    </tr>\n",
       "    <tr>\n",
       "      <th>mean</th>\n",
       "      <td>15274.220017</td>\n",
       "      <td>324.757930</td>\n",
       "      <td>0.168857</td>\n",
       "    </tr>\n",
       "    <tr>\n",
       "      <th>std</th>\n",
       "      <td>1719.499912</td>\n",
       "      <td>1922.739028</td>\n",
       "      <td>0.374633</td>\n",
       "    </tr>\n",
       "    <tr>\n",
       "      <th>min</th>\n",
       "      <td>12346.000000</td>\n",
       "      <td>-5916.636000</td>\n",
       "      <td>0.000000</td>\n",
       "    </tr>\n",
       "    <tr>\n",
       "      <th>25%</th>\n",
       "      <td>13784.000000</td>\n",
       "      <td>0.000000</td>\n",
       "      <td>0.000000</td>\n",
       "    </tr>\n",
       "    <tr>\n",
       "      <th>50%</th>\n",
       "      <td>15241.000000</td>\n",
       "      <td>0.000000</td>\n",
       "      <td>0.000000</td>\n",
       "    </tr>\n",
       "    <tr>\n",
       "      <th>75%</th>\n",
       "      <td>16755.000000</td>\n",
       "      <td>184.395750</td>\n",
       "      <td>0.000000</td>\n",
       "    </tr>\n",
       "    <tr>\n",
       "      <th>max</th>\n",
       "      <td>18287.000000</td>\n",
       "      <td>115906.725000</td>\n",
       "      <td>1.000000</td>\n",
       "    </tr>\n",
       "  </tbody>\n",
       "</table>\n",
       "</div>"
      ],
      "text/plain": [
       "        customer_id          total         label\n",
       "count  25039.000000   25039.000000  25039.000000\n",
       "mean   15274.220017     324.757930      0.168857\n",
       "std     1719.499912    1922.739028      0.374633\n",
       "min    12346.000000   -5916.636000      0.000000\n",
       "25%    13784.000000       0.000000      0.000000\n",
       "50%    15241.000000       0.000000      0.000000\n",
       "75%    16755.000000     184.395750      0.000000\n",
       "max    18287.000000  115906.725000      1.000000"
      ]
     },
     "execution_count": 61,
     "metadata": {},
     "output_type": "execute_result"
    }
   ],
   "source": [
    "labels = pd.concat([may_spending, june_spending, july_spending, august_spending, \n",
    "                    september_spending, october_spending, november_spending, december_spending], axis = 0)\n",
    "labels.describe()"
   ]
  },
  {
   "cell_type": "markdown",
   "metadata": {},
   "source": [
    "That gives us over 25,000 labels to work with. Each label represents one customer-month with ~16% of the labels as True. We can plot the total spending by month. "
   ]
  },
  {
   "cell_type": "code",
   "execution_count": 62,
   "metadata": {},
   "outputs": [
    {
     "data": {
      "image/png": "[encoded data removed]",
      "text/plain": [
       "<Figure size 432x288 with 1 Axes>"
      ]
     },
     "metadata": {},
     "output_type": "display_data"
    }
   ],
   "source": [
    "labels['month'] = labels['cutoff_time'].dt.month\n",
    "sns.boxplot(x = 'month', y = 'total', data = labels);\n",
    "plt.title('Customer Spending by Month');"
   ]
  },
  {
   "cell_type": "code",
   "execution_count": 117,
   "metadata": {},
   "outputs": [],
   "source": [
    "def ecdf(data):\n",
    "    x = np.sort(data)\n",
    "    y = np.arange(1, len(x) + 1) / len(x)\n",
    "    return x, y"
   ]
  },
  {
   "cell_type": "code",
   "execution_count": 118,
   "metadata": {},
   "outputs": [
    {
     "data": {
      "image/png": "[encoded data removed]",
      "text/plain": [
       "<Figure size 432x288 with 1 Axes>"
      ]
     },
     "metadata": {},
     "output_type": "display_data"
    }
   ],
   "source": [
    "x, y = ecdf(labels['total'])\n",
    "plt.plot(x, y, marker = '.')\n",
    "plt.xlabel('Total'); plt.ylabel('Percentile'); plt.title('ECDF of Total');"
   ]
  },
  {
   "cell_type": "markdown",
   "metadata": {},
   "source": [
    "The empirical cumulative distribution function plot shows a clear imbalance in the total spending with most customers around 0, but a few large spenders. There are also a few customers that had more cancellations (which show up as negative) than purchases in the time frame. "
   ]
  },
  {
   "cell_type": "markdown",
   "metadata": {},
   "source": [
    "# Deep Feature Synthesis \n",
    "\n",
    "Using the labels and the entityset, we can now directly use deep feature synthesis. The following function will generate 100s of features for our problem, with one row for each customer and the columns holding the features."
   ]
  },
  {
   "cell_type": "code",
   "execution_count": 78,
   "metadata": {},
   "outputs": [
    {
     "name": "stdout",
     "output_type": "stream",
     "text": [
      "Built 143 features\n",
      "EntitySet scattered to workers in 1.736 seconds\n",
      "Elapsed: 10:18 | Remaining: 00:00 | Progress: 100%|██████████| Calculated: 1/1 chunks\n"
     ]
    },
    {
     "data": {
      "text/html": [
       "<div>\n",
       "<style scoped>\n",
       "    .dataframe tbody tr th:only-of-type {\n",
       "        vertical-align: middle;\n",
       "    }\n",
       "\n",
       "    .dataframe tbody tr th {\n",
       "        vertical-align: top;\n",
       "    }\n",
       "\n",
       "    .dataframe thead th {\n",
       "        text-align: right;\n",
       "    }\n",
       "</style>\n",
       "<table border=\"1\" class=\"dataframe\">\n",
       "  <thead>\n",
       "    <tr style=\"text-align: right;\">\n",
       "      <th></th>\n",
       "      <th></th>\n",
       "      <th>COUNT(orders)</th>\n",
       "      <th>PERCENT_TRUE(orders.cancelled)</th>\n",
       "      <th>NUM_UNIQUE(orders.country)</th>\n",
       "      <th>MODE(orders.country)</th>\n",
       "      <th>SUM(order_products.quantity)</th>\n",
       "      <th>SUM(order_products.price)</th>\n",
       "      <th>SUM(order_products.total)</th>\n",
       "      <th>STD(order_products.quantity)</th>\n",
       "      <th>STD(order_products.price)</th>\n",
       "      <th>STD(order_products.total)</th>\n",
       "      <th>...</th>\n",
       "      <th>NUM_UNIQUE(orders.MONTH(first_order_products_time))</th>\n",
       "      <th>NUM_UNIQUE(orders.WEEKDAY(first_order_products_time))</th>\n",
       "      <th>MODE(orders.MODE(order_products.product_id))</th>\n",
       "      <th>MODE(orders.DAY(first_order_products_time))</th>\n",
       "      <th>MODE(orders.YEAR(first_order_products_time))</th>\n",
       "      <th>MODE(orders.MONTH(first_order_products_time))</th>\n",
       "      <th>MODE(orders.WEEKDAY(first_order_products_time))</th>\n",
       "      <th>total</th>\n",
       "      <th>label</th>\n",
       "      <th>month</th>\n",
       "    </tr>\n",
       "    <tr>\n",
       "      <th>customer_id</th>\n",
       "      <th>time</th>\n",
       "      <th></th>\n",
       "      <th></th>\n",
       "      <th></th>\n",
       "      <th></th>\n",
       "      <th></th>\n",
       "      <th></th>\n",
       "      <th></th>\n",
       "      <th></th>\n",
       "      <th></th>\n",
       "      <th></th>\n",
       "      <th></th>\n",
       "      <th></th>\n",
       "      <th></th>\n",
       "      <th></th>\n",
       "      <th></th>\n",
       "      <th></th>\n",
       "      <th></th>\n",
       "      <th></th>\n",
       "      <th></th>\n",
       "      <th></th>\n",
       "      <th></th>\n",
       "    </tr>\n",
       "  </thead>\n",
       "  <tbody>\n",
       "    <tr>\n",
       "      <th>12346.0</th>\n",
       "      <th>2011-05-01</th>\n",
       "      <td>2</td>\n",
       "      <td>0.500</td>\n",
       "      <td>1</td>\n",
       "      <td>United Kingdom</td>\n",
       "      <td>0</td>\n",
       "      <td>3.4320</td>\n",
       "      <td>0.000</td>\n",
       "      <td>74215.000000</td>\n",
       "      <td>0.000000</td>\n",
       "      <td>127352.940000</td>\n",
       "      <td>...</td>\n",
       "      <td>1</td>\n",
       "      <td>1</td>\n",
       "      <td>23166</td>\n",
       "      <td>18</td>\n",
       "      <td>2011</td>\n",
       "      <td>1</td>\n",
       "      <td>1</td>\n",
       "      <td>0.0</td>\n",
       "      <td>0</td>\n",
       "      <td>5</td>\n",
       "    </tr>\n",
       "    <tr>\n",
       "      <th>12347.0</th>\n",
       "      <th>2011-05-01</th>\n",
       "      <td>2</td>\n",
       "      <td>0.000</td>\n",
       "      <td>1</td>\n",
       "      <td>Iceland</td>\n",
       "      <td>798</td>\n",
       "      <td>223.5090</td>\n",
       "      <td>1834.206</td>\n",
       "      <td>32.080921</td>\n",
       "      <td>4.049262</td>\n",
       "      <td>53.512381</td>\n",
       "      <td>...</td>\n",
       "      <td>2</td>\n",
       "      <td>2</td>\n",
       "      <td>16008</td>\n",
       "      <td>7</td>\n",
       "      <td>2011</td>\n",
       "      <td>1</td>\n",
       "      <td>2</td>\n",
       "      <td>0.0</td>\n",
       "      <td>0</td>\n",
       "      <td>5</td>\n",
       "    </tr>\n",
       "    <tr>\n",
       "      <th>12348.0</th>\n",
       "      <th>2011-05-01</th>\n",
       "      <td>2</td>\n",
       "      <td>0.000</td>\n",
       "      <td>1</td>\n",
       "      <td>Finland</td>\n",
       "      <td>870</td>\n",
       "      <td>142.9065</td>\n",
       "      <td>980.826</td>\n",
       "      <td>57.138515</td>\n",
       "      <td>24.996439</td>\n",
       "      <td>52.784090</td>\n",
       "      <td>...</td>\n",
       "      <td>2</td>\n",
       "      <td>1</td>\n",
       "      <td>21726</td>\n",
       "      <td>5</td>\n",
       "      <td>2011</td>\n",
       "      <td>1</td>\n",
       "      <td>1</td>\n",
       "      <td>0.0</td>\n",
       "      <td>0</td>\n",
       "      <td>5</td>\n",
       "    </tr>\n",
       "    <tr>\n",
       "      <th>12350.0</th>\n",
       "      <th>2011-05-01</th>\n",
       "      <td>1</td>\n",
       "      <td>0.000</td>\n",
       "      <td>1</td>\n",
       "      <td>Norway</td>\n",
       "      <td>197</td>\n",
       "      <td>107.7450</td>\n",
       "      <td>551.760</td>\n",
       "      <td>4.215641</td>\n",
       "      <td>14.942464</td>\n",
       "      <td>11.646210</td>\n",
       "      <td>...</td>\n",
       "      <td>1</td>\n",
       "      <td>1</td>\n",
       "      <td>20615</td>\n",
       "      <td>2</td>\n",
       "      <td>2011</td>\n",
       "      <td>2</td>\n",
       "      <td>2</td>\n",
       "      <td>0.0</td>\n",
       "      <td>0</td>\n",
       "      <td>5</td>\n",
       "    </tr>\n",
       "    <tr>\n",
       "      <th>12352.0</th>\n",
       "      <th>2011-05-01</th>\n",
       "      <td>8</td>\n",
       "      <td>0.375</td>\n",
       "      <td>1</td>\n",
       "      <td>Norway</td>\n",
       "      <td>188</td>\n",
       "      <td>3135.1155</td>\n",
       "      <td>991.947</td>\n",
       "      <td>6.960703</td>\n",
       "      <td>157.369454</td>\n",
       "      <td>171.627342</td>\n",
       "      <td>...</td>\n",
       "      <td>2</td>\n",
       "      <td>3</td>\n",
       "      <td>21914</td>\n",
       "      <td>1</td>\n",
       "      <td>2011</td>\n",
       "      <td>3</td>\n",
       "      <td>1</td>\n",
       "      <td>0.0</td>\n",
       "      <td>0</td>\n",
       "      <td>5</td>\n",
       "    </tr>\n",
       "  </tbody>\n",
       "</table>\n",
       "<p>5 rows × 146 columns</p>\n",
       "</div>"
      ],
      "text/plain": [
       "                        COUNT(orders)  PERCENT_TRUE(orders.cancelled)  \\\n",
       "customer_id time                                                        \n",
       "12346.0     2011-05-01              2                           0.500   \n",
       "12347.0     2011-05-01              2                           0.000   \n",
       "12348.0     2011-05-01              2                           0.000   \n",
       "12350.0     2011-05-01              1                           0.000   \n",
       "12352.0     2011-05-01              8                           0.375   \n",
       "\n",
       "                        NUM_UNIQUE(orders.country) MODE(orders.country)  \\\n",
       "customer_id time                                                          \n",
       "12346.0     2011-05-01                           1       United Kingdom   \n",
       "12347.0     2011-05-01                           1              Iceland   \n",
       "12348.0     2011-05-01                           1              Finland   \n",
       "12350.0     2011-05-01                           1               Norway   \n",
       "12352.0     2011-05-01                           1               Norway   \n",
       "\n",
       "                        SUM(order_products.quantity)  \\\n",
       "customer_id time                                       \n",
       "12346.0     2011-05-01                             0   \n",
       "12347.0     2011-05-01                           798   \n",
       "12348.0     2011-05-01                           870   \n",
       "12350.0     2011-05-01                           197   \n",
       "12352.0     2011-05-01                           188   \n",
       "\n",
       "                        SUM(order_products.price)  SUM(order_products.total)  \\\n",
       "customer_id time                                                               \n",
       "12346.0     2011-05-01                     3.4320                      0.000   \n",
       "12347.0     2011-05-01                   223.5090                   1834.206   \n",
       "12348.0     2011-05-01                   142.9065                    980.826   \n",
       "12350.0     2011-05-01                   107.7450                    551.760   \n",
       "12352.0     2011-05-01                  3135.1155                    991.947   \n",
       "\n",
       "                        STD(order_products.quantity)  \\\n",
       "customer_id time                                       \n",
       "12346.0     2011-05-01                  74215.000000   \n",
       "12347.0     2011-05-01                     32.080921   \n",
       "12348.0     2011-05-01                     57.138515   \n",
       "12350.0     2011-05-01                      4.215641   \n",
       "12352.0     2011-05-01                      6.960703   \n",
       "\n",
       "                        STD(order_products.price)  STD(order_products.total)  \\\n",
       "customer_id time                                                               \n",
       "12346.0     2011-05-01                   0.000000              127352.940000   \n",
       "12347.0     2011-05-01                   4.049262                  53.512381   \n",
       "12348.0     2011-05-01                  24.996439                  52.784090   \n",
       "12350.0     2011-05-01                  14.942464                  11.646210   \n",
       "12352.0     2011-05-01                 157.369454                 171.627342   \n",
       "\n",
       "                        ...    \\\n",
       "customer_id time        ...     \n",
       "12346.0     2011-05-01  ...     \n",
       "12347.0     2011-05-01  ...     \n",
       "12348.0     2011-05-01  ...     \n",
       "12350.0     2011-05-01  ...     \n",
       "12352.0     2011-05-01  ...     \n",
       "\n",
       "                        NUM_UNIQUE(orders.MONTH(first_order_products_time))  \\\n",
       "customer_id time                                                              \n",
       "12346.0     2011-05-01                                                  1     \n",
       "12347.0     2011-05-01                                                  2     \n",
       "12348.0     2011-05-01                                                  2     \n",
       "12350.0     2011-05-01                                                  1     \n",
       "12352.0     2011-05-01                                                  2     \n",
       "\n",
       "                        NUM_UNIQUE(orders.WEEKDAY(first_order_products_time))  \\\n",
       "customer_id time                                                                \n",
       "12346.0     2011-05-01                                                  1       \n",
       "12347.0     2011-05-01                                                  2       \n",
       "12348.0     2011-05-01                                                  1       \n",
       "12350.0     2011-05-01                                                  1       \n",
       "12352.0     2011-05-01                                                  3       \n",
       "\n",
       "                        MODE(orders.MODE(order_products.product_id))  \\\n",
       "customer_id time                                                       \n",
       "12346.0     2011-05-01                                         23166   \n",
       "12347.0     2011-05-01                                         16008   \n",
       "12348.0     2011-05-01                                         21726   \n",
       "12350.0     2011-05-01                                         20615   \n",
       "12352.0     2011-05-01                                         21914   \n",
       "\n",
       "                        MODE(orders.DAY(first_order_products_time))  \\\n",
       "customer_id time                                                      \n",
       "12346.0     2011-05-01                                           18   \n",
       "12347.0     2011-05-01                                            7   \n",
       "12348.0     2011-05-01                                            5   \n",
       "12350.0     2011-05-01                                            2   \n",
       "12352.0     2011-05-01                                            1   \n",
       "\n",
       "                        MODE(orders.YEAR(first_order_products_time))  \\\n",
       "customer_id time                                                       \n",
       "12346.0     2011-05-01                                          2011   \n",
       "12347.0     2011-05-01                                          2011   \n",
       "12348.0     2011-05-01                                          2011   \n",
       "12350.0     2011-05-01                                          2011   \n",
       "12352.0     2011-05-01                                          2011   \n",
       "\n",
       "                        MODE(orders.MONTH(first_order_products_time))  \\\n",
       "customer_id time                                                        \n",
       "12346.0     2011-05-01                                              1   \n",
       "12347.0     2011-05-01                                              1   \n",
       "12348.0     2011-05-01                                              1   \n",
       "12350.0     2011-05-01                                              2   \n",
       "12352.0     2011-05-01                                              3   \n",
       "\n",
       "                        MODE(orders.WEEKDAY(first_order_products_time))  \\\n",
       "customer_id time                                                          \n",
       "12346.0     2011-05-01                                                1   \n",
       "12347.0     2011-05-01                                                2   \n",
       "12348.0     2011-05-01                                                1   \n",
       "12350.0     2011-05-01                                                2   \n",
       "12352.0     2011-05-01                                                1   \n",
       "\n",
       "                        total  label  month  \n",
       "customer_id time                             \n",
       "12346.0     2011-05-01    0.0      0      5  \n",
       "12347.0     2011-05-01    0.0      0      5  \n",
       "12348.0     2011-05-01    0.0      0      5  \n",
       "12350.0     2011-05-01    0.0      0      5  \n",
       "12352.0     2011-05-01    0.0      0      5  \n",
       "\n",
       "[5 rows x 146 columns]"
      ]
     },
     "execution_count": 78,
     "metadata": {},
     "output_type": "execute_result"
    }
   ],
   "source": [
    "feature_matrix, feature_names = ft.dfs(entityset=es, target_entity='customers',\n",
    "                                       cutoff_time = labels, verbose = 2,\n",
    "                                       cutoff_time_in_index = True,\n",
    "                                       chunk_size = len(labels), n_jobs = -1)\n",
    "\n",
    "feature_matrix.head()"
   ]
  },
  {
   "cell_type": "code",
   "execution_count": 79,
   "metadata": {},
   "outputs": [
    {
     "data": {
      "text/plain": [
       "(25039, 143)"
      ]
     },
     "execution_count": 79,
     "metadata": {},
     "output_type": "execute_result"
    }
   ],
   "source": [
    "feature_matrix = feature_matrix.drop(columns = ['total', 'label', 'month'])\n",
    "feature_matrix.shape"
   ]
  },
  {
   "cell_type": "markdown",
   "metadata": {},
   "source": [
    "## Preliminary modeling\n",
    "\n",
    "At this point the matrix is ready to for modeling. We will want to one-hot encode the columns first and then we can get to machine learning. For splitting into a training and testing set, we'll make the test set one month of the data and then the training data will be all the months before that date.\n",
    "\n",
    "## Metrics\n",
    "\n",
    "We can measure metrics in terms of:\n",
    "\n",
    "* Precision: the percentage of customers predicted to spend more than \\$500 that actually did\n",
    "* Recall: the percentage of customers that actually spent more than \\$500 that were predicted correctly\n",
    "* F1 score: the harmonic mean of precision and recall\n",
    "* Receiver Operating Characterisic Area Under the Curve (ROC AUC): a 0 to 1 measure (with 1 being optimal) that measures the performance of a model across a range of thresholds"
   ]
  },
  {
   "cell_type": "code",
   "execution_count": 85,
   "metadata": {},
   "outputs": [],
   "source": [
    "from sklearn.metrics import precision_score, recall_score, f1_score, roc_auc_score\n",
    "from sklearn.model_selection import train_test_split, cross_val_score"
   ]
  },
  {
   "cell_type": "code",
   "execution_count": 81,
   "metadata": {},
   "outputs": [
    {
     "name": "stdout",
     "output_type": "stream",
     "text": [
      "Total features after one-hot encoding:  2669\n"
     ]
    }
   ],
   "source": [
    "feature_matrix_enc = pd.get_dummies(feature_matrix)\n",
    "print('Total features after one-hot encoding: ', feature_matrix_enc.shape[1])"
   ]
  },
  {
   "cell_type": "code",
   "execution_count": 84,
   "metadata": {},
   "outputs": [
    {
     "data": {
      "text/html": [
       "<div>\n",
       "<style scoped>\n",
       "    .dataframe tbody tr th:only-of-type {\n",
       "        vertical-align: middle;\n",
       "    }\n",
       "\n",
       "    .dataframe tbody tr th {\n",
       "        vertical-align: top;\n",
       "    }\n",
       "\n",
       "    .dataframe thead th {\n",
       "        text-align: right;\n",
       "    }\n",
       "</style>\n",
       "<table border=\"1\" class=\"dataframe\">\n",
       "  <thead>\n",
       "    <tr style=\"text-align: right;\">\n",
       "      <th></th>\n",
       "      <th>customer_id</th>\n",
       "      <th>time</th>\n",
       "      <th>COUNT(orders)</th>\n",
       "      <th>PERCENT_TRUE(orders.cancelled)</th>\n",
       "      <th>NUM_UNIQUE(orders.country)</th>\n",
       "      <th>SUM(order_products.quantity)</th>\n",
       "      <th>SUM(order_products.price)</th>\n",
       "      <th>SUM(order_products.total)</th>\n",
       "      <th>STD(order_products.quantity)</th>\n",
       "      <th>STD(order_products.price)</th>\n",
       "      <th>...</th>\n",
       "      <th>MODE(orders.MODE(order_products.product_id))_85172</th>\n",
       "      <th>MODE(orders.MODE(order_products.product_id))_85173</th>\n",
       "      <th>MODE(orders.MODE(order_products.product_id))_85194L</th>\n",
       "      <th>MODE(orders.MODE(order_products.product_id))_85202</th>\n",
       "      <th>MODE(orders.MODE(order_products.product_id))_85203</th>\n",
       "      <th>MODE(orders.MODE(order_products.product_id))_BANK CHARGES</th>\n",
       "      <th>MODE(orders.MODE(order_products.product_id))_CRUK</th>\n",
       "      <th>MODE(orders.MODE(order_products.product_id))_D</th>\n",
       "      <th>MODE(orders.MODE(order_products.product_id))_M</th>\n",
       "      <th>MODE(orders.MODE(order_products.product_id))_POST</th>\n",
       "    </tr>\n",
       "  </thead>\n",
       "  <tbody>\n",
       "    <tr>\n",
       "      <th>0</th>\n",
       "      <td>12346.0</td>\n",
       "      <td>2011-05-01</td>\n",
       "      <td>2</td>\n",
       "      <td>0.500</td>\n",
       "      <td>1</td>\n",
       "      <td>0</td>\n",
       "      <td>3.4320</td>\n",
       "      <td>0.000</td>\n",
       "      <td>74215.000000</td>\n",
       "      <td>0.000000</td>\n",
       "      <td>...</td>\n",
       "      <td>0</td>\n",
       "      <td>0</td>\n",
       "      <td>0</td>\n",
       "      <td>0</td>\n",
       "      <td>0</td>\n",
       "      <td>0</td>\n",
       "      <td>0</td>\n",
       "      <td>0</td>\n",
       "      <td>0</td>\n",
       "      <td>0</td>\n",
       "    </tr>\n",
       "    <tr>\n",
       "      <th>1</th>\n",
       "      <td>12347.0</td>\n",
       "      <td>2011-05-01</td>\n",
       "      <td>2</td>\n",
       "      <td>0.000</td>\n",
       "      <td>1</td>\n",
       "      <td>798</td>\n",
       "      <td>223.5090</td>\n",
       "      <td>1834.206</td>\n",
       "      <td>32.080921</td>\n",
       "      <td>4.049262</td>\n",
       "      <td>...</td>\n",
       "      <td>0</td>\n",
       "      <td>0</td>\n",
       "      <td>0</td>\n",
       "      <td>0</td>\n",
       "      <td>0</td>\n",
       "      <td>0</td>\n",
       "      <td>0</td>\n",
       "      <td>0</td>\n",
       "      <td>0</td>\n",
       "      <td>0</td>\n",
       "    </tr>\n",
       "    <tr>\n",
       "      <th>2</th>\n",
       "      <td>12348.0</td>\n",
       "      <td>2011-05-01</td>\n",
       "      <td>2</td>\n",
       "      <td>0.000</td>\n",
       "      <td>1</td>\n",
       "      <td>870</td>\n",
       "      <td>142.9065</td>\n",
       "      <td>980.826</td>\n",
       "      <td>57.138515</td>\n",
       "      <td>24.996439</td>\n",
       "      <td>...</td>\n",
       "      <td>0</td>\n",
       "      <td>0</td>\n",
       "      <td>0</td>\n",
       "      <td>0</td>\n",
       "      <td>0</td>\n",
       "      <td>0</td>\n",
       "      <td>0</td>\n",
       "      <td>0</td>\n",
       "      <td>0</td>\n",
       "      <td>0</td>\n",
       "    </tr>\n",
       "    <tr>\n",
       "      <th>3</th>\n",
       "      <td>12350.0</td>\n",
       "      <td>2011-05-01</td>\n",
       "      <td>1</td>\n",
       "      <td>0.000</td>\n",
       "      <td>1</td>\n",
       "      <td>197</td>\n",
       "      <td>107.7450</td>\n",
       "      <td>551.760</td>\n",
       "      <td>4.215641</td>\n",
       "      <td>14.942464</td>\n",
       "      <td>...</td>\n",
       "      <td>0</td>\n",
       "      <td>0</td>\n",
       "      <td>0</td>\n",
       "      <td>0</td>\n",
       "      <td>0</td>\n",
       "      <td>0</td>\n",
       "      <td>0</td>\n",
       "      <td>0</td>\n",
       "      <td>0</td>\n",
       "      <td>0</td>\n",
       "    </tr>\n",
       "    <tr>\n",
       "      <th>4</th>\n",
       "      <td>12352.0</td>\n",
       "      <td>2011-05-01</td>\n",
       "      <td>8</td>\n",
       "      <td>0.375</td>\n",
       "      <td>1</td>\n",
       "      <td>188</td>\n",
       "      <td>3135.1155</td>\n",
       "      <td>991.947</td>\n",
       "      <td>6.960703</td>\n",
       "      <td>157.369454</td>\n",
       "      <td>...</td>\n",
       "      <td>0</td>\n",
       "      <td>0</td>\n",
       "      <td>0</td>\n",
       "      <td>0</td>\n",
       "      <td>0</td>\n",
       "      <td>0</td>\n",
       "      <td>0</td>\n",
       "      <td>0</td>\n",
       "      <td>0</td>\n",
       "      <td>0</td>\n",
       "    </tr>\n",
       "  </tbody>\n",
       "</table>\n",
       "<p>5 rows × 2671 columns</p>\n",
       "</div>"
      ],
      "text/plain": [
       "   customer_id       time  COUNT(orders)  PERCENT_TRUE(orders.cancelled)  \\\n",
       "0      12346.0 2011-05-01              2                           0.500   \n",
       "1      12347.0 2011-05-01              2                           0.000   \n",
       "2      12348.0 2011-05-01              2                           0.000   \n",
       "3      12350.0 2011-05-01              1                           0.000   \n",
       "4      12352.0 2011-05-01              8                           0.375   \n",
       "\n",
       "   NUM_UNIQUE(orders.country)  SUM(order_products.quantity)  \\\n",
       "0                           1                             0   \n",
       "1                           1                           798   \n",
       "2                           1                           870   \n",
       "3                           1                           197   \n",
       "4                           1                           188   \n",
       "\n",
       "   SUM(order_products.price)  SUM(order_products.total)  \\\n",
       "0                     3.4320                      0.000   \n",
       "1                   223.5090                   1834.206   \n",
       "2                   142.9065                    980.826   \n",
       "3                   107.7450                    551.760   \n",
       "4                  3135.1155                    991.947   \n",
       "\n",
       "   STD(order_products.quantity)  STD(order_products.price)  \\\n",
       "0                  74215.000000                   0.000000   \n",
       "1                     32.080921                   4.049262   \n",
       "2                     57.138515                  24.996439   \n",
       "3                      4.215641                  14.942464   \n",
       "4                      6.960703                 157.369454   \n",
       "\n",
       "                         ...                          \\\n",
       "0                        ...                           \n",
       "1                        ...                           \n",
       "2                        ...                           \n",
       "3                        ...                           \n",
       "4                        ...                           \n",
       "\n",
       "   MODE(orders.MODE(order_products.product_id))_85172  \\\n",
       "0                                                  0    \n",
       "1                                                  0    \n",
       "2                                                  0    \n",
       "3                                                  0    \n",
       "4                                                  0    \n",
       "\n",
       "   MODE(orders.MODE(order_products.product_id))_85173  \\\n",
       "0                                                  0    \n",
       "1                                                  0    \n",
       "2                                                  0    \n",
       "3                                                  0    \n",
       "4                                                  0    \n",
       "\n",
       "   MODE(orders.MODE(order_products.product_id))_85194L  \\\n",
       "0                                                  0     \n",
       "1                                                  0     \n",
       "2                                                  0     \n",
       "3                                                  0     \n",
       "4                                                  0     \n",
       "\n",
       "   MODE(orders.MODE(order_products.product_id))_85202  \\\n",
       "0                                                  0    \n",
       "1                                                  0    \n",
       "2                                                  0    \n",
       "3                                                  0    \n",
       "4                                                  0    \n",
       "\n",
       "   MODE(orders.MODE(order_products.product_id))_85203  \\\n",
       "0                                                  0    \n",
       "1                                                  0    \n",
       "2                                                  0    \n",
       "3                                                  0    \n",
       "4                                                  0    \n",
       "\n",
       "   MODE(orders.MODE(order_products.product_id))_BANK CHARGES  \\\n",
       "0                                                  0           \n",
       "1                                                  0           \n",
       "2                                                  0           \n",
       "3                                                  0           \n",
       "4                                                  0           \n",
       "\n",
       "   MODE(orders.MODE(order_products.product_id))_CRUK  \\\n",
       "0                                                  0   \n",
       "1                                                  0   \n",
       "2                                                  0   \n",
       "3                                                  0   \n",
       "4                                                  0   \n",
       "\n",
       "   MODE(orders.MODE(order_products.product_id))_D  \\\n",
       "0                                               0   \n",
       "1                                               0   \n",
       "2                                               0   \n",
       "3                                               0   \n",
       "4                                               0   \n",
       "\n",
       "   MODE(orders.MODE(order_products.product_id))_M  \\\n",
       "0                                               0   \n",
       "1                                               0   \n",
       "2                                               0   \n",
       "3                                               0   \n",
       "4                                               0   \n",
       "\n",
       "   MODE(orders.MODE(order_products.product_id))_POST  \n",
       "0                                                  0  \n",
       "1                                                  0  \n",
       "2                                                  0  \n",
       "3                                                  0  \n",
       "4                                                  0  \n",
       "\n",
       "[5 rows x 2671 columns]"
      ]
     },
     "execution_count": 84,
     "metadata": {},
     "output_type": "execute_result"
    }
   ],
   "source": [
    "feature_matrix_enc.reset_index(inplace = True)\n",
    "feature_matrix_enc.head()"
   ]
  },
  {
   "cell_type": "markdown",
   "metadata": {},
   "source": [
    "### Model\n",
    "\n",
    "For a model, we will use the `RandomForestClassifier` as implemented in Scikit-Learn. We'll keep most of the hyperparameters at the default values but increase the number of trees to 1000. This is not an optimized model but should allow us to tell whether or not our solution is better than a baseline estimate."
   ]
  },
  {
   "cell_type": "code",
   "execution_count": 86,
   "metadata": {},
   "outputs": [],
   "source": [
    "from sklearn.ensemble import RandomForestClassifier\n",
    "model = RandomForestClassifier(n_estimators = 1000, random_state = 50,\n",
    "                               n_jobs = -1)"
   ]
  },
  {
   "cell_type": "code",
   "execution_count": 134,
   "metadata": {},
   "outputs": [],
   "source": [
    "def predict_month(month, feature_matrix):\n",
    "    \n",
    "    test_labels = labels.loc[labels['month'] == month, ['customer_id', 'label']]\n",
    "    train_labels = labels.loc[labels['month'] < month, ['customer_id', 'label']]\n",
    "    \n",
    "    # Features\n",
    "    X_train = feature_matrix[feature_matrix['time'].dt.month < month].drop(columns = ['customer_id', 'time'])\n",
    "    X_test = feature_matrix[feature_matrix['time'].dt.month == month].drop(columns = ['customer_id', 'time'])\n",
    "    \n",
    "    pipeline = Pipeline([('imputer', SimpleImputer(strategy = 'median')), \n",
    "                      ('scaler', MinMaxScaler())])\n",
    "\n",
    "    # Fit and transform training data\n",
    "    X_train = pipeline.fit_transform(X_train)\n",
    "    X_test = pipeline.transform(X_test)\n",
    "    \n",
    "    # Labels\n",
    "    y_train = np.array(train_labels['label']).reshape((-1, ))\n",
    "    y_test = np.array(test_labels['label']).reshape((-1, ))\n",
    "    \n",
    "    feature_names = list(X_train.columns)\n",
    "    \n",
    "    # Train \n",
    "    model.fit(X_train, y_train)\n",
    "    \n",
    "    # Make predictions\n",
    "    predictions = model.predict(X_test)\n",
    "    probs = model.predict_proba(X_test)[:, 1]\n",
    "    \n",
    "    # Calculate metrics\n",
    "    p = precision_score(y_test, predictions)\n",
    "    r = recall_score(y_test, predictions)\n",
    "    f = f1_score(y_test, predictions)\n",
    "    auc = roc_auc_score(y_test, probs)\n",
    "    \n",
    "    print(f'Precision: {round(p, 5)}')\n",
    "    print(f'Recall: {round(r, 5)}')\n",
    "    print(f'F1 Score: {round(f, 5)}')\n",
    "    print(f'ROC AUC: {round(auc, 5)}')\n",
    "    \n",
    "    # Feature importances\n",
    "    fi = pd.DataFrame({'feature': feature_names, 'importance': model.feature_importances_})\n",
    "    \n",
    "    return fi\n",
    "    "
   ]
  },
  {
   "cell_type": "code",
   "execution_count": 90,
   "metadata": {},
   "outputs": [
    {
     "name": "stdout",
     "output_type": "stream",
     "text": [
      "Precision: 0.51842\n",
      "Recall: 0.46244\n",
      "F1 Score: 0.48883\n",
      "ROC AUC: 0.78358\n"
     ]
    }
   ],
   "source": [
    "june_fi = predict_month(6, feature_matrix_enc)"
   ]
  },
  {
   "cell_type": "markdown",
   "metadata": {},
   "source": [
    "We can plot the feature importances using a utility function. These should allow us to see what the model considers useful information for predicting spending."
   ]
  },
  {
   "cell_type": "code",
   "execution_count": 91,
   "metadata": {},
   "outputs": [
    {
     "data": {
      "image/png": "[encoded data removed]",
      "text/plain": [
       "<Figure size 864x576 with 1 Axes>"
      ]
     },
     "metadata": {},
     "output_type": "display_data"
    }
   ],
   "source": [
    "norm_june_fi = plot_feature_importances(june_fi)"
   ]
  },
  {
   "cell_type": "markdown",
   "metadata": {},
   "source": [
    "## Comparison to Baseline\n",
    "\n",
    "Now let's look at how these numbers compare to the baseline. If we use the amount the customer spent in the past month, can we use that to predict how much they will spend in the next month? We can try this for July 2011."
   ]
  },
  {
   "cell_type": "code",
   "execution_count": 94,
   "metadata": {},
   "outputs": [
    {
     "data": {
      "text/html": [
       "<div>\n",
       "<style scoped>\n",
       "    .dataframe tbody tr th:only-of-type {\n",
       "        vertical-align: middle;\n",
       "    }\n",
       "\n",
       "    .dataframe tbody tr th {\n",
       "        vertical-align: top;\n",
       "    }\n",
       "\n",
       "    .dataframe thead th {\n",
       "        text-align: right;\n",
       "    }\n",
       "</style>\n",
       "<table border=\"1\" class=\"dataframe\">\n",
       "  <thead>\n",
       "    <tr style=\"text-align: right;\">\n",
       "      <th></th>\n",
       "      <th>customer_id</th>\n",
       "      <th>cutoff_time</th>\n",
       "      <th>july_total</th>\n",
       "      <th>label</th>\n",
       "      <th>month</th>\n",
       "      <th>june_total</th>\n",
       "      <th>prediction</th>\n",
       "    </tr>\n",
       "  </thead>\n",
       "  <tbody>\n",
       "    <tr>\n",
       "      <th>0</th>\n",
       "      <td>12362.0</td>\n",
       "      <td>2011-07-01</td>\n",
       "      <td>501.2040</td>\n",
       "      <td>1</td>\n",
       "      <td>7</td>\n",
       "      <td>0.0</td>\n",
       "      <td>0</td>\n",
       "    </tr>\n",
       "    <tr>\n",
       "      <th>1</th>\n",
       "      <td>12379.0</td>\n",
       "      <td>2011-07-01</td>\n",
       "      <td>-3.2175</td>\n",
       "      <td>0</td>\n",
       "      <td>7</td>\n",
       "      <td>0.0</td>\n",
       "      <td>0</td>\n",
       "    </tr>\n",
       "    <tr>\n",
       "      <th>2</th>\n",
       "      <td>12388.0</td>\n",
       "      <td>2011-07-01</td>\n",
       "      <td>1488.4485</td>\n",
       "      <td>1</td>\n",
       "      <td>7</td>\n",
       "      <td>0.0</td>\n",
       "      <td>0</td>\n",
       "    </tr>\n",
       "    <tr>\n",
       "      <th>3</th>\n",
       "      <td>12407.0</td>\n",
       "      <td>2011-07-01</td>\n",
       "      <td>1503.8100</td>\n",
       "      <td>1</td>\n",
       "      <td>7</td>\n",
       "      <td>0.0</td>\n",
       "      <td>0</td>\n",
       "    </tr>\n",
       "    <tr>\n",
       "      <th>4</th>\n",
       "      <td>12412.0</td>\n",
       "      <td>2011-07-01</td>\n",
       "      <td>620.7960</td>\n",
       "      <td>1</td>\n",
       "      <td>7</td>\n",
       "      <td>0.0</td>\n",
       "      <td>0</td>\n",
       "    </tr>\n",
       "  </tbody>\n",
       "</table>\n",
       "</div>"
      ],
      "text/plain": [
       "   customer_id cutoff_time  july_total  label  month  june_total  prediction\n",
       "0      12362.0  2011-07-01    501.2040      1      7         0.0           0\n",
       "1      12379.0  2011-07-01     -3.2175      0      7         0.0           0\n",
       "2      12388.0  2011-07-01   1488.4485      1      7         0.0           0\n",
       "3      12407.0  2011-07-01   1503.8100      1      7         0.0           0\n",
       "4      12412.0  2011-07-01    620.7960      1      7         0.0           0"
      ]
     },
     "execution_count": 94,
     "metadata": {},
     "output_type": "execute_result"
    }
   ],
   "source": [
    "july_labels = labels[labels['month'] == 7]\n",
    "june_labels = labels[labels['month'] == 6]\n",
    "\n",
    "july_labels = july_labels.rename(columns = {'total': 'july_total'})\n",
    "june_labels = june_labels.rename(columns = {'total': 'june_total'})\n",
    "\n",
    "july_labels = july_labels.merge(june_labels[['customer_id', 'june_total']], on = 'customer_id', how = 'left')\n",
    "july_labels['june_total'] = july_labels['june_total'].fillna(0)\n",
    "july_labels['prediction'] = (july_labels['june_total'] > 500).astype(int)\n",
    "july_labels.head()"
   ]
  },
  {
   "cell_type": "code",
   "execution_count": 96,
   "metadata": {},
   "outputs": [
    {
     "name": "stdout",
     "output_type": "stream",
     "text": [
      "Precision: 0.41784.\n",
      "Recall: 0.39644.\n",
      "F1 Score: 0.40686.\n",
      "ROC AUC Score: 0.64438.\n"
     ]
    }
   ],
   "source": [
    "print('Precision: {:.5f}.'.format(precision_score(july_labels['label'], july_labels['prediction'])))\n",
    "print('Recall: {:.5f}.'.format(recall_score(july_labels['label'], july_labels['prediction'])))\n",
    "print('F1 Score: {:.5f}.'.format(f1_score(july_labels['label'], july_labels['prediction'])))\n",
    "print('ROC AUC Score: {:.5f}.'.format(roc_auc_score(july_labels['label'], july_labels['prediction'])))"
   ]
  },
  {
   "cell_type": "code",
   "execution_count": 106,
   "metadata": {},
   "outputs": [
    {
     "name": "stdout",
     "output_type": "stream",
     "text": [
      "Precision: 0.51689\n",
      "Recall: 0.34076\n",
      "F1 Score: 0.41074\n",
      "ROC AUC: 0.81947\n"
     ]
    }
   ],
   "source": [
    "july_fi = predict_month(7, feature_matrix_enc)"
   ]
  },
  {
   "cell_type": "code",
   "execution_count": 107,
   "metadata": {},
   "outputs": [
    {
     "data": {
      "image/png": "[encoded data removed]",
      "text/plain": [
       "<Figure size 864x576 with 1 Axes>"
      ]
     },
     "metadata": {},
     "output_type": "display_data"
    }
   ],
   "source": [
    "norm_july_fi = plot_feature_importances(july_fi)"
   ]
  },
  {
   "cell_type": "code",
   "execution_count": 108,
   "metadata": {},
   "outputs": [],
   "source": [
    "def informed_baseline(month_number):\n",
    "    month = labels[labels['month'] == month_number]\n",
    "    previous_month = labels[labels['month'] == (month_number - 1)]\n",
    "    \n",
    "    previous_month = previous_month.rename(columns = {'total': 'previous_total'})\n",
    "\n",
    "    month = month.merge(previous_month[['customer_id', 'previous_total']], on = 'customer_id', how = 'left')\n",
    "    month['previous_total'] = month['previous_total'].fillna(0)\n",
    "    month['prediction'] = (month['previous_total'] > 500).astype(int)\n",
    "    \n",
    "    print('Precision: {:.5f}.'.format(precision_score(month['label'], month['prediction'])))\n",
    "    print('Recall: {:.5f}.'.format(recall_score(month['label'], month['prediction'])))\n",
    "    print('F1 Score: {:.5f}.'.format(f1_score(month['label'], month['prediction'])))\n",
    "    print('ROC AUC Score: {:.5f}.'.format(roc_auc_score(month['label'], month['prediction'])))\n",
    "    \n",
    "    return month"
   ]
  },
  {
   "cell_type": "code",
   "execution_count": 99,
   "metadata": {},
   "outputs": [
    {
     "name": "stdout",
     "output_type": "stream",
     "text": [
      "Precision: 0.21606.\n",
      "Recall: 0.57547.\n",
      "F1 Score: 0.31416.\n",
      "ROC AUC Score: 0.70215.\n"
     ]
    }
   ],
   "source": [
    "december = informed_baseline(12)"
   ]
  },
  {
   "cell_type": "code",
   "execution_count": 100,
   "metadata": {},
   "outputs": [
    {
     "name": "stdout",
     "output_type": "stream",
     "text": [
      "Precision: 0.27073\n",
      "Recall: 0.50314\n",
      "F1 Score: 0.35204\n",
      "ROC AUC: 0.86048\n"
     ]
    }
   ],
   "source": [
    "december_fi = predict_month(12)"
   ]
  },
  {
   "cell_type": "code",
   "execution_count": 27,
   "metadata": {},
   "outputs": [
    {
     "data": {
      "image/png": "[encoded data removed]",
      "text/plain": [
       "<Figure size 864x432 with 1 Axes>"
      ]
     },
     "metadata": {},
     "output_type": "display_data"
    }
   ],
   "source": [
    "plt.figure(figsize = (12, 6))\n",
    "sns.kdeplot(december['total'], label = 'December Total');\n",
    "sns.kdeplot(december['previous_total'], label = 'November Total');\n",
    "plt.legend(); plt.xlabel('Total'); plt.ylabel('Density');"
   ]
  },
  {
   "cell_type": "markdown",
   "metadata": {},
   "source": [
    "From this analysis, we can conclude that machine learning delivers some value for the problem. Let's take a look at the feature importances for December."
   ]
  },
  {
   "cell_type": "code",
   "execution_count": 101,
   "metadata": {},
   "outputs": [
    {
     "data": {
      "image/png": "[encoded data removed]",
      "text/plain": [
       "<Figure size 864x576 with 1 Axes>"
      ]
     },
     "metadata": {},
     "output_type": "display_data"
    }
   ],
   "source": [
    "norm_december_fi = plot_feature_importances(december_fi)"
   ]
  },
  {
   "cell_type": "markdown",
   "metadata": {},
   "source": [
    "It's interesting that the most important feature is whether the most common country for the order is the United Kingdom. This suggests there may a difference in order that come from the United Kingdom versus orders from other countries."
   ]
  },
  {
   "cell_type": "code",
   "execution_count": 102,
   "metadata": {},
   "outputs": [
    {
     "data": {
      "text/html": [
       "<div>\n",
       "<style scoped>\n",
       "    .dataframe tbody tr th:only-of-type {\n",
       "        vertical-align: middle;\n",
       "    }\n",
       "\n",
       "    .dataframe tbody tr th {\n",
       "        vertical-align: top;\n",
       "    }\n",
       "\n",
       "    .dataframe thead th {\n",
       "        text-align: right;\n",
       "    }\n",
       "</style>\n",
       "<table border=\"1\" class=\"dataframe\">\n",
       "  <thead>\n",
       "    <tr style=\"text-align: right;\">\n",
       "      <th></th>\n",
       "      <th>sum</th>\n",
       "      <th>mean</th>\n",
       "      <th>count</th>\n",
       "    </tr>\n",
       "    <tr>\n",
       "      <th>country</th>\n",
       "      <th></th>\n",
       "      <th></th>\n",
       "      <th></th>\n",
       "    </tr>\n",
       "  </thead>\n",
       "  <tbody>\n",
       "    <tr>\n",
       "      <th>Australia</th>\n",
       "      <td>224519.0805</td>\n",
       "      <td>183.430621</td>\n",
       "      <td>1224</td>\n",
       "    </tr>\n",
       "    <tr>\n",
       "      <th>Austria</th>\n",
       "      <td>16330.5120</td>\n",
       "      <td>41.659469</td>\n",
       "      <td>392</td>\n",
       "    </tr>\n",
       "    <tr>\n",
       "      <th>Bahrain</th>\n",
       "      <td>904.8600</td>\n",
       "      <td>53.227059</td>\n",
       "      <td>17</td>\n",
       "    </tr>\n",
       "    <tr>\n",
       "      <th>Belgium</th>\n",
       "      <td>64516.7325</td>\n",
       "      <td>32.683248</td>\n",
       "      <td>1974</td>\n",
       "    </tr>\n",
       "    <tr>\n",
       "      <th>Brazil</th>\n",
       "      <td>1886.9400</td>\n",
       "      <td>58.966875</td>\n",
       "      <td>32</td>\n",
       "    </tr>\n",
       "  </tbody>\n",
       "</table>\n",
       "</div>"
      ],
      "text/plain": [
       "                   sum        mean  count\n",
       "country                                  \n",
       "Australia  224519.0805  183.430621   1224\n",
       "Austria     16330.5120   41.659469    392\n",
       "Bahrain       904.8600   53.227059     17\n",
       "Belgium     64516.7325   32.683248   1974\n",
       "Brazil       1886.9400   58.966875     32"
      ]
     },
     "execution_count": 102,
     "metadata": {},
     "output_type": "execute_result"
    }
   ],
   "source": [
    "orders = es['orders'].df\n",
    "order_products = es['order_products'].df\n",
    "order_products = order_products.merge(orders[['order_id', 'country']], \n",
    "                                      on = 'order_id', how = 'left')\n",
    "\n",
    "orders_by_country = order_products.groupby('country')['total'].agg(['sum', 'mean', 'count'])\n",
    "orders_by_country.head()"
   ]
  },
  {
   "cell_type": "code",
   "execution_count": 103,
   "metadata": {},
   "outputs": [
    {
     "data": {
      "image/png": "[encoded data removed]",
      "text/plain": [
       "<Figure size 720x576 with 1 Axes>"
      ]
     },
     "metadata": {},
     "output_type": "display_data"
    }
   ],
   "source": [
    "orders_by_country['count'].sort_values().plot.bar(color = 'green', \n",
    "                                    figsize = (10, 8));\n",
    "plt.title('Number of Orders by Country');"
   ]
  },
  {
   "cell_type": "code",
   "execution_count": 104,
   "metadata": {},
   "outputs": [
    {
     "data": {
      "image/png": "[encoded data removed]",
      "text/plain": [
       "<Figure size 720x576 with 1 Axes>"
      ]
     },
     "metadata": {},
     "output_type": "display_data"
    }
   ],
   "source": [
    "orders_by_country['mean'].sort_values().plot.bar(color = 'red', \n",
    "                                    figsize = (10, 8));\n",
    "plt.title('Mean of Order Total by Country');\n",
    "plt.ylabel('Mean Order Total ($)');"
   ]
  },
  {
   "cell_type": "markdown",
   "metadata": {},
   "source": [
    "Let's try some minor feature selection and see if the performance improves. The following call \n",
    "removes:\n",
    "\n",
    "* One out of every pair of columns that have a perfect correlation (all values are equal)\n",
    "* Any features with more than 80% missing values \n",
    "* Any features with only a single unique value\n",
    "* One out of every pair of columns with a correlation greater than 0.9."
   ]
  },
  {
   "cell_type": "code",
   "execution_count": 112,
   "metadata": {},
   "outputs": [
    {
     "name": "stdout",
     "output_type": "stream",
     "text": [
      "Original shape:  (25039, 2670)\n",
      "230  non-unique valued columns.\n",
      "0 missing columns with threshold: 80.\n",
      "2 zero variance columns.\n",
      "108 collinear columns removed with threshold: 0.9.\n",
      "Total columns removed:  340\n",
      "Shape after feature selection: (25039, 2330).\n"
     ]
    },
    {
     "ename": "NameError",
     "evalue": "name 'evaluate_month' is not defined",
     "output_type": "error",
     "traceback": [
      "\u001b[0;31m---------------------------------------------------------------------------\u001b[0m",
      "\u001b[0;31mNameError\u001b[0m                                 Traceback (most recent call last)",
      "\u001b[0;32m<ipython-input-112-3b7cacf532fd>\u001b[0m in \u001b[0;36m<module>\u001b[0;34m()\u001b[0m\n\u001b[1;32m      3\u001b[0m                                                                     missing_threshold=80, correlation_threshold=0.9)\n\u001b[1;32m      4\u001b[0m \u001b[0mfeature_matrix_selected\u001b[0m\u001b[0;34m[\u001b[0m\u001b[0;34m'time'\u001b[0m\u001b[0;34m]\u001b[0m \u001b[0;34m=\u001b[0m \u001b[0mt\u001b[0m\u001b[0;34m\u001b[0m\u001b[0m\n\u001b[0;32m----> 5\u001b[0;31m \u001b[0mdecember_fi\u001b[0m \u001b[0;34m=\u001b[0m \u001b[0mevaluate_month\u001b[0m\u001b[0;34m(\u001b[0m\u001b[0;36m12\u001b[0m\u001b[0;34m,\u001b[0m \u001b[0mfeature_matrix_selected\u001b[0m\u001b[0;34m)\u001b[0m\u001b[0;34m\u001b[0m\u001b[0m\n\u001b[0m",
      "\u001b[0;31mNameError\u001b[0m: name 'evaluate_month' is not defined"
     ]
    }
   ],
   "source": [
    "t = feature_matrix_enc['time']\n",
    "feature_matrix_selected = feature_selection(feature_matrix_enc.drop(columns = ['time']),\n",
    "                                                                    missing_threshold=80, correlation_threshold=0.9)\n",
    "feature_matrix_selected['time'] = t"
   ]
  },
  {
   "cell_type": "code",
   "execution_count": 113,
   "metadata": {},
   "outputs": [
    {
     "name": "stdout",
     "output_type": "stream",
     "text": [
      "Precision: 0.28426\n",
      "Recall: 0.5283\n",
      "F1 Score: 0.36964\n",
      "ROC AUC: 0.86234\n"
     ]
    }
   ],
   "source": [
    "december_fi = predict_month(12, feature_matrix_selected)"
   ]
  },
  {
   "cell_type": "markdown",
   "metadata": {},
   "source": [
    "Feature selection slightly improved the models performance compared to the original metrics (shown below):\n",
    "\n",
    "    Precision: 0.27073\n",
    "    Recall: 0.50314\n",
    "    F1 Score: 0.35204\n",
    "    ROC AUC: 0.86048"
   ]
  },
  {
   "cell_type": "markdown",
   "metadata": {},
   "source": [
    "### Feature Selection Based on Feature Importances\n",
    "\n",
    "Another method we can use for feature selection is to remove any features that have zero importance. In a decision tree based model, removing these features will have no effect on performance and is hence a safe option for feature selection."
   ]
  },
  {
   "cell_type": "code",
   "execution_count": 115,
   "metadata": {},
   "outputs": [
    {
     "name": "stdout",
     "output_type": "stream",
     "text": [
      "148 features with no importance.\n"
     ]
    }
   ],
   "source": [
    "zero_features = december_fi.loc[december_fi['importance'] == 0, 'feature']\n",
    "print(f'{len(zero_features)} features with no importance.')"
   ]
  },
  {
   "cell_type": "code",
   "execution_count": 116,
   "metadata": {},
   "outputs": [
    {
     "data": {
      "text/plain": [
       "(25039, 2331)"
      ]
     },
     "execution_count": 116,
     "metadata": {},
     "output_type": "execute_result"
    }
   ],
   "source": [
    "feature_matrix_selected = feature_matrix_selected[[x for x in feature_matrix_selected if x not in zero_features]]\n",
    "feature_matrix_selected.shape"
   ]
  },
  {
   "cell_type": "markdown",
   "metadata": {},
   "source": [
    "## Tuning Deep Feature Synthesis\n",
    "\n",
    "We can specify different primitives to deep feature synthesis in order to generate different features. Let's try making a new feature matrix with specified primitives."
   ]
  },
  {
   "cell_type": "code",
   "execution_count": 122,
   "metadata": {},
   "outputs": [
    {
     "name": "stdout",
     "output_type": "stream",
     "text": [
      "Built 250 features\n",
      "EntitySet scattered to workers in 2.329 seconds\n",
      "Elapsed: 59:26 | Remaining: 00:00 | Progress: 100%|██████████| Calculated: 1/1 chunks\n"
     ]
    },
    {
     "data": {
      "text/html": [
       "<div>\n",
       "<style scoped>\n",
       "    .dataframe tbody tr th:only-of-type {\n",
       "        vertical-align: middle;\n",
       "    }\n",
       "\n",
       "    .dataframe tbody tr th {\n",
       "        vertical-align: top;\n",
       "    }\n",
       "\n",
       "    .dataframe thead th {\n",
       "        text-align: right;\n",
       "    }\n",
       "</style>\n",
       "<table border=\"1\" class=\"dataframe\">\n",
       "  <thead>\n",
       "    <tr style=\"text-align: right;\">\n",
       "      <th></th>\n",
       "      <th>LAST(orders.country)</th>\n",
       "      <th>LAST(orders.cancelled)</th>\n",
       "      <th>AVG_TIME_BETWEEN(orders.first_order_products_time)</th>\n",
       "      <th>STD(order_products.quantity)</th>\n",
       "      <th>STD(order_products.price)</th>\n",
       "      <th>STD(order_products.total)</th>\n",
       "      <th>TREND(order_products.price, order_date)</th>\n",
       "      <th>TREND(order_products.quantity, order_date)</th>\n",
       "      <th>TREND(order_products.total, order_date)</th>\n",
       "      <th>MAX(order_products.quantity)</th>\n",
       "      <th>...</th>\n",
       "      <th>CUM_MEAN(LAST(order_products.total) by LAST(order_products.product_id))</th>\n",
       "      <th>CUM_MEAN(LAST(order_products.price) by LAST(order_products.product_id))</th>\n",
       "      <th>DAY(LAST(orders.first_order_products_time))</th>\n",
       "      <th>DAY(LAST(order_products.order_date))</th>\n",
       "      <th>MONTH(LAST(orders.first_order_products_time))</th>\n",
       "      <th>MONTH(LAST(order_products.order_date))</th>\n",
       "      <th>HOUR(LAST(orders.first_order_products_time))</th>\n",
       "      <th>HOUR(LAST(order_products.order_date))</th>\n",
       "      <th>WEEKEND(LAST(orders.first_order_products_time))</th>\n",
       "      <th>WEEKEND(LAST(order_products.order_date))</th>\n",
       "    </tr>\n",
       "    <tr>\n",
       "      <th>customer_id</th>\n",
       "      <th></th>\n",
       "      <th></th>\n",
       "      <th></th>\n",
       "      <th></th>\n",
       "      <th></th>\n",
       "      <th></th>\n",
       "      <th></th>\n",
       "      <th></th>\n",
       "      <th></th>\n",
       "      <th></th>\n",
       "      <th></th>\n",
       "      <th></th>\n",
       "      <th></th>\n",
       "      <th></th>\n",
       "      <th></th>\n",
       "      <th></th>\n",
       "      <th></th>\n",
       "      <th></th>\n",
       "      <th></th>\n",
       "      <th></th>\n",
       "      <th></th>\n",
       "    </tr>\n",
       "  </thead>\n",
       "  <tbody>\n",
       "    <tr>\n",
       "      <th>12346.0</th>\n",
       "      <td>United Kingdom</td>\n",
       "      <td>True</td>\n",
       "      <td>960.0</td>\n",
       "      <td>74215.000000</td>\n",
       "      <td>0.000000</td>\n",
       "      <td>127352.940000</td>\n",
       "      <td>NaN</td>\n",
       "      <td>NaN</td>\n",
       "      <td>NaN</td>\n",
       "      <td>74215</td>\n",
       "      <td>...</td>\n",
       "      <td>-127352.94</td>\n",
       "      <td>1.7160</td>\n",
       "      <td>18</td>\n",
       "      <td>18</td>\n",
       "      <td>1</td>\n",
       "      <td>1</td>\n",
       "      <td>10</td>\n",
       "      <td>10</td>\n",
       "      <td>False</td>\n",
       "      <td>False</td>\n",
       "    </tr>\n",
       "    <tr>\n",
       "      <th>12347.0</th>\n",
       "      <td>Iceland</td>\n",
       "      <td>False</td>\n",
       "      <td>6120780.0</td>\n",
       "      <td>32.080921</td>\n",
       "      <td>4.049262</td>\n",
       "      <td>53.512381</td>\n",
       "      <td>0.000001</td>\n",
       "      <td>0.000091</td>\n",
       "      <td>0.000164</td>\n",
       "      <td>240</td>\n",
       "      <td>...</td>\n",
       "      <td>28.05</td>\n",
       "      <td>7.0125</td>\n",
       "      <td>7</td>\n",
       "      <td>7</td>\n",
       "      <td>4</td>\n",
       "      <td>4</td>\n",
       "      <td>10</td>\n",
       "      <td>10</td>\n",
       "      <td>False</td>\n",
       "      <td>False</td>\n",
       "    </tr>\n",
       "    <tr>\n",
       "      <th>12348.0</th>\n",
       "      <td>Finland</td>\n",
       "      <td>False</td>\n",
       "      <td>6048300.0</td>\n",
       "      <td>57.138515</td>\n",
       "      <td>24.996439</td>\n",
       "      <td>52.784090</td>\n",
       "      <td>0.000031</td>\n",
       "      <td>-0.000460</td>\n",
       "      <td>0.000581</td>\n",
       "      <td>144</td>\n",
       "      <td>...</td>\n",
       "      <td>66.00</td>\n",
       "      <td>66.0000</td>\n",
       "      <td>5</td>\n",
       "      <td>5</td>\n",
       "      <td>4</td>\n",
       "      <td>4</td>\n",
       "      <td>10</td>\n",
       "      <td>10</td>\n",
       "      <td>False</td>\n",
       "      <td>False</td>\n",
       "    </tr>\n",
       "    <tr>\n",
       "      <th>12350.0</th>\n",
       "      <td>Norway</td>\n",
       "      <td>False</td>\n",
       "      <td>NaN</td>\n",
       "      <td>4.215641</td>\n",
       "      <td>14.942464</td>\n",
       "      <td>11.646210</td>\n",
       "      <td>0.000000</td>\n",
       "      <td>0.000000</td>\n",
       "      <td>0.000000</td>\n",
       "      <td>24</td>\n",
       "      <td>...</td>\n",
       "      <td>41.58</td>\n",
       "      <td>3.4650</td>\n",
       "      <td>2</td>\n",
       "      <td>2</td>\n",
       "      <td>2</td>\n",
       "      <td>2</td>\n",
       "      <td>16</td>\n",
       "      <td>16</td>\n",
       "      <td>False</td>\n",
       "      <td>False</td>\n",
       "    </tr>\n",
       "    <tr>\n",
       "      <th>12352.0</th>\n",
       "      <td>Norway</td>\n",
       "      <td>False</td>\n",
       "      <td>421500.0</td>\n",
       "      <td>6.960703</td>\n",
       "      <td>157.369454</td>\n",
       "      <td>171.627342</td>\n",
       "      <td>-0.000948</td>\n",
       "      <td>-0.000081</td>\n",
       "      <td>-0.000464</td>\n",
       "      <td>12</td>\n",
       "      <td>...</td>\n",
       "      <td>24.75</td>\n",
       "      <td>2.0625</td>\n",
       "      <td>22</td>\n",
       "      <td>22</td>\n",
       "      <td>3</td>\n",
       "      <td>3</td>\n",
       "      <td>16</td>\n",
       "      <td>16</td>\n",
       "      <td>False</td>\n",
       "      <td>False</td>\n",
       "    </tr>\n",
       "  </tbody>\n",
       "</table>\n",
       "<p>5 rows × 250 columns</p>\n",
       "</div>"
      ],
      "text/plain": [
       "            LAST(orders.country)  LAST(orders.cancelled)  \\\n",
       "customer_id                                                \n",
       "12346.0           United Kingdom                    True   \n",
       "12347.0                  Iceland                   False   \n",
       "12348.0                  Finland                   False   \n",
       "12350.0                   Norway                   False   \n",
       "12352.0                   Norway                   False   \n",
       "\n",
       "             AVG_TIME_BETWEEN(orders.first_order_products_time)  \\\n",
       "customer_id                                                       \n",
       "12346.0                                                  960.0    \n",
       "12347.0                                              6120780.0    \n",
       "12348.0                                              6048300.0    \n",
       "12350.0                                                    NaN    \n",
       "12352.0                                               421500.0    \n",
       "\n",
       "             STD(order_products.quantity)  STD(order_products.price)  \\\n",
       "customer_id                                                            \n",
       "12346.0                      74215.000000                   0.000000   \n",
       "12347.0                         32.080921                   4.049262   \n",
       "12348.0                         57.138515                  24.996439   \n",
       "12350.0                          4.215641                  14.942464   \n",
       "12352.0                          6.960703                 157.369454   \n",
       "\n",
       "             STD(order_products.total)  \\\n",
       "customer_id                              \n",
       "12346.0                  127352.940000   \n",
       "12347.0                      53.512381   \n",
       "12348.0                      52.784090   \n",
       "12350.0                      11.646210   \n",
       "12352.0                     171.627342   \n",
       "\n",
       "             TREND(order_products.price, order_date)  \\\n",
       "customer_id                                            \n",
       "12346.0                                          NaN   \n",
       "12347.0                                     0.000001   \n",
       "12348.0                                     0.000031   \n",
       "12350.0                                     0.000000   \n",
       "12352.0                                    -0.000948   \n",
       "\n",
       "             TREND(order_products.quantity, order_date)  \\\n",
       "customer_id                                               \n",
       "12346.0                                             NaN   \n",
       "12347.0                                        0.000091   \n",
       "12348.0                                       -0.000460   \n",
       "12350.0                                        0.000000   \n",
       "12352.0                                       -0.000081   \n",
       "\n",
       "             TREND(order_products.total, order_date)  \\\n",
       "customer_id                                            \n",
       "12346.0                                          NaN   \n",
       "12347.0                                     0.000164   \n",
       "12348.0                                     0.000581   \n",
       "12350.0                                     0.000000   \n",
       "12352.0                                    -0.000464   \n",
       "\n",
       "             MAX(order_products.quantity)  \\\n",
       "customer_id                                 \n",
       "12346.0                             74215   \n",
       "12347.0                               240   \n",
       "12348.0                               144   \n",
       "12350.0                                24   \n",
       "12352.0                                12   \n",
       "\n",
       "                               ...                     \\\n",
       "customer_id                    ...                      \n",
       "12346.0                        ...                      \n",
       "12347.0                        ...                      \n",
       "12348.0                        ...                      \n",
       "12350.0                        ...                      \n",
       "12352.0                        ...                      \n",
       "\n",
       "             CUM_MEAN(LAST(order_products.total) by LAST(order_products.product_id))  \\\n",
       "customer_id                                                                            \n",
       "12346.0                                             -127352.94                         \n",
       "12347.0                                                  28.05                         \n",
       "12348.0                                                  66.00                         \n",
       "12350.0                                                  41.58                         \n",
       "12352.0                                                  24.75                         \n",
       "\n",
       "             CUM_MEAN(LAST(order_products.price) by LAST(order_products.product_id))  \\\n",
       "customer_id                                                                            \n",
       "12346.0                                                 1.7160                         \n",
       "12347.0                                                 7.0125                         \n",
       "12348.0                                                66.0000                         \n",
       "12350.0                                                 3.4650                         \n",
       "12352.0                                                 2.0625                         \n",
       "\n",
       "             DAY(LAST(orders.first_order_products_time))  \\\n",
       "customer_id                                                \n",
       "12346.0                                               18   \n",
       "12347.0                                                7   \n",
       "12348.0                                                5   \n",
       "12350.0                                                2   \n",
       "12352.0                                               22   \n",
       "\n",
       "             DAY(LAST(order_products.order_date))  \\\n",
       "customer_id                                         \n",
       "12346.0                                        18   \n",
       "12347.0                                         7   \n",
       "12348.0                                         5   \n",
       "12350.0                                         2   \n",
       "12352.0                                        22   \n",
       "\n",
       "             MONTH(LAST(orders.first_order_products_time))  \\\n",
       "customer_id                                                  \n",
       "12346.0                                                  1   \n",
       "12347.0                                                  4   \n",
       "12348.0                                                  4   \n",
       "12350.0                                                  2   \n",
       "12352.0                                                  3   \n",
       "\n",
       "             MONTH(LAST(order_products.order_date))  \\\n",
       "customer_id                                           \n",
       "12346.0                                           1   \n",
       "12347.0                                           4   \n",
       "12348.0                                           4   \n",
       "12350.0                                           2   \n",
       "12352.0                                           3   \n",
       "\n",
       "             HOUR(LAST(orders.first_order_products_time))  \\\n",
       "customer_id                                                 \n",
       "12346.0                                                10   \n",
       "12347.0                                                10   \n",
       "12348.0                                                10   \n",
       "12350.0                                                16   \n",
       "12352.0                                                16   \n",
       "\n",
       "             HOUR(LAST(order_products.order_date))  \\\n",
       "customer_id                                          \n",
       "12346.0                                         10   \n",
       "12347.0                                         10   \n",
       "12348.0                                         10   \n",
       "12350.0                                         16   \n",
       "12352.0                                         16   \n",
       "\n",
       "             WEEKEND(LAST(orders.first_order_products_time))  \\\n",
       "customer_id                                                    \n",
       "12346.0                                                False   \n",
       "12347.0                                                False   \n",
       "12348.0                                                False   \n",
       "12350.0                                                False   \n",
       "12352.0                                                False   \n",
       "\n",
       "             WEEKEND(LAST(order_products.order_date))  \n",
       "customer_id                                            \n",
       "12346.0                                         False  \n",
       "12347.0                                         False  \n",
       "12348.0                                         False  \n",
       "12350.0                                         False  \n",
       "12352.0                                         False  \n",
       "\n",
       "[5 rows x 250 columns]"
      ]
     },
     "execution_count": 122,
     "metadata": {},
     "output_type": "execute_result"
    }
   ],
   "source": [
    "feature_matrix, feature_names = ft.dfs(entityset=es, target_entity='customers',\n",
    "                                       agg_primitives = ['std', 'trend', 'max', 'min', \n",
    "                                                         'mean', 'skew', 'last', 'avg_time_between'],\n",
    "                                       trans_primitives = ['cum_sum', 'cum_mean', 'day', \n",
    "                                                           'month', 'hour', 'weekend'],\n",
    "                                       n_jobs = -1, chunk_size = len(labels), \n",
    "                                       cutoff_time = labels[['customer_id', 'cutoff_time']],\n",
    "                                       verbose = 1)\n",
    "feature_matrix.head()"
   ]
  },
  {
   "cell_type": "markdown",
   "metadata": {},
   "source": [
    "After building the new feature matrix, we need to one-hot encode it. We can also use feature selection because that improves performance."
   ]
  },
  {
   "cell_type": "code",
   "execution_count": null,
   "metadata": {},
   "outputs": [
    {
     "name": "stdout",
     "output_type": "stream",
     "text": [
      "Original shape:  (25039, 2379)\n",
      "8  non-unique valued columns.\n",
      "0 missing columns with threshold: 90.\n",
      "0 zero variance columns.\n"
     ]
    }
   ],
   "source": [
    "feature_matrix_enc = pd.get_dummies(feature_matrix)\n",
    "\n",
    "for col in feature_matrix_enc:\n",
    "    if feature_matrix_enc[col].dtype == 'bool':\n",
    "        feature_matrix_enc[col] = feature_matrix_enc[col].astype(np.uint8)\n",
    "\n",
    "feature_matrix_selected = feature_selection(feature_matrix_enc)"
   ]
  },
  {
   "cell_type": "code",
   "execution_count": null,
   "metadata": {},
   "outputs": [],
   "source": [
    "feature_matrix_enc.reset_index(inplace = True)\n",
    "\n",
    "# Add the time\n",
    "feature_matrix_enc['time'] = list(labels['cutoff_time'])\n",
    "\n",
    "june_fi = predict_month(6, feature_matrix_enc)"
   ]
  },
  {
   "cell_type": "code",
   "execution_count": null,
   "metadata": {},
   "outputs": [],
   "source": []
  }
 ],
 "metadata": {
  "kernelspec": {
   "display_name": "Python 3",
   "language": "python",
   "name": "python3"
  },
  "language_info": {
   "codemirror_mode": {
    "name": "ipython",
    "version": 3
   },
   "file_extension": ".py",
   "mimetype": "text/x-python",
   "name": "python",
   "nbconvert_exporter": "python",
   "pygments_lexer": "ipython3",
   "version": "3.6.5"
  }
 },
 "nbformat": 4,
 "nbformat_minor": 2
}
