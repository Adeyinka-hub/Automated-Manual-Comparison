{
 "cells": [
  {
   "cell_type": "markdown",
   "metadata": {},
   "source": [
    "# Automated Feature Engineering\n",
    "\n",
    "In this notebook, we will try our hand at automated feature engineering with the retail entity set. The objective is to predict whether or not a customer will spend more than \\$500 in the next 30 days."
   ]
  },
  {
   "cell_type": "code",
   "execution_count": 1,
   "metadata": {},
   "outputs": [],
   "source": [
    "import pandas as pd \n",
    "import numpy as np\n",
    "\n",
    "import featuretools as ft"
   ]
  },
  {
   "cell_type": "code",
   "execution_count": 2,
   "metadata": {},
   "outputs": [],
   "source": [
    "es = ft.read_pickle('../input/es/')"
   ]
  },
  {
   "cell_type": "code",
   "execution_count": 3,
   "metadata": {},
   "outputs": [
    {
     "data": {
      "text/plain": [
       "Entityset: Online Retail Logs\n",
       "  Entities:\n",
       "    order_products [Rows: 401604, Columns: 7]\n",
       "    products [Rows: 3684, Columns: 3]\n",
       "    orders [Rows: 22190, Columns: 5]\n",
       "    customers [Rows: 4372, Columns: 2]\n",
       "  Relationships:\n",
       "    order_products.product_id -> products.product_id\n",
       "    order_products.order_id -> orders.order_id\n",
       "    orders.customer_id -> customers.customer_id"
      ]
     },
     "execution_count": 3,
     "metadata": {},
     "output_type": "execute_result"
    }
   ],
   "source": [
    "es"
   ]
  },
  {
   "cell_type": "code",
   "execution_count": 4,
   "metadata": {},
   "outputs": [
    {
     "data": {
      "text/html": [
       "<div>\n",
       "<style scoped>\n",
       "    .dataframe tbody tr th:only-of-type {\n",
       "        vertical-align: middle;\n",
       "    }\n",
       "\n",
       "    .dataframe tbody tr th {\n",
       "        vertical-align: top;\n",
       "    }\n",
       "\n",
       "    .dataframe thead th {\n",
       "        text-align: right;\n",
       "    }\n",
       "</style>\n",
       "<table border=\"1\" class=\"dataframe\">\n",
       "  <thead>\n",
       "    <tr style=\"text-align: right;\">\n",
       "      <th></th>\n",
       "      <th>customer_id</th>\n",
       "      <th>total</th>\n",
       "      <th>cutoff_time</th>\n",
       "    </tr>\n",
       "  </thead>\n",
       "  <tbody>\n",
       "    <tr>\n",
       "      <th>0</th>\n",
       "      <td>12347.0</td>\n",
       "      <td>631.1580</td>\n",
       "      <td>2011-06-01</td>\n",
       "    </tr>\n",
       "    <tr>\n",
       "      <th>1</th>\n",
       "      <td>12359.0</td>\n",
       "      <td>1830.3780</td>\n",
       "      <td>2011-06-01</td>\n",
       "    </tr>\n",
       "    <tr>\n",
       "      <th>2</th>\n",
       "      <td>12383.0</td>\n",
       "      <td>164.0925</td>\n",
       "      <td>2011-06-01</td>\n",
       "    </tr>\n",
       "    <tr>\n",
       "      <th>3</th>\n",
       "      <td>12395.0</td>\n",
       "      <td>270.4350</td>\n",
       "      <td>2011-06-01</td>\n",
       "    </tr>\n",
       "    <tr>\n",
       "      <th>4</th>\n",
       "      <td>12399.0</td>\n",
       "      <td>214.6320</td>\n",
       "      <td>2011-06-01</td>\n",
       "    </tr>\n",
       "  </tbody>\n",
       "</table>\n",
       "</div>"
      ],
      "text/plain": [
       "   customer_id      total cutoff_time\n",
       "0      12347.0   631.1580  2011-06-01\n",
       "1      12359.0  1830.3780  2011-06-01\n",
       "2      12383.0   164.0925  2011-06-01\n",
       "3      12395.0   270.4350  2011-06-01\n",
       "4      12399.0   214.6320  2011-06-01"
      ]
     },
     "execution_count": 4,
     "metadata": {},
     "output_type": "execute_result"
    }
   ],
   "source": [
    "labels = pd.read_csv('../input/testing_cutoffs.csv', index_col=0)\n",
    "labels.head()"
   ]
  },
  {
   "cell_type": "code",
   "execution_count": 5,
   "metadata": {},
   "outputs": [],
   "source": [
    "cutoff_times = pd.DataFrame(labels[['customer_id', 'cutoff_time']]).rename(columns = {'cutoff_time': 'time'})\n",
    "cutoff_times['time'] = pd.to_datetime(cutoff_times['time'])"
   ]
  },
  {
   "cell_type": "code",
   "execution_count": 6,
   "metadata": {},
   "outputs": [],
   "source": [
    "from sklearn.model_selection import TimeSeriesSplit\n",
    "\n",
    "ts = TimeSeriesSplit()"
   ]
  },
  {
   "cell_type": "code",
   "execution_count": 8,
   "metadata": {},
   "outputs": [
    {
     "data": {
      "text/plain": [
       "<matplotlib.axes._subplots.AxesSubplot at 0x1a0e1fc7b8>"
      ]
     },
     "execution_count": 8,
     "metadata": {},
     "output_type": "execute_result"
    },
    {
     "data": {
      "image/png": "[encoded data removed]",
      "text/plain": [
       "<Figure size 432x288 with 1 Axes>"
      ]
     },
     "metadata": {},
     "output_type": "display_data"
    }
   ],
   "source": [
    "import matplotlib.pyplot as plt\n",
    "import seaborn as sns\n",
    "\n",
    "%matplotlib inline\n",
    "labels['total'].plot.hist()"
   ]
  },
  {
   "cell_type": "code",
   "execution_count": 9,
   "metadata": {},
   "outputs": [],
   "source": [
    "def ecdf(data):\n",
    "    x = np.sort(data)\n",
    "    y = np.arange(1, len(x) + 1) / len(x)\n",
    "    return x, y"
   ]
  },
  {
   "cell_type": "code",
   "execution_count": 11,
   "metadata": {},
   "outputs": [
    {
     "data": {
      "image/png": "[encoded data removed]",
      "text/plain": [
       "<Figure size 432x288 with 1 Axes>"
      ]
     },
     "metadata": {},
     "output_type": "display_data"
    }
   ],
   "source": [
    "x, y = ecdf(labels['total'])\n",
    "plt.plot(x, y, marker = '.')\n",
    "plt.xlabel('Total'); plt.ylabel('Percentile'); plt.title('ECDF of Total');"
   ]
  },
  {
   "cell_type": "code",
   "execution_count": 12,
   "metadata": {},
   "outputs": [],
   "source": [
    "feature_matrix, feature_names = ft.dfs(entityset = es, target_entity='customers',\n",
    "                                       cutoff_time = cutoff_times)"
   ]
  },
  {
   "cell_type": "code",
   "execution_count": 13,
   "metadata": {},
   "outputs": [
    {
     "data": {
      "text/html": [
       "<div>\n",
       "<style scoped>\n",
       "    .dataframe tbody tr th:only-of-type {\n",
       "        vertical-align: middle;\n",
       "    }\n",
       "\n",
       "    .dataframe tbody tr th {\n",
       "        vertical-align: top;\n",
       "    }\n",
       "\n",
       "    .dataframe thead th {\n",
       "        text-align: right;\n",
       "    }\n",
       "</style>\n",
       "<table border=\"1\" class=\"dataframe\">\n",
       "  <thead>\n",
       "    <tr style=\"text-align: right;\">\n",
       "      <th></th>\n",
       "      <th>COUNT(orders)</th>\n",
       "      <th>PERCENT_TRUE(orders.cancelled)</th>\n",
       "      <th>NUM_UNIQUE(orders.country)</th>\n",
       "      <th>MODE(orders.country)</th>\n",
       "      <th>SUM(order_products.quantity)</th>\n",
       "      <th>SUM(order_products.price)</th>\n",
       "      <th>SUM(order_products.total)</th>\n",
       "      <th>STD(order_products.quantity)</th>\n",
       "      <th>STD(order_products.price)</th>\n",
       "      <th>STD(order_products.total)</th>\n",
       "      <th>...</th>\n",
       "      <th>NUM_UNIQUE(orders.MODE(order_products.product_id))</th>\n",
       "      <th>NUM_UNIQUE(orders.DAY(first_order_products_time))</th>\n",
       "      <th>NUM_UNIQUE(orders.YEAR(first_order_products_time))</th>\n",
       "      <th>NUM_UNIQUE(orders.MONTH(first_order_products_time))</th>\n",
       "      <th>NUM_UNIQUE(orders.WEEKDAY(first_order_products_time))</th>\n",
       "      <th>MODE(orders.MODE(order_products.product_id))</th>\n",
       "      <th>MODE(orders.DAY(first_order_products_time))</th>\n",
       "      <th>MODE(orders.YEAR(first_order_products_time))</th>\n",
       "      <th>MODE(orders.MONTH(first_order_products_time))</th>\n",
       "      <th>MODE(orders.WEEKDAY(first_order_products_time))</th>\n",
       "    </tr>\n",
       "    <tr>\n",
       "      <th>customer_id</th>\n",
       "      <th></th>\n",
       "      <th></th>\n",
       "      <th></th>\n",
       "      <th></th>\n",
       "      <th></th>\n",
       "      <th></th>\n",
       "      <th></th>\n",
       "      <th></th>\n",
       "      <th></th>\n",
       "      <th></th>\n",
       "      <th></th>\n",
       "      <th></th>\n",
       "      <th></th>\n",
       "      <th></th>\n",
       "      <th></th>\n",
       "      <th></th>\n",
       "      <th></th>\n",
       "      <th></th>\n",
       "      <th></th>\n",
       "      <th></th>\n",
       "      <th></th>\n",
       "    </tr>\n",
       "  </thead>\n",
       "  <tbody>\n",
       "    <tr>\n",
       "      <th>12347.0</th>\n",
       "      <td>3</td>\n",
       "      <td>0.0</td>\n",
       "      <td>1</td>\n",
       "      <td>Iceland</td>\n",
       "      <td>1117</td>\n",
       "      <td>371.3325</td>\n",
       "      <td>3008.6595</td>\n",
       "      <td>25.986617</td>\n",
       "      <td>3.55246</td>\n",
       "      <td>44.460045</td>\n",
       "      <td>...</td>\n",
       "      <td>3</td>\n",
       "      <td>2</td>\n",
       "      <td>2</td>\n",
       "      <td>3</td>\n",
       "      <td>3</td>\n",
       "      <td>16008</td>\n",
       "      <td>7</td>\n",
       "      <td>2011</td>\n",
       "      <td>1</td>\n",
       "      <td>1</td>\n",
       "    </tr>\n",
       "    <tr>\n",
       "      <th>12347.0</th>\n",
       "      <td>3</td>\n",
       "      <td>0.0</td>\n",
       "      <td>1</td>\n",
       "      <td>Iceland</td>\n",
       "      <td>1117</td>\n",
       "      <td>371.3325</td>\n",
       "      <td>3008.6595</td>\n",
       "      <td>25.986617</td>\n",
       "      <td>3.55246</td>\n",
       "      <td>44.460045</td>\n",
       "      <td>...</td>\n",
       "      <td>3</td>\n",
       "      <td>2</td>\n",
       "      <td>2</td>\n",
       "      <td>3</td>\n",
       "      <td>3</td>\n",
       "      <td>16008</td>\n",
       "      <td>7</td>\n",
       "      <td>2011</td>\n",
       "      <td>1</td>\n",
       "      <td>1</td>\n",
       "    </tr>\n",
       "    <tr>\n",
       "      <th>12347.0</th>\n",
       "      <td>3</td>\n",
       "      <td>0.0</td>\n",
       "      <td>1</td>\n",
       "      <td>Iceland</td>\n",
       "      <td>1117</td>\n",
       "      <td>371.3325</td>\n",
       "      <td>3008.6595</td>\n",
       "      <td>25.986617</td>\n",
       "      <td>3.55246</td>\n",
       "      <td>44.460045</td>\n",
       "      <td>...</td>\n",
       "      <td>3</td>\n",
       "      <td>2</td>\n",
       "      <td>2</td>\n",
       "      <td>3</td>\n",
       "      <td>3</td>\n",
       "      <td>16008</td>\n",
       "      <td>7</td>\n",
       "      <td>2011</td>\n",
       "      <td>1</td>\n",
       "      <td>1</td>\n",
       "    </tr>\n",
       "    <tr>\n",
       "      <th>12347.0</th>\n",
       "      <td>3</td>\n",
       "      <td>0.0</td>\n",
       "      <td>1</td>\n",
       "      <td>Iceland</td>\n",
       "      <td>1117</td>\n",
       "      <td>371.3325</td>\n",
       "      <td>3008.6595</td>\n",
       "      <td>25.986617</td>\n",
       "      <td>3.55246</td>\n",
       "      <td>44.460045</td>\n",
       "      <td>...</td>\n",
       "      <td>3</td>\n",
       "      <td>2</td>\n",
       "      <td>2</td>\n",
       "      <td>3</td>\n",
       "      <td>3</td>\n",
       "      <td>16008</td>\n",
       "      <td>7</td>\n",
       "      <td>2011</td>\n",
       "      <td>1</td>\n",
       "      <td>1</td>\n",
       "    </tr>\n",
       "    <tr>\n",
       "      <th>12347.0</th>\n",
       "      <td>3</td>\n",
       "      <td>0.0</td>\n",
       "      <td>1</td>\n",
       "      <td>Iceland</td>\n",
       "      <td>1117</td>\n",
       "      <td>371.3325</td>\n",
       "      <td>3008.6595</td>\n",
       "      <td>25.986617</td>\n",
       "      <td>3.55246</td>\n",
       "      <td>44.460045</td>\n",
       "      <td>...</td>\n",
       "      <td>3</td>\n",
       "      <td>2</td>\n",
       "      <td>2</td>\n",
       "      <td>3</td>\n",
       "      <td>3</td>\n",
       "      <td>16008</td>\n",
       "      <td>7</td>\n",
       "      <td>2011</td>\n",
       "      <td>1</td>\n",
       "      <td>1</td>\n",
       "    </tr>\n",
       "  </tbody>\n",
       "</table>\n",
       "<p>5 rows × 143 columns</p>\n",
       "</div>"
      ],
      "text/plain": [
       "             COUNT(orders)  PERCENT_TRUE(orders.cancelled)  \\\n",
       "customer_id                                                  \n",
       "12347.0                  3                             0.0   \n",
       "12347.0                  3                             0.0   \n",
       "12347.0                  3                             0.0   \n",
       "12347.0                  3                             0.0   \n",
       "12347.0                  3                             0.0   \n",
       "\n",
       "             NUM_UNIQUE(orders.country) MODE(orders.country)  \\\n",
       "customer_id                                                    \n",
       "12347.0                               1              Iceland   \n",
       "12347.0                               1              Iceland   \n",
       "12347.0                               1              Iceland   \n",
       "12347.0                               1              Iceland   \n",
       "12347.0                               1              Iceland   \n",
       "\n",
       "             SUM(order_products.quantity)  SUM(order_products.price)  \\\n",
       "customer_id                                                            \n",
       "12347.0                              1117                   371.3325   \n",
       "12347.0                              1117                   371.3325   \n",
       "12347.0                              1117                   371.3325   \n",
       "12347.0                              1117                   371.3325   \n",
       "12347.0                              1117                   371.3325   \n",
       "\n",
       "             SUM(order_products.total)  STD(order_products.quantity)  \\\n",
       "customer_id                                                            \n",
       "12347.0                      3008.6595                     25.986617   \n",
       "12347.0                      3008.6595                     25.986617   \n",
       "12347.0                      3008.6595                     25.986617   \n",
       "12347.0                      3008.6595                     25.986617   \n",
       "12347.0                      3008.6595                     25.986617   \n",
       "\n",
       "             STD(order_products.price)  STD(order_products.total)  \\\n",
       "customer_id                                                         \n",
       "12347.0                        3.55246                  44.460045   \n",
       "12347.0                        3.55246                  44.460045   \n",
       "12347.0                        3.55246                  44.460045   \n",
       "12347.0                        3.55246                  44.460045   \n",
       "12347.0                        3.55246                  44.460045   \n",
       "\n",
       "                                  ...                         \\\n",
       "customer_id                       ...                          \n",
       "12347.0                           ...                          \n",
       "12347.0                           ...                          \n",
       "12347.0                           ...                          \n",
       "12347.0                           ...                          \n",
       "12347.0                           ...                          \n",
       "\n",
       "             NUM_UNIQUE(orders.MODE(order_products.product_id))  \\\n",
       "customer_id                                                       \n",
       "12347.0                                                      3    \n",
       "12347.0                                                      3    \n",
       "12347.0                                                      3    \n",
       "12347.0                                                      3    \n",
       "12347.0                                                      3    \n",
       "\n",
       "             NUM_UNIQUE(orders.DAY(first_order_products_time))  \\\n",
       "customer_id                                                      \n",
       "12347.0                                                      2   \n",
       "12347.0                                                      2   \n",
       "12347.0                                                      2   \n",
       "12347.0                                                      2   \n",
       "12347.0                                                      2   \n",
       "\n",
       "             NUM_UNIQUE(orders.YEAR(first_order_products_time))  \\\n",
       "customer_id                                                       \n",
       "12347.0                                                      2    \n",
       "12347.0                                                      2    \n",
       "12347.0                                                      2    \n",
       "12347.0                                                      2    \n",
       "12347.0                                                      2    \n",
       "\n",
       "             NUM_UNIQUE(orders.MONTH(first_order_products_time))  \\\n",
       "customer_id                                                        \n",
       "12347.0                                                      3     \n",
       "12347.0                                                      3     \n",
       "12347.0                                                      3     \n",
       "12347.0                                                      3     \n",
       "12347.0                                                      3     \n",
       "\n",
       "             NUM_UNIQUE(orders.WEEKDAY(first_order_products_time))  \\\n",
       "customer_id                                                          \n",
       "12347.0                                                      3       \n",
       "12347.0                                                      3       \n",
       "12347.0                                                      3       \n",
       "12347.0                                                      3       \n",
       "12347.0                                                      3       \n",
       "\n",
       "             MODE(orders.MODE(order_products.product_id))  \\\n",
       "customer_id                                                 \n",
       "12347.0                                             16008   \n",
       "12347.0                                             16008   \n",
       "12347.0                                             16008   \n",
       "12347.0                                             16008   \n",
       "12347.0                                             16008   \n",
       "\n",
       "             MODE(orders.DAY(first_order_products_time))  \\\n",
       "customer_id                                                \n",
       "12347.0                                                7   \n",
       "12347.0                                                7   \n",
       "12347.0                                                7   \n",
       "12347.0                                                7   \n",
       "12347.0                                                7   \n",
       "\n",
       "             MODE(orders.YEAR(first_order_products_time))  \\\n",
       "customer_id                                                 \n",
       "12347.0                                              2011   \n",
       "12347.0                                              2011   \n",
       "12347.0                                              2011   \n",
       "12347.0                                              2011   \n",
       "12347.0                                              2011   \n",
       "\n",
       "             MODE(orders.MONTH(first_order_products_time))  \\\n",
       "customer_id                                                  \n",
       "12347.0                                                  1   \n",
       "12347.0                                                  1   \n",
       "12347.0                                                  1   \n",
       "12347.0                                                  1   \n",
       "12347.0                                                  1   \n",
       "\n",
       "             MODE(orders.WEEKDAY(first_order_products_time))  \n",
       "customer_id                                                   \n",
       "12347.0                                                    1  \n",
       "12347.0                                                    1  \n",
       "12347.0                                                    1  \n",
       "12347.0                                                    1  \n",
       "12347.0                                                    1  \n",
       "\n",
       "[5 rows x 143 columns]"
      ]
     },
     "execution_count": 13,
     "metadata": {},
     "output_type": "execute_result"
    }
   ],
   "source": [
    "feature_matrix.head()"
   ]
  },
  {
   "cell_type": "code",
   "execution_count": 14,
   "metadata": {},
   "outputs": [
    {
     "data": {
      "text/plain": [
       "count      6543.000000\n",
       "mean       1125.866152\n",
       "std        3508.129099\n",
       "min       -1650.610500\n",
       "25%         312.658500\n",
       "50%         559.845000\n",
       "75%        1031.720250\n",
       "max      115906.725000\n",
       "Name: total, dtype: float64"
      ]
     },
     "execution_count": 14,
     "metadata": {},
     "output_type": "execute_result"
    }
   ],
   "source": [
    "labels['total'].describe()"
   ]
  },
  {
   "cell_type": "code",
   "execution_count": 15,
   "metadata": {},
   "outputs": [
    {
     "data": {
      "text/plain": [
       "<matplotlib.axes._subplots.AxesSubplot at 0x1a0e591b00>"
      ]
     },
     "execution_count": 15,
     "metadata": {},
     "output_type": "execute_result"
    },
    {
     "data": {
      "image/png": "[encoded data removed]",
      "text/plain": [
       "<Figure size 432x288 with 1 Axes>"
      ]
     },
     "metadata": {},
     "output_type": "display_data"
    }
   ],
   "source": [
    "labels['label'] = 1.0 * (labels['total'] > 500)\n",
    "labels['label'].value_counts().plot.bar()"
   ]
  },
  {
   "cell_type": "code",
   "execution_count": 16,
   "metadata": {},
   "outputs": [
    {
     "data": {
      "text/plain": [
       "(6543, 2000)"
      ]
     },
     "execution_count": 16,
     "metadata": {},
     "output_type": "execute_result"
    }
   ],
   "source": [
    "feature_matrix_enc = pd.get_dummies(feature_matrix.drop_duplicates())\n",
    "feature_matrix_enc.shape"
   ]
  },
  {
   "cell_type": "code",
   "execution_count": 17,
   "metadata": {},
   "outputs": [
    {
     "data": {
      "text/plain": [
       "(6543, 4)"
      ]
     },
     "execution_count": 17,
     "metadata": {},
     "output_type": "execute_result"
    }
   ],
   "source": [
    "labels.shape"
   ]
  },
  {
   "cell_type": "code",
   "execution_count": 18,
   "metadata": {},
   "outputs": [],
   "source": [
    "from sklearn.model_selection import train_test_split, cross_val_score\n",
    "\n",
    "X_train, X_test, y_train, y_test = train_test_split(feature_matrix_enc, labels['label'], test_size = 0.3)"
   ]
  },
  {
   "cell_type": "code",
   "execution_count": 19,
   "metadata": {},
   "outputs": [
    {
     "data": {
      "text/plain": [
       "(6543, 2)"
      ]
     },
     "execution_count": 19,
     "metadata": {},
     "output_type": "execute_result"
    }
   ],
   "source": [
    "cutoff_times.shape"
   ]
  },
  {
   "cell_type": "code",
   "execution_count": 20,
   "metadata": {},
   "outputs": [
    {
     "data": {
      "text/plain": [
       "(6543, 143)"
      ]
     },
     "execution_count": 20,
     "metadata": {},
     "output_type": "execute_result"
    }
   ],
   "source": [
    "feature_matrix.drop_duplicates().shape"
   ]
  },
  {
   "cell_type": "code",
   "execution_count": 21,
   "metadata": {},
   "outputs": [
    {
     "data": {
      "text/plain": [
       "RandomForestClassifier(bootstrap=True, class_weight=None, criterion='gini',\n",
       "            max_depth=None, max_features='auto', max_leaf_nodes=None,\n",
       "            min_impurity_decrease=0.0, min_impurity_split=None,\n",
       "            min_samples_leaf=1, min_samples_split=2,\n",
       "            min_weight_fraction_leaf=0.0, n_estimators=1000, n_jobs=1,\n",
       "            oob_score=False, random_state=50, verbose=0, warm_start=False)"
      ]
     },
     "execution_count": 21,
     "metadata": {},
     "output_type": "execute_result"
    }
   ],
   "source": [
    "from sklearn.ensemble import RandomForestClassifier\n",
    "\n",
    "model = RandomForestClassifier(n_estimators = 1000, random_state = 50)\n",
    "model.fit(X_train, y_train)"
   ]
  },
  {
   "cell_type": "code",
   "execution_count": 22,
   "metadata": {},
   "outputs": [],
   "source": [
    "f = list(X_train.columns)\n",
    "fi = pd.DataFrame({'feature': f, 'importance': model.feature_importances_})"
   ]
  },
  {
   "cell_type": "code",
   "execution_count": 23,
   "metadata": {},
   "outputs": [],
   "source": [
    "def plot_feature_importances(df, n = 15, threshold = None):\n",
    "    \"\"\"Plots n most important features. Also plots the cumulative importance if\n",
    "    threshold is specified and prints the number of features needed to reach threshold cumulative importance.\n",
    "    Intended for use with any tree-based feature importances. \n",
    "    \n",
    "    Args:\n",
    "        df (dataframe): Dataframe of feature importances. Columns must be \"feature\" and \"importance\".\n",
    "    \n",
    "        n (int): Number of most important features to plot. Default is 15.\n",
    "    \n",
    "        threshold (float): Threshold for cumulative importance plot. If not provided, no plot is made. Default is None.\n",
    "        \n",
    "    Returns:\n",
    "        df (dataframe): Dataframe ordered by feature importances with a normalized column (sums to 1) \n",
    "                        and a cumulative importance column\n",
    "    \n",
    "    Note:\n",
    "    \n",
    "        * Normalization in this case means sums to 1. \n",
    "        * Cumulative importance is calculated by summing features from most to least important\n",
    "        * A threshold of 0.9 will show the most important features needed to reach 90% of cumulative importance\n",
    "    \n",
    "    \"\"\"\n",
    "    \n",
    "    # Sort features with most important at the head\n",
    "    df = df.sort_values('importance', ascending = False).reset_index(drop = True)\n",
    "    \n",
    "    # Normalize the feature importances to add up to one and calculate cumulative importance\n",
    "    df['importance_normalized'] = df['importance'] / df['importance'].sum()\n",
    "    df['cumulative_importance'] = np.cumsum(df['importance_normalized'])\n",
    "    \n",
    "    plt.rcParams['font.size'] = 12\n",
    "    \n",
    "    # Bar plot of n most important features\n",
    "    df.loc[:n, :].plot.barh(y = 'importance_normalized', \n",
    "                            x = 'feature', color = 'blue', \n",
    "                            edgecolor = 'k', figsize = (12, 8),\n",
    "                            legend = False)\n",
    "\n",
    "    plt.xlabel('Normalized Importance', size = 18); plt.ylabel(''); \n",
    "    plt.title(f'Top {n} Most Important Features', size = 18)\n",
    "    plt.gca().invert_yaxis()\n",
    "    \n",
    "    \n",
    "    if threshold:\n",
    "        # Cumulative importance plot\n",
    "        plt.figure(figsize = (8, 6))\n",
    "        plt.plot(list(range(len(df))), df['cumulative_importance'], 'b-')\n",
    "        plt.xlabel('Number of Features', size = 16); plt.ylabel('Cumulative Importance', size = 16); \n",
    "        plt.title('Cumulative Feature Importance', size = 18);\n",
    "        \n",
    "        # Number of features needed for threshold cumulative importance\n",
    "        # This is the index (will need to add 1 for the actual number)\n",
    "        importance_index = np.min(np.where(df['cumulative_importance'] > threshold))\n",
    "        \n",
    "        # Add vertical line to plot\n",
    "        plt.vlines(importance_index + 1, ymin = 0, ymax = 1.05, linestyles = '--', colors = 'red')\n",
    "        plt.show();\n",
    "        \n",
    "        print('{} features required for {:.0f}% of cumulative importance.'.format(importance_index + 1, \n",
    "                                                                                  100 * threshold))\n",
    "    \n",
    "    return df"
   ]
  },
  {
   "cell_type": "code",
   "execution_count": 24,
   "metadata": {},
   "outputs": [
    {
     "data": {
      "image/png": "[encoded data removed]",
      "text/plain": [
       "<Figure size 864x576 with 1 Axes>"
      ]
     },
     "metadata": {},
     "output_type": "display_data"
    }
   ],
   "source": [
    "norm_fi = plot_feature_importances(fi)"
   ]
  },
  {
   "cell_type": "code",
   "execution_count": 27,
   "metadata": {},
   "outputs": [
    {
     "name": "stdout",
     "output_type": "stream",
     "text": [
      "F1 Score: 0.75589.\n",
      "ROC AUC Score: 0.74787.\n"
     ]
    }
   ],
   "source": [
    "from sklearn.metrics import f1_score, roc_auc_score\n",
    "\n",
    "print('F1 Score: {:.5f}.'.format(f1_score(y_test, model.predict(X_test))))\n",
    "print('ROC AUC Score: {:.5f}.'.format(roc_auc_score(y_test, model.predict_proba(X_test)[:, 1])))"
   ]
  },
  {
   "cell_type": "code",
   "execution_count": null,
   "metadata": {},
   "outputs": [],
   "source": [
    "cv_results = cross_val_score(model, X_train, y_train, cv = 5, scoring = 'f1')\n",
    "cv_results.mean()"
   ]
  },
  {
   "cell_type": "code",
   "execution_count": null,
   "metadata": {},
   "outputs": [],
   "source": [
    "cv_results_roc = cross_val_score(model, X_train, y_train, cv = 5, scoring = 'roc_auc')\n",
    "cv_results_roc.mean()"
   ]
  },
  {
   "cell_type": "code",
   "execution_count": 61,
   "metadata": {},
   "outputs": [],
   "source": [
    "labels['cutoff_time'] = pd.to_datetime(labels['cutoff_time'])"
   ]
  },
  {
   "cell_type": "code",
   "execution_count": 62,
   "metadata": {},
   "outputs": [
    {
     "data": {
      "text/html": [
       "<div>\n",
       "<style scoped>\n",
       "    .dataframe tbody tr th:only-of-type {\n",
       "        vertical-align: middle;\n",
       "    }\n",
       "\n",
       "    .dataframe tbody tr th {\n",
       "        vertical-align: top;\n",
       "    }\n",
       "\n",
       "    .dataframe thead th {\n",
       "        text-align: right;\n",
       "    }\n",
       "</style>\n",
       "<table border=\"1\" class=\"dataframe\">\n",
       "  <thead>\n",
       "    <tr style=\"text-align: right;\">\n",
       "      <th></th>\n",
       "      <th>customer_id</th>\n",
       "      <th>total</th>\n",
       "      <th>cutoff_time</th>\n",
       "      <th>label</th>\n",
       "    </tr>\n",
       "  </thead>\n",
       "  <tbody>\n",
       "    <tr>\n",
       "      <th>0</th>\n",
       "      <td>12347.0</td>\n",
       "      <td>965.1015</td>\n",
       "      <td>2011-08-01</td>\n",
       "      <td>1.0</td>\n",
       "    </tr>\n",
       "    <tr>\n",
       "      <th>1</th>\n",
       "      <td>12360.0</td>\n",
       "      <td>882.2550</td>\n",
       "      <td>2011-08-01</td>\n",
       "      <td>1.0</td>\n",
       "    </tr>\n",
       "    <tr>\n",
       "      <th>2</th>\n",
       "      <td>12362.0</td>\n",
       "      <td>744.7275</td>\n",
       "      <td>2011-08-01</td>\n",
       "      <td>1.0</td>\n",
       "    </tr>\n",
       "    <tr>\n",
       "      <th>3</th>\n",
       "      <td>12363.0</td>\n",
       "      <td>417.2850</td>\n",
       "      <td>2011-08-01</td>\n",
       "      <td>0.0</td>\n",
       "    </tr>\n",
       "    <tr>\n",
       "      <th>4</th>\n",
       "      <td>12395.0</td>\n",
       "      <td>273.8175</td>\n",
       "      <td>2011-08-01</td>\n",
       "      <td>0.0</td>\n",
       "    </tr>\n",
       "  </tbody>\n",
       "</table>\n",
       "</div>"
      ],
      "text/plain": [
       "   customer_id     total cutoff_time  label\n",
       "0      12347.0  965.1015  2011-08-01    1.0\n",
       "1      12360.0  882.2550  2011-08-01    1.0\n",
       "2      12362.0  744.7275  2011-08-01    1.0\n",
       "3      12363.0  417.2850  2011-08-01    0.0\n",
       "4      12395.0  273.8175  2011-08-01    0.0"
      ]
     },
     "execution_count": 62,
     "metadata": {},
     "output_type": "execute_result"
    }
   ],
   "source": [
    "labels_september = labels[labels['cutoff_time'].dt.month == 8]\n",
    "labels_september.head()"
   ]
  },
  {
   "cell_type": "code",
   "execution_count": 78,
   "metadata": {},
   "outputs": [
    {
     "data": {
      "text/html": [
       "<div>\n",
       "<style scoped>\n",
       "    .dataframe tbody tr th:only-of-type {\n",
       "        vertical-align: middle;\n",
       "    }\n",
       "\n",
       "    .dataframe tbody tr th {\n",
       "        vertical-align: top;\n",
       "    }\n",
       "\n",
       "    .dataframe thead th {\n",
       "        text-align: right;\n",
       "    }\n",
       "</style>\n",
       "<table border=\"1\" class=\"dataframe\">\n",
       "  <thead>\n",
       "    <tr style=\"text-align: right;\">\n",
       "      <th></th>\n",
       "      <th>customer_id</th>\n",
       "      <th>total_july</th>\n",
       "      <th>cutoff_time</th>\n",
       "      <th>july</th>\n",
       "    </tr>\n",
       "  </thead>\n",
       "  <tbody>\n",
       "    <tr>\n",
       "      <th>0</th>\n",
       "      <td>12362.0</td>\n",
       "      <td>501.2040</td>\n",
       "      <td>2011-07-01</td>\n",
       "      <td>1.0</td>\n",
       "    </tr>\n",
       "    <tr>\n",
       "      <th>1</th>\n",
       "      <td>12379.0</td>\n",
       "      <td>-3.2175</td>\n",
       "      <td>2011-07-01</td>\n",
       "      <td>0.0</td>\n",
       "    </tr>\n",
       "    <tr>\n",
       "      <th>2</th>\n",
       "      <td>12388.0</td>\n",
       "      <td>1488.4485</td>\n",
       "      <td>2011-07-01</td>\n",
       "      <td>1.0</td>\n",
       "    </tr>\n",
       "    <tr>\n",
       "      <th>3</th>\n",
       "      <td>12407.0</td>\n",
       "      <td>1503.8100</td>\n",
       "      <td>2011-07-01</td>\n",
       "      <td>1.0</td>\n",
       "    </tr>\n",
       "    <tr>\n",
       "      <th>4</th>\n",
       "      <td>12412.0</td>\n",
       "      <td>620.7960</td>\n",
       "      <td>2011-07-01</td>\n",
       "      <td>1.0</td>\n",
       "    </tr>\n",
       "  </tbody>\n",
       "</table>\n",
       "</div>"
      ],
      "text/plain": [
       "   customer_id  total_july cutoff_time  july\n",
       "0      12362.0    501.2040  2011-07-01   1.0\n",
       "1      12379.0     -3.2175  2011-07-01   0.0\n",
       "2      12388.0   1488.4485  2011-07-01   1.0\n",
       "3      12407.0   1503.8100  2011-07-01   1.0\n",
       "4      12412.0    620.7960  2011-07-01   1.0"
      ]
     },
     "execution_count": 78,
     "metadata": {},
     "output_type": "execute_result"
    }
   ],
   "source": [
    "labels_july = labels[labels['cutoff_time'].dt.month == 7].rename(columns = {'label': 'july', 'total': 'total_july'})\n",
    "labels_july.head()"
   ]
  },
  {
   "cell_type": "code",
   "execution_count": 79,
   "metadata": {},
   "outputs": [
    {
     "data": {
      "text/html": [
       "<div>\n",
       "<style scoped>\n",
       "    .dataframe tbody tr th:only-of-type {\n",
       "        vertical-align: middle;\n",
       "    }\n",
       "\n",
       "    .dataframe tbody tr th {\n",
       "        vertical-align: top;\n",
       "    }\n",
       "\n",
       "    .dataframe thead th {\n",
       "        text-align: right;\n",
       "    }\n",
       "</style>\n",
       "<table border=\"1\" class=\"dataframe\">\n",
       "  <thead>\n",
       "    <tr style=\"text-align: right;\">\n",
       "      <th></th>\n",
       "      <th>customer_id</th>\n",
       "      <th>total</th>\n",
       "      <th>cutoff_time</th>\n",
       "      <th>label</th>\n",
       "      <th>july_x</th>\n",
       "      <th>total_july</th>\n",
       "      <th>july_y</th>\n",
       "    </tr>\n",
       "  </thead>\n",
       "  <tbody>\n",
       "    <tr>\n",
       "      <th>0</th>\n",
       "      <td>12347.0</td>\n",
       "      <td>965.1015</td>\n",
       "      <td>2011-08-01</td>\n",
       "      <td>1.0</td>\n",
       "      <td>0.0</td>\n",
       "      <td>NaN</td>\n",
       "      <td>NaN</td>\n",
       "    </tr>\n",
       "    <tr>\n",
       "      <th>1</th>\n",
       "      <td>12360.0</td>\n",
       "      <td>882.2550</td>\n",
       "      <td>2011-08-01</td>\n",
       "      <td>1.0</td>\n",
       "      <td>0.0</td>\n",
       "      <td>NaN</td>\n",
       "      <td>NaN</td>\n",
       "    </tr>\n",
       "    <tr>\n",
       "      <th>2</th>\n",
       "      <td>12362.0</td>\n",
       "      <td>744.7275</td>\n",
       "      <td>2011-08-01</td>\n",
       "      <td>1.0</td>\n",
       "      <td>1.0</td>\n",
       "      <td>501.204</td>\n",
       "      <td>1.0</td>\n",
       "    </tr>\n",
       "    <tr>\n",
       "      <th>3</th>\n",
       "      <td>12363.0</td>\n",
       "      <td>417.2850</td>\n",
       "      <td>2011-08-01</td>\n",
       "      <td>0.0</td>\n",
       "      <td>0.0</td>\n",
       "      <td>NaN</td>\n",
       "      <td>NaN</td>\n",
       "    </tr>\n",
       "    <tr>\n",
       "      <th>4</th>\n",
       "      <td>12395.0</td>\n",
       "      <td>273.8175</td>\n",
       "      <td>2011-08-01</td>\n",
       "      <td>0.0</td>\n",
       "      <td>0.0</td>\n",
       "      <td>NaN</td>\n",
       "      <td>NaN</td>\n",
       "    </tr>\n",
       "  </tbody>\n",
       "</table>\n",
       "</div>"
      ],
      "text/plain": [
       "   customer_id     total cutoff_time  label  july_x  total_july  july_y\n",
       "0      12347.0  965.1015  2011-08-01    1.0     0.0         NaN     NaN\n",
       "1      12360.0  882.2550  2011-08-01    1.0     0.0         NaN     NaN\n",
       "2      12362.0  744.7275  2011-08-01    1.0     1.0     501.204     1.0\n",
       "3      12363.0  417.2850  2011-08-01    0.0     0.0         NaN     NaN\n",
       "4      12395.0  273.8175  2011-08-01    0.0     0.0         NaN     NaN"
      ]
     },
     "execution_count": 79,
     "metadata": {},
     "output_type": "execute_result"
    }
   ],
   "source": [
    "labels_september = labels_september.merge(labels_july[['total_july', 'customer_id', 'july']], on = 'customer_id', how = 'left')\n",
    "labels_september.head()"
   ]
  },
  {
   "cell_type": "code",
   "execution_count": 66,
   "metadata": {},
   "outputs": [],
   "source": [
    "labels_september['july'] = labels_september['july'].fillna(0)"
   ]
  },
  {
   "cell_type": "code",
   "execution_count": 67,
   "metadata": {},
   "outputs": [
    {
     "data": {
      "text/plain": [
       "0.5070028011204482"
      ]
     },
     "execution_count": 67,
     "metadata": {},
     "output_type": "execute_result"
    }
   ],
   "source": [
    "f1_score(labels_september['label'], labels_september['july'])"
   ]
  },
  {
   "cell_type": "code",
   "execution_count": 77,
   "metadata": {},
   "outputs": [
    {
     "data": {
      "text/plain": [
       "0.5919644504582078"
      ]
     },
     "execution_count": 77,
     "metadata": {},
     "output_type": "execute_result"
    }
   ],
   "source": [
    "roc_auc_score(labels_september['label'], labels_september['july'])"
   ]
  },
  {
   "cell_type": "code",
   "execution_count": null,
   "metadata": {},
   "outputs": [],
   "source": []
  }
 ],
 "metadata": {
  "kernelspec": {
   "display_name": "Python 3",
   "language": "python",
   "name": "python3"
  },
  "language_info": {
   "codemirror_mode": {
    "name": "ipython",
    "version": 3
   },
   "file_extension": ".py",
   "mimetype": "text/x-python",
   "name": "python",
   "nbconvert_exporter": "python",
   "pygments_lexer": "ipython3",
   "version": "3.6.5"
  }
 },
 "nbformat": 4,
 "nbformat_minor": 2
}
