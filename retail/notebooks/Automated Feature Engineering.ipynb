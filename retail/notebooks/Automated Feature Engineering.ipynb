{
 "cells": [
  {
   "cell_type": "markdown",
   "metadata": {},
   "source": [
    "# Automated Feature Engineering\n",
    "\n",
    "In this notebook, we will implement an automated feature engineering solution in Featuretools for a set of online retail purchases. The dataset (available from the [UCI machine learning repository](https://archive.ics.uci.edu/ml/datasets/online+retail#)), a series of time-stamped purchases, does not come with any labels, so we'll have to make our own prediction problem. After defining the problem, we can use automated feature engineering to build a set of features that we then feed to a machine learning model for training. \n",
    "\n",
    "This set of data is great practice both for defining our own prediction problem, and for using some of the time-based capabilities of Featuretools such as cutoff times. Whenever we have time-series data, we need to be extra careful to not \"leak labels\" or use information from the future to predict a past event. Usually, when we're doing manual feature engineering, this can be quite an issue and often, a system will work well in development but utterly fail when deployed because it was trained on illegitimate data. Fortunately, Featuretools will take care of the time issue for us, creating a rich set of features that follow any time limitations. \n",
    "\n",
    "## Roadmap \n",
    "\n",
    "Following is an outline for this notebook:\n",
    "\n",
    "1. Read in data, inspect, and clean\n",
    "2. Develop a prediction problem\n",
    "    * Create a dataframe of labels - what we want to predict, and cutoff times - the point that all data must come before for predicting a label\n",
    "3. Create an entityset and add entities\n",
    "    * Normalize the original table to develop new tables \n",
    "    * These new tables can be used for making features\n",
    "3. Run deep feature sythesis on the entityset to make features\n",
    "    * Use the cutoff times to make features using valid data for each label\n",
    "4. Use the features to train a machine learning model\n",
    "    * Measure performance of the model relative to an informed baseline\n",
    "5. Tune deep feature synthesis \n",
    "    * Specify custom primitives\n",
    "    * Adjust maximum depth of features\n",
    "6. Use random search for hyperparameter tuning the model\n",
    "\n",
    "This problem is a great display of both the time and feature-creation capabilities of Featuretools. Doing this problem by hand and ensuring we use only valid data for each label is a daunting task! "
   ]
  },
  {
   "cell_type": "code",
   "execution_count": 1,
   "metadata": {},
   "outputs": [
    {
     "name": "stderr",
     "output_type": "stream",
     "text": [
      "/anaconda3/lib/python3.6/importlib/_bootstrap.py:219: RuntimeWarning: numpy.dtype size changed, may indicate binary incompatibility. Expected 96, got 88\n",
      "  return f(*args, **kwds)\n",
      "/anaconda3/lib/python3.6/importlib/_bootstrap.py:219: RuntimeWarning: numpy.dtype size changed, may indicate binary incompatibility. Expected 96, got 88\n",
      "  return f(*args, **kwds)\n",
      "/anaconda3/lib/python3.6/importlib/_bootstrap.py:219: RuntimeWarning: numpy.dtype size changed, may indicate binary incompatibility. Expected 96, got 88\n",
      "  return f(*args, **kwds)\n"
     ]
    }
   ],
   "source": [
    "# Data manipulation\n",
    "import pandas as pd \n",
    "import numpy as np\n",
    "\n",
    "# Visualization\n",
    "import matplotlib.pyplot as plt\n",
    "import seaborn as sns\n",
    "\n",
    "%matplotlib inline\n",
    "\n",
    "# Automated feature engineering\n",
    "import featuretools as ft\n",
    "\n",
    "# Machine learning\n",
    "from sklearn.pipeline import Pipeline\n",
    "from sklearn.preprocessing import Imputer, MinMaxScaler\n",
    "from sklearn.metrics import precision_score, recall_score, f1_score, roc_auc_score, precision_recall_curve\n",
    "from sklearn.model_selection import train_test_split, cross_val_score\n",
    "from sklearn.ensemble import RandomForestClassifier"
   ]
  },
  {
   "cell_type": "markdown",
   "metadata": {},
   "source": [
    "### Load in Raw Data\n",
    "\n",
    "The raw data is a collection of purchases from an online retailer collected in 2011. Each row in the original data represents one product that was purchased with multiple purchases forming an order. There are a few issues with the data that will need to be addressed (as with most real-world datasets)!\n",
    "\n",
    "This code loads in the data from an s3 bucket, converts the price in Pounds to dollars (based on the exchange rate on May 31, 2011), and creates a column representing the total of the purchase. "
   ]
  },
  {
   "cell_type": "code",
   "execution_count": 2,
   "metadata": {},
   "outputs": [
    {
     "data": {
      "text/html": [
       "<div>\n",
       "<style scoped>\n",
       "    .dataframe tbody tr th:only-of-type {\n",
       "        vertical-align: middle;\n",
       "    }\n",
       "\n",
       "    .dataframe tbody tr th {\n",
       "        vertical-align: top;\n",
       "    }\n",
       "\n",
       "    .dataframe thead th {\n",
       "        text-align: right;\n",
       "    }\n",
       "</style>\n",
       "<table border=\"1\" class=\"dataframe\">\n",
       "  <thead>\n",
       "    <tr style=\"text-align: right;\">\n",
       "      <th></th>\n",
       "      <th>order_id</th>\n",
       "      <th>product_id</th>\n",
       "      <th>description</th>\n",
       "      <th>quantity</th>\n",
       "      <th>order_date</th>\n",
       "      <th>price</th>\n",
       "      <th>customer_id</th>\n",
       "      <th>country</th>\n",
       "      <th>total</th>\n",
       "    </tr>\n",
       "  </thead>\n",
       "  <tbody>\n",
       "    <tr>\n",
       "      <th>42481</th>\n",
       "      <td>539993</td>\n",
       "      <td>22386</td>\n",
       "      <td>JUMBO BAG PINK POLKADOT</td>\n",
       "      <td>10</td>\n",
       "      <td>2011-01-04 10:00:00</td>\n",
       "      <td>3.2175</td>\n",
       "      <td>13313.0</td>\n",
       "      <td>United Kingdom</td>\n",
       "      <td>32.175</td>\n",
       "    </tr>\n",
       "    <tr>\n",
       "      <th>42482</th>\n",
       "      <td>539993</td>\n",
       "      <td>21499</td>\n",
       "      <td>BLUE POLKADOT WRAP</td>\n",
       "      <td>25</td>\n",
       "      <td>2011-01-04 10:00:00</td>\n",
       "      <td>0.6930</td>\n",
       "      <td>13313.0</td>\n",
       "      <td>United Kingdom</td>\n",
       "      <td>17.325</td>\n",
       "    </tr>\n",
       "    <tr>\n",
       "      <th>42483</th>\n",
       "      <td>539993</td>\n",
       "      <td>21498</td>\n",
       "      <td>RED RETROSPOT WRAP</td>\n",
       "      <td>25</td>\n",
       "      <td>2011-01-04 10:00:00</td>\n",
       "      <td>0.6930</td>\n",
       "      <td>13313.0</td>\n",
       "      <td>United Kingdom</td>\n",
       "      <td>17.325</td>\n",
       "    </tr>\n",
       "    <tr>\n",
       "      <th>42484</th>\n",
       "      <td>539993</td>\n",
       "      <td>22379</td>\n",
       "      <td>RECYCLING BAG RETROSPOT</td>\n",
       "      <td>5</td>\n",
       "      <td>2011-01-04 10:00:00</td>\n",
       "      <td>3.4650</td>\n",
       "      <td>13313.0</td>\n",
       "      <td>United Kingdom</td>\n",
       "      <td>17.325</td>\n",
       "    </tr>\n",
       "    <tr>\n",
       "      <th>42485</th>\n",
       "      <td>539993</td>\n",
       "      <td>20718</td>\n",
       "      <td>RED RETROSPOT SHOPPER BAG</td>\n",
       "      <td>10</td>\n",
       "      <td>2011-01-04 10:00:00</td>\n",
       "      <td>2.0625</td>\n",
       "      <td>13313.0</td>\n",
       "      <td>United Kingdom</td>\n",
       "      <td>20.625</td>\n",
       "    </tr>\n",
       "  </tbody>\n",
       "</table>\n",
       "</div>"
      ],
      "text/plain": [
       "      order_id product_id                description  quantity  \\\n",
       "42481   539993      22386    JUMBO BAG PINK POLKADOT        10   \n",
       "42482   539993      21499         BLUE POLKADOT WRAP        25   \n",
       "42483   539993      21498        RED RETROSPOT WRAP         25   \n",
       "42484   539993      22379   RECYCLING BAG RETROSPOT          5   \n",
       "42485   539993      20718  RED RETROSPOT SHOPPER BAG        10   \n",
       "\n",
       "               order_date   price  customer_id         country   total  \n",
       "42481 2011-01-04 10:00:00  3.2175      13313.0  United Kingdom  32.175  \n",
       "42482 2011-01-04 10:00:00  0.6930      13313.0  United Kingdom  17.325  \n",
       "42483 2011-01-04 10:00:00  0.6930      13313.0  United Kingdom  17.325  \n",
       "42484 2011-01-04 10:00:00  3.4650      13313.0  United Kingdom  17.325  \n",
       "42485 2011-01-04 10:00:00  2.0625      13313.0  United Kingdom  20.625  "
      ]
     },
     "execution_count": 2,
     "metadata": {},
     "output_type": "execute_result"
    }
   ],
   "source": [
    "csv_s3 = \"s3://featurelabs-static/online-retail-logs.csv\"\n",
    "data = pd.read_csv(csv_s3, parse_dates=[\"order_date\"])\n",
    "\n",
    "# Convert to dollars\n",
    "data['price'] = data['price'] * 1.65\n",
    "data['total'] = data['price'] * data['quantity']\n",
    "\n",
    "# Restrict data to 2011\n",
    "data = data[data['order_date'].dt.year == 2011]\n",
    "\n",
    "data.head()"
   ]
  },
  {
   "cell_type": "markdown",
   "metadata": {},
   "source": [
    "## Data Cleaning\n",
    "\n",
    "There are a few issues we need to address with the data. First, we'll drop the duplicated rows, then we'll drop any rows that contain a `nan`. Finally, we can add a `Boolean` column indicating whether or not an order is a cancellation."
   ]
  },
  {
   "cell_type": "code",
   "execution_count": 4,
   "metadata": {},
   "outputs": [
    {
     "data": {
      "image/png": "[encoded data removed]",
      "text/plain": [
       "<Figure size 432x360 with 1 Axes>"
      ]
     },
     "metadata": {},
     "output_type": "display_data"
    }
   ],
   "source": [
    "# drop the duplicates\n",
    "data = data.drop_duplicates()\n",
    "\n",
    "# drop rows with null customer id\n",
    "data = data.dropna(axis=0)\n",
    "\n",
    "data['cancelled'] = data['order_id'].str.startswith('C')\n",
    "data['cancelled'].value_counts().plot.bar(figsize = (6, 5));\n",
    "plt.title('Cancelled Purchases Breakdown');"
   ]
  },
  {
   "cell_type": "markdown",
   "metadata": {},
   "source": [
    "All of the cancelled orders have negative quantities which mean that they cancel out with the corresponding purchase. We'll leave in the cancelled purchases, because if our goal (defined later in the prediction problem) is to predict the total amount purchased by a customer, we'll need to take into account their cancelled orders."
   ]
  },
  {
   "cell_type": "code",
   "execution_count": 10,
   "metadata": {},
   "outputs": [
    {
     "data": {
      "text/html": [
       "<div>\n",
       "<style scoped>\n",
       "    .dataframe tbody tr th:only-of-type {\n",
       "        vertical-align: middle;\n",
       "    }\n",
       "\n",
       "    .dataframe tbody tr th {\n",
       "        vertical-align: top;\n",
       "    }\n",
       "\n",
       "    .dataframe thead th {\n",
       "        text-align: right;\n",
       "    }\n",
       "</style>\n",
       "<table border=\"1\" class=\"dataframe\">\n",
       "  <thead>\n",
       "    <tr style=\"text-align: right;\">\n",
       "      <th></th>\n",
       "      <th>quantity</th>\n",
       "      <th>price</th>\n",
       "      <th>customer_id</th>\n",
       "      <th>total</th>\n",
       "    </tr>\n",
       "  </thead>\n",
       "  <tbody>\n",
       "    <tr>\n",
       "      <th>count</th>\n",
       "      <td>375250.000000</td>\n",
       "      <td>375250.000000</td>\n",
       "      <td>375250.000000</td>\n",
       "      <td>375250.000000</td>\n",
       "    </tr>\n",
       "    <tr>\n",
       "      <th>mean</th>\n",
       "      <td>12.252296</td>\n",
       "      <td>5.762031</td>\n",
       "      <td>15265.136168</td>\n",
       "      <td>33.972397</td>\n",
       "    </tr>\n",
       "    <tr>\n",
       "      <th>std</th>\n",
       "      <td>258.180877</td>\n",
       "      <td>119.054102</td>\n",
       "      <td>1710.927381</td>\n",
       "      <td>733.803756</td>\n",
       "    </tr>\n",
       "    <tr>\n",
       "      <th>min</th>\n",
       "      <td>-80995.000000</td>\n",
       "      <td>0.000000</td>\n",
       "      <td>12346.000000</td>\n",
       "      <td>-277974.840000</td>\n",
       "    </tr>\n",
       "    <tr>\n",
       "      <th>25%</th>\n",
       "      <td>2.000000</td>\n",
       "      <td>2.062500</td>\n",
       "      <td>13901.000000</td>\n",
       "      <td>7.012500</td>\n",
       "    </tr>\n",
       "    <tr>\n",
       "      <th>50%</th>\n",
       "      <td>5.000000</td>\n",
       "      <td>3.217500</td>\n",
       "      <td>15108.000000</td>\n",
       "      <td>19.305000</td>\n",
       "    </tr>\n",
       "    <tr>\n",
       "      <th>75%</th>\n",
       "      <td>12.000000</td>\n",
       "      <td>6.187500</td>\n",
       "      <td>16767.000000</td>\n",
       "      <td>32.670000</td>\n",
       "    </tr>\n",
       "    <tr>\n",
       "      <th>max</th>\n",
       "      <td>80995.000000</td>\n",
       "      <td>64300.500000</td>\n",
       "      <td>18287.000000</td>\n",
       "      <td>277974.840000</td>\n",
       "    </tr>\n",
       "  </tbody>\n",
       "</table>\n",
       "</div>"
      ],
      "text/plain": [
       "            quantity          price    customer_id          total\n",
       "count  375250.000000  375250.000000  375250.000000  375250.000000\n",
       "mean       12.252296       5.762031   15265.136168      33.972397\n",
       "std       258.180877     119.054102    1710.927381     733.803756\n",
       "min    -80995.000000       0.000000   12346.000000 -277974.840000\n",
       "25%         2.000000       2.062500   13901.000000       7.012500\n",
       "50%         5.000000       3.217500   15108.000000      19.305000\n",
       "75%        12.000000       6.187500   16767.000000      32.670000\n",
       "max     80995.000000   64300.500000   18287.000000  277974.840000"
      ]
     },
     "execution_count": 10,
     "metadata": {},
     "output_type": "execute_result"
    }
   ],
   "source": [
    "data.describe()"
   ]
  },
  {
   "cell_type": "markdown",
   "metadata": {},
   "source": [
    "We can see that most total purchase prices are less than \\$50. We can plot the purchase total by country (limited to only positive amounts and less than \\$1000) to see if there are differences between countries."
   ]
  },
  {
   "cell_type": "code",
   "execution_count": 9,
   "metadata": {},
   "outputs": [
    {
     "data": {
      "image/png": "[encoded data removed]",
      "text/plain": [
       "<Figure size 1440x432 with 1 Axes>"
      ]
     },
     "metadata": {},
     "output_type": "display_data"
    }
   ],
   "source": [
    "plt.figure(figsize = (20, 6))\n",
    "sns.boxplot(x = 'country', y = 'total', data = data[(data['total'] > 0) & (data['total'] < 1000)]);\n",
    "plt.title(\"Total Purchase Amount by Country\");\n",
    "plt.xticks(rotation = 90);"
   ]
  },
  {
   "cell_type": "code",
   "execution_count": 11,
   "metadata": {},
   "outputs": [
    {
     "data": {
      "image/png": "[encoded data removed]",
      "text/plain": [
       "<Figure size 1440x432 with 1 Axes>"
      ]
     },
     "metadata": {},
     "output_type": "display_data"
    }
   ],
   "source": [
    "plt.figure(figsize = (20, 6))\n",
    "sns.boxplot(x = 'country', y = 'quantity', data = data[(data['total'] > 0) & (data['total'] < 1000)]);\n",
    "plt.title(\"Purchased Quantity by Country\");\n",
    "plt.xticks(rotation = 90);"
   ]
  },
  {
   "cell_type": "markdown",
   "metadata": {},
   "source": [
    "Both the purchase total and the quantity are heavily skewed. This occurs often in real-world data and means this might be difficult as a regression problem (predict the actual spending amount). We might want to frame the problem as classification because the large purchase totals could throw off a machine learning algorithm. Our other option would be to remove the outliers, but given that these are probably legitimate, that does not seem like a responsible choice!\n",
    "\n",
    "To see the extent of how skewed the data is, we can use an [Empirical Cumulative Distribution Function (ECDF) plot](https://www.itl.nist.gov/div898/software/dataplot/refman1/auxillar/ecdfplot.htm). "
   ]
  },
  {
   "cell_type": "code",
   "execution_count": 12,
   "metadata": {},
   "outputs": [],
   "source": [
    "def ecdf(data):\n",
    "    x = np.sort(data)\n",
    "    y = np.arange(1, len(x) + 1) / len(x)\n",
    "    return x, y"
   ]
  },
  {
   "cell_type": "code",
   "execution_count": 16,
   "metadata": {},
   "outputs": [
    {
     "data": {
      "image/png": "[encoded data removed]",
      "text/plain": [
       "<Figure size 1008x288 with 2 Axes>"
      ]
     },
     "metadata": {},
     "output_type": "display_data"
    }
   ],
   "source": [
    "plt.figure(figsize = (14, 4))\n",
    "\n",
    "# Total\n",
    "plt.subplot(121)\n",
    "x, y = ecdf(data.loc[data['total'] > 0, 'total'])\n",
    "plt.plot(x, y, marker = '.')\n",
    "plt.xlabel('Total'); plt.ylabel('Percentile'); plt.title('ECDF of Purchase Total');\n",
    "\n",
    "# Quantity\n",
    "plt.subplot(122)\n",
    "x, y = ecdf(data.loc[data['total'] > 0, 'quantity'])\n",
    "plt.plot(x, y, marker = '.')\n",
    "plt.xlabel('Quantity'); plt.ylabel('Percentile'); plt.title('ECDF of Purchase Quantity');"
   ]
  },
  {
   "cell_type": "markdown",
   "metadata": {},
   "source": [
    "# Prediction Problem\n",
    "\n",
    "The goal of machine learning is to predict some quantity (regression) or a label (classification). Our data exploration showed that regression might not be the best approach because of the outliers, so we'll choose classification. We'll frame the problem as predicting whether or not a customer will spend more than \\$500 in the next month. This could be useful to a business because it will let them market more effectively to those customers who are likely to spend more. Moreover, an online retailer could advertise differently to customers based on their predicted class of spending. \n",
    "\n",
    "Instead of picking just a single month for predictions, we can use each customer as a label multiple times. In other words, we not only predict whether a given customer will spend more than \\$500 in May, but we also ask the same question in June, July, and so on. The thing to note is that for each month, we _can't use data from the future_ to predict the class of spending. Each month we can use information from _any previous month_ which means that our predictions should get more accurate as we advance further in time through the data since we'll be able to use more information. Each label for a customer therefore has a different set of features because there is more or less data available to us depending on the month. Doing this by hand is very tedious and error-prone, but we'll see how Featuretools is able to handle the times associated with each label to only generate legitimate features. \n",
    "\n",
    "## Making Labels\n",
    "\n",
    "The function below takes in a start date and an end date (which we can set to 30 days apart) and generates a dataframe of the labels, which depends on how much the customer spent in the period. For customers who appear in the data prior to the start date but then do have a purchase in between the start and end date, we want to set their total to 0. If we simply did not include them in the labels, then that would be cheating since we have no way of knowing ahead of time that they will not spend anything in the next month."
   ]
  },
  {
   "cell_type": "code",
   "execution_count": 17,
   "metadata": {},
   "outputs": [],
   "source": [
    "def make_retail_cutoffs_total(start_date, end_date, threshold = 500):\n",
    "    \n",
    "    # Find customers who exist before start date\n",
    "    customer_pool = data[data['order_date'] < start_date]['customer_id'].unique()\n",
    "    tmp = pd.DataFrame({'customer_id': customer_pool})\n",
    "\n",
    "    # For customers in the customer pool, find their sum between the start and end date\n",
    "    totals = data[data['customer_id'].isin(customer_pool) & \n",
    "        (data['order_date'] > start_date) & \n",
    "        (data['order_date']<end_date)\n",
    "    ].groupby('customer_id')['total'].sum().reset_index()\n",
    "    \n",
    "    # Merge with all the customer ids to record all customers who existed before start date\n",
    "    totals = totals.merge(tmp, on = 'customer_id', how = 'right')\n",
    "\n",
    "    # Set the total for any customer who did not have a purchase in the timeframe equal to 0\n",
    "    totals['total'] = totals['total'].fillna(0)\n",
    "    \n",
    "    # Label is based on the threshold\n",
    "    totals['label'] = (totals['total'] > threshold).astype(int)\n",
    "        \n",
    "    # The cutoff time is the start date\n",
    "    totals['cutoff_time'] = pd.to_datetime(start_date)\n",
    "    totals = totals[['customer_id', 'cutoff_time', 'total', 'label']]\n",
    "    \n",
    "    return totals"
   ]
  },
  {
   "cell_type": "code",
   "execution_count": 18,
   "metadata": {},
   "outputs": [
    {
     "data": {
      "text/html": [
       "<div>\n",
       "<style scoped>\n",
       "    .dataframe tbody tr th:only-of-type {\n",
       "        vertical-align: middle;\n",
       "    }\n",
       "\n",
       "    .dataframe tbody tr th {\n",
       "        vertical-align: top;\n",
       "    }\n",
       "\n",
       "    .dataframe thead th {\n",
       "        text-align: right;\n",
       "    }\n",
       "</style>\n",
       "<table border=\"1\" class=\"dataframe\">\n",
       "  <thead>\n",
       "    <tr style=\"text-align: right;\">\n",
       "      <th></th>\n",
       "      <th>customer_id</th>\n",
       "      <th>cutoff_time</th>\n",
       "      <th>total</th>\n",
       "      <th>label</th>\n",
       "    </tr>\n",
       "  </thead>\n",
       "  <tbody>\n",
       "    <tr>\n",
       "      <th>0</th>\n",
       "      <td>12372.0</td>\n",
       "      <td>2011-05-01</td>\n",
       "      <td>850.9050</td>\n",
       "      <td>1</td>\n",
       "    </tr>\n",
       "    <tr>\n",
       "      <th>1</th>\n",
       "      <td>12395.0</td>\n",
       "      <td>2011-05-01</td>\n",
       "      <td>547.4535</td>\n",
       "      <td>1</td>\n",
       "    </tr>\n",
       "    <tr>\n",
       "      <th>2</th>\n",
       "      <td>12399.0</td>\n",
       "      <td>2011-05-01</td>\n",
       "      <td>793.4850</td>\n",
       "      <td>1</td>\n",
       "    </tr>\n",
       "    <tr>\n",
       "      <th>3</th>\n",
       "      <td>12414.0</td>\n",
       "      <td>2011-05-01</td>\n",
       "      <td>273.6525</td>\n",
       "      <td>0</td>\n",
       "    </tr>\n",
       "    <tr>\n",
       "      <th>4</th>\n",
       "      <td>12415.0</td>\n",
       "      <td>2011-05-01</td>\n",
       "      <td>20940.4140</td>\n",
       "      <td>1</td>\n",
       "    </tr>\n",
       "  </tbody>\n",
       "</table>\n",
       "</div>"
      ],
      "text/plain": [
       "   customer_id cutoff_time       total  label\n",
       "0      12372.0  2011-05-01    850.9050      1\n",
       "1      12395.0  2011-05-01    547.4535      1\n",
       "2      12399.0  2011-05-01    793.4850      1\n",
       "3      12414.0  2011-05-01    273.6525      0\n",
       "4      12415.0  2011-05-01  20940.4140      1"
      ]
     },
     "execution_count": 18,
     "metadata": {},
     "output_type": "execute_result"
    }
   ],
   "source": [
    "may_spending = make_retail_cutoffs_total(pd.datetime(2011, 5, 1), pd.datetime(2011, 6, 1))\n",
    "may_spending.head()"
   ]
  },
  {
   "cell_type": "markdown",
   "metadata": {},
   "source": [
    "For each customer who appeared in the data before May, we have a label for them for the month of May. When we make features for these labels, we can only use data from _before May_. The `cutoff_time` represents the point at which any data we use must come before and the `label` is based on our threshold of \\$500. "
   ]
  },
  {
   "cell_type": "code",
   "execution_count": 19,
   "metadata": {},
   "outputs": [
    {
     "data": {
      "image/png": "[encoded data removed]",
      "text/plain": [
       "<Figure size 432x288 with 1 Axes>"
      ]
     },
     "metadata": {},
     "output_type": "display_data"
    }
   ],
   "source": [
    "may_spending['label'].value_counts().plot.bar();\n",
    "plt.title('Label Distribution for May');"
   ]
  },
  {
   "cell_type": "markdown",
   "metadata": {},
   "source": [
    "This is an imbalanced classification problem which means that we probably don't want to use accuracy as our metric.\n",
    "\n",
    "### Metrics\n",
    "\n",
    "Instead of plain accuracy, we can measure performance in terms of:\n",
    "\n",
    "* Precision: the percentage of customers predicted to spend more than \\$500 that actually did\n",
    "* Recall: the percentage of customers that actually spent more than \\$500 that were correctly identified\n",
    "* F1 score: the harmonic mean of precision and recall\n",
    "* Receiver Operating Characterisic Area Under the Curve (ROC AUC): a 0 to 1 measure (with 1 being optimal) that measures the performance of a model across a range of thresholds\n",
    "\n",
    "We'll have to establish a baseline for these metrics (which will be a little later) so we know whether machine learning is useful for this task.\n",
    "\n",
    "Next we'll go ahead and make labels for the rest of the year. Keep in mind that this will generate one label for each customer for each month. We're used to thinking of a single label per customer, but since we have the data, we might as well use each customer as a training example as many times as possible (as long as we use valid data each time)."
   ]
  },
  {
   "cell_type": "code",
   "execution_count": 20,
   "metadata": {},
   "outputs": [],
   "source": [
    "june_spending = make_retail_cutoffs_total('2011-06-01', '2011-07-01', 500)\n",
    "july_spending = make_retail_cutoffs_total('2011-07-01', '2011-08-01', 500)\n",
    "august_spending = make_retail_cutoffs_total('2011-08-01', '2011-09-01', 500)\n",
    "september_spending = make_retail_cutoffs_total('2011-09-01', '2011-10-01', 500)\n",
    "october_spending = make_retail_cutoffs_total('2011-10-01', '2011-11-01', 500)\n",
    "november_spending = make_retail_cutoffs_total('2011-11-01', '2011-12-01', 500)\n",
    "december_spending = make_retail_cutoffs_total('2011-12-01', '2012-01-01', 500)"
   ]
  },
  {
   "cell_type": "code",
   "execution_count": 21,
   "metadata": {},
   "outputs": [
    {
     "data": {
      "text/html": [
       "<div>\n",
       "<style scoped>\n",
       "    .dataframe tbody tr th:only-of-type {\n",
       "        vertical-align: middle;\n",
       "    }\n",
       "\n",
       "    .dataframe tbody tr th {\n",
       "        vertical-align: top;\n",
       "    }\n",
       "\n",
       "    .dataframe thead th {\n",
       "        text-align: right;\n",
       "    }\n",
       "</style>\n",
       "<table border=\"1\" class=\"dataframe\">\n",
       "  <thead>\n",
       "    <tr style=\"text-align: right;\">\n",
       "      <th></th>\n",
       "      <th>customer_id</th>\n",
       "      <th>total</th>\n",
       "      <th>label</th>\n",
       "    </tr>\n",
       "  </thead>\n",
       "  <tbody>\n",
       "    <tr>\n",
       "      <th>count</th>\n",
       "      <td>25039.000000</td>\n",
       "      <td>25039.000000</td>\n",
       "      <td>25039.000000</td>\n",
       "    </tr>\n",
       "    <tr>\n",
       "      <th>mean</th>\n",
       "      <td>15274.220017</td>\n",
       "      <td>324.757930</td>\n",
       "      <td>0.168857</td>\n",
       "    </tr>\n",
       "    <tr>\n",
       "      <th>std</th>\n",
       "      <td>1719.499912</td>\n",
       "      <td>1922.739028</td>\n",
       "      <td>0.374633</td>\n",
       "    </tr>\n",
       "    <tr>\n",
       "      <th>min</th>\n",
       "      <td>12346.000000</td>\n",
       "      <td>-5916.636000</td>\n",
       "      <td>0.000000</td>\n",
       "    </tr>\n",
       "    <tr>\n",
       "      <th>25%</th>\n",
       "      <td>13784.000000</td>\n",
       "      <td>0.000000</td>\n",
       "      <td>0.000000</td>\n",
       "    </tr>\n",
       "    <tr>\n",
       "      <th>50%</th>\n",
       "      <td>15241.000000</td>\n",
       "      <td>0.000000</td>\n",
       "      <td>0.000000</td>\n",
       "    </tr>\n",
       "    <tr>\n",
       "      <th>75%</th>\n",
       "      <td>16755.000000</td>\n",
       "      <td>184.395750</td>\n",
       "      <td>0.000000</td>\n",
       "    </tr>\n",
       "    <tr>\n",
       "      <th>max</th>\n",
       "      <td>18287.000000</td>\n",
       "      <td>115906.725000</td>\n",
       "      <td>1.000000</td>\n",
       "    </tr>\n",
       "  </tbody>\n",
       "</table>\n",
       "</div>"
      ],
      "text/plain": [
       "        customer_id          total         label\n",
       "count  25039.000000   25039.000000  25039.000000\n",
       "mean   15274.220017     324.757930      0.168857\n",
       "std     1719.499912    1922.739028      0.374633\n",
       "min    12346.000000   -5916.636000      0.000000\n",
       "25%    13784.000000       0.000000      0.000000\n",
       "50%    15241.000000       0.000000      0.000000\n",
       "75%    16755.000000     184.395750      0.000000\n",
       "max    18287.000000  115906.725000      1.000000"
      ]
     },
     "execution_count": 21,
     "metadata": {},
     "output_type": "execute_result"
    }
   ],
   "source": [
    "labels = pd.concat([may_spending, june_spending, july_spending, august_spending, \n",
    "                    september_spending, october_spending, november_spending, december_spending], axis = 0)\n",
    "labels.describe()"
   ]
  },
  {
   "cell_type": "markdown",
   "metadata": {},
   "source": [
    "We have roughly 25,000 labels with ~17% of them positive. The total is very skewed, with several customers recording negative months (they had more cancellations than purchases). By framing this as a classification problem, we don't have to worry about the outlying purchase totals throwing off our model. \n",
    "\n",
    "Just to examine the data, we can plot the total spending distribution by month (with negative totals removed)."
   ]
  },
  {
   "cell_type": "code",
   "execution_count": 22,
   "metadata": {},
   "outputs": [
    {
     "data": {
      "image/png": "[encoded data removed]",
      "text/plain": [
       "<Figure size 864x432 with 1 Axes>"
      ]
     },
     "metadata": {},
     "output_type": "display_data"
    }
   ],
   "source": [
    "plot_labels = labels.copy()\n",
    "plot_labels['month'] = plot_labels['cutoff_time'].dt.month\n",
    "\n",
    "plt.figure(figsize = (12, 6))\n",
    "sns.boxplot(x = 'month', y = 'total', \n",
    "            data = plot_labels[(plot_labels['total'] > 0) & (plot_labels['total'] < 1000)]);\n",
    "plt.title('Customer Spending Distribution by Month');"
   ]
  },
  {
   "cell_type": "markdown",
   "metadata": {},
   "source": [
    "Let's zoom in to one customer to make sure we understand the labels. "
   ]
  },
  {
   "cell_type": "code",
   "execution_count": 23,
   "metadata": {},
   "outputs": [
    {
     "data": {
      "text/html": [
       "<div>\n",
       "<style scoped>\n",
       "    .dataframe tbody tr th:only-of-type {\n",
       "        vertical-align: middle;\n",
       "    }\n",
       "\n",
       "    .dataframe tbody tr th {\n",
       "        vertical-align: top;\n",
       "    }\n",
       "\n",
       "    .dataframe thead th {\n",
       "        text-align: right;\n",
       "    }\n",
       "</style>\n",
       "<table border=\"1\" class=\"dataframe\">\n",
       "  <thead>\n",
       "    <tr style=\"text-align: right;\">\n",
       "      <th></th>\n",
       "      <th>customer_id</th>\n",
       "      <th>cutoff_time</th>\n",
       "      <th>total</th>\n",
       "      <th>label</th>\n",
       "    </tr>\n",
       "  </thead>\n",
       "  <tbody>\n",
       "    <tr>\n",
       "      <th>1111</th>\n",
       "      <td>12347.0</td>\n",
       "      <td>2011-05-01</td>\n",
       "      <td>0.0000</td>\n",
       "      <td>0</td>\n",
       "    </tr>\n",
       "    <tr>\n",
       "      <th>0</th>\n",
       "      <td>12347.0</td>\n",
       "      <td>2011-06-01</td>\n",
       "      <td>631.1580</td>\n",
       "      <td>1</td>\n",
       "    </tr>\n",
       "    <tr>\n",
       "      <th>1165</th>\n",
       "      <td>12347.0</td>\n",
       "      <td>2011-07-01</td>\n",
       "      <td>0.0000</td>\n",
       "      <td>0</td>\n",
       "    </tr>\n",
       "    <tr>\n",
       "      <th>0</th>\n",
       "      <td>12347.0</td>\n",
       "      <td>2011-08-01</td>\n",
       "      <td>965.1015</td>\n",
       "      <td>1</td>\n",
       "    </tr>\n",
       "    <tr>\n",
       "      <th>1357</th>\n",
       "      <td>12347.0</td>\n",
       "      <td>2011-09-01</td>\n",
       "      <td>0.0000</td>\n",
       "      <td>0</td>\n",
       "    </tr>\n",
       "    <tr>\n",
       "      <th>0</th>\n",
       "      <td>12347.0</td>\n",
       "      <td>2011-10-01</td>\n",
       "      <td>2135.6280</td>\n",
       "      <td>1</td>\n",
       "    </tr>\n",
       "    <tr>\n",
       "      <th>1658</th>\n",
       "      <td>12347.0</td>\n",
       "      <td>2011-11-01</td>\n",
       "      <td>0.0000</td>\n",
       "      <td>0</td>\n",
       "    </tr>\n",
       "    <tr>\n",
       "      <th>0</th>\n",
       "      <td>12347.0</td>\n",
       "      <td>2011-12-01</td>\n",
       "      <td>370.9530</td>\n",
       "      <td>0</td>\n",
       "    </tr>\n",
       "  </tbody>\n",
       "</table>\n",
       "</div>"
      ],
      "text/plain": [
       "      customer_id cutoff_time      total  label\n",
       "1111      12347.0  2011-05-01     0.0000      0\n",
       "0         12347.0  2011-06-01   631.1580      1\n",
       "1165      12347.0  2011-07-01     0.0000      0\n",
       "0         12347.0  2011-08-01   965.1015      1\n",
       "1357      12347.0  2011-09-01     0.0000      0\n",
       "0         12347.0  2011-10-01  2135.6280      1\n",
       "1658      12347.0  2011-11-01     0.0000      0\n",
       "0         12347.0  2011-12-01   370.9530      0"
      ]
     },
     "execution_count": 23,
     "metadata": {},
     "output_type": "execute_result"
    }
   ],
   "source": [
    "labels.loc[labels['customer_id'] == 12347]"
   ]
  },
  {
   "cell_type": "code",
   "execution_count": 25,
   "metadata": {},
   "outputs": [
    {
     "data": {
      "image/png": "[encoded data removed]",
      "text/plain": [
       "<Figure size 432x288 with 1 Axes>"
      ]
     },
     "metadata": {},
     "output_type": "display_data"
    }
   ],
   "source": [
    "labels.loc[labels['customer_id'] == 12347].set_index('cutoff_time')['total'].plot(figsize = (6, 4), linewidth = 3)\n",
    "plt.xlabel('Date', size = 16); \n",
    "plt.ylabel('Spending', size = 16); \n",
    "plt.title('Monthly Spending for Customer', size = 20);\n",
    "plt.xticks(size = 16); plt.yticks(size = 16);"
   ]
  },
  {
   "cell_type": "markdown",
   "metadata": {},
   "source": [
    "One customer, 8 different labels. It seems like it might be a little difficult to predict this customer's habits given her fluctuating total spending! We'll have to see if Featuretools is up to the task."
   ]
  },
  {
   "cell_type": "markdown",
   "metadata": {},
   "source": [
    "We now have our prediction problem all set. The next step is to start making features we can use in a machine learning model.\n",
    "\n",
    "# Featuretools Implementation\n",
    "\n",
    "The first step in Featuretools is to create an `EntitySet` which will hold all of our data and the relationships between the multiple tables (which we'll create shortly). Initially we'll add the entire `data` as an `entity` to the set. Since data has a `time_index`, we'll add that and specify the variable type of the product description."
   ]
  },
  {
   "cell_type": "code",
   "execution_count": 50,
   "metadata": {},
   "outputs": [
    {
     "name": "stdout",
     "output_type": "stream",
     "text": [
      "2018-07-30 10:01:31,962 featuretools.entityset - WARNING    index purchases_index not found in dataframe, creating new integer column\n"
     ]
    },
    {
     "data": {
      "text/plain": [
       "Entityset: Online Retail Logs\n",
       "  Entities:\n",
       "    purchases [Rows: 375250, Columns: 11]\n",
       "  Relationships:\n",
       "    No relationships"
      ]
     },
     "execution_count": 50,
     "metadata": {},
     "output_type": "execute_result"
    }
   ],
   "source": [
    "es = ft.EntitySet(id=\"Online Retail Logs\")\n",
    "\n",
    "# Add the entire data table as an entity\n",
    "es.entity_from_dataframe(\"purchases\",\n",
    "                         dataframe=data,\n",
    "                         index=\"purchases_index\",\n",
    "                         time_index = 'order_date',\n",
    "                         variable_types={'description': ft.variable_types.Text})"
   ]
  },
  {
   "cell_type": "markdown",
   "metadata": {},
   "source": [
    "### Normalizing Entities\n",
    "\n",
    "In order to create new tables out of the original table, we can normalize this `entity`. This creates new tables by creating a unique row for every variable that we pass in, such as the customer or the product.\n",
    "\n",
    "The code below creates a new entity for the `products` where each row contains one product and the columns describe the product. "
   ]
  },
  {
   "cell_type": "code",
   "execution_count": 51,
   "metadata": {},
   "outputs": [
    {
     "data": {
      "text/html": [
       "<div>\n",
       "<style scoped>\n",
       "    .dataframe tbody tr th:only-of-type {\n",
       "        vertical-align: middle;\n",
       "    }\n",
       "\n",
       "    .dataframe tbody tr th {\n",
       "        vertical-align: top;\n",
       "    }\n",
       "\n",
       "    .dataframe thead th {\n",
       "        text-align: right;\n",
       "    }\n",
       "</style>\n",
       "<table border=\"1\" class=\"dataframe\">\n",
       "  <thead>\n",
       "    <tr style=\"text-align: right;\">\n",
       "      <th></th>\n",
       "      <th>product_id</th>\n",
       "      <th>description</th>\n",
       "      <th>first_purchases_time</th>\n",
       "    </tr>\n",
       "  </thead>\n",
       "  <tbody>\n",
       "    <tr>\n",
       "      <th>20682</th>\n",
       "      <td>20682</td>\n",
       "      <td>RED RETROSPOT CHILDRENS UMBRELLA</td>\n",
       "      <td>2011-01-04 10:00:00</td>\n",
       "    </tr>\n",
       "    <tr>\n",
       "      <th>20718</th>\n",
       "      <td>20718</td>\n",
       "      <td>RED RETROSPOT SHOPPER BAG</td>\n",
       "      <td>2011-01-04 10:00:00</td>\n",
       "    </tr>\n",
       "    <tr>\n",
       "      <th>21498</th>\n",
       "      <td>21498</td>\n",
       "      <td>RED RETROSPOT WRAP</td>\n",
       "      <td>2011-01-04 10:00:00</td>\n",
       "    </tr>\n",
       "    <tr>\n",
       "      <th>21499</th>\n",
       "      <td>21499</td>\n",
       "      <td>BLUE POLKADOT WRAP</td>\n",
       "      <td>2011-01-04 10:00:00</td>\n",
       "    </tr>\n",
       "    <tr>\n",
       "      <th>22302</th>\n",
       "      <td>22302</td>\n",
       "      <td>COFFEE MUG PEARS  DESIGN</td>\n",
       "      <td>2011-01-04 10:00:00</td>\n",
       "    </tr>\n",
       "  </tbody>\n",
       "</table>\n",
       "</div>"
      ],
      "text/plain": [
       "      product_id                       description first_purchases_time\n",
       "20682      20682  RED RETROSPOT CHILDRENS UMBRELLA  2011-01-04 10:00:00\n",
       "20718      20718         RED RETROSPOT SHOPPER BAG  2011-01-04 10:00:00\n",
       "21498      21498               RED RETROSPOT WRAP   2011-01-04 10:00:00\n",
       "21499      21499                BLUE POLKADOT WRAP  2011-01-04 10:00:00\n",
       "22302      22302          COFFEE MUG PEARS  DESIGN  2011-01-04 10:00:00"
      ]
     },
     "execution_count": 51,
     "metadata": {},
     "output_type": "execute_result"
    }
   ],
   "source": [
    "# create a new \"products\" entity\n",
    "es.normalize_entity(new_entity_id=\"products\",\n",
    "                    base_entity_id=\"purchases\",\n",
    "                    index=\"product_id\",\n",
    "                    additional_variables=[\"description\"])\n",
    "\n",
    "es['products'].df.head()"
   ]
  },
  {
   "cell_type": "markdown",
   "metadata": {},
   "source": [
    "The `first_purchases_time` is automatically created because the `purchases` table has a time index. This represents the first time the product appears in the purchase data. We can use this table to create new features; the products table is a parent of the `purchases` table with the linking variable `product_id`. For each product in `products`, there can be multiple purchases of that product in `purchases`. \n",
    "\n",
    "We'll repeat the process to create tables for both the `customers` and the `orders`. Using `normalize_entity` automatically creates the relationships and time index so we don't have to do that ourselves. If we want to include any other additional variables in the table, we can pass those in. These variables must be unique to the object that we are normalizing for. As an example, each order comes from one country and one customer, so we can include those as additional variables when creating the `orders` table. However, the description is not unique to an order, so that should not be a variable that appears in the orders table."
   ]
  },
  {
   "cell_type": "code",
   "execution_count": 52,
   "metadata": {},
   "outputs": [
    {
     "data": {
      "text/plain": [
       "Entity: purchases\n",
       "  Variables:\n",
       "    purchases_index (dtype: index)\n",
       "    order_id (dtype: categorical)\n",
       "    product_id (dtype: id)\n",
       "    quantity (dtype: numeric)\n",
       "    order_date (dtype: datetime_time_index)\n",
       "    price (dtype: numeric)\n",
       "    customer_id (dtype: numeric)\n",
       "    country (dtype: categorical)\n",
       "    total (dtype: numeric)\n",
       "    cancelled (dtype: boolean)\n",
       "  Shape:\n",
       "    (Rows: 375250, Columns: 10)"
      ]
     },
     "execution_count": 52,
     "metadata": {},
     "output_type": "execute_result"
    }
   ],
   "source": [
    "es['purchases']"
   ]
  },
  {
   "cell_type": "code",
   "execution_count": 53,
   "metadata": {},
   "outputs": [
    {
     "data": {
      "text/plain": [
       "Entityset: Online Retail Logs\n",
       "  Entities:\n",
       "    purchases [Rows: 375250, Columns: 8]\n",
       "    products [Rows: 3612, Columns: 3]\n",
       "    customers [Rows: 4244, Columns: 2]\n",
       "    orders [Rows: 20482, Columns: 4]\n",
       "  Relationships:\n",
       "    purchases.product_id -> products.product_id\n",
       "    purchases.customer_id -> customers.customer_id\n",
       "    purchases.order_id -> orders.order_id"
      ]
     },
     "execution_count": 53,
     "metadata": {},
     "output_type": "execute_result"
    }
   ],
   "source": [
    "# create a new \"customers\" entity based on the orders entity\n",
    "es.normalize_entity(new_entity_id=\"customers\",\n",
    "                    base_entity_id=\"purchases\",\n",
    "                    index=\"customer_id\")\n",
    "\n",
    "# create a new \"orders\" entity\n",
    "es.normalize_entity(new_entity_id=\"orders\",\n",
    "                    base_entity_id=\"purchases\",\n",
    "                    index=\"order_id\",\n",
    "                    additional_variables=[\"country\", 'cancelled'])\n",
    "\n",
    "es"
   ]
  },
  {
   "cell_type": "markdown",
   "metadata": {},
   "source": [
    "# Deep Feature Synthesis \n",
    "\n",
    "Now that our `EntitySet` is defined with the proper relationships between tables, we can perform [deep feature synthesis](http://www.jmaxkanter.com/static/papers/DSAA_DSM_2015.pdf) to generate 100s or 1000s of features. We can theoretically make features for any entity, but since our objective is to classify customer spending, we'll make features for each customer for each month. \n",
    "\n",
    "The following call will generate features for each customer, resulting in a `feature_matrix` where each row consists of one customer for one month and each column is one feature. \n",
    "\n",
    "## Using cutoff times\n",
    "\n",
    "To ensure the features are valid for the customer and the month, we'll pass in the labels dataframe that has the cutoff time for each customer for each month. Featuretools will make one row for each customer for each month, with the features for each month derived only from data prior to the cutoff time. This is an _extremely useful method_ because it means we don't have to worry about using illegal data to make features. For example, if we were doing this by hand, it would be very easy to create features that use information from the future to make features for months, which is not allowed (well there's nothing stopping us from doing this, but it will lead to very poor models in production). \n",
    "\n",
    "The requirements of the cutoff time dataframe are that the first column contains the ids corresponding to the index of the target entity, and the second column must have the cutoff times. Featuretools then takes care of the rest, for each month only using valid data. "
   ]
  },
  {
   "cell_type": "code",
   "execution_count": null,
   "metadata": {},
   "outputs": [
    {
     "name": "stdout",
     "output_type": "stream",
     "text": [
      "Built 27 features\n",
      "EntitySet scattered to workers in 1.794 seconds\n",
      "Elapsed: 00:00 | Remaining: ? | Progress:   0%|          | Calculated: 0/1 chunks"
     ]
    }
   ],
   "source": [
    "feature_matrix, feature_names = ft.dfs(entityset=es, target_entity='customers',\n",
    "                                       cutoff_time = labels, verbose = 2,\n",
    "                                       cutoff_time_in_index = True,\n",
    "                                       chunk_size = len(labels), n_jobs = -1,\n",
    "                                       max_depth = 1)\n",
    "\n",
    "feature_matrix.head()"
   ]
  },
  {
   "cell_type": "markdown",
   "metadata": {},
   "source": [
    "We want to drop the `total` and `label` because these were passed through from the `cutoff_time` data. (We clearly can't use these for modeling!)"
   ]
  },
  {
   "cell_type": "code",
   "execution_count": null,
   "metadata": {},
   "outputs": [],
   "source": [
    "feature_matrix.dtypes"
   ]
  },
  {
   "cell_type": "code",
   "execution_count": 56,
   "metadata": {},
   "outputs": [
    {
     "data": {
      "text/plain": [
       "(25039, 27)"
      ]
     },
     "execution_count": 56,
     "metadata": {},
     "output_type": "execute_result"
    }
   ],
   "source": [
    "feature_matrix = feature_matrix.drop(columns = ['total', 'label'])\n",
    "feature_matrix = feature_matrix.drop_duplicates()\n",
    "feature_matrix.shape"
   ]
  },
  {
   "cell_type": "markdown",
   "metadata": {},
   "source": [
    "Initially we did not generate very many features because we limited the `max_depth` to 1. This means that only 1 aggregation will be stacked at a time. Let's take a look at some of the features. First, we'll zoom back in to a single one of the customers."
   ]
  },
  {
   "cell_type": "code",
   "execution_count": 55,
   "metadata": {},
   "outputs": [
    {
     "data": {
      "text/html": [
       "<div>\n",
       "<style scoped>\n",
       "    .dataframe tbody tr th:only-of-type {\n",
       "        vertical-align: middle;\n",
       "    }\n",
       "\n",
       "    .dataframe tbody tr th {\n",
       "        vertical-align: top;\n",
       "    }\n",
       "\n",
       "    .dataframe thead th {\n",
       "        text-align: right;\n",
       "    }\n",
       "</style>\n",
       "<table border=\"1\" class=\"dataframe\">\n",
       "  <thead>\n",
       "    <tr style=\"text-align: right;\">\n",
       "      <th></th>\n",
       "      <th>COUNT(purchases)</th>\n",
       "      <th>MAX(purchases.total)</th>\n",
       "      <th>MAX(purchases.price)</th>\n",
       "      <th>MIN(purchases.total)</th>\n",
       "      <th>MEAN(purchases.total)</th>\n",
       "      <th>NUM_UNIQUE(purchases.order_id)</th>\n",
       "      <th>MONTH(first_purchases_time)</th>\n",
       "      <th>SUM(purchases.quantity)</th>\n",
       "      <th>STD(purchases.price)</th>\n",
       "      <th>YEAR(first_purchases_time)</th>\n",
       "    </tr>\n",
       "    <tr>\n",
       "      <th>time</th>\n",
       "      <th></th>\n",
       "      <th></th>\n",
       "      <th></th>\n",
       "      <th></th>\n",
       "      <th></th>\n",
       "      <th></th>\n",
       "      <th></th>\n",
       "      <th></th>\n",
       "      <th></th>\n",
       "      <th></th>\n",
       "    </tr>\n",
       "  </thead>\n",
       "  <tbody>\n",
       "    <tr>\n",
       "      <th>2011-05-01</th>\n",
       "      <td>53</td>\n",
       "      <td>411.84</td>\n",
       "      <td>21.0375</td>\n",
       "      <td>8.316</td>\n",
       "      <td>34.607660</td>\n",
       "      <td>2</td>\n",
       "      <td>1</td>\n",
       "      <td>798</td>\n",
       "      <td>4.049262</td>\n",
       "      <td>2011</td>\n",
       "    </tr>\n",
       "    <tr>\n",
       "      <th>2011-06-01</th>\n",
       "      <td>53</td>\n",
       "      <td>411.84</td>\n",
       "      <td>21.0375</td>\n",
       "      <td>8.316</td>\n",
       "      <td>34.607660</td>\n",
       "      <td>2</td>\n",
       "      <td>1</td>\n",
       "      <td>798</td>\n",
       "      <td>4.049262</td>\n",
       "      <td>2011</td>\n",
       "    </tr>\n",
       "    <tr>\n",
       "      <th>2011-07-01</th>\n",
       "      <td>71</td>\n",
       "      <td>411.84</td>\n",
       "      <td>21.0375</td>\n",
       "      <td>8.316</td>\n",
       "      <td>34.723437</td>\n",
       "      <td>3</td>\n",
       "      <td>1</td>\n",
       "      <td>994</td>\n",
       "      <td>3.926609</td>\n",
       "      <td>2011</td>\n",
       "    </tr>\n",
       "    <tr>\n",
       "      <th>2011-08-01</th>\n",
       "      <td>71</td>\n",
       "      <td>411.84</td>\n",
       "      <td>21.0375</td>\n",
       "      <td>8.316</td>\n",
       "      <td>34.723437</td>\n",
       "      <td>3</td>\n",
       "      <td>1</td>\n",
       "      <td>994</td>\n",
       "      <td>3.926609</td>\n",
       "      <td>2011</td>\n",
       "    </tr>\n",
       "    <tr>\n",
       "      <th>2011-09-01</th>\n",
       "      <td>93</td>\n",
       "      <td>411.84</td>\n",
       "      <td>21.0375</td>\n",
       "      <td>8.316</td>\n",
       "      <td>36.886726</td>\n",
       "      <td>4</td>\n",
       "      <td>1</td>\n",
       "      <td>1271</td>\n",
       "      <td>4.105807</td>\n",
       "      <td>2011</td>\n",
       "    </tr>\n",
       "    <tr>\n",
       "      <th>2011-10-01</th>\n",
       "      <td>93</td>\n",
       "      <td>411.84</td>\n",
       "      <td>21.0375</td>\n",
       "      <td>8.316</td>\n",
       "      <td>36.886726</td>\n",
       "      <td>4</td>\n",
       "      <td>1</td>\n",
       "      <td>1271</td>\n",
       "      <td>4.105807</td>\n",
       "      <td>2011</td>\n",
       "    </tr>\n",
       "    <tr>\n",
       "      <th>2011-11-01</th>\n",
       "      <td>140</td>\n",
       "      <td>411.84</td>\n",
       "      <td>21.0375</td>\n",
       "      <td>8.316</td>\n",
       "      <td>39.757811</td>\n",
       "      <td>5</td>\n",
       "      <td>1</td>\n",
       "      <td>1947</td>\n",
       "      <td>4.005108</td>\n",
       "      <td>2011</td>\n",
       "    </tr>\n",
       "    <tr>\n",
       "      <th>2011-12-01</th>\n",
       "      <td>140</td>\n",
       "      <td>411.84</td>\n",
       "      <td>21.0375</td>\n",
       "      <td>8.316</td>\n",
       "      <td>39.757811</td>\n",
       "      <td>5</td>\n",
       "      <td>1</td>\n",
       "      <td>1947</td>\n",
       "      <td>4.005108</td>\n",
       "      <td>2011</td>\n",
       "    </tr>\n",
       "  </tbody>\n",
       "</table>\n",
       "</div>"
      ],
      "text/plain": [
       "            COUNT(purchases)  MAX(purchases.total)  MAX(purchases.price)  \\\n",
       "time                                                                       \n",
       "2011-05-01                53                411.84               21.0375   \n",
       "2011-06-01                53                411.84               21.0375   \n",
       "2011-07-01                71                411.84               21.0375   \n",
       "2011-08-01                71                411.84               21.0375   \n",
       "2011-09-01                93                411.84               21.0375   \n",
       "2011-10-01                93                411.84               21.0375   \n",
       "2011-11-01               140                411.84               21.0375   \n",
       "2011-12-01               140                411.84               21.0375   \n",
       "\n",
       "            MIN(purchases.total)  MEAN(purchases.total)  \\\n",
       "time                                                      \n",
       "2011-05-01                 8.316              34.607660   \n",
       "2011-06-01                 8.316              34.607660   \n",
       "2011-07-01                 8.316              34.723437   \n",
       "2011-08-01                 8.316              34.723437   \n",
       "2011-09-01                 8.316              36.886726   \n",
       "2011-10-01                 8.316              36.886726   \n",
       "2011-11-01                 8.316              39.757811   \n",
       "2011-12-01                 8.316              39.757811   \n",
       "\n",
       "            NUM_UNIQUE(purchases.order_id)  MONTH(first_purchases_time)  \\\n",
       "time                                                                      \n",
       "2011-05-01                               2                            1   \n",
       "2011-06-01                               2                            1   \n",
       "2011-07-01                               3                            1   \n",
       "2011-08-01                               3                            1   \n",
       "2011-09-01                               4                            1   \n",
       "2011-10-01                               4                            1   \n",
       "2011-11-01                               5                            1   \n",
       "2011-12-01                               5                            1   \n",
       "\n",
       "            SUM(purchases.quantity)  STD(purchases.price)  \\\n",
       "time                                                        \n",
       "2011-05-01                      798              4.049262   \n",
       "2011-06-01                      798              4.049262   \n",
       "2011-07-01                      994              3.926609   \n",
       "2011-08-01                      994              3.926609   \n",
       "2011-09-01                     1271              4.105807   \n",
       "2011-10-01                     1271              4.105807   \n",
       "2011-11-01                     1947              4.005108   \n",
       "2011-12-01                     1947              4.005108   \n",
       "\n",
       "            YEAR(first_purchases_time)  \n",
       "time                                    \n",
       "2011-05-01                        2011  \n",
       "2011-06-01                        2011  \n",
       "2011-07-01                        2011  \n",
       "2011-08-01                        2011  \n",
       "2011-09-01                        2011  \n",
       "2011-10-01                        2011  \n",
       "2011-11-01                        2011  \n",
       "2011-12-01                        2011  "
      ]
     },
     "execution_count": 55,
     "metadata": {},
     "output_type": "execute_result"
    }
   ],
   "source": [
    "feature_matrix.loc[12347, :].sample(10, axis = 1)"
   ]
  },
  {
   "cell_type": "markdown",
   "metadata": {},
   "source": [
    "If we want to predict spending in November, we can use any data from before November. As we get deeper into the year, we would expect our predictions to get more accurate because we are incorporating more information (we can see the count of purchases increasing as we use more data)."
   ]
  },
  {
   "cell_type": "code",
   "execution_count": 61,
   "metadata": {},
   "outputs": [
    {
     "data": {
      "image/png": "[encoded data removed]",
      "text/plain": [
       "<Figure size 432x288 with 1 Axes>"
      ]
     },
     "metadata": {},
     "output_type": "display_data"
    }
   ],
   "source": [
    "# feature_matrix.reset_index(inplace = True)\n",
    "\n",
    "feature_matrix.groupby('time')['COUNT(purchases)'].mean().plot();\n",
    "plt.title('Average Monthly Count of Purchases');\n",
    "plt.ylabel('Purchases Per Customer');"
   ]
  },
  {
   "cell_type": "markdown",
   "metadata": {},
   "source": [
    "This shows that as we progress through time, we have more purchases per customer to use for prediction."
   ]
  },
  {
   "cell_type": "code",
   "execution_count": 60,
   "metadata": {},
   "outputs": [
    {
     "data": {
      "image/png": "[encoded data removed]",
      "text/plain": [
       "<Figure size 432x288 with 1 Axes>"
      ]
     },
     "metadata": {},
     "output_type": "display_data"
    }
   ],
   "source": [
    "feature_matrix.groupby('time')['SUM(purchases.quantity)'].mean().plot();\n",
    "plt.title('Average Monthly Sum of Purchased Products');\n",
    "plt.ylabel('Total Purchased Products Per Customer');"
   ]
  },
  {
   "cell_type": "markdown",
   "metadata": {},
   "source": [
    "Naturally, as we include more information, our forecasts should improve in accuracy. Therefore, if we are predicting purchase in November, we would expect better performance than predicting purchases in June."
   ]
  },
  {
   "cell_type": "markdown",
   "metadata": {},
   "source": [
    "## Correlations\n",
    "\n",
    "As a first approximation of useful features, we can see if there are any significant correlations between the features and the `total`. We'll one-hot encode the categorical features first."
   ]
  },
  {
   "cell_type": "code",
   "execution_count": 64,
   "metadata": {},
   "outputs": [],
   "source": [
    "feature_matrix = feature_matrix[[x for x in feature_matrix if 'product_id' not in x]]\n"
   ]
  },
  {
   "cell_type": "code",
   "execution_count": 65,
   "metadata": {},
   "outputs": [
    {
     "data": {
      "text/plain": [
       "(25039, 5905)"
      ]
     },
     "execution_count": 65,
     "metadata": {},
     "output_type": "execute_result"
    }
   ],
   "source": [
    "feature_matrix = pd.get_dummies(feature_matrix)\n",
    "feature_matrix.shape"
   ]
  },
  {
   "cell_type": "code",
   "execution_count": 66,
   "metadata": {},
   "outputs": [
    {
     "data": {
      "text/html": [
       "<div>\n",
       "<style scoped>\n",
       "    .dataframe tbody tr th:only-of-type {\n",
       "        vertical-align: middle;\n",
       "    }\n",
       "\n",
       "    .dataframe tbody tr th {\n",
       "        vertical-align: top;\n",
       "    }\n",
       "\n",
       "    .dataframe thead th {\n",
       "        text-align: right;\n",
       "    }\n",
       "</style>\n",
       "<table border=\"1\" class=\"dataframe\">\n",
       "  <thead>\n",
       "    <tr style=\"text-align: right;\">\n",
       "      <th></th>\n",
       "      <th>customer_id</th>\n",
       "      <th>time</th>\n",
       "      <th>SUM(purchases.quantity)</th>\n",
       "      <th>SUM(purchases.price)</th>\n",
       "      <th>SUM(purchases.total)</th>\n",
       "      <th>STD(purchases.quantity)</th>\n",
       "      <th>STD(purchases.price)</th>\n",
       "      <th>STD(purchases.total)</th>\n",
       "      <th>MAX(purchases.quantity)</th>\n",
       "      <th>MAX(purchases.price)</th>\n",
       "      <th>...</th>\n",
       "      <th>MODE(purchases.order_id)_C560574</th>\n",
       "      <th>MODE(purchases.order_id)_C566782</th>\n",
       "      <th>MODE(purchases.order_id)_C567358</th>\n",
       "      <th>MODE(purchases.order_id)_C569989</th>\n",
       "      <th>MODE(purchases.order_id)_C569994</th>\n",
       "      <th>MODE(purchases.order_id)_C570099</th>\n",
       "      <th>MODE(purchases.order_id)_C570221</th>\n",
       "      <th>MODE(purchases.order_id)_C570556</th>\n",
       "      <th>MODE(purchases.order_id)_C572228</th>\n",
       "      <th>MODE(purchases.order_id)_C572410</th>\n",
       "    </tr>\n",
       "  </thead>\n",
       "  <tbody>\n",
       "    <tr>\n",
       "      <th>0</th>\n",
       "      <td>12346.0</td>\n",
       "      <td>2011-05-01</td>\n",
       "      <td>0</td>\n",
       "      <td>3.4320</td>\n",
       "      <td>0.000</td>\n",
       "      <td>74215.000000</td>\n",
       "      <td>0.000000</td>\n",
       "      <td>127352.940000</td>\n",
       "      <td>74215</td>\n",
       "      <td>1.7160</td>\n",
       "      <td>...</td>\n",
       "      <td>0</td>\n",
       "      <td>0</td>\n",
       "      <td>0</td>\n",
       "      <td>0</td>\n",
       "      <td>0</td>\n",
       "      <td>0</td>\n",
       "      <td>0</td>\n",
       "      <td>0</td>\n",
       "      <td>0</td>\n",
       "      <td>0</td>\n",
       "    </tr>\n",
       "    <tr>\n",
       "      <th>1</th>\n",
       "      <td>12347.0</td>\n",
       "      <td>2011-05-01</td>\n",
       "      <td>798</td>\n",
       "      <td>223.5090</td>\n",
       "      <td>1834.206</td>\n",
       "      <td>32.080921</td>\n",
       "      <td>4.049262</td>\n",
       "      <td>53.512381</td>\n",
       "      <td>240</td>\n",
       "      <td>21.0375</td>\n",
       "      <td>...</td>\n",
       "      <td>0</td>\n",
       "      <td>0</td>\n",
       "      <td>0</td>\n",
       "      <td>0</td>\n",
       "      <td>0</td>\n",
       "      <td>0</td>\n",
       "      <td>0</td>\n",
       "      <td>0</td>\n",
       "      <td>0</td>\n",
       "      <td>0</td>\n",
       "    </tr>\n",
       "    <tr>\n",
       "      <th>2</th>\n",
       "      <td>12348.0</td>\n",
       "      <td>2011-05-01</td>\n",
       "      <td>870</td>\n",
       "      <td>142.9065</td>\n",
       "      <td>980.826</td>\n",
       "      <td>57.138515</td>\n",
       "      <td>24.996439</td>\n",
       "      <td>52.784090</td>\n",
       "      <td>144</td>\n",
       "      <td>66.0000</td>\n",
       "      <td>...</td>\n",
       "      <td>0</td>\n",
       "      <td>0</td>\n",
       "      <td>0</td>\n",
       "      <td>0</td>\n",
       "      <td>0</td>\n",
       "      <td>0</td>\n",
       "      <td>0</td>\n",
       "      <td>0</td>\n",
       "      <td>0</td>\n",
       "      <td>0</td>\n",
       "    </tr>\n",
       "    <tr>\n",
       "      <th>3</th>\n",
       "      <td>12350.0</td>\n",
       "      <td>2011-05-01</td>\n",
       "      <td>197</td>\n",
       "      <td>107.7450</td>\n",
       "      <td>551.760</td>\n",
       "      <td>4.215641</td>\n",
       "      <td>14.942464</td>\n",
       "      <td>11.646210</td>\n",
       "      <td>24</td>\n",
       "      <td>66.0000</td>\n",
       "      <td>...</td>\n",
       "      <td>0</td>\n",
       "      <td>0</td>\n",
       "      <td>0</td>\n",
       "      <td>0</td>\n",
       "      <td>0</td>\n",
       "      <td>0</td>\n",
       "      <td>0</td>\n",
       "      <td>0</td>\n",
       "      <td>0</td>\n",
       "      <td>0</td>\n",
       "    </tr>\n",
       "    <tr>\n",
       "      <th>4</th>\n",
       "      <td>12352.0</td>\n",
       "      <td>2011-05-01</td>\n",
       "      <td>188</td>\n",
       "      <td>3135.1155</td>\n",
       "      <td>991.947</td>\n",
       "      <td>6.960703</td>\n",
       "      <td>157.369454</td>\n",
       "      <td>171.627342</td>\n",
       "      <td>12</td>\n",
       "      <td>621.2250</td>\n",
       "      <td>...</td>\n",
       "      <td>0</td>\n",
       "      <td>0</td>\n",
       "      <td>0</td>\n",
       "      <td>0</td>\n",
       "      <td>0</td>\n",
       "      <td>0</td>\n",
       "      <td>0</td>\n",
       "      <td>0</td>\n",
       "      <td>0</td>\n",
       "      <td>0</td>\n",
       "    </tr>\n",
       "  </tbody>\n",
       "</table>\n",
       "<p>5 rows × 5905 columns</p>\n",
       "</div>"
      ],
      "text/plain": [
       "   customer_id       time  SUM(purchases.quantity)  SUM(purchases.price)  \\\n",
       "0      12346.0 2011-05-01                        0                3.4320   \n",
       "1      12347.0 2011-05-01                      798              223.5090   \n",
       "2      12348.0 2011-05-01                      870              142.9065   \n",
       "3      12350.0 2011-05-01                      197              107.7450   \n",
       "4      12352.0 2011-05-01                      188             3135.1155   \n",
       "\n",
       "   SUM(purchases.total)  STD(purchases.quantity)  STD(purchases.price)  \\\n",
       "0                 0.000             74215.000000              0.000000   \n",
       "1              1834.206                32.080921              4.049262   \n",
       "2               980.826                57.138515             24.996439   \n",
       "3               551.760                 4.215641             14.942464   \n",
       "4               991.947                 6.960703            157.369454   \n",
       "\n",
       "   STD(purchases.total)  MAX(purchases.quantity)  MAX(purchases.price)  \\\n",
       "0         127352.940000                    74215                1.7160   \n",
       "1             53.512381                      240               21.0375   \n",
       "2             52.784090                      144               66.0000   \n",
       "3             11.646210                       24               66.0000   \n",
       "4            171.627342                       12              621.2250   \n",
       "\n",
       "                 ...                 MODE(purchases.order_id)_C560574  \\\n",
       "0                ...                                                0   \n",
       "1                ...                                                0   \n",
       "2                ...                                                0   \n",
       "3                ...                                                0   \n",
       "4                ...                                                0   \n",
       "\n",
       "   MODE(purchases.order_id)_C566782  MODE(purchases.order_id)_C567358  \\\n",
       "0                                 0                                 0   \n",
       "1                                 0                                 0   \n",
       "2                                 0                                 0   \n",
       "3                                 0                                 0   \n",
       "4                                 0                                 0   \n",
       "\n",
       "   MODE(purchases.order_id)_C569989  MODE(purchases.order_id)_C569994  \\\n",
       "0                                 0                                 0   \n",
       "1                                 0                                 0   \n",
       "2                                 0                                 0   \n",
       "3                                 0                                 0   \n",
       "4                                 0                                 0   \n",
       "\n",
       "   MODE(purchases.order_id)_C570099  MODE(purchases.order_id)_C570221  \\\n",
       "0                                 0                                 0   \n",
       "1                                 0                                 0   \n",
       "2                                 0                                 0   \n",
       "3                                 0                                 0   \n",
       "4                                 0                                 0   \n",
       "\n",
       "   MODE(purchases.order_id)_C570556  MODE(purchases.order_id)_C572228  \\\n",
       "0                                 0                                 0   \n",
       "1                                 0                                 0   \n",
       "2                                 0                                 0   \n",
       "3                                 0                                 0   \n",
       "4                                 0                                 0   \n",
       "\n",
       "   MODE(purchases.order_id)_C572410  \n",
       "0                                 0  \n",
       "1                                 0  \n",
       "2                                 0  \n",
       "3                                 0  \n",
       "4                                 0  \n",
       "\n",
       "[5 rows x 5905 columns]"
      ]
     },
     "execution_count": 66,
     "metadata": {},
     "output_type": "execute_result"
    }
   ],
   "source": [
    "feature_matrix.head()"
   ]
  },
  {
   "cell_type": "code",
   "execution_count": null,
   "metadata": {},
   "outputs": [],
   "source": [
    "corrs = "
   ]
  },
  {
   "cell_type": "markdown",
   "metadata": {},
   "source": [
    "## Preliminary modeling\n",
    "\n",
    "At this point the matrix is ready to for modeling. We will want to one-hot encode the columns first and then we can get to machine learning. For splitting into a training and testing set, we'll make the test set one month of the data and then the training data will be all the months before that date.\n",
    "\n"
   ]
  },
  {
   "cell_type": "code",
   "execution_count": null,
   "metadata": {},
   "outputs": [],
   "source": [
    "feature_matrix_enc = pd.get_dummies(feature_matrix)\n",
    "print('Total features after one-hot encoding: ', feature_matrix_enc.shape[1])"
   ]
  },
  {
   "cell_type": "code",
   "execution_count": null,
   "metadata": {},
   "outputs": [],
   "source": [
    "feature_matrix_enc.reset_index(inplace = True)\n",
    "feature_matrix_enc.head()"
   ]
  },
  {
   "cell_type": "markdown",
   "metadata": {},
   "source": [
    "### Model\n",
    "\n",
    "For a model, we will use the `RandomForestClassifier` as implemented in Scikit-Learn. We'll keep most of the hyperparameters at the default values but increase the number of trees to 1000. This is not an optimized model but should allow us to tell whether or not our solution is better than a baseline estimate."
   ]
  },
  {
   "cell_type": "code",
   "execution_count": null,
   "metadata": {},
   "outputs": [],
   "source": [
    "\n",
    "model = RandomForestClassifier(n_estimators = 1000, random_state = 50,\n",
    "                               n_jobs = -1)"
   ]
  },
  {
   "cell_type": "code",
   "execution_count": null,
   "metadata": {},
   "outputs": [],
   "source": [
    "def predict_month(month, feature_matrix, return_probs = False):\n",
    "    \n",
    "    test_labels = labels.loc[labels['month'] == month, ['customer_id', 'label']]\n",
    "    train_labels = labels.loc[labels['month'] < month, ['customer_id', 'label']]\n",
    "    \n",
    "    # Features\n",
    "    X_train = feature_matrix[feature_matrix['time'].dt.month < month].drop(columns = ['customer_id', 'time'])\n",
    "    X_test = feature_matrix[feature_matrix['time'].dt.month == month].drop(columns = ['customer_id', 'time'])\n",
    "    feature_names = list(X_train.columns)\n",
    "    \n",
    "    pipeline = Pipeline([('imputer', Imputer(strategy = 'median')), \n",
    "                      ('scaler', MinMaxScaler())])\n",
    "\n",
    "    # Fit and transform training data\n",
    "    X_train = pipeline.fit_transform(X_train)\n",
    "    X_test = pipeline.transform(X_test)\n",
    "    \n",
    "    # Labels\n",
    "    y_train = np.array(train_labels['label']).reshape((-1, ))\n",
    "    y_test = np.array(test_labels['label']).reshape((-1, ))\n",
    "    \n",
    "    \n",
    "    \n",
    "    # Train \n",
    "    model.fit(X_train, y_train)\n",
    "    \n",
    "    # Make predictions\n",
    "    predictions = model.predict(X_test)\n",
    "    probs = model.predict_proba(X_test)[:, 1]\n",
    "    \n",
    "    # Calculate metrics\n",
    "    p = precision_score(y_test, predictions)\n",
    "    r = recall_score(y_test, predictions)\n",
    "    f = f1_score(y_test, predictions)\n",
    "    auc = roc_auc_score(y_test, probs)\n",
    "    \n",
    "    print(f'Precision: {round(p, 5)}')\n",
    "    print(f'Recall: {round(r, 5)}')\n",
    "    print(f'F1 Score: {round(f, 5)}')\n",
    "    print(f'ROC AUC: {round(auc, 5)}')\n",
    "    \n",
    "    # Feature importances\n",
    "    fi = pd.DataFrame({'feature': feature_names, 'importance': model.feature_importances_})\n",
    "    \n",
    "    if return_probs:\n",
    "        return fi, probs\n",
    "    \n",
    "    return fi\n",
    "    "
   ]
  },
  {
   "cell_type": "code",
   "execution_count": null,
   "metadata": {},
   "outputs": [],
   "source": [
    "june_fi = predict_month(6, feature_matrix_enc)"
   ]
  },
  {
   "cell_type": "markdown",
   "metadata": {},
   "source": [
    "We can plot the feature importances using a utility function. These should allow us to see what the model considers useful information for predicting spending."
   ]
  },
  {
   "cell_type": "code",
   "execution_count": null,
   "metadata": {},
   "outputs": [],
   "source": [
    "norm_june_fi = plot_feature_importances(june_fi)"
   ]
  },
  {
   "cell_type": "markdown",
   "metadata": {},
   "source": [
    "## Comparison to Baseline\n",
    "\n",
    "Now let's look at how these numbers compare to the baseline. If we use the amount the customer spent in the past month, can we use that to predict how much they will spend in the next month? We can try this for July 2011."
   ]
  },
  {
   "cell_type": "code",
   "execution_count": null,
   "metadata": {},
   "outputs": [],
   "source": [
    "july_labels = labels[labels['month'] == 7]\n",
    "june_labels = labels[labels['month'] == 6]\n",
    "\n",
    "july_labels = july_labels.rename(columns = {'total': 'july_total'})\n",
    "june_labels = june_labels.rename(columns = {'total': 'june_total'})\n",
    "\n",
    "july_labels = july_labels.merge(june_labels[['customer_id', 'june_total']], on = 'customer_id', how = 'left')\n",
    "july_labels['june_total'] = july_labels['june_total'].fillna(0)\n",
    "july_labels['prediction'] = (july_labels['june_total'] > 500).astype(int)\n",
    "july_labels.head()"
   ]
  },
  {
   "cell_type": "code",
   "execution_count": null,
   "metadata": {},
   "outputs": [],
   "source": [
    "print('Precision: {:.5f}.'.format(precision_score(july_labels['label'], july_labels['prediction'])))\n",
    "print('Recall: {:.5f}.'.format(recall_score(july_labels['label'], july_labels['prediction'])))\n",
    "print('F1 Score: {:.5f}.'.format(f1_score(july_labels['label'], july_labels['prediction'])))\n",
    "print('ROC AUC Score: {:.5f}.'.format(roc_auc_score(july_labels['label'], july_labels['prediction'])))"
   ]
  },
  {
   "cell_type": "code",
   "execution_count": null,
   "metadata": {},
   "outputs": [],
   "source": [
    "july_fi = predict_month(7, feature_matrix_enc)"
   ]
  },
  {
   "cell_type": "code",
   "execution_count": null,
   "metadata": {},
   "outputs": [],
   "source": [
    "norm_july_fi = plot_feature_importances(july_fi)"
   ]
  },
  {
   "cell_type": "code",
   "execution_count": null,
   "metadata": {},
   "outputs": [],
   "source": [
    "def informed_baseline(month_number):\n",
    "    month = labels[labels['month'] == month_number]\n",
    "    previous_month = labels[labels['month'] == (month_number - 1)]\n",
    "    \n",
    "    previous_month = previous_month.rename(columns = {'total': 'previous_total'})\n",
    "\n",
    "    month = month.merge(previous_month[['customer_id', 'previous_total']], on = 'customer_id', how = 'left')\n",
    "    month['previous_total'] = month['previous_total'].fillna(0)\n",
    "    month['prediction'] = (month['previous_total'] > 500).astype(int)\n",
    "    \n",
    "    print('Precision: {:.5f}.'.format(precision_score(month['label'], month['prediction'])))\n",
    "    print('Recall: {:.5f}.'.format(recall_score(month['label'], month['prediction'])))\n",
    "    print('F1 Score: {:.5f}.'.format(f1_score(month['label'], month['prediction'])))\n",
    "    print('ROC AUC Score: {:.5f}.'.format(roc_auc_score(month['label'], month['prediction'])))\n",
    "    \n",
    "    return month"
   ]
  },
  {
   "cell_type": "code",
   "execution_count": null,
   "metadata": {},
   "outputs": [],
   "source": [
    "december = informed_baseline(12)"
   ]
  },
  {
   "cell_type": "code",
   "execution_count": null,
   "metadata": {},
   "outputs": [],
   "source": [
    "december_fi = predict_month(12)"
   ]
  },
  {
   "cell_type": "code",
   "execution_count": null,
   "metadata": {},
   "outputs": [],
   "source": [
    "plt.figure(figsize = (12, 6))\n",
    "sns.kdeplot(december['total'], label = 'December Total');\n",
    "sns.kdeplot(december['previous_total'], label = 'November Total');\n",
    "plt.legend(); plt.xlabel('Total'); plt.ylabel('Density');"
   ]
  },
  {
   "cell_type": "markdown",
   "metadata": {},
   "source": [
    "From this analysis, we can conclude that machine learning delivers some value for the problem. Let's take a look at the feature importances for December."
   ]
  },
  {
   "cell_type": "code",
   "execution_count": null,
   "metadata": {},
   "outputs": [],
   "source": [
    "norm_december_fi = plot_feature_importances(december_fi)"
   ]
  },
  {
   "cell_type": "markdown",
   "metadata": {},
   "source": [
    "It's interesting that the most important feature is whether the most common country for the order is the United Kingdom. This suggests there may a difference in order that come from the United Kingdom versus orders from other countries."
   ]
  },
  {
   "cell_type": "code",
   "execution_count": null,
   "metadata": {},
   "outputs": [],
   "source": [
    "orders = es['orders'].df\n",
    "order_products = es['order_products'].df\n",
    "order_products = order_products.merge(orders[['order_id', 'country']], \n",
    "                                      on = 'order_id', how = 'left')\n",
    "\n",
    "orders_by_country = order_products.groupby('country')['total'].agg(['sum', 'mean', 'count'])\n",
    "orders_by_country.head()"
   ]
  },
  {
   "cell_type": "code",
   "execution_count": null,
   "metadata": {},
   "outputs": [],
   "source": [
    "orders_by_country['count'].sort_values().plot.bar(color = 'green', \n",
    "                                    figsize = (10, 8));\n",
    "plt.title('Number of Orders by Country');"
   ]
  },
  {
   "cell_type": "code",
   "execution_count": null,
   "metadata": {},
   "outputs": [],
   "source": [
    "orders_by_country['mean'].sort_values().plot.bar(color = 'red', \n",
    "                                    figsize = (12, 8));\n",
    "plt.title('Mean of Order Total by Country', size = 22);\n",
    "plt.ylabel('Mean Order Total ($)', size = 18); plt.xlabel('Country', size = 16)\n",
    "plt.xticks(size = 16); plt.yticks(size = 16);"
   ]
  },
  {
   "cell_type": "markdown",
   "metadata": {},
   "source": [
    "Let's try some minor feature selection and see if the performance improves. The following call \n",
    "removes:\n",
    "\n",
    "* One out of every pair of columns that have a perfect correlation (all values are equal)\n",
    "* Any features with more than 80% missing values \n",
    "* Any features with only a single unique value\n",
    "* One out of every pair of columns with a correlation greater than 0.9."
   ]
  },
  {
   "cell_type": "code",
   "execution_count": null,
   "metadata": {},
   "outputs": [],
   "source": [
    "t = feature_matrix_enc['time']\n",
    "feature_matrix_selected = feature_selection(feature_matrix_enc.drop(columns = ['time']),\n",
    "                                                                    missing_threshold=80, correlation_threshold=0.9)\n",
    "feature_matrix_selected['time'] = t"
   ]
  },
  {
   "cell_type": "code",
   "execution_count": null,
   "metadata": {},
   "outputs": [],
   "source": [
    "december_fi = predict_month(12, feature_matrix_selected)"
   ]
  },
  {
   "cell_type": "markdown",
   "metadata": {},
   "source": [
    "Feature selection slightly improved the models performance compared to the original metrics (shown below):\n",
    "\n",
    "    Precision: 0.27073\n",
    "    Recall: 0.50314\n",
    "    F1 Score: 0.35204\n",
    "    ROC AUC: 0.86048"
   ]
  },
  {
   "cell_type": "markdown",
   "metadata": {},
   "source": [
    "### Feature Selection Based on Feature Importances\n",
    "\n",
    "Another method we can use for feature selection is to remove any features that have zero importance. In a decision tree based model, removing these features will have no effect on performance and is hence a safe option for feature selection."
   ]
  },
  {
   "cell_type": "code",
   "execution_count": null,
   "metadata": {},
   "outputs": [],
   "source": [
    "zero_features = december_fi.loc[december_fi['importance'] == 0, 'feature']\n",
    "print(f'{len(zero_features)} features with no importance.')"
   ]
  },
  {
   "cell_type": "code",
   "execution_count": null,
   "metadata": {},
   "outputs": [],
   "source": [
    "feature_matrix_selected = feature_matrix_selected[[x for x in feature_matrix_selected if x not in zero_features]]\n",
    "feature_matrix_selected.shape"
   ]
  },
  {
   "cell_type": "markdown",
   "metadata": {},
   "source": [
    "## Tuning Deep Feature Synthesis\n",
    "\n",
    "We can specify different primitives to deep feature synthesis in order to generate different features. Let's try making a new feature matrix with specified primitives."
   ]
  },
  {
   "cell_type": "code",
   "execution_count": null,
   "metadata": {},
   "outputs": [],
   "source": [
    "feature_matrix, feature_names = ft.dfs(entityset=es, target_entity='customers',\n",
    "                                       agg_primitives = ['std', 'trend', 'max', 'min', \n",
    "                                                         'mean', 'skew', 'last', 'avg_time_between'],\n",
    "                                       trans_primitives = ['cum_sum', 'cum_mean', 'day', \n",
    "                                                           'month', 'hour', 'weekend'],\n",
    "                                       n_jobs = -1, chunk_size = len(labels), \n",
    "                                       cutoff_time = labels[['customer_id', 'cutoff_time']],\n",
    "                                       verbose = 1)\n",
    "feature_matrix.head()"
   ]
  },
  {
   "cell_type": "markdown",
   "metadata": {},
   "source": [
    "After building the new feature matrix, we need to one-hot encode it. We can also use feature selection because that improves performance."
   ]
  },
  {
   "cell_type": "code",
   "execution_count": null,
   "metadata": {},
   "outputs": [],
   "source": [
    "feature_matrix_enc = pd.get_dummies(feature_matrix)\n",
    "\n",
    "for col in feature_matrix_enc:\n",
    "    if feature_matrix_enc[col].dtype == 'bool':\n",
    "        feature_matrix_enc[col] = feature_matrix_enc[col].astype(np.uint8)\n",
    "\n",
    "feature_matrix_selected = feature_selection(feature_matrix_enc)"
   ]
  },
  {
   "cell_type": "code",
   "execution_count": null,
   "metadata": {},
   "outputs": [],
   "source": [
    "feature_matrix_selected.reset_index(inplace = True)\n",
    "\n",
    "# Add the time\n",
    "feature_matrix_selected['time'] = list(labels['cutoff_time'])\n",
    "\n",
    "june_fi = predict_month(6, feature_matrix_enc)"
   ]
  },
  {
   "cell_type": "markdown",
   "metadata": {},
   "source": [
    "The previous metrics for June were:\n",
    "\n",
    "    Precision: 0.51842\n",
    "    Recall: 0.46244\n",
    "    F1 Score: 0.48883\n",
    "    ROC AUC: 0.78358"
   ]
  },
  {
   "cell_type": "code",
   "execution_count": null,
   "metadata": {},
   "outputs": [],
   "source": [
    "norm_june_fi = plot_feature_importances(june_fi)"
   ]
  },
  {
   "cell_type": "code",
   "execution_count": null,
   "metadata": {},
   "outputs": [],
   "source": [
    "december_fi = predict_month(12, feature_matrix_enc)"
   ]
  },
  {
   "cell_type": "code",
   "execution_count": null,
   "metadata": {},
   "outputs": [],
   "source": [
    "_ = informed_baseline(12)"
   ]
  },
  {
   "cell_type": "markdown",
   "metadata": {},
   "source": [
    "The model with more features from Featuretools again significantly outperforms the baseline. To improve the precision, recall, and consequently the F1 score, we can tune the threshold of predictions made by the model."
   ]
  },
  {
   "cell_type": "markdown",
   "metadata": {},
   "source": [
    "## Precision Recall Curve\n",
    "\n",
    "We can use the precision recall curve to identify the ideal threshold for our model. For example, we might care more about identifying the customers likely to spend more "
   ]
  },
  {
   "cell_type": "code",
   "execution_count": null,
   "metadata": {},
   "outputs": [],
   "source": [
    "month = 12\n",
    "# Find the probability\n",
    "fi, probs = predict_month(month, feature_matrix_selected, \n",
    "                          return_probs = True)\n",
    "\n",
    "precision, recall, t = precision_recall_curve(labels.loc[labels['cutoff_time'].dt.month == month, 'label'], \n",
    "                                              probs)\n",
    "\n",
    "plt.step(recall, precision, color='b', alpha=0.5,\n",
    "         where='post')\n",
    "plt.fill_between(recall, precision, step='post', alpha=0.5,\n",
    "                 color='b')\n",
    "\n",
    "plt.xlabel('Recall')\n",
    "plt.ylabel('Precision')\n",
    "plt.ylim([0.0, 1.05])\n",
    "plt.xlim([0.0, 1.0])\n",
    "plt.title(\"Precision vs. Recall Curve\"); plt.show();"
   ]
  },
  {
   "cell_type": "code",
   "execution_count": null,
   "metadata": {},
   "outputs": [],
   "source": [
    "plt.text(precision[::10], recall[::10], s = )"
   ]
  },
  {
   "cell_type": "code",
   "execution_count": null,
   "metadata": {},
   "outputs": [],
   "source": [
    "def precision_recall(month):\n",
    "    \"Show the precision vs recall curve for a month\"\n",
    "    \n",
    "    # Find the probability\n",
    "    fi, probs = predict_month(month, feature_matrix_selected, \n",
    "                              return_probs = True)\n",
    "    \n",
    "    precision, recall, t = precision_recall_curve(labels.loc[labels['cutoff_time'].dt.month == month, 'label'], \n",
    "                                                  probs)\n",
    "    \n",
    "    plt.step(recall, precision, color='b', alpha=0.5,\n",
    "             where='post')\n",
    "    plt.fill_between(recall, precision, step='post', alpha=0.5,\n",
    "                     color='b')\n",
    "\n",
    "    plt.xlabel('Recall')\n",
    "    plt.ylabel('Precision')\n",
    "    plt.ylim([0.0, 1.05])\n",
    "    plt.xlim([0.0, 1.0])\n",
    "    plt.title(\"Precision vs. Recall Curve\"); plt.show();"
   ]
  },
  {
   "cell_type": "code",
   "execution_count": null,
   "metadata": {},
   "outputs": [],
   "source": [
    "precision_recall(12)\n"
   ]
  },
  {
   "cell_type": "markdown",
   "metadata": {},
   "source": [
    "We can use this plot to select an appropriate threshold. For example, we may care more about identifying customers who will spend more than \\$500 than about false positive so we choose a threshold that results in high recall but low precision. Conversely, we may want to limit false positives even if that means missing some potential high-spending customers so we would try for a higher level of precision."
   ]
  },
  {
   "cell_type": "code",
   "execution_count": null,
   "metadata": {},
   "outputs": [],
   "source": [
    "t"
   ]
  },
  {
   "cell_type": "code",
   "execution_count": null,
   "metadata": {},
   "outputs": [],
   "source": []
  }
 ],
 "metadata": {
  "kernelspec": {
   "display_name": "Python 3",
   "language": "python",
   "name": "python3"
  },
  "language_info": {
   "codemirror_mode": {
    "name": "ipython",
    "version": 3
   },
   "file_extension": ".py",
   "mimetype": "text/x-python",
   "name": "python",
   "nbconvert_exporter": "python",
   "pygments_lexer": "ipython3",
   "version": "3.6.5"
  }
 },
 "nbformat": 4,
 "nbformat_minor": 2
}
