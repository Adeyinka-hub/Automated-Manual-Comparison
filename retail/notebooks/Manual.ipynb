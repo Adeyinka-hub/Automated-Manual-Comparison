{
 "cells": [
  {
   "cell_type": "markdown",
   "metadata": {},
   "source": [
    "# Manual Feature Engineering on the Retail Dataset\n",
    "\n",
    "In this notebook we will work on manual feature engineering of a retail dataset. This dataset is originally from the UCI machine learning repository and is reminiscient of real-world data."
   ]
  },
  {
   "cell_type": "code",
   "execution_count": 1,
   "metadata": {},
   "outputs": [],
   "source": [
    "import numpy as np\n",
    "import pandas as pd\n",
    "\n",
    "import featuretools as ft"
   ]
  },
  {
   "cell_type": "markdown",
   "metadata": {},
   "source": [
    "First let's load in the raw data and take a look."
   ]
  },
  {
   "cell_type": "code",
   "execution_count": 2,
   "metadata": {},
   "outputs": [
    {
     "data": {
      "text/html": [
       "<div>\n",
       "<style scoped>\n",
       "    .dataframe tbody tr th:only-of-type {\n",
       "        vertical-align: middle;\n",
       "    }\n",
       "\n",
       "    .dataframe tbody tr th {\n",
       "        vertical-align: top;\n",
       "    }\n",
       "\n",
       "    .dataframe thead th {\n",
       "        text-align: right;\n",
       "    }\n",
       "</style>\n",
       "<table border=\"1\" class=\"dataframe\">\n",
       "  <thead>\n",
       "    <tr style=\"text-align: right;\">\n",
       "      <th></th>\n",
       "      <th>InvoiceNo</th>\n",
       "      <th>StockCode</th>\n",
       "      <th>Description</th>\n",
       "      <th>Quantity</th>\n",
       "      <th>InvoiceDate</th>\n",
       "      <th>UnitPrice</th>\n",
       "      <th>CustomerID</th>\n",
       "      <th>Country</th>\n",
       "    </tr>\n",
       "  </thead>\n",
       "  <tbody>\n",
       "    <tr>\n",
       "      <th>0</th>\n",
       "      <td>536365</td>\n",
       "      <td>85123A</td>\n",
       "      <td>WHITE HANGING HEART T-LIGHT HOLDER</td>\n",
       "      <td>6</td>\n",
       "      <td>2010-12-01 08:26:00</td>\n",
       "      <td>2.55</td>\n",
       "      <td>17850.0</td>\n",
       "      <td>United Kingdom</td>\n",
       "    </tr>\n",
       "    <tr>\n",
       "      <th>1</th>\n",
       "      <td>536365</td>\n",
       "      <td>71053</td>\n",
       "      <td>WHITE METAL LANTERN</td>\n",
       "      <td>6</td>\n",
       "      <td>2010-12-01 08:26:00</td>\n",
       "      <td>3.39</td>\n",
       "      <td>17850.0</td>\n",
       "      <td>United Kingdom</td>\n",
       "    </tr>\n",
       "    <tr>\n",
       "      <th>2</th>\n",
       "      <td>536365</td>\n",
       "      <td>84406B</td>\n",
       "      <td>CREAM CUPID HEARTS COAT HANGER</td>\n",
       "      <td>8</td>\n",
       "      <td>2010-12-01 08:26:00</td>\n",
       "      <td>2.75</td>\n",
       "      <td>17850.0</td>\n",
       "      <td>United Kingdom</td>\n",
       "    </tr>\n",
       "    <tr>\n",
       "      <th>3</th>\n",
       "      <td>536365</td>\n",
       "      <td>84029G</td>\n",
       "      <td>KNITTED UNION FLAG HOT WATER BOTTLE</td>\n",
       "      <td>6</td>\n",
       "      <td>2010-12-01 08:26:00</td>\n",
       "      <td>3.39</td>\n",
       "      <td>17850.0</td>\n",
       "      <td>United Kingdom</td>\n",
       "    </tr>\n",
       "    <tr>\n",
       "      <th>4</th>\n",
       "      <td>536365</td>\n",
       "      <td>84029E</td>\n",
       "      <td>RED WOOLLY HOTTIE WHITE HEART.</td>\n",
       "      <td>6</td>\n",
       "      <td>2010-12-01 08:26:00</td>\n",
       "      <td>3.39</td>\n",
       "      <td>17850.0</td>\n",
       "      <td>United Kingdom</td>\n",
       "    </tr>\n",
       "  </tbody>\n",
       "</table>\n",
       "</div>"
      ],
      "text/plain": [
       "  InvoiceNo StockCode                          Description  Quantity  \\\n",
       "0    536365    85123A   WHITE HANGING HEART T-LIGHT HOLDER         6   \n",
       "1    536365     71053                  WHITE METAL LANTERN         6   \n",
       "2    536365    84406B       CREAM CUPID HEARTS COAT HANGER         8   \n",
       "3    536365    84029G  KNITTED UNION FLAG HOT WATER BOTTLE         6   \n",
       "4    536365    84029E       RED WOOLLY HOTTIE WHITE HEART.         6   \n",
       "\n",
       "          InvoiceDate  UnitPrice  CustomerID         Country  \n",
       "0 2010-12-01 08:26:00       2.55     17850.0  United Kingdom  \n",
       "1 2010-12-01 08:26:00       3.39     17850.0  United Kingdom  \n",
       "2 2010-12-01 08:26:00       2.75     17850.0  United Kingdom  \n",
       "3 2010-12-01 08:26:00       3.39     17850.0  United Kingdom  \n",
       "4 2010-12-01 08:26:00       3.39     17850.0  United Kingdom  "
      ]
     },
     "execution_count": 2,
     "metadata": {},
     "output_type": "execute_result"
    }
   ],
   "source": [
    "csv_s3 = \"s3://featurelabs-static/online-retail-logs.csv\"\n",
    "data = pd.read_csv(csv_s3, parse_dates=[\"order_date\"])\n",
    "\n",
    "# Convert to dollars\n",
    "data['price'] = data['price'] * 1.65\n",
    "data['total'] = data['price'] * data['quantity']\n",
    "\n",
    "# Restrict data to 2011\n",
    "data = data[data['order_date'].dt.year == 2011]\n",
    "\n",
    "# drop the duplicates\n",
    "data = data.drop_duplicates()\n",
    "\n",
    "# drop rows with null customer id\n",
    "data = data.dropna(axis=0)\n",
    "\n",
    "data.head()"
   ]
  },
  {
   "cell_type": "markdown",
   "metadata": {},
   "source": [
    "# Load in Prediction Problem\n",
    "\n"
   ]
  },
  {
   "cell_type": "code",
   "execution_count": 1,
   "metadata": {},
   "outputs": [
    {
     "ename": "NameError",
     "evalue": "name 'pd' is not defined",
     "output_type": "error",
     "traceback": [
      "\u001b[0;31m---------------------------------------------------------------------------\u001b[0m",
      "\u001b[0;31mNameError\u001b[0m                                 Traceback (most recent call last)",
      "\u001b[0;32m<ipython-input-1-2dd17369a10b>\u001b[0m in \u001b[0;36m<module>\u001b[0;34m()\u001b[0m\n\u001b[0;32m----> 1\u001b[0;31m \u001b[0mlabels\u001b[0m \u001b[0;34m=\u001b[0m \u001b[0mpd\u001b[0m\u001b[0;34m.\u001b[0m\u001b[0mread_csv\u001b[0m\u001b[0;34m(\u001b[0m\u001b[0;34m'../input/labels.csv'\u001b[0m\u001b[0;34m)\u001b[0m\u001b[0;34m\u001b[0m\u001b[0m\n\u001b[0m\u001b[1;32m      2\u001b[0m \u001b[0mlabels\u001b[0m\u001b[0;34m.\u001b[0m\u001b[0mhead\u001b[0m\u001b[0;34m(\u001b[0m\u001b[0;34m)\u001b[0m\u001b[0;34m\u001b[0m\u001b[0m\n",
      "\u001b[0;31mNameError\u001b[0m: name 'pd' is not defined"
     ]
    }
   ],
   "source": [
    "labels = pd.read_csv('../input/labels.csv')\n",
    "labels.head()"
   ]
  },
  {
   "cell_type": "code",
   "execution_count": 3,
   "metadata": {},
   "outputs": [
    {
     "data": {
      "text/html": [
       "<div>\n",
       "<style scoped>\n",
       "    .dataframe tbody tr th:only-of-type {\n",
       "        vertical-align: middle;\n",
       "    }\n",
       "\n",
       "    .dataframe tbody tr th {\n",
       "        vertical-align: top;\n",
       "    }\n",
       "\n",
       "    .dataframe thead th {\n",
       "        text-align: right;\n",
       "    }\n",
       "</style>\n",
       "<table border=\"1\" class=\"dataframe\">\n",
       "  <thead>\n",
       "    <tr style=\"text-align: right;\">\n",
       "      <th></th>\n",
       "      <th>order_id</th>\n",
       "      <th>product_id</th>\n",
       "      <th>description</th>\n",
       "      <th>quantity</th>\n",
       "      <th>order_date</th>\n",
       "      <th>price</th>\n",
       "      <th>customer_id</th>\n",
       "      <th>country</th>\n",
       "    </tr>\n",
       "  </thead>\n",
       "  <tbody>\n",
       "    <tr>\n",
       "      <th>0</th>\n",
       "      <td>536365</td>\n",
       "      <td>85123A</td>\n",
       "      <td>WHITE HANGING HEART T-LIGHT HOLDER</td>\n",
       "      <td>6</td>\n",
       "      <td>2010-12-01 08:26:00</td>\n",
       "      <td>2.55</td>\n",
       "      <td>17850.0</td>\n",
       "      <td>United Kingdom</td>\n",
       "    </tr>\n",
       "    <tr>\n",
       "      <th>1</th>\n",
       "      <td>536365</td>\n",
       "      <td>71053</td>\n",
       "      <td>WHITE METAL LANTERN</td>\n",
       "      <td>6</td>\n",
       "      <td>2010-12-01 08:26:00</td>\n",
       "      <td>3.39</td>\n",
       "      <td>17850.0</td>\n",
       "      <td>United Kingdom</td>\n",
       "    </tr>\n",
       "    <tr>\n",
       "      <th>2</th>\n",
       "      <td>536365</td>\n",
       "      <td>84406B</td>\n",
       "      <td>CREAM CUPID HEARTS COAT HANGER</td>\n",
       "      <td>8</td>\n",
       "      <td>2010-12-01 08:26:00</td>\n",
       "      <td>2.75</td>\n",
       "      <td>17850.0</td>\n",
       "      <td>United Kingdom</td>\n",
       "    </tr>\n",
       "    <tr>\n",
       "      <th>3</th>\n",
       "      <td>536365</td>\n",
       "      <td>84029G</td>\n",
       "      <td>KNITTED UNION FLAG HOT WATER BOTTLE</td>\n",
       "      <td>6</td>\n",
       "      <td>2010-12-01 08:26:00</td>\n",
       "      <td>3.39</td>\n",
       "      <td>17850.0</td>\n",
       "      <td>United Kingdom</td>\n",
       "    </tr>\n",
       "    <tr>\n",
       "      <th>4</th>\n",
       "      <td>536365</td>\n",
       "      <td>84029E</td>\n",
       "      <td>RED WOOLLY HOTTIE WHITE HEART.</td>\n",
       "      <td>6</td>\n",
       "      <td>2010-12-01 08:26:00</td>\n",
       "      <td>3.39</td>\n",
       "      <td>17850.0</td>\n",
       "      <td>United Kingdom</td>\n",
       "    </tr>\n",
       "  </tbody>\n",
       "</table>\n",
       "</div>"
      ],
      "text/plain": [
       "  order_id product_id                          description  quantity  \\\n",
       "0   536365     85123A   WHITE HANGING HEART T-LIGHT HOLDER         6   \n",
       "1   536365      71053                  WHITE METAL LANTERN         6   \n",
       "2   536365     84406B       CREAM CUPID HEARTS COAT HANGER         8   \n",
       "3   536365     84029G  KNITTED UNION FLAG HOT WATER BOTTLE         6   \n",
       "4   536365     84029E       RED WOOLLY HOTTIE WHITE HEART.         6   \n",
       "\n",
       "           order_date  price  customer_id         country  \n",
       "0 2010-12-01 08:26:00   2.55      17850.0  United Kingdom  \n",
       "1 2010-12-01 08:26:00   3.39      17850.0  United Kingdom  \n",
       "2 2010-12-01 08:26:00   2.75      17850.0  United Kingdom  \n",
       "3 2010-12-01 08:26:00   3.39      17850.0  United Kingdom  \n",
       "4 2010-12-01 08:26:00   3.39      17850.0  United Kingdom  "
      ]
     },
     "execution_count": 3,
     "metadata": {},
     "output_type": "execute_result"
    }
   ],
   "source": [
    "csv_s3 = \"s3://featurelabs-static/online-retail-logs.csv\"\n",
    "altered_data = pd.read_csv(csv_s3, parse_dates=[\"order_date\"])\n",
    "altered_data.head()"
   ]
  },
  {
   "cell_type": "markdown",
   "metadata": {},
   "source": [
    "First we need to understand what each of the columns represents. For that we can look at the [data description on the UCI Machine Learning Repository.](https://archive.ics.uci.edu/ml/datasets/online+retail#)\n",
    "\n",
    "* `InvoiceNo`: Invoice number. Nominal, a 6-digit integral number uniquely assigned to each transaction. If this code starts with letter 'c', it indicates a cancellation. \n",
    "* `StockCode`: Product (item) code. Nominal, a 5-digit integral number uniquely assigned to each distinct product. \n",
    "* `Description`: Product (item) name. Nominal. \n",
    "* `Quantity`: The quantities of each product (item) per transaction. Numeric.\t\n",
    "* `InvoiceDate`: Invice Date and time. Numeric, the day and time when each transaction was generated. \n",
    "* `UnitPrice`: Unit price. Numeric, Product price per unit in sterling. \n",
    "* `CustomerID`: Customer number. Nominal, a 5-digit integral number uniquely assigned to each customer. \n",
    "* `Country`: Country name. Nominal, the name of the country where each customer resides.\n",
    "\n",
    "Based on these descriptions, we will rename the columns so they are easier to remember."
   ]
  },
  {
   "cell_type": "code",
   "execution_count": 4,
   "metadata": {},
   "outputs": [],
   "source": [
    "data.columns = ['order_id', 'product_id', 'desc', 'quantity', \n",
    "                 'date', 'unit_price', 'customer_id', 'country']"
   ]
  },
  {
   "cell_type": "markdown",
   "metadata": {},
   "source": [
    "## Issues: Duplicated Rows\n",
    "\n",
    "One problem we can quickly check for is duplicated rows. "
   ]
  },
  {
   "cell_type": "code",
   "execution_count": 5,
   "metadata": {},
   "outputs": [
    {
     "name": "stdout",
     "output_type": "stream",
     "text": [
      "There are 5268 duplicated rows.\n"
     ]
    },
    {
     "data": {
      "text/html": [
       "<div>\n",
       "<style scoped>\n",
       "    .dataframe tbody tr th:only-of-type {\n",
       "        vertical-align: middle;\n",
       "    }\n",
       "\n",
       "    .dataframe tbody tr th {\n",
       "        vertical-align: top;\n",
       "    }\n",
       "\n",
       "    .dataframe thead th {\n",
       "        text-align: right;\n",
       "    }\n",
       "</style>\n",
       "<table border=\"1\" class=\"dataframe\">\n",
       "  <thead>\n",
       "    <tr style=\"text-align: right;\">\n",
       "      <th></th>\n",
       "      <th>order_id</th>\n",
       "      <th>product_id</th>\n",
       "      <th>desc</th>\n",
       "      <th>quantity</th>\n",
       "      <th>date</th>\n",
       "      <th>unit_price</th>\n",
       "      <th>customer_id</th>\n",
       "      <th>country</th>\n",
       "    </tr>\n",
       "  </thead>\n",
       "  <tbody>\n",
       "    <tr>\n",
       "      <th>517</th>\n",
       "      <td>536409</td>\n",
       "      <td>21866</td>\n",
       "      <td>UNION JACK FLAG LUGGAGE TAG</td>\n",
       "      <td>1</td>\n",
       "      <td>2010-12-01 11:45:00</td>\n",
       "      <td>1.25</td>\n",
       "      <td>17908.0</td>\n",
       "      <td>United Kingdom</td>\n",
       "    </tr>\n",
       "    <tr>\n",
       "      <th>527</th>\n",
       "      <td>536409</td>\n",
       "      <td>22866</td>\n",
       "      <td>HAND WARMER SCOTTY DOG DESIGN</td>\n",
       "      <td>1</td>\n",
       "      <td>2010-12-01 11:45:00</td>\n",
       "      <td>2.10</td>\n",
       "      <td>17908.0</td>\n",
       "      <td>United Kingdom</td>\n",
       "    </tr>\n",
       "    <tr>\n",
       "      <th>537</th>\n",
       "      <td>536409</td>\n",
       "      <td>22900</td>\n",
       "      <td>SET 2 TEA TOWELS I LOVE LONDON</td>\n",
       "      <td>1</td>\n",
       "      <td>2010-12-01 11:45:00</td>\n",
       "      <td>2.95</td>\n",
       "      <td>17908.0</td>\n",
       "      <td>United Kingdom</td>\n",
       "    </tr>\n",
       "    <tr>\n",
       "      <th>539</th>\n",
       "      <td>536409</td>\n",
       "      <td>22111</td>\n",
       "      <td>SCOTTIE DOG HOT WATER BOTTLE</td>\n",
       "      <td>1</td>\n",
       "      <td>2010-12-01 11:45:00</td>\n",
       "      <td>4.95</td>\n",
       "      <td>17908.0</td>\n",
       "      <td>United Kingdom</td>\n",
       "    </tr>\n",
       "    <tr>\n",
       "      <th>555</th>\n",
       "      <td>536412</td>\n",
       "      <td>22327</td>\n",
       "      <td>ROUND SNACK BOXES SET OF 4 SKULLS</td>\n",
       "      <td>1</td>\n",
       "      <td>2010-12-01 11:49:00</td>\n",
       "      <td>2.95</td>\n",
       "      <td>17920.0</td>\n",
       "      <td>United Kingdom</td>\n",
       "    </tr>\n",
       "  </tbody>\n",
       "</table>\n",
       "</div>"
      ],
      "text/plain": [
       "    order_id product_id                               desc  quantity  \\\n",
       "517   536409      21866        UNION JACK FLAG LUGGAGE TAG         1   \n",
       "527   536409      22866      HAND WARMER SCOTTY DOG DESIGN         1   \n",
       "537   536409      22900    SET 2 TEA TOWELS I LOVE LONDON          1   \n",
       "539   536409      22111       SCOTTIE DOG HOT WATER BOTTLE         1   \n",
       "555   536412      22327  ROUND SNACK BOXES SET OF 4 SKULLS         1   \n",
       "\n",
       "                   date  unit_price  customer_id         country  \n",
       "517 2010-12-01 11:45:00        1.25      17908.0  United Kingdom  \n",
       "527 2010-12-01 11:45:00        2.10      17908.0  United Kingdom  \n",
       "537 2010-12-01 11:45:00        2.95      17908.0  United Kingdom  \n",
       "539 2010-12-01 11:45:00        4.95      17908.0  United Kingdom  \n",
       "555 2010-12-01 11:49:00        2.95      17920.0  United Kingdom  "
      ]
     },
     "execution_count": 5,
     "metadata": {},
     "output_type": "execute_result"
    }
   ],
   "source": [
    "duplicated_rows = data[data.duplicated(keep = 'first')]\n",
    "print('There are {} duplicated rows.'.format(len(duplicated_rows)))\n",
    "duplicated_rows.head(5)"
   ]
  },
  {
   "cell_type": "markdown",
   "metadata": {},
   "source": [
    "In this case, because the customers may be wholesalers who then sell to their own customers, it is possible that the duplicates are legitimate. These customers may order two of the same product at the same time to sell to 2 of their own customers. Given the number of duplicated rows (about 1% of the data), it seems this is a common occurrence. For now, we will not drop the duplicated rows.\n",
    "\n",
    "## Issues: Cancelled Orders\n",
    "\n",
    "A second potential problem is that of cancelled orders. Any `order_id` beginning with a 'C' indicates an order that was cancelled."
   ]
  },
  {
   "cell_type": "code",
   "execution_count": 6,
   "metadata": {},
   "outputs": [
    {
     "data": {
      "text/html": [
       "<div>\n",
       "<style scoped>\n",
       "    .dataframe tbody tr th:only-of-type {\n",
       "        vertical-align: middle;\n",
       "    }\n",
       "\n",
       "    .dataframe tbody tr th {\n",
       "        vertical-align: top;\n",
       "    }\n",
       "\n",
       "    .dataframe thead th {\n",
       "        text-align: right;\n",
       "    }\n",
       "</style>\n",
       "<table border=\"1\" class=\"dataframe\">\n",
       "  <thead>\n",
       "    <tr style=\"text-align: right;\">\n",
       "      <th></th>\n",
       "      <th>order_id</th>\n",
       "      <th>product_id</th>\n",
       "      <th>desc</th>\n",
       "      <th>quantity</th>\n",
       "      <th>date</th>\n",
       "      <th>unit_price</th>\n",
       "      <th>customer_id</th>\n",
       "      <th>country</th>\n",
       "    </tr>\n",
       "  </thead>\n",
       "  <tbody>\n",
       "    <tr>\n",
       "      <th>141</th>\n",
       "      <td>C536379</td>\n",
       "      <td>D</td>\n",
       "      <td>Discount</td>\n",
       "      <td>-1</td>\n",
       "      <td>2010-12-01 09:41:00</td>\n",
       "      <td>27.50</td>\n",
       "      <td>14527.0</td>\n",
       "      <td>United Kingdom</td>\n",
       "    </tr>\n",
       "    <tr>\n",
       "      <th>154</th>\n",
       "      <td>C536383</td>\n",
       "      <td>35004C</td>\n",
       "      <td>SET OF 3 COLOURED  FLYING DUCKS</td>\n",
       "      <td>-1</td>\n",
       "      <td>2010-12-01 09:49:00</td>\n",
       "      <td>4.65</td>\n",
       "      <td>15311.0</td>\n",
       "      <td>United Kingdom</td>\n",
       "    </tr>\n",
       "    <tr>\n",
       "      <th>235</th>\n",
       "      <td>C536391</td>\n",
       "      <td>22556</td>\n",
       "      <td>PLASTERS IN TIN CIRCUS PARADE</td>\n",
       "      <td>-12</td>\n",
       "      <td>2010-12-01 10:24:00</td>\n",
       "      <td>1.65</td>\n",
       "      <td>17548.0</td>\n",
       "      <td>United Kingdom</td>\n",
       "    </tr>\n",
       "    <tr>\n",
       "      <th>236</th>\n",
       "      <td>C536391</td>\n",
       "      <td>21984</td>\n",
       "      <td>PACK OF 12 PINK PAISLEY TISSUES</td>\n",
       "      <td>-24</td>\n",
       "      <td>2010-12-01 10:24:00</td>\n",
       "      <td>0.29</td>\n",
       "      <td>17548.0</td>\n",
       "      <td>United Kingdom</td>\n",
       "    </tr>\n",
       "    <tr>\n",
       "      <th>237</th>\n",
       "      <td>C536391</td>\n",
       "      <td>21983</td>\n",
       "      <td>PACK OF 12 BLUE PAISLEY TISSUES</td>\n",
       "      <td>-24</td>\n",
       "      <td>2010-12-01 10:24:00</td>\n",
       "      <td>0.29</td>\n",
       "      <td>17548.0</td>\n",
       "      <td>United Kingdom</td>\n",
       "    </tr>\n",
       "  </tbody>\n",
       "</table>\n",
       "</div>"
      ],
      "text/plain": [
       "    order_id product_id                              desc  quantity  \\\n",
       "141  C536379          D                          Discount        -1   \n",
       "154  C536383     35004C   SET OF 3 COLOURED  FLYING DUCKS        -1   \n",
       "235  C536391      22556    PLASTERS IN TIN CIRCUS PARADE        -12   \n",
       "236  C536391      21984  PACK OF 12 PINK PAISLEY TISSUES        -24   \n",
       "237  C536391      21983  PACK OF 12 BLUE PAISLEY TISSUES        -24   \n",
       "\n",
       "                   date  unit_price  customer_id         country  \n",
       "141 2010-12-01 09:41:00       27.50      14527.0  United Kingdom  \n",
       "154 2010-12-01 09:49:00        4.65      15311.0  United Kingdom  \n",
       "235 2010-12-01 10:24:00        1.65      17548.0  United Kingdom  \n",
       "236 2010-12-01 10:24:00        0.29      17548.0  United Kingdom  \n",
       "237 2010-12-01 10:24:00        0.29      17548.0  United Kingdom  "
      ]
     },
     "execution_count": 6,
     "metadata": {},
     "output_type": "execute_result"
    }
   ],
   "source": [
    "data['order_id'] = data['order_id'].astype(str)\n",
    "data['product_id'] = data['product_id'].astype(str)\n",
    "cancelled_orders = data[data['order_id'].str.startswith('C')]\n",
    "cancelled_orders.head()"
   ]
  },
  {
   "cell_type": "markdown",
   "metadata": {},
   "source": [
    "The issue is that the corresponding purchase cannot be found by just looking up the cancelled `order_id` without the 'C'."
   ]
  },
  {
   "cell_type": "code",
   "execution_count": 7,
   "metadata": {},
   "outputs": [
    {
     "data": {
      "text/html": [
       "<div>\n",
       "<style scoped>\n",
       "    .dataframe tbody tr th:only-of-type {\n",
       "        vertical-align: middle;\n",
       "    }\n",
       "\n",
       "    .dataframe tbody tr th {\n",
       "        vertical-align: top;\n",
       "    }\n",
       "\n",
       "    .dataframe thead th {\n",
       "        text-align: right;\n",
       "    }\n",
       "</style>\n",
       "<table border=\"1\" class=\"dataframe\">\n",
       "  <thead>\n",
       "    <tr style=\"text-align: right;\">\n",
       "      <th></th>\n",
       "      <th>order_id</th>\n",
       "      <th>product_id</th>\n",
       "      <th>desc</th>\n",
       "      <th>quantity</th>\n",
       "      <th>date</th>\n",
       "      <th>unit_price</th>\n",
       "      <th>customer_id</th>\n",
       "      <th>country</th>\n",
       "    </tr>\n",
       "  </thead>\n",
       "  <tbody>\n",
       "  </tbody>\n",
       "</table>\n",
       "</div>"
      ],
      "text/plain": [
       "Empty DataFrame\n",
       "Columns: [order_id, product_id, desc, quantity, date, unit_price, customer_id, country]\n",
       "Index: []"
      ]
     },
     "execution_count": 7,
     "metadata": {},
     "output_type": "execute_result"
    }
   ],
   "source": [
    "data[data['order_id'] == '536391']"
   ]
  },
  {
   "cell_type": "markdown",
   "metadata": {},
   "source": [
    "What happens if we try to match on the `product_id`, absolute value of `quantity`, and `customer_id`?"
   ]
  },
  {
   "cell_type": "code",
   "execution_count": 8,
   "metadata": {},
   "outputs": [
    {
     "name": "stdout",
     "output_type": "stream",
     "text": [
      "Matching on product_id, absolute value of quantity, and customer_id.\n"
     ]
    },
    {
     "data": {
      "text/html": [
       "<div>\n",
       "<style scoped>\n",
       "    .dataframe tbody tr th:only-of-type {\n",
       "        vertical-align: middle;\n",
       "    }\n",
       "\n",
       "    .dataframe tbody tr th {\n",
       "        vertical-align: top;\n",
       "    }\n",
       "\n",
       "    .dataframe thead th {\n",
       "        text-align: right;\n",
       "    }\n",
       "</style>\n",
       "<table border=\"1\" class=\"dataframe\">\n",
       "  <thead>\n",
       "    <tr style=\"text-align: right;\">\n",
       "      <th></th>\n",
       "      <th>order_id</th>\n",
       "      <th>product_id</th>\n",
       "      <th>desc</th>\n",
       "      <th>quantity</th>\n",
       "      <th>date</th>\n",
       "      <th>unit_price</th>\n",
       "      <th>customer_id</th>\n",
       "      <th>country</th>\n",
       "    </tr>\n",
       "  </thead>\n",
       "  <tbody>\n",
       "  </tbody>\n",
       "</table>\n",
       "</div>"
      ],
      "text/plain": [
       "Empty DataFrame\n",
       "Columns: [order_id, product_id, desc, quantity, date, unit_price, customer_id, country]\n",
       "Index: []"
      ]
     },
     "execution_count": 8,
     "metadata": {},
     "output_type": "execute_result"
    }
   ],
   "source": [
    "print('Matching on product_id, absolute value of quantity, and customer_id.')\n",
    "data[(data['product_id'] == '21983') & (data['quantity'] == 24) & (data['customer_id'] == 17548)]"
   ]
  },
  {
   "cell_type": "code",
   "execution_count": 9,
   "metadata": {},
   "outputs": [
    {
     "name": "stdout",
     "output_type": "stream",
     "text": [
      "Matching on product_id and customer_id.\n"
     ]
    },
    {
     "data": {
      "text/html": [
       "<div>\n",
       "<style scoped>\n",
       "    .dataframe tbody tr th:only-of-type {\n",
       "        vertical-align: middle;\n",
       "    }\n",
       "\n",
       "    .dataframe tbody tr th {\n",
       "        vertical-align: top;\n",
       "    }\n",
       "\n",
       "    .dataframe thead th {\n",
       "        text-align: right;\n",
       "    }\n",
       "</style>\n",
       "<table border=\"1\" class=\"dataframe\">\n",
       "  <thead>\n",
       "    <tr style=\"text-align: right;\">\n",
       "      <th></th>\n",
       "      <th>order_id</th>\n",
       "      <th>product_id</th>\n",
       "      <th>desc</th>\n",
       "      <th>quantity</th>\n",
       "      <th>date</th>\n",
       "      <th>unit_price</th>\n",
       "      <th>customer_id</th>\n",
       "      <th>country</th>\n",
       "    </tr>\n",
       "  </thead>\n",
       "  <tbody>\n",
       "    <tr>\n",
       "      <th>237</th>\n",
       "      <td>C536391</td>\n",
       "      <td>21983</td>\n",
       "      <td>PACK OF 12 BLUE PAISLEY TISSUES</td>\n",
       "      <td>-24</td>\n",
       "      <td>2010-12-01 10:24:00</td>\n",
       "      <td>0.29</td>\n",
       "      <td>17548.0</td>\n",
       "      <td>United Kingdom</td>\n",
       "    </tr>\n",
       "  </tbody>\n",
       "</table>\n",
       "</div>"
      ],
      "text/plain": [
       "    order_id product_id                              desc  quantity  \\\n",
       "237  C536391      21983  PACK OF 12 BLUE PAISLEY TISSUES        -24   \n",
       "\n",
       "                   date  unit_price  customer_id         country  \n",
       "237 2010-12-01 10:24:00        0.29      17548.0  United Kingdom  "
      ]
     },
     "execution_count": 9,
     "metadata": {},
     "output_type": "execute_result"
    }
   ],
   "source": [
    "print('Matching on product_id and customer_id.')\n",
    "data[(data['product_id'] == '21983') & (data['customer_id'] == 17548)]"
   ]
  },
  {
   "cell_type": "markdown",
   "metadata": {},
   "source": [
    "We get nothing! For this order, there is only the cancelled order but no corresponding purchase. The two options I see are:\n",
    "\n",
    "1. The purchase was not recorded in this data because it falls outside of the time frame.\n",
    "2. The purchase was made by a different customer than the customer who made the cancellation. \n",
    "\n",
    "The second option strikes me as unlikely because that would mean customers can cancel each other's orders. The first option appears more realistic: there are gaps in the data that don't cover all of the purchases. This is something that we just have to deal with in real-world data (unless we have the option to go and gather more data). \n",
    "\n",
    "Let's do another check of the data for any unusual `order_id`s"
   ]
  },
  {
   "cell_type": "code",
   "execution_count": 10,
   "metadata": {},
   "outputs": [
    {
     "data": {
      "text/html": [
       "<div>\n",
       "<style scoped>\n",
       "    .dataframe tbody tr th:only-of-type {\n",
       "        vertical-align: middle;\n",
       "    }\n",
       "\n",
       "    .dataframe tbody tr th {\n",
       "        vertical-align: top;\n",
       "    }\n",
       "\n",
       "    .dataframe thead th {\n",
       "        text-align: right;\n",
       "    }\n",
       "</style>\n",
       "<table border=\"1\" class=\"dataframe\">\n",
       "  <thead>\n",
       "    <tr style=\"text-align: right;\">\n",
       "      <th></th>\n",
       "      <th>order_id</th>\n",
       "      <th>product_id</th>\n",
       "      <th>desc</th>\n",
       "      <th>quantity</th>\n",
       "      <th>date</th>\n",
       "      <th>unit_price</th>\n",
       "      <th>customer_id</th>\n",
       "      <th>country</th>\n",
       "    </tr>\n",
       "  </thead>\n",
       "  <tbody>\n",
       "    <tr>\n",
       "      <th>299982</th>\n",
       "      <td>A563185</td>\n",
       "      <td>B</td>\n",
       "      <td>Adjust bad debt</td>\n",
       "      <td>1</td>\n",
       "      <td>2011-08-12 14:50:00</td>\n",
       "      <td>11062.06</td>\n",
       "      <td>NaN</td>\n",
       "      <td>United Kingdom</td>\n",
       "    </tr>\n",
       "    <tr>\n",
       "      <th>299983</th>\n",
       "      <td>A563186</td>\n",
       "      <td>B</td>\n",
       "      <td>Adjust bad debt</td>\n",
       "      <td>1</td>\n",
       "      <td>2011-08-12 14:51:00</td>\n",
       "      <td>-11062.06</td>\n",
       "      <td>NaN</td>\n",
       "      <td>United Kingdom</td>\n",
       "    </tr>\n",
       "    <tr>\n",
       "      <th>299984</th>\n",
       "      <td>A563187</td>\n",
       "      <td>B</td>\n",
       "      <td>Adjust bad debt</td>\n",
       "      <td>1</td>\n",
       "      <td>2011-08-12 14:52:00</td>\n",
       "      <td>-11062.06</td>\n",
       "      <td>NaN</td>\n",
       "      <td>United Kingdom</td>\n",
       "    </tr>\n",
       "  </tbody>\n",
       "</table>\n",
       "</div>"
      ],
      "text/plain": [
       "       order_id product_id             desc  quantity                date  \\\n",
       "299982  A563185          B  Adjust bad debt         1 2011-08-12 14:50:00   \n",
       "299983  A563186          B  Adjust bad debt         1 2011-08-12 14:51:00   \n",
       "299984  A563187          B  Adjust bad debt         1 2011-08-12 14:52:00   \n",
       "\n",
       "        unit_price  customer_id         country  \n",
       "299982    11062.06          NaN  United Kingdom  \n",
       "299983   -11062.06          NaN  United Kingdom  \n",
       "299984   -11062.06          NaN  United Kingdom  "
      ]
     },
     "execution_count": 10,
     "metadata": {},
     "output_type": "execute_result"
    }
   ],
   "source": [
    "unusual = data[data['order_id'].str.contains('^[A-Z]')]\n",
    "unusual[~unusual['order_id'].str.startswith('C')]"
   ]
  },
  {
   "cell_type": "markdown",
   "metadata": {},
   "source": [
    "The only other unusual information concerns three rows that represent: `Adjust bad debt`. These all have `NaN` for the customer, and since our primary focus will be on a customer level, we can remove these rows. In fact, we will remove any rows that have `NaN` for the customer id. "
   ]
  },
  {
   "cell_type": "code",
   "execution_count": 11,
   "metadata": {},
   "outputs": [
    {
     "name": "stdout",
     "output_type": "stream",
     "text": [
      "Dropping 135080 rows.\n"
     ]
    }
   ],
   "source": [
    "n_nan_customers = np.sum(data['customer_id'].isnull())\n",
    "print(f'Dropping {n_nan_customers} rows.')\n",
    "data = data[data['customer_id'].notnull()]"
   ]
  },
  {
   "cell_type": "markdown",
   "metadata": {},
   "source": [
    "That operation removed a considerable number of observations. However, because we are going by customers, if we can't identify the purchase with a customer, then we cannot use that information. We could use the information on a `Country` level basis, but that is not our concern at the moment. "
   ]
  },
  {
   "cell_type": "markdown",
   "metadata": {},
   "source": [
    "# Prediction Problem\n",
    "\n",
    "The first step we need to decide is what exactly we want to predict from this data. One question of interest to businesses is predicting the amount a customer will spend in the next 30 days. Customers predicted to spend more could potentially be of higher interest - meaning more time should be spent advertisting products to them - or this information could be used to form customers \"groupings\" allowing for more efficient marketing. We'll formulate our problem as trying to predict whether or not a customer will spend more than \\$1000 in November 2011.\n",
    "\n",
    "This means we can remove any data after November 2011."
   ]
  },
  {
   "cell_type": "code",
   "execution_count": 12,
   "metadata": {},
   "outputs": [
    {
     "name": "stdout",
     "output_type": "stream",
     "text": [
      "Removing 0 rows with unknown total prices.\n"
     ]
    }
   ],
   "source": [
    "data['total_price'] = data['quantity'] * data['unit_price']\n",
    "n_nan_price = np.sum(data['total_price'].isnull())\n",
    "print(f'Removing {n_nan_price} rows with unknown total prices.')\n",
    "data = data[data['total_price'].notnull()]"
   ]
  },
  {
   "cell_type": "markdown",
   "metadata": {},
   "source": [
    "Before we get to forming the labels, it's helpful to graph the distribution of prices to see if there are any outliers."
   ]
  },
  {
   "cell_type": "code",
   "execution_count": 13,
   "metadata": {},
   "outputs": [
    {
     "data": {
      "image/png": "[encoded data removed]",
      "text/plain": [
       "<Figure size 576x432 with 1 Axes>"
      ]
     },
     "metadata": {},
     "output_type": "display_data"
    }
   ],
   "source": [
    "import matplotlib.pyplot as plt\n",
    "import seaborn as sns\n",
    "%matplotlib inline\n",
    "\n",
    "plt.rcParams['font.size'] = 18\n",
    "from IPython.core.pylabtools import figsize\n",
    "figsize(8, 6)\n",
    "\n",
    "# KDE plot of total price\n",
    "sns.distplot(data['total_price'], hist=False, color = 'red');\n",
    "plt.title('Total Purchase Price Distribution');\n",
    "plt.xlabel('Purchase Price'); plt.ylabel('Density');"
   ]
  },
  {
   "cell_type": "markdown",
   "metadata": {},
   "source": [
    "There appear to be two issues: 1. There are negative purchase prices, and 2. There are extreme outliers on both the upper and lower limit.\n",
    "\n",
    "The first problem makes sense if we think about the cancellations, which we left in the data. These appear as negative quantities and hence the `total_price` would be negative. However, this is actually not an issue if our goal is to predict total spending. A negative purchase offsets a positive purchase and so even though it might seem odd at first, leaving these cancellations in will allow us to incorporate all of the information about a customer. \n",
    "\n",
    "The outliers on both the high and the low end should also be left in because we have no reason to believe these are false. To investigate, we can look at both the highest and lowest total purchases."
   ]
  },
  {
   "cell_type": "code",
   "execution_count": 14,
   "metadata": {},
   "outputs": [
    {
     "data": {
      "text/plain": [
       "order_id                            581483\n",
       "product_id                           23843\n",
       "desc           PAPER CRAFT , LITTLE BIRDIE\n",
       "quantity                             80995\n",
       "date                   2011-12-09 09:15:00\n",
       "unit_price                            2.08\n",
       "customer_id                          16446\n",
       "country                     United Kingdom\n",
       "total_price                         168470\n",
       "Name: 540421, dtype: object"
      ]
     },
     "execution_count": 14,
     "metadata": {},
     "output_type": "execute_result"
    }
   ],
   "source": [
    "data.loc[data['total_price'].idxmax]"
   ]
  },
  {
   "cell_type": "code",
   "execution_count": 15,
   "metadata": {},
   "outputs": [
    {
     "data": {
      "text/plain": [
       "order_id                           C581484\n",
       "product_id                           23843\n",
       "desc           PAPER CRAFT , LITTLE BIRDIE\n",
       "quantity                            -80995\n",
       "date                   2011-12-09 09:27:00\n",
       "unit_price                            2.08\n",
       "customer_id                          16446\n",
       "country                     United Kingdom\n",
       "total_price                        -168470\n",
       "Name: 540422, dtype: object"
      ]
     },
     "execution_count": 15,
     "metadata": {},
     "output_type": "execute_result"
    }
   ],
   "source": [
    "data.loc[data['total_price'].idxmin]"
   ]
  },
  {
   "cell_type": "markdown",
   "metadata": {},
   "source": [
    "The highest total purchase price is for an order that was eventualy cancelled (12 minutes later!). This means that for this customer, the total of these two orders would come out to \\$0.0. \n",
    "\n",
    "The only potential issue with leaving in the cancellations is for the edge cases where the purchase occurred before the cutoff point but the cancellation was after the cutoff point which could mess with the data. However, we'll not worry about this low probability event for the moment.\n",
    "\n",
    "Now, back to making the prediction problem. The lines below establish a cutoff dataframe that we'll use for building the problem."
   ]
  },
  {
   "cell_type": "code",
   "execution_count": 16,
   "metadata": {},
   "outputs": [
    {
     "data": {
      "text/plain": [
       "Timestamp('2011-11-30 17:42:00')"
      ]
     },
     "execution_count": 16,
     "metadata": {},
     "output_type": "execute_result"
    }
   ],
   "source": [
    "data['month'] = data['date'].dt.month\n",
    "data['year'] = data['date'].dt.year\n",
    "\n",
    "data = data[data['date'] < pd.datetime(2011, 12, 1)]\n",
    "data['date'].max()"
   ]
  },
  {
   "cell_type": "code",
   "execution_count": 17,
   "metadata": {},
   "outputs": [
    {
     "data": {
      "text/plain": [
       "count                   65598\n",
       "unique                   2747\n",
       "top       2011-11-14 15:27:00\n",
       "freq                      543\n",
       "first     2011-11-01 08:16:00\n",
       "last      2011-11-30 17:42:00\n",
       "Name: date, dtype: object"
      ]
     },
     "execution_count": 17,
     "metadata": {},
     "output_type": "execute_result"
    }
   ],
   "source": [
    "label_data = data[(data['month'] == 11) & (data['year'] == 2011)]\n",
    "label_data['date'].describe()"
   ]
  },
  {
   "cell_type": "code",
   "execution_count": 18,
   "metadata": {},
   "outputs": [
    {
     "data": {
      "text/plain": [
       "<matplotlib.axes._subplots.AxesSubplot at 0x1a315e0940>"
      ]
     },
     "execution_count": 18,
     "metadata": {},
     "output_type": "execute_result"
    },
    {
     "data": {
      "image/png": "[encoded data removed]",
      "text/plain": [
       "<Figure size 432x288 with 1 Axes>"
      ]
     },
     "metadata": {},
     "output_type": "display_data"
    }
   ],
   "source": [
    "labels = pd.DataFrame(label_data.groupby('customer_id')['total_price'].sum())\n",
    "sns.kdeplot(labels['total_price'])"
   ]
  },
  {
   "cell_type": "markdown",
   "metadata": {},
   "source": [
    "Once we have the labels for the customers, we want to make sure to discard any of the data from after the start of November 2011."
   ]
  },
  {
   "cell_type": "code",
   "execution_count": 19,
   "metadata": {},
   "outputs": [
    {
     "name": "stdout",
     "output_type": "stream",
     "text": [
      "There are 4010 customers in the training data.\n"
     ]
    },
    {
     "data": {
      "text/plain": [
       "count                  323570\n",
       "unique                  16889\n",
       "top       2011-10-31 14:09:00\n",
       "freq                      436\n",
       "first     2010-12-01 08:26:00\n",
       "last      2011-10-31 17:13:00\n",
       "Name: date, dtype: object"
      ]
     },
     "execution_count": 19,
     "metadata": {},
     "output_type": "execute_result"
    }
   ],
   "source": [
    "data = data[(data['date'] < pd.datetime(2011, 11, 1))]\n",
    "print('There are {} customers in the training data.'.format(data['customer_id'].nunique()))\n",
    "data['date'].describe()"
   ]
  },
  {
   "cell_type": "markdown",
   "metadata": {},
   "source": [
    "For any customers that are in the data but are not in the labels, we can set their total purchases to 0.0"
   ]
  },
  {
   "cell_type": "code",
   "execution_count": 20,
   "metadata": {},
   "outputs": [
    {
     "data": {
      "text/plain": [
       "1711"
      ]
     },
     "execution_count": 20,
     "metadata": {},
     "output_type": "execute_result"
    }
   ],
   "source": [
    "labels.index.nunique()"
   ]
  },
  {
   "cell_type": "code",
   "execution_count": 21,
   "metadata": {},
   "outputs": [
    {
     "data": {
      "text/html": [
       "<div>\n",
       "<style scoped>\n",
       "    .dataframe tbody tr th:only-of-type {\n",
       "        vertical-align: middle;\n",
       "    }\n",
       "\n",
       "    .dataframe tbody tr th {\n",
       "        vertical-align: top;\n",
       "    }\n",
       "\n",
       "    .dataframe thead th {\n",
       "        text-align: right;\n",
       "    }\n",
       "</style>\n",
       "<table border=\"1\" class=\"dataframe\">\n",
       "  <thead>\n",
       "    <tr style=\"text-align: right;\">\n",
       "      <th></th>\n",
       "      <th>total_price</th>\n",
       "    </tr>\n",
       "    <tr>\n",
       "      <th>customer_id</th>\n",
       "      <th></th>\n",
       "    </tr>\n",
       "  </thead>\n",
       "  <tbody>\n",
       "    <tr>\n",
       "      <th>12349.0</th>\n",
       "      <td>1757.55</td>\n",
       "    </tr>\n",
       "    <tr>\n",
       "      <th>12352.0</th>\n",
       "      <td>311.73</td>\n",
       "    </tr>\n",
       "    <tr>\n",
       "      <th>12356.0</th>\n",
       "      <td>58.35</td>\n",
       "    </tr>\n",
       "    <tr>\n",
       "      <th>12357.0</th>\n",
       "      <td>6207.67</td>\n",
       "    </tr>\n",
       "    <tr>\n",
       "      <th>12362.0</th>\n",
       "      <td>429.09</td>\n",
       "    </tr>\n",
       "  </tbody>\n",
       "</table>\n",
       "</div>"
      ],
      "text/plain": [
       "             total_price\n",
       "customer_id             \n",
       "12349.0          1757.55\n",
       "12352.0           311.73\n",
       "12356.0            58.35\n",
       "12357.0          6207.67\n",
       "12362.0           429.09"
      ]
     },
     "execution_count": 21,
     "metadata": {},
     "output_type": "execute_result"
    }
   ],
   "source": [
    "labels.head()"
   ]
  },
  {
   "cell_type": "code",
   "execution_count": 22,
   "metadata": {},
   "outputs": [],
   "source": [
    "unique_customers = pd.DataFrame(data['customer_id'].unique()).rename(columns = {0: 'customer_id'})"
   ]
  },
  {
   "cell_type": "code",
   "execution_count": 23,
   "metadata": {},
   "outputs": [],
   "source": [
    "labels = labels.merge(unique_customers, on = 'customer_id', how = 'right')\n",
    "labels['total_price'] = labels['total_price'].fillna(0)"
   ]
  },
  {
   "cell_type": "markdown",
   "metadata": {},
   "source": [
    "Now we need to limit the labels to only contain customers that appear in the data before November 2011."
   ]
  },
  {
   "cell_type": "code",
   "execution_count": 24,
   "metadata": {},
   "outputs": [
    {
     "name": "stdout",
     "output_type": "stream",
     "text": [
      "There are 1338 unique customers.\n"
     ]
    },
    {
     "data": {
      "text/plain": [
       "count    1.338000e+03\n",
       "mean     7.476355e+02\n",
       "std      1.754484e+03\n",
       "min      1.421085e-13\n",
       "25%      2.374650e+02\n",
       "50%      3.946450e+02\n",
       "75%      7.085675e+02\n",
       "max      2.783745e+04\n",
       "Name: total_price, dtype: float64"
      ]
     },
     "execution_count": 24,
     "metadata": {},
     "output_type": "execute_result"
    }
   ],
   "source": [
    "labels = labels[labels['total_price'] > 0]\n",
    "\n",
    "print('There are {} unique customers.'.format(labels.index.nunique()))\n",
    "labels['total_price'].describe()"
   ]
  },
  {
   "cell_type": "code",
   "execution_count": 25,
   "metadata": {},
   "outputs": [
    {
     "data": {
      "text/plain": [
       "<matplotlib.axes._subplots.AxesSubplot at 0x1a31628b00>"
      ]
     },
     "execution_count": 25,
     "metadata": {},
     "output_type": "execute_result"
    },
    {
     "data": {
      "image/png": "[encoded data removed]",
      "text/plain": [
       "<Figure size 432x288 with 1 Axes>"
      ]
     },
     "metadata": {},
     "output_type": "display_data"
    }
   ],
   "source": [
    "labels = labels.rename(columns = {'total_price': 'target'})\n",
    "labels['label'] = 1.0 * (labels['target'] > 500)\n",
    "labels['label'].value_counts().plot.bar()"
   ]
  },
  {
   "cell_type": "code",
   "execution_count": 26,
   "metadata": {},
   "outputs": [
    {
     "data": {
      "image/png": "[encoded data removed]",
      "text/plain": [
       "<Figure size 432x288 with 1 Axes>"
      ]
     },
     "metadata": {},
     "output_type": "display_data"
    }
   ],
   "source": [
    "bins = 10**(np.arange(0,5))\n",
    "p = plt.hist(labels['target'], bins = [1, 10, 100, 100, 1000, 10000, 100000] , \n",
    "             edgecolor = 'k')\n",
    "plt.xscale('log'); plt.xlabel('Total Purchase ($)'); plt.ylabel('Count'); plt.title('Total Purchase in November 2011');"
   ]
  },
  {
   "cell_type": "markdown",
   "metadata": {},
   "source": [
    "The vast majority of purchases fall in between \\$100 and \\$1000. We can also view the data with an empirical cumulative distribution function plot."
   ]
  },
  {
   "cell_type": "code",
   "execution_count": 27,
   "metadata": {},
   "outputs": [],
   "source": [
    "def ecdf(a):\n",
    "    x = np.sort(a)\n",
    "    y = np.arange(len(x)) / float(len(x))\n",
    "    return x, y"
   ]
  },
  {
   "cell_type": "code",
   "execution_count": 28,
   "metadata": {},
   "outputs": [
    {
     "name": "stdout",
     "output_type": "stream",
     "text": [
      "The 90th percentile is at $1283.5400000000004\n"
     ]
    },
    {
     "data": {
      "image/png": "[encoded data removed]",
      "text/plain": [
       "<Figure size 432x288 with 1 Axes>"
      ]
     },
     "metadata": {},
     "output_type": "display_data"
    }
   ],
   "source": [
    "x, y = ecdf(labels['target'])\n",
    "plt.plot(x, y);\n",
    "plt.xlabel('Total Purchase'); plt.ylabel('Percentile'); plt.title('ECDF of Target');\n",
    "print(f'The 90th percentile is at ${x[np.where(y > 0.9)[0][0]]}')"
   ]
  },
  {
   "cell_type": "code",
   "execution_count": 29,
   "metadata": {},
   "outputs": [
    {
     "name": "stdout",
     "output_type": "stream",
     "text": [
      "There are 323570 observations in the final data with 4010 unique customers.\n"
     ]
    }
   ],
   "source": [
    "print(f'There are {len(data)} observations in the final data with {data[\"customer_id\"].nunique()} unique customers.')"
   ]
  },
  {
   "cell_type": "code",
   "execution_count": 30,
   "metadata": {},
   "outputs": [],
   "source": [
    "data.to_csv('../input/usable_purchases.csv')"
   ]
  },
  {
   "cell_type": "markdown",
   "metadata": {},
   "source": [
    "## Train and Test Sets\n",
    "\n",
    "At this point we want to split the data into training and testing sets and then never look at the testing data until we have to evaluate the final model. We can use a straightforward train/test split with 30% of the data used for testing. We'll split based on the customers."
   ]
  },
  {
   "cell_type": "code",
   "execution_count": 31,
   "metadata": {},
   "outputs": [
    {
     "name": "stdout",
     "output_type": "stream",
     "text": [
      "936 training customers and 402 testing customers.\n"
     ]
    }
   ],
   "source": [
    "from sklearn.model_selection import train_test_split\n",
    "\n",
    "train_customers, test_customers, train_labels, test_labels = train_test_split(list(labels.index), list(labels['label']), \n",
    "                                                                             test_size = 0.3, random_state = 50)\n",
    "\n",
    "print(f'{len(train_customers)} training customers and {len(test_customers)} testing customers.')"
   ]
  },
  {
   "cell_type": "markdown",
   "metadata": {},
   "source": [
    "# Feature Engineering\n",
    "\n",
    "We know the data we can use and we have a prediction problem: estimate the amount a customer will spend in the next 30 days. Now we need to get the data into a usable format for a machine learning model to train. Because we are predicting on a customer level basis, this means one table where every row is a customer and the columns are the features for that customer. Right now we have 0 features per customer but plenty of data of their past purchases. We can use the purchase data to create features, such as the total previous amount spent, or the most popular day of the week on which they make purchases.\n",
    "\n",
    "Feature engineering refers to this process of making features for a machine learning model out of a dataset. The next section of this notebook will be an implementation of all the steps required for manual feature engineering. This requires building each feature one at a time, relying on domain knowledge to construct predictors that are relevant to the domain. This can be a tedious, time-consuming, error-prone process, and is not transferable between problems because the features are very specific. In a later notebook, we will see a more efficient approach, automated feature engineering using Featuretools. \n",
    "\n",
    "### Adding More Information\n",
    "\n",
    "One of the simplest feature engineering steps is to extract information from the original data such as by finding the `weekday`, `month`, `hour`, and `minute` of the purchase."
   ]
  },
  {
   "cell_type": "code",
   "execution_count": 32,
   "metadata": {},
   "outputs": [
    {
     "data": {
      "text/html": [
       "<div>\n",
       "<style scoped>\n",
       "    .dataframe tbody tr th:only-of-type {\n",
       "        vertical-align: middle;\n",
       "    }\n",
       "\n",
       "    .dataframe tbody tr th {\n",
       "        vertical-align: top;\n",
       "    }\n",
       "\n",
       "    .dataframe thead th {\n",
       "        text-align: right;\n",
       "    }\n",
       "</style>\n",
       "<table border=\"1\" class=\"dataframe\">\n",
       "  <thead>\n",
       "    <tr style=\"text-align: right;\">\n",
       "      <th></th>\n",
       "      <th>order_id</th>\n",
       "      <th>product_id</th>\n",
       "      <th>desc</th>\n",
       "      <th>quantity</th>\n",
       "      <th>date</th>\n",
       "      <th>unit_price</th>\n",
       "      <th>customer_id</th>\n",
       "      <th>country</th>\n",
       "      <th>total_price</th>\n",
       "      <th>month</th>\n",
       "      <th>year</th>\n",
       "      <th>weekday</th>\n",
       "      <th>minute</th>\n",
       "      <th>hour</th>\n",
       "      <th>date_only</th>\n",
       "    </tr>\n",
       "  </thead>\n",
       "  <tbody>\n",
       "    <tr>\n",
       "      <th>0</th>\n",
       "      <td>536365</td>\n",
       "      <td>85123A</td>\n",
       "      <td>WHITE HANGING HEART T-LIGHT HOLDER</td>\n",
       "      <td>6</td>\n",
       "      <td>2010-12-01 08:26:00</td>\n",
       "      <td>2.55</td>\n",
       "      <td>17850.0</td>\n",
       "      <td>United Kingdom</td>\n",
       "      <td>15.30</td>\n",
       "      <td>12</td>\n",
       "      <td>2010</td>\n",
       "      <td>2</td>\n",
       "      <td>26</td>\n",
       "      <td>8</td>\n",
       "      <td>2010-12-01</td>\n",
       "    </tr>\n",
       "    <tr>\n",
       "      <th>1</th>\n",
       "      <td>536365</td>\n",
       "      <td>71053</td>\n",
       "      <td>WHITE METAL LANTERN</td>\n",
       "      <td>6</td>\n",
       "      <td>2010-12-01 08:26:00</td>\n",
       "      <td>3.39</td>\n",
       "      <td>17850.0</td>\n",
       "      <td>United Kingdom</td>\n",
       "      <td>20.34</td>\n",
       "      <td>12</td>\n",
       "      <td>2010</td>\n",
       "      <td>2</td>\n",
       "      <td>26</td>\n",
       "      <td>8</td>\n",
       "      <td>2010-12-01</td>\n",
       "    </tr>\n",
       "    <tr>\n",
       "      <th>2</th>\n",
       "      <td>536365</td>\n",
       "      <td>84406B</td>\n",
       "      <td>CREAM CUPID HEARTS COAT HANGER</td>\n",
       "      <td>8</td>\n",
       "      <td>2010-12-01 08:26:00</td>\n",
       "      <td>2.75</td>\n",
       "      <td>17850.0</td>\n",
       "      <td>United Kingdom</td>\n",
       "      <td>22.00</td>\n",
       "      <td>12</td>\n",
       "      <td>2010</td>\n",
       "      <td>2</td>\n",
       "      <td>26</td>\n",
       "      <td>8</td>\n",
       "      <td>2010-12-01</td>\n",
       "    </tr>\n",
       "    <tr>\n",
       "      <th>3</th>\n",
       "      <td>536365</td>\n",
       "      <td>84029G</td>\n",
       "      <td>KNITTED UNION FLAG HOT WATER BOTTLE</td>\n",
       "      <td>6</td>\n",
       "      <td>2010-12-01 08:26:00</td>\n",
       "      <td>3.39</td>\n",
       "      <td>17850.0</td>\n",
       "      <td>United Kingdom</td>\n",
       "      <td>20.34</td>\n",
       "      <td>12</td>\n",
       "      <td>2010</td>\n",
       "      <td>2</td>\n",
       "      <td>26</td>\n",
       "      <td>8</td>\n",
       "      <td>2010-12-01</td>\n",
       "    </tr>\n",
       "    <tr>\n",
       "      <th>4</th>\n",
       "      <td>536365</td>\n",
       "      <td>84029E</td>\n",
       "      <td>RED WOOLLY HOTTIE WHITE HEART.</td>\n",
       "      <td>6</td>\n",
       "      <td>2010-12-01 08:26:00</td>\n",
       "      <td>3.39</td>\n",
       "      <td>17850.0</td>\n",
       "      <td>United Kingdom</td>\n",
       "      <td>20.34</td>\n",
       "      <td>12</td>\n",
       "      <td>2010</td>\n",
       "      <td>2</td>\n",
       "      <td>26</td>\n",
       "      <td>8</td>\n",
       "      <td>2010-12-01</td>\n",
       "    </tr>\n",
       "  </tbody>\n",
       "</table>\n",
       "</div>"
      ],
      "text/plain": [
       "  order_id product_id                                 desc  quantity  \\\n",
       "0   536365     85123A   WHITE HANGING HEART T-LIGHT HOLDER         6   \n",
       "1   536365      71053                  WHITE METAL LANTERN         6   \n",
       "2   536365     84406B       CREAM CUPID HEARTS COAT HANGER         8   \n",
       "3   536365     84029G  KNITTED UNION FLAG HOT WATER BOTTLE         6   \n",
       "4   536365     84029E       RED WOOLLY HOTTIE WHITE HEART.         6   \n",
       "\n",
       "                 date  unit_price  customer_id         country  total_price  \\\n",
       "0 2010-12-01 08:26:00        2.55      17850.0  United Kingdom        15.30   \n",
       "1 2010-12-01 08:26:00        3.39      17850.0  United Kingdom        20.34   \n",
       "2 2010-12-01 08:26:00        2.75      17850.0  United Kingdom        22.00   \n",
       "3 2010-12-01 08:26:00        3.39      17850.0  United Kingdom        20.34   \n",
       "4 2010-12-01 08:26:00        3.39      17850.0  United Kingdom        20.34   \n",
       "\n",
       "   month  year  weekday  minute  hour   date_only  \n",
       "0     12  2010        2      26     8  2010-12-01  \n",
       "1     12  2010        2      26     8  2010-12-01  \n",
       "2     12  2010        2      26     8  2010-12-01  \n",
       "3     12  2010        2      26     8  2010-12-01  \n",
       "4     12  2010        2      26     8  2010-12-01  "
      ]
     },
     "execution_count": 32,
     "metadata": {},
     "output_type": "execute_result"
    }
   ],
   "source": [
    "data['weekday'] = data['date'].dt.weekday\n",
    "data['month'] = data['date'].dt.month\n",
    "data['minute'] = data['date'].dt.minute\n",
    "data['hour'] = data['date'].dt.hour\n",
    "data['date_only'] = data['date'].dt.date\n",
    "\n",
    "data.head()"
   ]
  },
  {
   "cell_type": "code",
   "execution_count": 33,
   "metadata": {},
   "outputs": [
    {
     "data": {
      "image/png": "[encoded data removed]",
      "text/plain": [
       "<Figure size 432x288 with 1 Axes>"
      ]
     },
     "metadata": {},
     "output_type": "display_data"
    }
   ],
   "source": [
    "data['weekday'].value_counts().sort_index().plot.bar(color = 'orange');\n",
    "plt.title('Purchases by Day of Week'); plt.ylabel('Purchases'); plt.xlabel('Day of Week');"
   ]
  },
  {
   "cell_type": "code",
   "execution_count": 34,
   "metadata": {},
   "outputs": [
    {
     "data": {
      "image/png": "[encoded data removed]",
      "text/plain": [
       "<Figure size 432x288 with 1 Axes>"
      ]
     },
     "metadata": {},
     "output_type": "display_data"
    }
   ],
   "source": [
    "data['hour'].value_counts().sort_index().plot.bar(color = 'orange');\n",
    "plt.title('Purchases by Time of Day'); plt.ylabel('Purchases'); plt.xlabel('Hour of Day');"
   ]
  },
  {
   "cell_type": "code",
   "execution_count": 35,
   "metadata": {},
   "outputs": [
    {
     "data": {
      "image/png": "[encoded data removed]",
      "text/plain": [
       "<Figure size 1440x432 with 1 Axes>"
      ]
     },
     "metadata": {},
     "output_type": "display_data"
    }
   ],
   "source": [
    "figsize(20, 6)\n",
    "trends = data.groupby('date_only')['total_price'].sum()\n",
    "trends.plot()\n",
    "plt.title('Total Purchase Amount over Time'); plt.xlabel(''); plt.ylabel('Total Purchase Amount');"
   ]
  },
  {
   "cell_type": "markdown",
   "metadata": {},
   "source": [
    "## Normalizing Data\n",
    "\n",
    "The first step we need to take is take the one table and break it into discrete normalized tables. We'll create 4 tables of information:\n",
    "\n",
    "* customers: each customer (`customter_id`) will have one row\n",
    "* products: each product (`product_id`) will have one row\n",
    "* orders: each invoice (`order_id`) will have one row\n",
    "* purchases: each purchased item will have one row\n",
    "\n",
    "The purchases dataframe is the child of all the other dataframes. The `customers` dataframe is where we will make our features for the prediction problem. Hence to make features, we will have to aggregate the purchase data for each customer. Let's start by breaking the data into multiple dataframes."
   ]
  },
  {
   "cell_type": "markdown",
   "metadata": {},
   "source": [
    "### Orders\n",
    "\n",
    "First we'll create a table of just the orders. Each order is uniquely identified by the `order_id` and also has a date, customer, and country. We can also add a `total_price` for the order by summing up all of the products associated with that order."
   ]
  },
  {
   "cell_type": "code",
   "execution_count": 36,
   "metadata": {},
   "outputs": [
    {
     "data": {
      "text/html": [
       "<div>\n",
       "<style scoped>\n",
       "    .dataframe tbody tr th:only-of-type {\n",
       "        vertical-align: middle;\n",
       "    }\n",
       "\n",
       "    .dataframe tbody tr th {\n",
       "        vertical-align: top;\n",
       "    }\n",
       "\n",
       "    .dataframe thead th {\n",
       "        text-align: right;\n",
       "    }\n",
       "</style>\n",
       "<table border=\"1\" class=\"dataframe\">\n",
       "  <thead>\n",
       "    <tr style=\"text-align: right;\">\n",
       "      <th></th>\n",
       "      <th>order_id</th>\n",
       "      <th>date</th>\n",
       "      <th>customer_id</th>\n",
       "      <th>country</th>\n",
       "      <th>total_price</th>\n",
       "    </tr>\n",
       "  </thead>\n",
       "  <tbody>\n",
       "    <tr>\n",
       "      <th>0</th>\n",
       "      <td>536365</td>\n",
       "      <td>2010-12-01 08:26:00</td>\n",
       "      <td>17850.0</td>\n",
       "      <td>United Kingdom</td>\n",
       "      <td>139.12</td>\n",
       "    </tr>\n",
       "    <tr>\n",
       "      <th>1</th>\n",
       "      <td>536366</td>\n",
       "      <td>2010-12-01 08:28:00</td>\n",
       "      <td>17850.0</td>\n",
       "      <td>United Kingdom</td>\n",
       "      <td>22.20</td>\n",
       "    </tr>\n",
       "    <tr>\n",
       "      <th>2</th>\n",
       "      <td>536367</td>\n",
       "      <td>2010-12-01 08:34:00</td>\n",
       "      <td>13047.0</td>\n",
       "      <td>United Kingdom</td>\n",
       "      <td>278.73</td>\n",
       "    </tr>\n",
       "    <tr>\n",
       "      <th>3</th>\n",
       "      <td>536368</td>\n",
       "      <td>2010-12-01 08:34:00</td>\n",
       "      <td>13047.0</td>\n",
       "      <td>United Kingdom</td>\n",
       "      <td>70.05</td>\n",
       "    </tr>\n",
       "    <tr>\n",
       "      <th>4</th>\n",
       "      <td>536369</td>\n",
       "      <td>2010-12-01 08:35:00</td>\n",
       "      <td>13047.0</td>\n",
       "      <td>United Kingdom</td>\n",
       "      <td>17.85</td>\n",
       "    </tr>\n",
       "  </tbody>\n",
       "</table>\n",
       "</div>"
      ],
      "text/plain": [
       "  order_id                date  customer_id         country  total_price\n",
       "0   536365 2010-12-01 08:26:00      17850.0  United Kingdom       139.12\n",
       "1   536366 2010-12-01 08:28:00      17850.0  United Kingdom        22.20\n",
       "2   536367 2010-12-01 08:34:00      13047.0  United Kingdom       278.73\n",
       "3   536368 2010-12-01 08:34:00      13047.0  United Kingdom        70.05\n",
       "4   536369 2010-12-01 08:35:00      13047.0  United Kingdom        17.85"
      ]
     },
     "execution_count": 36,
     "metadata": {},
     "output_type": "execute_result"
    }
   ],
   "source": [
    "orders = pd.DataFrame(data.groupby(['order_id', 'date', 'customer_id', 'country'])['total_price'].sum().reset_index())\n",
    "orders.head()"
   ]
  },
  {
   "cell_type": "markdown",
   "metadata": {},
   "source": [
    "We should make sure that this table is normalized by checking that there are no duplicated order ids."
   ]
  },
  {
   "cell_type": "code",
   "execution_count": 37,
   "metadata": {},
   "outputs": [
    {
     "name": "stdout",
     "output_type": "stream",
     "text": [
      "There are 18183 unique orders and 29 duplicated orders.\n"
     ]
    }
   ],
   "source": [
    "print(f'There are {orders[\"order_id\"].nunique()} unique orders and {np.sum(orders[\"order_id\"].duplicated())} duplicated orders.')"
   ]
  },
  {
   "cell_type": "markdown",
   "metadata": {},
   "source": [
    "This tells us we made an error in creating the table."
   ]
  },
  {
   "cell_type": "code",
   "execution_count": 38,
   "metadata": {},
   "outputs": [
    {
     "data": {
      "text/html": [
       "<div>\n",
       "<style scoped>\n",
       "    .dataframe tbody tr th:only-of-type {\n",
       "        vertical-align: middle;\n",
       "    }\n",
       "\n",
       "    .dataframe tbody tr th {\n",
       "        vertical-align: top;\n",
       "    }\n",
       "\n",
       "    .dataframe thead th {\n",
       "        text-align: right;\n",
       "    }\n",
       "</style>\n",
       "<table border=\"1\" class=\"dataframe\">\n",
       "  <thead>\n",
       "    <tr style=\"text-align: right;\">\n",
       "      <th></th>\n",
       "      <th>order_id</th>\n",
       "      <th>date</th>\n",
       "      <th>customer_id</th>\n",
       "      <th>country</th>\n",
       "      <th>total_price</th>\n",
       "    </tr>\n",
       "  </thead>\n",
       "  <tbody>\n",
       "    <tr>\n",
       "      <th>116</th>\n",
       "      <td>536591</td>\n",
       "      <td>2010-12-01 16:57:00</td>\n",
       "      <td>14606.0</td>\n",
       "      <td>United Kingdom</td>\n",
       "      <td>159.26</td>\n",
       "    </tr>\n",
       "    <tr>\n",
       "      <th>117</th>\n",
       "      <td>536591</td>\n",
       "      <td>2010-12-01 16:58:00</td>\n",
       "      <td>14606.0</td>\n",
       "      <td>United Kingdom</td>\n",
       "      <td>39.06</td>\n",
       "    </tr>\n",
       "    <tr>\n",
       "      <th>1471</th>\n",
       "      <td>540185</td>\n",
       "      <td>2011-01-05 13:40:00</td>\n",
       "      <td>14653.0</td>\n",
       "      <td>United Kingdom</td>\n",
       "      <td>212.15</td>\n",
       "    </tr>\n",
       "    <tr>\n",
       "      <th>1472</th>\n",
       "      <td>540185</td>\n",
       "      <td>2011-01-05 13:41:00</td>\n",
       "      <td>14653.0</td>\n",
       "      <td>United Kingdom</td>\n",
       "      <td>132.66</td>\n",
       "    </tr>\n",
       "    <tr>\n",
       "      <th>1966</th>\n",
       "      <td>541596</td>\n",
       "      <td>2011-01-19 16:18:00</td>\n",
       "      <td>17602.0</td>\n",
       "      <td>United Kingdom</td>\n",
       "      <td>185.92</td>\n",
       "    </tr>\n",
       "  </tbody>\n",
       "</table>\n",
       "</div>"
      ],
      "text/plain": [
       "     order_id                date  customer_id         country  total_price\n",
       "116    536591 2010-12-01 16:57:00      14606.0  United Kingdom       159.26\n",
       "117    536591 2010-12-01 16:58:00      14606.0  United Kingdom        39.06\n",
       "1471   540185 2011-01-05 13:40:00      14653.0  United Kingdom       212.15\n",
       "1472   540185 2011-01-05 13:41:00      14653.0  United Kingdom       132.66\n",
       "1966   541596 2011-01-19 16:18:00      17602.0  United Kingdom       185.92"
      ]
     },
     "execution_count": 38,
     "metadata": {},
     "output_type": "execute_result"
    }
   ],
   "source": [
    "orders[orders.duplicated(subset = 'order_id', keep = False)].head()"
   ]
  },
  {
   "cell_type": "markdown",
   "metadata": {},
   "source": [
    "The problem is that orders do not all have the same date. Therefore when we made the orders table, we should not have grouped by the date time. However, we can group by just the `date_only` and see if all orders are made on the same day. "
   ]
  },
  {
   "cell_type": "code",
   "execution_count": 39,
   "metadata": {},
   "outputs": [
    {
     "name": "stdout",
     "output_type": "stream",
     "text": [
      "There are 18183 unique orders and 0 duplicated orders.\n"
     ]
    }
   ],
   "source": [
    "orders = pd.DataFrame(data.groupby(['order_id', 'date_only', 'customer_id', 'country'])['total_price'].sum().reset_index())\n",
    "print(f'There are {orders[\"order_id\"].nunique()} unique orders and {np.sum(orders[\"order_id\"].duplicated())} duplicated orders.')"
   ]
  },
  {
   "cell_type": "markdown",
   "metadata": {},
   "source": [
    "Now we are good to go without the duplicated orders. We can use this table to create features, for example by finding the total number of orders of each customer or the most common day on which they make purchases."
   ]
  },
  {
   "cell_type": "markdown",
   "metadata": {},
   "source": [
    "### Customers\n",
    "\n",
    "Each customer is uniquely identified by the `customer_id`. This table will be where we make all the features since we are predicting based on each customer."
   ]
  },
  {
   "cell_type": "code",
   "execution_count": 43,
   "metadata": {},
   "outputs": [
    {
     "data": {
      "text/plain": [
       "1338"
      ]
     },
     "execution_count": 43,
     "metadata": {},
     "output_type": "execute_result"
    }
   ],
   "source": [
    "len(labels)"
   ]
  },
  {
   "cell_type": "code",
   "execution_count": 40,
   "metadata": {},
   "outputs": [
    {
     "data": {
      "text/html": [
       "<div>\n",
       "<style scoped>\n",
       "    .dataframe tbody tr th:only-of-type {\n",
       "        vertical-align: middle;\n",
       "    }\n",
       "\n",
       "    .dataframe tbody tr th {\n",
       "        vertical-align: top;\n",
       "    }\n",
       "\n",
       "    .dataframe thead th {\n",
       "        text-align: right;\n",
       "    }\n",
       "</style>\n",
       "<table border=\"1\" class=\"dataframe\">\n",
       "  <thead>\n",
       "    <tr style=\"text-align: right;\">\n",
       "      <th></th>\n",
       "      <th>0</th>\n",
       "    </tr>\n",
       "  </thead>\n",
       "  <tbody>\n",
       "    <tr>\n",
       "      <th>0</th>\n",
       "      <td>0</td>\n",
       "    </tr>\n",
       "    <tr>\n",
       "      <th>1</th>\n",
       "      <td>1</td>\n",
       "    </tr>\n",
       "    <tr>\n",
       "      <th>2</th>\n",
       "      <td>2</td>\n",
       "    </tr>\n",
       "    <tr>\n",
       "      <th>3</th>\n",
       "      <td>3</td>\n",
       "    </tr>\n",
       "    <tr>\n",
       "      <th>4</th>\n",
       "      <td>4</td>\n",
       "    </tr>\n",
       "  </tbody>\n",
       "</table>\n",
       "</div>"
      ],
      "text/plain": [
       "   0\n",
       "0  0\n",
       "1  1\n",
       "2  2\n",
       "3  3\n",
       "4  4"
      ]
     },
     "execution_count": 40,
     "metadata": {},
     "output_type": "execute_result"
    }
   ],
   "source": [
    "customers = pd.DataFrame(labels.index.unique())\n",
    "customers.head()"
   ]
  },
  {
   "cell_type": "markdown",
   "metadata": {},
   "source": [
    "### Products\n",
    "\n",
    "Each product is identified by the `product_id`. The unit price might not stay the same so we cannot associate this with each product."
   ]
  },
  {
   "cell_type": "code",
   "execution_count": 42,
   "metadata": {},
   "outputs": [
    {
     "data": {
      "text/html": [
       "<div>\n",
       "<style scoped>\n",
       "    .dataframe tbody tr th:only-of-type {\n",
       "        vertical-align: middle;\n",
       "    }\n",
       "\n",
       "    .dataframe tbody tr th {\n",
       "        vertical-align: top;\n",
       "    }\n",
       "\n",
       "    .dataframe thead th {\n",
       "        text-align: right;\n",
       "    }\n",
       "</style>\n",
       "<table border=\"1\" class=\"dataframe\">\n",
       "  <thead>\n",
       "    <tr style=\"text-align: right;\">\n",
       "      <th></th>\n",
       "      <th>product_id</th>\n",
       "    </tr>\n",
       "  </thead>\n",
       "  <tbody>\n",
       "    <tr>\n",
       "      <th>0</th>\n",
       "      <td>85123A</td>\n",
       "    </tr>\n",
       "    <tr>\n",
       "      <th>1</th>\n",
       "      <td>71053</td>\n",
       "    </tr>\n",
       "    <tr>\n",
       "      <th>2</th>\n",
       "      <td>84406B</td>\n",
       "    </tr>\n",
       "    <tr>\n",
       "      <th>3</th>\n",
       "      <td>84029G</td>\n",
       "    </tr>\n",
       "    <tr>\n",
       "      <th>4</th>\n",
       "      <td>84029E</td>\n",
       "    </tr>\n",
       "  </tbody>\n",
       "</table>\n",
       "</div>"
      ],
      "text/plain": [
       "  product_id\n",
       "0     85123A\n",
       "1      71053\n",
       "2     84406B\n",
       "3     84029G\n",
       "4     84029E"
      ]
     },
     "execution_count": 42,
     "metadata": {},
     "output_type": "execute_result"
    }
   ],
   "source": [
    "products = pd.DataFrame(data['product_id'].unique(), columns = ['product_id'])\n",
    "products.head()"
   ]
  },
  {
   "cell_type": "markdown",
   "metadata": {},
   "source": [
    "### Purchases\n",
    "\n",
    "Each purchase is idenitifed by combination of the `order_id`, the `customer_id`, and the `product_id`. The purchases data is already saved as the data table."
   ]
  },
  {
   "cell_type": "code",
   "execution_count": null,
   "metadata": {},
   "outputs": [],
   "source": [
    "purchases = data.copy()"
   ]
  },
  {
   "cell_type": "markdown",
   "metadata": {},
   "source": [
    "# Baselines\n",
    "\n",
    "Before we get started with the real feature engineering and modeling, we should establish a naive baseline model. This will let us measure the effectiveness of any feature engineering. For a regression problem, a naive baseline can be simply the average value of the train labels. \n",
    "\n",
    "## Metric \n",
    "\n",
    "Since this is a regression problem dealing with a quantity that has a real meaning, we want to use a metric that is easily understandable. The __Median Absolute Error__ (MAE) for this problem shows the median dollar amount that our forecasts are off. This can be calculated as simply the median of the absolute value of the prediction minus the true value:\n",
    "\n",
    "$$\\text{MAE} = \\text{median(abs(prediction - true value))}$$\n",
    "\n",
    "The median absolute error is a better metric than the mean absolute error since the mean will be unduly influenced by outliers (and we saw that there are a number of outliers in the target).\n",
    "\n",
    "### Naive Baseline\n",
    "\n",
    "Below we establish a naive baseline by guessing the value of the test label is the average value on the training labels."
   ]
  },
  {
   "cell_type": "code",
   "execution_count": null,
   "metadata": {},
   "outputs": [],
   "source": [
    "from sklearn.metrics import f1_score\n",
    "\n",
    "print(f'Baseline Guess F1 Score = {f1_score(test_labels, [0 for _ in range(len(test_labels))])}.') "
   ]
  },
  {
   "cell_type": "code",
   "execution_count": null,
   "metadata": {},
   "outputs": [],
   "source": [
    "f1_score(test_labels, [np.random.randint(0, 2, 1)[0] for _ in range(len(test_labels))])"
   ]
  },
  {
   "cell_type": "markdown",
   "metadata": {},
   "source": [
    "### More Informed Baseline\n",
    "\n",
    "A slightly better estimate would be to guess that customers will spend as much in the next month as they spent in the previous month. We can figure this out by using the last thirty days of the purchase data."
   ]
  },
  {
   "cell_type": "code",
   "execution_count": null,
   "metadata": {},
   "outputs": [],
   "source": [
    "thirty_day_totals = []\n",
    "prediction_point = pd.datetime(2011, 10, 1)\n",
    "\n",
    "# Iterate through each customer\n",
    "for customer_id, customer_info in labels.iterrows():\n",
    "    \n",
    "    # Subset the data to after the prediction point\n",
    "    subset = data.loc[(data['date'] > prediction_point) & (data['customer_id'] == customer_id), :].copy()\n",
    "    \n",
    "    # Add the number of unique orders in the month to a list\n",
    "    thirty_day_totals.append(subset['total_price'].sum())"
   ]
  },
  {
   "cell_type": "code",
   "execution_count": null,
   "metadata": {},
   "outputs": [],
   "source": [
    "sns.kdeplot(thirty_day_totals)"
   ]
  },
  {
   "cell_type": "code",
   "execution_count": null,
   "metadata": {},
   "outputs": [],
   "source": [
    "customers['label'] = list(labels['label'])\n",
    "customers['informed_guess'] = thirty_day_totals\n",
    "customers['informed_guess_label'] = 1.0 * (customers['informed_guess'] > 500)\n",
    "customers['test'] = customers['customer_id'].isin(test_customers)\n",
    "customers.head()"
   ]
  },
  {
   "cell_type": "code",
   "execution_count": null,
   "metadata": {},
   "outputs": [],
   "source": [
    "print(f'Informed Baseline F1 Score: {round(f1_score(test_labels, list(customers.loc[customers[\"test\"] == True, \"informed_guess_label\"])), 2)}')"
   ]
  },
  {
   "cell_type": "markdown",
   "metadata": {},
   "source": [
    "The informed baseline significantly outperformed the naive baseline. Now we know that if we can't predict with a median absolute error less than around \\$288, then maybe machine learning is not applicable to this problem."
   ]
  },
  {
   "cell_type": "markdown",
   "metadata": {},
   "source": [
    "# Feature Engineering Implementation\n",
    "\n",
    "After we established our baseline, we can start making features for a machine learning model to learn the problem. In manual feature engineering, we build features one at a time. We can constantly evaluate these features using cross-validation on the training set. \n",
    "\n",
    "## Building Features from Previous Orders\n",
    "\n",
    "The first set of features will be built on the previous orders. We can find the __total__ number of a customers previous orders, the __total value__ of a customers previous orders, and then also divide both of these by the time between the __first order and last order__ in order to get an orders / time feature.\n",
    "\n",
    "Below we find the total orders and total value of orders for customers."
   ]
  },
  {
   "cell_type": "code",
   "execution_count": null,
   "metadata": {},
   "outputs": [],
   "source": [
    "total_orders = orders.groupby('customer_id')['order_id'].count()\n",
    "total_value_orders = orders.groupby('customer_id')['total_price'].sum()\n",
    "totals = pd.concat([total_orders, total_value_orders], axis = 1).rename(columns = {'order_id': 'num_orders',\n",
    "                                                                                   'total_price': 'total_spending'})\n",
    "totals.head()"
   ]
  },
  {
   "cell_type": "code",
   "execution_count": null,
   "metadata": {},
   "outputs": [],
   "source": [
    "figsize(8, 6)\n",
    "sns.lmplot('num_orders', 'total_spending', data = totals, size = 6)\n",
    "plt.title('Total Spending versus Number of Orders');"
   ]
  },
  {
   "cell_type": "markdown",
   "metadata": {},
   "source": [
    "For the time a customer has been in the records, we'll take the last order data minus the first order date and convert it to the number of months. Then we can divide the `num_orders` and `total_spending` by this figure to arrive at a final ratio per 30 days."
   ]
  },
  {
   "cell_type": "code",
   "execution_count": null,
   "metadata": {},
   "outputs": [],
   "source": [
    "# Find timedelta between last and first order\n",
    "totals['record_length'] = orders.groupby('customer_id')['date_only'].apply(lambda x: x.max() - x.min())\n",
    "\n",
    "# Convert to 30 days\n",
    "totals['record_length'] = totals['record_length'].dt.total_seconds() / (3600 * 24 * 30)\n",
    "\n",
    "# Get ratios\n",
    "totals['num_orders_ratio'] = totals['num_orders'] / totals['record_length']\n",
    "totals['spending_ratio'] = totals['total_spending'] / totals['record_length']\n",
    "totals.head()"
   ]
  },
  {
   "cell_type": "markdown",
   "metadata": {},
   "source": [
    "Let's try to intrepret these numbers: what the `spending_ratio` indicates is the total spending for every 30 days, and the `num_orders_ratio` is the number of orders on average every 30 days. \n",
    "\n",
    "We'll replace the `inf` with `np.nan` which later will let us impute these values before sending the data to a machine learning model."
   ]
  },
  {
   "cell_type": "code",
   "execution_count": null,
   "metadata": {},
   "outputs": [],
   "source": [
    "totals = totals.replace({np.inf: np.nan, -np.inf: np.nan})\n",
    "\n",
    "sns.violinplot(y = totals['spending_ratio'].dropna());\n",
    "plt.title('Violin Plot of Spending Ratio');"
   ]
  },
  {
   "cell_type": "code",
   "execution_count": null,
   "metadata": {},
   "outputs": [],
   "source": [
    "totals.loc[totals['spending_ratio'].idxmax]"
   ]
  },
  {
   "cell_type": "markdown",
   "metadata": {},
   "source": [
    "The highest spending in the data is from a customer that averages over \\$10000 per month, because they are have been in the data for less than one month yet have a total spending of \\$8000. As a final feature, we can calculate the spending per order."
   ]
  },
  {
   "cell_type": "code",
   "execution_count": null,
   "metadata": {},
   "outputs": [],
   "source": [
    "totals['spending_per_order'] = totals['total_spending'] / totals['num_orders']\n",
    "sns.kdeplot(totals['spending_per_order'])\n",
    "plt.title('Spending per Order Distribution');"
   ]
  },
  {
   "cell_type": "markdown",
   "metadata": {},
   "source": [
    "### Evaluate Feature Set\n",
    "\n",
    "From just these 5 features we can already train a model (we only need a single feature to train a model). We'll use a random forest regressor as implemented in the `utils.py` module and the `evaulate` function. "
   ]
  },
  {
   "cell_type": "code",
   "execution_count": null,
   "metadata": {},
   "outputs": [],
   "source": [
    "%load_ext autoreload\n",
    "%autoreload 2\n",
    "\n",
    "from utils import evaluate, plot_feature_importances, feature_selection"
   ]
  },
  {
   "cell_type": "code",
   "execution_count": null,
   "metadata": {},
   "outputs": [],
   "source": [
    "totals = totals[(totals.index.isin(train_customers)) | (totals.index.isin(test_customers))]\n",
    "totals.head()"
   ]
  },
  {
   "cell_type": "code",
   "execution_count": null,
   "metadata": {},
   "outputs": [],
   "source": [
    "train = totals[totals.index.isin(train_customers)]\n",
    "test = totals[totals.index.isin(test_customers)]"
   ]
  },
  {
   "cell_type": "code",
   "execution_count": null,
   "metadata": {},
   "outputs": [],
   "source": [
    "preds, fi = evaluate(train, train_labels, test, test_labels)"
   ]
  },
  {
   "cell_type": "markdown",
   "metadata": {},
   "source": [
    "Already our model has outperformed the baseline! This means machine learning is applicable to the problem. To improve our performance, we want to keep adding more features derived from the data. We can use the feature importances from the first model to see which features are considered most relevant."
   ]
  },
  {
   "cell_type": "code",
   "execution_count": null,
   "metadata": {},
   "outputs": [],
   "source": [
    "norm_fi = plot_feature_importances(fi)"
   ]
  },
  {
   "cell_type": "code",
   "execution_count": null,
   "metadata": {},
   "outputs": [],
   "source": [
    "train['target'] = train_labels\n",
    "train.to_csv('../input/train_features.csv')\n",
    "test['target'] = test_labels\n",
    "test.to_csv('../input/test_features.csv')"
   ]
  },
  {
   "cell_type": "markdown",
   "metadata": {},
   "source": [
    "The most important feature is the `total_spending`. This tells us that how much a customer has spent total in the past is indicative of the amount they will spend in the next 30 days. \n",
    "\n",
    "### More Features from the Order Table\n",
    "\n",
    "We'll continue with feature engineering using the orders table. We'll make an additional 4 features:\n",
    "\n",
    "* Spending in the last 30 days of data\n",
    "* Number of orders in the last 30 days of data\n",
    "* Spending per order in the last 30 days of data\n",
    "* Most common country ordered from\n",
    "* Number of unique countries ordered from\n",
    "\n",
    "Although the baseline guess using the spending in the previous 30 days did not prove helpful, perhaps it will be of some use to a machine learning model. Since the spending per order was an important feature, we also will want to calculate the spending per order in the past 30 days. This shows the iterative process of feature engineering: we can use previous results to inform future decisions."
   ]
  },
  {
   "cell_type": "code",
   "execution_count": null,
   "metadata": {},
   "outputs": [],
   "source": [
    "thirty_day_orders = []\n",
    "thirty_day_totals = []\n",
    "\n",
    "prediction_point = pd.datetime(2011, 10, 1)\n",
    "\n",
    "for customer_id, customer_info in labels.iterrows():\n",
    "    \n",
    "    # Subset to the last thirty days\n",
    "    subset = orders[(orders['customer_id'] == customer_id) & (orders['date_only'] > prediction_point.date())].copy()\n",
    "    thirty_day_orders.append(subset.shape[0])\n",
    "    thirty_day_totals.append(subset['total_price'].sum())"
   ]
  },
  {
   "cell_type": "code",
   "execution_count": null,
   "metadata": {},
   "outputs": [],
   "source": [
    "totals['thirty_day_orders'] = thirty_day_orders\n",
    "totals['thirty_day_totals'] = thirty_day_totals\n",
    "totals['thirty_day_spending_per_order'] = totals['thirty_day_totals'] / totals['thirty_day_orders']\n",
    "\n",
    "plt.figure(figsize = (12, 6))\n",
    "sns.kdeplot(totals['thirty_day_spending_per_order']);\n",
    "plt.title('Thirty Day Spending per Order Distribution');"
   ]
  },
  {
   "cell_type": "markdown",
   "metadata": {},
   "source": [
    "Again we see a positively skewed distribution with most customers spending per order below \\$1000 in the previous 30 days, but a few customers with spending per order much higher. \n",
    "\n",
    "The next two features will deal with the `country` of the order."
   ]
  },
  {
   "cell_type": "code",
   "execution_count": null,
   "metadata": {},
   "outputs": [],
   "source": [
    "unique_countries = orders.groupby('customer_id')['country'].nunique()\n",
    "most_common_country = orders.groupby('customer_id')['country'].apply(lambda x: pd.Series.mode(x)[0])\n",
    "\n",
    "totals['num_unique_countries'] = unique_countries\n",
    "totals['most_common_country'] = most_common_country"
   ]
  },
  {
   "cell_type": "code",
   "execution_count": null,
   "metadata": {},
   "outputs": [],
   "source": [
    "plt.figure(figsize = (16, 6))\n",
    "g = sns.boxplot(x = 'most_common_country', y = 'thirty_day_spending_per_order', data = totals)\n",
    "loc, labels = plt.xticks()\n",
    "g.set_xticklabels(labels, rotation=75)\n",
    "plt.title('Thirty Day Spending per Order by Country');"
   ]
  },
  {
   "cell_type": "markdown",
   "metadata": {},
   "source": [
    "Now we have to one-hot encode the country in order to pass it into the model."
   ]
  },
  {
   "cell_type": "code",
   "execution_count": null,
   "metadata": {},
   "outputs": [],
   "source": [
    "totals = pd.get_dummies(totals)\n",
    "totals.head()"
   ]
  },
  {
   "cell_type": "markdown",
   "metadata": {},
   "source": [
    "Let's evaluate this model to see if the 5 (more if we count the one-hot encoding) extra features improved the performance."
   ]
  },
  {
   "cell_type": "code",
   "execution_count": null,
   "metadata": {},
   "outputs": [],
   "source": [
    "train = totals[totals.index.isin(train_customers)]\n",
    "test = totals[totals.index.isin(test_customers)]\n",
    "\n",
    "preds, fi = evaluate(train, train_labels, test, test_labels)"
   ]
  },
  {
   "cell_type": "code",
   "execution_count": null,
   "metadata": {},
   "outputs": [],
   "source": [
    "norm_fi = plot_feature_importances(fi)"
   ]
  },
  {
   "cell_type": "markdown",
   "metadata": {},
   "source": [
    "Including the new features did not improve the model even though the most important feature was one of those that we added. It looks like the country feature are not important. Most of the customers (~90%) are from the United Kingdom so there is not much information content in the country of the order.\n",
    "\n",
    "At this point we have extracted a lot of information from the `orders` table, but there is plenty more that we did not consider such as using the day of week, the month of year, or creating country level features and then applying these to each customer. With manual feature engineering, __we are limited by our time and creativity__. There are only so many features that we can make by hand, one of the fundamental issues with the traditional approach to feature engineering. \n",
    "\n",
    "### Features from the Purchase Data\n",
    "\n",
    "Next we'll work of building features from the purchase level data. This gives us more granular information than the `orders` and presents us with even more potential features to make. We'll start off by finding the total number of purchases, the sum of purchases (which should be the same as that from the orders) and the ratios of these per 30 day period, much as we did with the orders."
   ]
  },
  {
   "cell_type": "code",
   "execution_count": null,
   "metadata": {},
   "outputs": [],
   "source": [
    "total_purchases = purchases.groupby('customer_id')['order_id'].count()\n",
    "total_value_purchases = purchases.groupby('customer_id')['total_price'].sum()\n",
    "total_purchases = pd.concat([total_purchases, total_value_purchases], axis = 1).rename(columns = {'order_id': 'num_purchases',\n",
    "                                                                                                  'total_price': 'total_purchase_spending'})\n",
    "total_purchases.head()"
   ]
  },
  {
   "cell_type": "code",
   "execution_count": null,
   "metadata": {},
   "outputs": [],
   "source": [
    "# Find timedelta between last and first order\n",
    "total_purchases['record_length'] = purchases.groupby('customer_id')['date'].apply(lambda x: x.max() - x.min())\n",
    "\n",
    "# Convert to 30 days\n",
    "total_purchases['record_length'] = total_purchases['record_length'].dt.total_seconds() / (3600 * 24 *  30)\n",
    "\n",
    "# Get ratios\n",
    "total_purchases['num_purchases_ratio'] = total_purchases['num_purchases'] / total_purchases['record_length']\n",
    "total_purchases['spending_ratio'] = total_purchases['total_purchase_spending'] / total_purchases['record_length']\n",
    "total_purchases = total_purchases.replace({np.inf: np.nan, -np.inf: np.nan})\n",
    "\n",
    "sns.violinplot(y = total_purchases['num_purchases'])\n",
    "plt.title('Number of Purchases');"
   ]
  },
  {
   "cell_type": "code",
   "execution_count": null,
   "metadata": {},
   "outputs": [],
   "source": [
    "sns.lmplot('record_length', 'num_purchases', data = total_purchases, size = 8);\n",
    "plt.title('Number of Purchases vs 30 Day Periods');"
   ]
  },
  {
   "cell_type": "code",
   "execution_count": null,
   "metadata": {},
   "outputs": [],
   "source": [
    "totals = totals.merge(total_purchases, on = 'customer_id')\n",
    "totals.shape"
   ]
  },
  {
   "cell_type": "code",
   "execution_count": null,
   "metadata": {},
   "outputs": [],
   "source": [
    "train = totals[totals.index.isin(train_customers)]\n",
    "test = totals[totals.index.isin(test_customers)]\n",
    "\n",
    "preds, fi = evaluate(train, train_labels, test, test_labels)"
   ]
  },
  {
   "cell_type": "markdown",
   "metadata": {},
   "source": [
    "Our model performance has now decreased significantly. One issue is that we could have too many features: some of the features could be correlated with one another which can lead to worse performance. We can use the `feature_selection` function from `utils.py` to remove potentially problematic features. "
   ]
  },
  {
   "cell_type": "code",
   "execution_count": null,
   "metadata": {},
   "outputs": [],
   "source": [
    "train = feature_selection(train, missing_threshold=90, correlation_threshold=0.9)\n",
    "test = test[train.columns]"
   ]
  },
  {
   "cell_type": "code",
   "execution_count": null,
   "metadata": {},
   "outputs": [],
   "source": [
    "train.shape"
   ]
  },
  {
   "cell_type": "code",
   "execution_count": null,
   "metadata": {},
   "outputs": [],
   "source": [
    "preds, fi = evaluate(train, train_labels, test, test_labels)"
   ]
  },
  {
   "cell_type": "markdown",
   "metadata": {},
   "source": [
    "Feature selection did not help which is somewhat surprising. It's possible that we accidentally removed some features that were critical to the model. Let's try one last round of feature engineering. We'll load back in the features that have performed the best and try to add some more information."
   ]
  },
  {
   "cell_type": "code",
   "execution_count": null,
   "metadata": {},
   "outputs": [],
   "source": [
    "train = pd.read_csv('../input/train_features.csv')\n",
    "test = pd.read_csv('../input/test_features.csv')\n",
    "\n",
    "train.head()"
   ]
  },
  {
   "cell_type": "code",
   "execution_count": null,
   "metadata": {},
   "outputs": [],
   "source": [
    "train.corr()"
   ]
  },
  {
   "cell_type": "markdown",
   "metadata": {},
   "source": [
    "## Last Round of Feature Engineering \n",
    "\n",
    "For the last round of feature engineering we'll focus on"
   ]
  },
  {
   "cell_type": "code",
   "execution_count": null,
   "metadata": {},
   "outputs": [],
   "source": [
    "total_purchases.head()"
   ]
  },
  {
   "cell_type": "code",
   "execution_count": null,
   "metadata": {},
   "outputs": [],
   "source": [
    "orders.head()"
   ]
  },
  {
   "cell_type": "markdown",
   "metadata": {},
   "source": [
    "The second baseline will be made by applying a Random Forest Regressor to "
   ]
  },
  {
   "cell_type": "code",
   "execution_count": null,
   "metadata": {},
   "outputs": [],
   "source": [
    "import seaborn as sns\n",
    "\n",
    "data['total_price'] = (data['quantity'] * data['unit_price']).astype(np.float32)\n",
    "sns.kdeplot(data['total_price']);"
   ]
  },
  {
   "cell_type": "code",
   "execution_count": null,
   "metadata": {},
   "outputs": [],
   "source": [
    "data['total_price'].describe()"
   ]
  },
  {
   "cell_type": "markdown",
   "metadata": {},
   "source": [
    "There are several negative total prices which are not physically possible. If we look at the original data, this is because there are several orders that were cancelled (identifed by a 'C' preceding the order id). To handle these, we'll remove the cancelled lines themselves but add a flag indicating the order was cancelled.  "
   ]
  },
  {
   "cell_type": "code",
   "execution_count": null,
   "metadata": {},
   "outputs": [],
   "source": [
    "data['order_id'] = data['order_id'].astype(str)\n",
    "cancelled_order_ids = [x[1:] for x in data['order_id'] if x.startswith('C')]\n",
    "len(cancelled_order_ids)"
   ]
  },
  {
   "cell_type": "code",
   "execution_count": null,
   "metadata": {},
   "outputs": [],
   "source": [
    "data['cancelled'] = data['order_id'].isin(cancelled_order_ids)\n",
    "data.shape"
   ]
  },
  {
   "cell_type": "code",
   "execution_count": null,
   "metadata": {},
   "outputs": [],
   "source": [
    "data = data[~data['order_id'].str.startswith('C')]\n",
    "data.shape"
   ]
  },
  {
   "cell_type": "markdown",
   "metadata": {},
   "source": [
    "Now we'll set to 0 any of the total value where the order was cancelled."
   ]
  },
  {
   "cell_type": "code",
   "execution_count": null,
   "metadata": {},
   "outputs": [],
   "source": [
    "data.loc[data['cancelled'], 'total_price'] = np.nan\n",
    "sns.kdeplot(data['total_price'])"
   ]
  },
  {
   "cell_type": "markdown",
   "metadata": {},
   "source": [
    "The cancelled orders are not duplicated in the orders table but are instead identified by a 'C' in front of the order id. We'll add a flag indicating if the order was cancelled. "
   ]
  },
  {
   "cell_type": "code",
   "execution_count": null,
   "metadata": {},
   "outputs": [],
   "source": [
    "orders['order_id'] = orders['order_id'].astype(str)"
   ]
  },
  {
   "cell_type": "code",
   "execution_count": null,
   "metadata": {},
   "outputs": [],
   "source": [
    "orders['cancelled'] = orders['order_id'].str.startswith('C')\n",
    "orders['cancelled'].value_counts()"
   ]
  },
  {
   "cell_type": "markdown",
   "metadata": {},
   "source": [
    "To make a feature for customers, we can count the number of cancelled orders and the number of non-cancelled orders."
   ]
  },
  {
   "cell_type": "code",
   "execution_count": null,
   "metadata": {},
   "outputs": [],
   "source": [
    "cancelled = pd.DataFrame(orders.groupby('customer_id')['cancelled'].sum())\n",
    "total = pd.DataFrame(orders.groupby('customer_id')['cancelled'].count()).rename(columns = {'cancelled': 'total'})\n",
    "customer_orders = cancelled.merge(total, on = 'customer_id')\n",
    "customer_orders['non_cancelled'] = customer_orders['total'] - customer_orders['cancelled']\n",
    "customer_orders.head()"
   ]
  },
  {
   "cell_type": "code",
   "execution_count": null,
   "metadata": {},
   "outputs": [],
   "source": [
    "customer_orders.describe()"
   ]
  },
  {
   "cell_type": "markdown",
   "metadata": {},
   "source": [
    "We can try to build a model from just this information and see if it is at all useful! "
   ]
  },
  {
   "cell_type": "code",
   "execution_count": null,
   "metadata": {},
   "outputs": [],
   "source": [
    "customers.head()"
   ]
  },
  {
   "cell_type": "code",
   "execution_count": null,
   "metadata": {},
   "outputs": [],
   "source": [
    "from sklearn.model_selection import train_test_split\n",
    "\n",
    "X, X_test, y, y_test = train_test_split(customer_orders, customers['label'],\n",
    "                                        stratify = customers['label'])"
   ]
  },
  {
   "cell_type": "code",
   "execution_count": null,
   "metadata": {},
   "outputs": [],
   "source": [
    "from sklearn.metrics import f1_score, make_scorer\n",
    "\n",
    "scorer = make_scorer(f1_score, average = 'weighted')"
   ]
  },
  {
   "cell_type": "code",
   "execution_count": null,
   "metadata": {},
   "outputs": [],
   "source": [
    "from sklearn.model_selection import cross_val_score\n",
    "from sklearn.ensemble import RandomForestClassifier"
   ]
  },
  {
   "cell_type": "code",
   "execution_count": null,
   "metadata": {},
   "outputs": [],
   "source": [
    "model = RandomForestClassifier()\n",
    "model.fit(X, y)"
   ]
  },
  {
   "cell_type": "code",
   "execution_count": null,
   "metadata": {},
   "outputs": [],
   "source": [
    "lengths = data.groupby('customer_id')['date'].apply(lambda x: x.max() - x.min())"
   ]
  },
  {
   "cell_type": "code",
   "execution_count": null,
   "metadata": {},
   "outputs": [],
   "source": [
    "lengths.describe()"
   ]
  },
  {
   "cell_type": "code",
   "execution_count": null,
   "metadata": {},
   "outputs": [],
   "source": [
    "cross_val_score(model, X, y, scoring = scorer, cv = 5)"
   ]
  },
  {
   "cell_type": "code",
   "execution_count": null,
   "metadata": {},
   "outputs": [],
   "source": [
    "model.feature_importances_"
   ]
  },
  {
   "cell_type": "code",
   "execution_count": null,
   "metadata": {},
   "outputs": [],
   "source": [
    "preds"
   ]
  },
  {
   "cell_type": "code",
   "execution_count": null,
   "metadata": {},
   "outputs": [],
   "source": [
    "X_test"
   ]
  },
  {
   "cell_type": "code",
   "execution_count": null,
   "metadata": {},
   "outputs": [],
   "source": [
    "preds = model.predict(X_test)\n",
    "f1_score(y_test, preds)"
   ]
  },
  {
   "cell_type": "code",
   "execution_count": null,
   "metadata": {},
   "outputs": [],
   "source": []
  },
  {
   "cell_type": "code",
   "execution_count": null,
   "metadata": {},
   "outputs": [],
   "source": [
    "x, y = ecdf(data['total_price'])\n",
    "plt.plot(x, y)"
   ]
  },
  {
   "cell_type": "code",
   "execution_count": null,
   "metadata": {},
   "outputs": [],
   "source": [
    "data.loc[(data['total_price'] < 0) | (data['total_price'] > 10000), 'total_price'] = np.nan\n",
    "sns.kdeplot(data['total_price']);"
   ]
  },
  {
   "cell_type": "code",
   "execution_count": null,
   "metadata": {},
   "outputs": [],
   "source": [
    "data['weekday'] = data['date'].dt.weekday\n",
    "data['month'] = data['date'].dt.month\n",
    "data['minute'] = data['date'].dt.minute\n",
    "data['hour'] = data['date'].dt.hour\n",
    "\n",
    "data.head()"
   ]
  },
  {
   "cell_type": "code",
   "execution_count": null,
   "metadata": {},
   "outputs": [],
   "source": []
  },
  {
   "cell_type": "code",
   "execution_count": null,
   "metadata": {},
   "outputs": [],
   "source": []
  },
  {
   "cell_type": "markdown",
   "metadata": {},
   "source": [
    "Now we can start making features for each customer. As an example, we can count the number of previous orders by the customer. Then, we can divide the number of previous orders by the date between the first and last occurrence of the customer in the data to come up with a rate of purchases. "
   ]
  },
  {
   "cell_type": "code",
   "execution_count": null,
   "metadata": {},
   "outputs": [],
   "source": [
    "date_limits = usable_data"
   ]
  },
  {
   "cell_type": "code",
   "execution_count": null,
   "metadata": {},
   "outputs": [],
   "source": [
    "orders = orders.merge(data, on = 'order_id', how = 'left'a\n",
    "                     )\n",
    "orders.head()"
   ]
  },
  {
   "cell_type": "code",
   "execution_count": null,
   "metadata": {},
   "outputs": [],
   "source": [
    "ft_data = ft.demo.load_retail()\n",
    "ft_data"
   ]
  },
  {
   "cell_type": "code",
   "execution_count": null,
   "metadata": {},
   "outputs": [],
   "source": []
  }
 ],
 "metadata": {
  "kernelspec": {
   "display_name": "Python 3",
   "language": "python",
   "name": "python3"
  },
  "language_info": {
   "codemirror_mode": {
    "name": "ipython",
    "version": 3
   },
   "file_extension": ".py",
   "mimetype": "text/x-python",
   "name": "python",
   "nbconvert_exporter": "python",
   "pygments_lexer": "ipython3",
   "version": "3.6.5"
  }
 },
 "nbformat": 4,
 "nbformat_minor": 2
}
