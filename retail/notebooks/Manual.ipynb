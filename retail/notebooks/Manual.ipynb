{
 "cells": [
  {
   "cell_type": "markdown",
   "metadata": {},
   "source": [
    "# Manual Feature Engineering on the Retail Dataset\n",
    "\n",
    "In this notebook we will work with a dataset of online retail transactions. This data is originally from [the UCI Machine Learning Repository.](https://archive.ics.uci.edu/ml/datasets/online+retail#) and is a great example of real-world time-series data. Our objective will be to develop a model that can predict the spending of a customer in the next month given the past spending data for that customer. \n",
    "\n",
    "In the automated feature engineering notebook, we saw how to solve this problem using Featuretools in a machine learning pipeline. We were able to build a model that ourperformed the baseline in terms of our metrics (F1 and ROC AUC). In this notebook, we'll approach the problem completely by hand, relying on our own abilities as data scientists to develop a set of valid, relevant features for the prediction problem. "
   ]
  },
  {
   "cell_type": "code",
   "execution_count": 1,
   "metadata": {},
   "outputs": [],
   "source": [
    "# Data manipulation\n",
    "import pandas as pd \n",
    "import numpy as np\n",
    "\n",
    "# Visualization\n",
    "import matplotlib.pyplot as plt\n",
    "import seaborn as sns\n",
    "\n",
    "%matplotlib inline\n",
    "\n",
    "# Automated feature engineering\n",
    "import featuretools as ft\n",
    "\n",
    "# Machine learning\n",
    "from sklearn.pipeline import Pipeline\n",
    "from sklearn.preprocessing import Imputer, MinMaxScaler\n",
    "from sklearn.metrics import precision_score, recall_score, f1_score, roc_auc_score, precision_recall_curve, roc_curve\n",
    "from sklearn.model_selection import train_test_split, cross_val_score\n",
    "from sklearn.ensemble import RandomForestClassifier"
   ]
  },
  {
   "cell_type": "markdown",
   "metadata": {},
   "source": [
    "First let's load in the raw data and take a look. We'll apply the same data formatting principles "
   ]
  },
  {
   "cell_type": "code",
   "execution_count": 2,
   "metadata": {},
   "outputs": [
    {
     "data": {
      "text/html": [
       "<div>\n",
       "<style scoped>\n",
       "    .dataframe tbody tr th:only-of-type {\n",
       "        vertical-align: middle;\n",
       "    }\n",
       "\n",
       "    .dataframe tbody tr th {\n",
       "        vertical-align: top;\n",
       "    }\n",
       "\n",
       "    .dataframe thead th {\n",
       "        text-align: right;\n",
       "    }\n",
       "</style>\n",
       "<table border=\"1\" class=\"dataframe\">\n",
       "  <thead>\n",
       "    <tr style=\"text-align: right;\">\n",
       "      <th></th>\n",
       "      <th>order_id</th>\n",
       "      <th>product_id</th>\n",
       "      <th>description</th>\n",
       "      <th>quantity</th>\n",
       "      <th>order_date</th>\n",
       "      <th>price</th>\n",
       "      <th>customer_id</th>\n",
       "      <th>country</th>\n",
       "      <th>total</th>\n",
       "    </tr>\n",
       "  </thead>\n",
       "  <tbody>\n",
       "    <tr>\n",
       "      <th>42481</th>\n",
       "      <td>539993</td>\n",
       "      <td>22386</td>\n",
       "      <td>JUMBO BAG PINK POLKADOT</td>\n",
       "      <td>10</td>\n",
       "      <td>2011-01-04 10:00:00</td>\n",
       "      <td>3.2175</td>\n",
       "      <td>13313.0</td>\n",
       "      <td>United Kingdom</td>\n",
       "      <td>32.175</td>\n",
       "    </tr>\n",
       "    <tr>\n",
       "      <th>42482</th>\n",
       "      <td>539993</td>\n",
       "      <td>21499</td>\n",
       "      <td>BLUE POLKADOT WRAP</td>\n",
       "      <td>25</td>\n",
       "      <td>2011-01-04 10:00:00</td>\n",
       "      <td>0.6930</td>\n",
       "      <td>13313.0</td>\n",
       "      <td>United Kingdom</td>\n",
       "      <td>17.325</td>\n",
       "    </tr>\n",
       "    <tr>\n",
       "      <th>42483</th>\n",
       "      <td>539993</td>\n",
       "      <td>21498</td>\n",
       "      <td>RED RETROSPOT WRAP</td>\n",
       "      <td>25</td>\n",
       "      <td>2011-01-04 10:00:00</td>\n",
       "      <td>0.6930</td>\n",
       "      <td>13313.0</td>\n",
       "      <td>United Kingdom</td>\n",
       "      <td>17.325</td>\n",
       "    </tr>\n",
       "    <tr>\n",
       "      <th>42484</th>\n",
       "      <td>539993</td>\n",
       "      <td>22379</td>\n",
       "      <td>RECYCLING BAG RETROSPOT</td>\n",
       "      <td>5</td>\n",
       "      <td>2011-01-04 10:00:00</td>\n",
       "      <td>3.4650</td>\n",
       "      <td>13313.0</td>\n",
       "      <td>United Kingdom</td>\n",
       "      <td>17.325</td>\n",
       "    </tr>\n",
       "    <tr>\n",
       "      <th>42485</th>\n",
       "      <td>539993</td>\n",
       "      <td>20718</td>\n",
       "      <td>RED RETROSPOT SHOPPER BAG</td>\n",
       "      <td>10</td>\n",
       "      <td>2011-01-04 10:00:00</td>\n",
       "      <td>2.0625</td>\n",
       "      <td>13313.0</td>\n",
       "      <td>United Kingdom</td>\n",
       "      <td>20.625</td>\n",
       "    </tr>\n",
       "  </tbody>\n",
       "</table>\n",
       "</div>"
      ],
      "text/plain": [
       "      order_id product_id                description  quantity  \\\n",
       "42481   539993      22386    JUMBO BAG PINK POLKADOT        10   \n",
       "42482   539993      21499         BLUE POLKADOT WRAP        25   \n",
       "42483   539993      21498        RED RETROSPOT WRAP         25   \n",
       "42484   539993      22379   RECYCLING BAG RETROSPOT          5   \n",
       "42485   539993      20718  RED RETROSPOT SHOPPER BAG        10   \n",
       "\n",
       "               order_date   price  customer_id         country   total  \n",
       "42481 2011-01-04 10:00:00  3.2175      13313.0  United Kingdom  32.175  \n",
       "42482 2011-01-04 10:00:00  0.6930      13313.0  United Kingdom  17.325  \n",
       "42483 2011-01-04 10:00:00  0.6930      13313.0  United Kingdom  17.325  \n",
       "42484 2011-01-04 10:00:00  3.4650      13313.0  United Kingdom  17.325  \n",
       "42485 2011-01-04 10:00:00  2.0625      13313.0  United Kingdom  20.625  "
      ]
     },
     "execution_count": 2,
     "metadata": {},
     "output_type": "execute_result"
    }
   ],
   "source": [
    "csv_s3 = \"s3://featurelabs-static/online-retail-logs.csv\"\n",
    "data = pd.read_csv(csv_s3, parse_dates=[\"order_date\"])\n",
    "\n",
    "# Convert to dollars\n",
    "data['price'] = data['price'] * 1.65\n",
    "data['total'] = data['price'] * data['quantity']\n",
    "\n",
    "# Restrict data to 2011\n",
    "data = data[data['order_date'].dt.year == 2011]\n",
    "\n",
    "# drop the duplicates\n",
    "data = data.drop_duplicates()\n",
    "\n",
    "# drop rows with null customer id\n",
    "data = data.dropna(axis=0)\n",
    "\n",
    "data.head()"
   ]
  },
  {
   "cell_type": "markdown",
   "metadata": {},
   "source": [
    "# Load in Prediction Problem\n",
    "\n",
    "We already created the prediction problem in the automated feature engineering notebook. The objective is to predict the total spending of customers in the next month. Instead of forecasting the amount, we decided to group customers into a segment that spends more than \\$500 and a segment spending less. \n",
    "\n",
    "Each customer is represented in the labels multiple times, once for each month that we want to predict. Using customers multiple times allows us to construct more labelled training examples. However, it also means that we must be careful in the data we use."
   ]
  },
  {
   "cell_type": "code",
   "execution_count": 3,
   "metadata": {},
   "outputs": [
    {
     "data": {
      "text/html": [
       "<div>\n",
       "<style scoped>\n",
       "    .dataframe tbody tr th:only-of-type {\n",
       "        vertical-align: middle;\n",
       "    }\n",
       "\n",
       "    .dataframe tbody tr th {\n",
       "        vertical-align: top;\n",
       "    }\n",
       "\n",
       "    .dataframe thead th {\n",
       "        text-align: right;\n",
       "    }\n",
       "</style>\n",
       "<table border=\"1\" class=\"dataframe\">\n",
       "  <thead>\n",
       "    <tr style=\"text-align: right;\">\n",
       "      <th></th>\n",
       "      <th>customer_id</th>\n",
       "      <th>cutoff_time</th>\n",
       "      <th>total</th>\n",
       "      <th>label</th>\n",
       "    </tr>\n",
       "  </thead>\n",
       "  <tbody>\n",
       "    <tr>\n",
       "      <th>0</th>\n",
       "      <td>12352.0</td>\n",
       "      <td>2011-03-01</td>\n",
       "      <td>502.7220</td>\n",
       "      <td>1</td>\n",
       "    </tr>\n",
       "    <tr>\n",
       "      <th>1</th>\n",
       "      <td>12383.0</td>\n",
       "      <td>2011-03-01</td>\n",
       "      <td>589.1655</td>\n",
       "      <td>1</td>\n",
       "    </tr>\n",
       "    <tr>\n",
       "      <th>2</th>\n",
       "      <td>12388.0</td>\n",
       "      <td>2011-03-01</td>\n",
       "      <td>347.9850</td>\n",
       "      <td>0</td>\n",
       "    </tr>\n",
       "    <tr>\n",
       "      <th>3</th>\n",
       "      <td>12395.0</td>\n",
       "      <td>2011-03-01</td>\n",
       "      <td>538.7250</td>\n",
       "      <td>1</td>\n",
       "    </tr>\n",
       "    <tr>\n",
       "      <th>4</th>\n",
       "      <td>12415.0</td>\n",
       "      <td>2011-03-01</td>\n",
       "      <td>27320.9310</td>\n",
       "      <td>1</td>\n",
       "    </tr>\n",
       "  </tbody>\n",
       "</table>\n",
       "</div>"
      ],
      "text/plain": [
       "   customer_id cutoff_time       total  label\n",
       "0      12352.0  2011-03-01    502.7220      1\n",
       "1      12383.0  2011-03-01    589.1655      1\n",
       "2      12388.0  2011-03-01    347.9850      0\n",
       "3      12395.0  2011-03-01    538.7250      1\n",
       "4      12415.0  2011-03-01  27320.9310      1"
      ]
     },
     "execution_count": 3,
     "metadata": {},
     "output_type": "execute_result"
    }
   ],
   "source": [
    "labels = pd.read_csv('../input/labels.csv', index_col=0)\n",
    "labels.head()"
   ]
  },
  {
   "cell_type": "code",
   "execution_count": 4,
   "metadata": {},
   "outputs": [
    {
     "data": {
      "image/png": "[encoded data removed]",
      "text/plain": [
       "<Figure size 576x432 with 1 Axes>"
      ]
     },
     "metadata": {},
     "output_type": "display_data"
    }
   ],
   "source": [
    "import matplotlib.pyplot as plt\n",
    "import seaborn as sns\n",
    "%matplotlib inline\n",
    "\n",
    "plt.rcParams['font.size'] = 18\n",
    "from IPython.core.pylabtools import figsize\n",
    "figsize(8, 6)\n",
    "\n",
    "# KDE plot of total price\n",
    "sns.distplot(labels['total'], hist=False, color = 'red');\n",
    "plt.title('Total Purchase Price Distribution');\n",
    "plt.xlabel('Purchase Price'); plt.ylabel('Density');"
   ]
  },
  {
   "cell_type": "code",
   "execution_count": 5,
   "metadata": {},
   "outputs": [],
   "source": [
    "def ecdf(a):\n",
    "    x = np.sort(a)\n",
    "    y = np.arange(len(x)) / float(len(x))\n",
    "    return x, y"
   ]
  },
  {
   "cell_type": "code",
   "execution_count": 6,
   "metadata": {},
   "outputs": [
    {
     "name": "stdout",
     "output_type": "stream",
     "text": [
      "The 90th percentile is at $792.76\n"
     ]
    },
    {
     "data": {
      "image/png": "[encoded data removed]",
      "text/plain": [
       "<Figure size 576x432 with 1 Axes>"
      ]
     },
     "metadata": {},
     "output_type": "display_data"
    }
   ],
   "source": [
    "x, y = ecdf(labels['total'])\n",
    "plt.plot(x, y, '.');\n",
    "plt.xlabel('Total Purchase'); plt.ylabel('Percentile'); plt.title('ECDF of Target');\n",
    "print(f'The 90th percentile is at ${round(x[np.where(y > 0.9)[0][0]], 2)}')"
   ]
  },
  {
   "cell_type": "code",
   "execution_count": 7,
   "metadata": {},
   "outputs": [
    {
     "name": "stdout",
     "output_type": "stream",
     "text": [
      "There are 375250 observations in the final data with 4244 unique customers.\n",
      "There are 28133 labels.\n"
     ]
    }
   ],
   "source": [
    "print(f'There are {len(data)} observations in the final data with {data[\"customer_id\"].nunique()} unique customers.')\n",
    "print(f'There are {len(labels)} labels.')"
   ]
  },
  {
   "cell_type": "markdown",
   "metadata": {},
   "source": [
    "# Feature Engineering\n",
    "\n",
    "Once we have our machine learning task, we need to figure out how to get the data into a format for training a model. For each label (customer - month) we are going to need one row of data, with the columns forming the features. The tricky part is that we must be sure to not use any future data for predicting in a given month. As a first pass, we can limit ourselves to trying to build a model to make predictions for December 2011. Since this is the last month in the dataset, we should have the most data and be able to build an accurate model. \n",
    "\n",
    "Feature engineering will require us to aggregate information that is no the purchase level into information on the customer level. We need to try and create features that are relevant for predicting how much a customer will spend in the future. We can do this by incorporating domain knowledge and building features either one at a time, or in groups using multiple aggregations at once.\n",
    "\n",
    "## Enriching the data\n",
    "\n",
    "One of the simplest feature engineering steps is to extract information from the original data such as by finding the `weekday`, `month`, `hour`, and `minute` of the purchase. (These are referred to as transform primitives in Featuretools)."
   ]
  },
  {
   "cell_type": "code",
   "execution_count": 8,
   "metadata": {},
   "outputs": [
    {
     "data": {
      "image/png": "[encoded data removed]",
      "text/plain": [
       "<Figure size 576x432 with 1 Axes>"
      ]
     },
     "metadata": {},
     "output_type": "display_data"
    }
   ],
   "source": [
    "data['weekday'] = data['order_date'].dt.weekday\n",
    "data['month'] = data['order_date'].dt.month\n",
    "data['minute'] = data['order_date'].dt.minute\n",
    "data['hour'] = data['order_date'].dt.hour\n",
    "data['date_only'] = data['order_date'].dt.date\n",
    "\n",
    "# Plot of purchases by day of week\n",
    "data['weekday'].value_counts().sort_index().plot.bar(color = 'orange');\n",
    "plt.title('Purchases by Day of Week'); plt.ylabel('Purchases'); plt.xlabel('Day of Week');"
   ]
  },
  {
   "cell_type": "code",
   "execution_count": 9,
   "metadata": {},
   "outputs": [
    {
     "data": {
      "image/png": "[encoded data removed]",
      "text/plain": [
       "<Figure size 576x432 with 1 Axes>"
      ]
     },
     "metadata": {},
     "output_type": "display_data"
    }
   ],
   "source": [
    "data['hour'].value_counts().sort_index().plot.bar(color = 'orange');\n",
    "plt.title('Purchases by Time of Day'); plt.ylabel('Purchases'); plt.xlabel('Hour of Day');"
   ]
  },
  {
   "cell_type": "code",
   "execution_count": 10,
   "metadata": {},
   "outputs": [
    {
     "data": {
      "image/png": "[encoded data removed]",
      "text/plain": [
       "<Figure size 1440x432 with 1 Axes>"
      ]
     },
     "metadata": {},
     "output_type": "display_data"
    }
   ],
   "source": [
    "figsize(20, 6)\n",
    "trends = data.groupby('date_only')['total'].sum()\n",
    "trends.plot()\n",
    "plt.title('Total Purchase Amount over Time'); plt.xlabel(''); plt.ylabel('Total Purchase Amount');"
   ]
  },
  {
   "cell_type": "markdown",
   "metadata": {},
   "source": [
    "We can't yet use these features for machine learning since they are still on a _purchase_ level. We need features on a _customer_ level. \n",
    "\n",
    "### Subset to Valid Data\n",
    "\n",
    "Before we go any further, we are going to want to subset to the valid data. Our first goal is to predict only December spending, so for our training data, we'll limit ourselves to data before November while our testing data will use only information in November. The training labels are for customer - months from November and before, and the testing labels are those from December. This is the same method we used for assessing the Featuretools model. \n",
    "\n",
    "To summarize if we are making predictions for December 2011:\n",
    "\n",
    "* Training data: anything from before November 2011\n",
    "* Testing data: data from November 2011\n",
    "* Training labels: customer - months from before December 2011\n",
    "* Testing labels: customer spending in December 2011\n",
    "\n",
    "The following code subsets the data."
   ]
  },
  {
   "cell_type": "code",
   "execution_count": 47,
   "metadata": {},
   "outputs": [],
   "source": [
    "labels['cutoff_time'] = pd.to_datetime(labels['cutoff_time'])\n",
    "labels['month'] = labels['cutoff_time'].dt.month"
   ]
  },
  {
   "cell_type": "code",
   "execution_count": 48,
   "metadata": {},
   "outputs": [],
   "source": [
    "train = data[data['month'] < 11]\n",
    "test = data[data['month'] == 11]\n",
    "train_labels = labels.loc[labels['month'] < 12, ['customer_id', 'label', 'month']]\n",
    "test_labels = labels.loc[labels['month'] == 12, ['customer_id', 'label', 'month']]"
   ]
  },
  {
   "cell_type": "markdown",
   "metadata": {},
   "source": [
    "Let's quickly look at the results of an informed baseline guess for December. This guess comes from using the spending of the customer in November (the previous month) as the prediction in the next month."
   ]
  },
  {
   "cell_type": "code",
   "execution_count": 49,
   "metadata": {},
   "outputs": [],
   "source": [
    "def informed_baseline(month_number, threshold = 500):\n",
    "    \"\"\"Calculate an informed baseline for a given month. \n",
    "    The informed baseline is guessing the previous month's spending\n",
    "    for the next month. The probability is assessed by dividing\n",
    "    the previous month's total by the threshold and setting\n",
    "    any values greater than 1 to 1.\"\"\"\n",
    "    \n",
    "    # Subset to the months\n",
    "    month = labels[labels['month'] == month_number]\n",
    "    previous_month = labels[labels['month'] == (month_number - 1)]\n",
    "    \n",
    "    previous_month = previous_month.rename(columns = {'total': 'previous_total'})\n",
    "\n",
    "    # Merge the current month with the previous month\n",
    "    month = month.merge(previous_month[['customer_id', 'previous_total']], on = 'customer_id', how = 'left')\n",
    "    \n",
    "    month['previous_total'] = month['previous_total'].fillna(0)\n",
    "    month['probability'] = month['previous_total'] / threshold\n",
    "    \n",
    "    # Set probabilities greater than 1 equal to 1\n",
    "    month.loc[month['probability'] > 1, 'probability'] = 1\n",
    "    \n",
    "    # Make the predicted label\n",
    "    month['prediction'] = (month['previous_total'] > threshold).astype(int)\n",
    "    \n",
    "    print('Precision: {:.5f}.'.format(precision_score(month['label'], month['prediction'])))\n",
    "    print('Recall: {:.5f}.'.format(recall_score(month['label'], month['prediction'])))\n",
    "    print('F1 Score: {:.5f}.'.format(f1_score(month['label'], month['prediction'])))\n",
    "    print('ROC AUC Score: {:.5f}.'.format(roc_auc_score(month['label'], month['probability'])))\n",
    "    \n",
    "    return month"
   ]
  },
  {
   "cell_type": "code",
   "execution_count": 50,
   "metadata": {},
   "outputs": [
    {
     "name": "stdout",
     "output_type": "stream",
     "text": [
      "Precision: 0.21606.\n",
      "Recall: 0.57547.\n",
      "F1 Score: 0.31416.\n",
      "ROC AUC Score: 0.69502.\n"
     ]
    }
   ],
   "source": [
    "december_informed = informed_baseline(12)"
   ]
  },
  {
   "cell_type": "markdown",
   "metadata": {},
   "source": [
    "This gives us a target to beat: if our model is not better than the informed baseline, then we are better off using the baseline instead of machine learning! In the automated feature engineering notebook, the best model was able to score __0.81378 ROC AUC__, significantly better than the baseline.\n",
    "\n",
    "## Simple Feature Engineering\n",
    "\n",
    "As a first pass at feature engineering, we can group by the month and the customer and calculate numerical aggregations of the purchase data. We'll then join the data for one month to the prediction for the following month to ensure that our data comes before our labels."
   ]
  },
  {
   "cell_type": "code",
   "execution_count": 51,
   "metadata": {},
   "outputs": [
    {
     "data": {
      "text/html": [
       "<div>\n",
       "<style scoped>\n",
       "    .dataframe tbody tr th:only-of-type {\n",
       "        vertical-align: middle;\n",
       "    }\n",
       "\n",
       "    .dataframe tbody tr th {\n",
       "        vertical-align: top;\n",
       "    }\n",
       "\n",
       "    .dataframe thead th {\n",
       "        text-align: right;\n",
       "    }\n",
       "</style>\n",
       "<table border=\"1\" class=\"dataframe\">\n",
       "  <thead>\n",
       "    <tr style=\"text-align: right;\">\n",
       "      <th></th>\n",
       "      <th></th>\n",
       "      <th>quantity-mean</th>\n",
       "      <th>quantity-max</th>\n",
       "      <th>quantity-min</th>\n",
       "      <th>quantity-sum</th>\n",
       "      <th>quantity-count</th>\n",
       "      <th>price-mean</th>\n",
       "      <th>price-max</th>\n",
       "      <th>price-min</th>\n",
       "      <th>price-sum</th>\n",
       "      <th>price-count</th>\n",
       "      <th>...</th>\n",
       "      <th>minute-mean</th>\n",
       "      <th>minute-max</th>\n",
       "      <th>minute-min</th>\n",
       "      <th>minute-sum</th>\n",
       "      <th>minute-count</th>\n",
       "      <th>hour-mean</th>\n",
       "      <th>hour-max</th>\n",
       "      <th>hour-min</th>\n",
       "      <th>hour-sum</th>\n",
       "      <th>hour-count</th>\n",
       "    </tr>\n",
       "    <tr>\n",
       "      <th>customer_id</th>\n",
       "      <th>month</th>\n",
       "      <th></th>\n",
       "      <th></th>\n",
       "      <th></th>\n",
       "      <th></th>\n",
       "      <th></th>\n",
       "      <th></th>\n",
       "      <th></th>\n",
       "      <th></th>\n",
       "      <th></th>\n",
       "      <th></th>\n",
       "      <th></th>\n",
       "      <th></th>\n",
       "      <th></th>\n",
       "      <th></th>\n",
       "      <th></th>\n",
       "      <th></th>\n",
       "      <th></th>\n",
       "      <th></th>\n",
       "      <th></th>\n",
       "      <th></th>\n",
       "      <th></th>\n",
       "    </tr>\n",
       "  </thead>\n",
       "  <tbody>\n",
       "    <tr>\n",
       "      <th>12346.0</th>\n",
       "      <th>1</th>\n",
       "      <td>0.000000</td>\n",
       "      <td>74215</td>\n",
       "      <td>-74215</td>\n",
       "      <td>0</td>\n",
       "      <td>2</td>\n",
       "      <td>1.716000</td>\n",
       "      <td>1.7160</td>\n",
       "      <td>1.7160</td>\n",
       "      <td>3.4320</td>\n",
       "      <td>2</td>\n",
       "      <td>...</td>\n",
       "      <td>9.0</td>\n",
       "      <td>17</td>\n",
       "      <td>1</td>\n",
       "      <td>18</td>\n",
       "      <td>2</td>\n",
       "      <td>10.0</td>\n",
       "      <td>10</td>\n",
       "      <td>10</td>\n",
       "      <td>20</td>\n",
       "      <td>2</td>\n",
       "    </tr>\n",
       "    <tr>\n",
       "      <th rowspan=\"4\" valign=\"top\">12347.0</th>\n",
       "      <th>1</th>\n",
       "      <td>10.862069</td>\n",
       "      <td>24</td>\n",
       "      <td>3</td>\n",
       "      <td>315</td>\n",
       "      <td>29</td>\n",
       "      <td>4.163121</td>\n",
       "      <td>21.0375</td>\n",
       "      <td>0.6930</td>\n",
       "      <td>120.7305</td>\n",
       "      <td>29</td>\n",
       "      <td>...</td>\n",
       "      <td>30.0</td>\n",
       "      <td>30</td>\n",
       "      <td>30</td>\n",
       "      <td>870</td>\n",
       "      <td>29</td>\n",
       "      <td>14.0</td>\n",
       "      <td>14</td>\n",
       "      <td>14</td>\n",
       "      <td>406</td>\n",
       "      <td>29</td>\n",
       "    </tr>\n",
       "    <tr>\n",
       "      <th>4</th>\n",
       "      <td>20.125000</td>\n",
       "      <td>240</td>\n",
       "      <td>3</td>\n",
       "      <td>483</td>\n",
       "      <td>24</td>\n",
       "      <td>4.282437</td>\n",
       "      <td>21.0375</td>\n",
       "      <td>0.4125</td>\n",
       "      <td>102.7785</td>\n",
       "      <td>24</td>\n",
       "      <td>...</td>\n",
       "      <td>43.0</td>\n",
       "      <td>43</td>\n",
       "      <td>43</td>\n",
       "      <td>1032</td>\n",
       "      <td>24</td>\n",
       "      <td>10.0</td>\n",
       "      <td>10</td>\n",
       "      <td>10</td>\n",
       "      <td>240</td>\n",
       "      <td>24</td>\n",
       "    </tr>\n",
       "    <tr>\n",
       "      <th>6</th>\n",
       "      <td>10.888889</td>\n",
       "      <td>36</td>\n",
       "      <td>2</td>\n",
       "      <td>196</td>\n",
       "      <td>18</td>\n",
       "      <td>4.915167</td>\n",
       "      <td>16.4175</td>\n",
       "      <td>0.4950</td>\n",
       "      <td>88.4730</td>\n",
       "      <td>18</td>\n",
       "      <td>...</td>\n",
       "      <td>1.0</td>\n",
       "      <td>1</td>\n",
       "      <td>1</td>\n",
       "      <td>18</td>\n",
       "      <td>18</td>\n",
       "      <td>13.0</td>\n",
       "      <td>13</td>\n",
       "      <td>13</td>\n",
       "      <td>234</td>\n",
       "      <td>18</td>\n",
       "    </tr>\n",
       "    <tr>\n",
       "      <th>8</th>\n",
       "      <td>12.590909</td>\n",
       "      <td>36</td>\n",
       "      <td>3</td>\n",
       "      <td>277</td>\n",
       "      <td>22</td>\n",
       "      <td>5.118000</td>\n",
       "      <td>21.0375</td>\n",
       "      <td>0.9075</td>\n",
       "      <td>112.5960</td>\n",
       "      <td>22</td>\n",
       "      <td>...</td>\n",
       "      <td>48.0</td>\n",
       "      <td>48</td>\n",
       "      <td>48</td>\n",
       "      <td>1056</td>\n",
       "      <td>22</td>\n",
       "      <td>8.0</td>\n",
       "      <td>8</td>\n",
       "      <td>8</td>\n",
       "      <td>176</td>\n",
       "      <td>22</td>\n",
       "    </tr>\n",
       "  </tbody>\n",
       "</table>\n",
       "<p>5 rows × 30 columns</p>\n",
       "</div>"
      ],
      "text/plain": [
       "                   quantity-mean  quantity-max  quantity-min  quantity-sum  \\\n",
       "customer_id month                                                            \n",
       "12346.0     1           0.000000         74215        -74215             0   \n",
       "12347.0     1          10.862069            24             3           315   \n",
       "            4          20.125000           240             3           483   \n",
       "            6          10.888889            36             2           196   \n",
       "            8          12.590909            36             3           277   \n",
       "\n",
       "                   quantity-count  price-mean  price-max  price-min  \\\n",
       "customer_id month                                                     \n",
       "12346.0     1                   2    1.716000     1.7160     1.7160   \n",
       "12347.0     1                  29    4.163121    21.0375     0.6930   \n",
       "            4                  24    4.282437    21.0375     0.4125   \n",
       "            6                  18    4.915167    16.4175     0.4950   \n",
       "            8                  22    5.118000    21.0375     0.9075   \n",
       "\n",
       "                   price-sum  price-count     ...      minute-mean  \\\n",
       "customer_id month                             ...                    \n",
       "12346.0     1         3.4320            2     ...              9.0   \n",
       "12347.0     1       120.7305           29     ...             30.0   \n",
       "            4       102.7785           24     ...             43.0   \n",
       "            6        88.4730           18     ...              1.0   \n",
       "            8       112.5960           22     ...             48.0   \n",
       "\n",
       "                   minute-max  minute-min  minute-sum  minute-count  \\\n",
       "customer_id month                                                     \n",
       "12346.0     1              17           1          18             2   \n",
       "12347.0     1              30          30         870            29   \n",
       "            4              43          43        1032            24   \n",
       "            6               1           1          18            18   \n",
       "            8              48          48        1056            22   \n",
       "\n",
       "                   hour-mean  hour-max  hour-min  hour-sum  hour-count  \n",
       "customer_id month                                                       \n",
       "12346.0     1           10.0        10        10        20           2  \n",
       "12347.0     1           14.0        14        14       406          29  \n",
       "            4           10.0        10        10       240          24  \n",
       "            6           13.0        13        13       234          18  \n",
       "            8            8.0         8         8       176          22  \n",
       "\n",
       "[5 rows x 30 columns]"
      ]
     },
     "execution_count": 51,
     "metadata": {},
     "output_type": "execute_result"
    }
   ],
   "source": [
    "train_agg = train.groupby(['customer_id', 'month']).agg(['mean', 'max', 'min', 'sum', 'count'])\n",
    "\n",
    "new_cols = []\n",
    "for col in train_agg.columns.levels[0]:\n",
    "    for stat in train_agg.columns.levels[1]:\n",
    "        new_cols.append(f'{col}-{stat}')\n",
    "        \n",
    "train_agg.columns = new_cols\n",
    "train_agg.head()"
   ]
  },
  {
   "cell_type": "markdown",
   "metadata": {},
   "source": [
    "Since we're aggregating for the previous month, we need to add one to the month and join with the labels. "
   ]
  },
  {
   "cell_type": "code",
   "execution_count": 52,
   "metadata": {},
   "outputs": [],
   "source": [
    "train_agg.reset_index(inplace = True)\n",
    "train_agg['month'] = train_agg['month'] + 1\n",
    "train_agg.set_index(['customer_id', 'month'], inplace = True)"
   ]
  },
  {
   "cell_type": "code",
   "execution_count": 53,
   "metadata": {},
   "outputs": [],
   "source": [
    "train_data = train_labels.merge(train_agg, on = ['customer_id', 'month'], how = 'left')"
   ]
  },
  {
   "cell_type": "markdown",
   "metadata": {},
   "source": [
    "Now the stats for the _previous_ month are associated with the label. So the stats for June are going to be used to predict the label for July."
   ]
  },
  {
   "cell_type": "code",
   "execution_count": 54,
   "metadata": {},
   "outputs": [],
   "source": [
    "test_agg = test.groupby(['customer_id', 'month']).agg(['mean', 'max', 'min', 'sum', 'count'])\n",
    "\n",
    "new_cols = []\n",
    "for col in test_agg.columns.levels[0]:\n",
    "    for stat in test_agg.columns.levels[1]:\n",
    "        new_cols.append(f'{col}-{stat}')\n",
    "        \n",
    "test_agg.columns = new_cols\n",
    "test_agg.reset_index(inplace = True)\n",
    "test_agg['month'] = test_agg['month'] + 1\n",
    "test_agg.set_index(['customer_id', 'month'], inplace = True)\n",
    "test_data = test_labels.merge(test_agg, on = ['customer_id', 'month'], how = 'left')"
   ]
  },
  {
   "cell_type": "markdown",
   "metadata": {},
   "source": [
    "The same thing applies for the test data. The information in each row comes from November because the label is for December. "
   ]
  },
  {
   "cell_type": "code",
   "execution_count": 55,
   "metadata": {},
   "outputs": [
    {
     "data": {
      "text/html": [
       "<div>\n",
       "<style scoped>\n",
       "    .dataframe tbody tr th:only-of-type {\n",
       "        vertical-align: middle;\n",
       "    }\n",
       "\n",
       "    .dataframe tbody tr th {\n",
       "        vertical-align: top;\n",
       "    }\n",
       "\n",
       "    .dataframe thead th {\n",
       "        text-align: right;\n",
       "    }\n",
       "</style>\n",
       "<table border=\"1\" class=\"dataframe\">\n",
       "  <thead>\n",
       "    <tr style=\"text-align: right;\">\n",
       "      <th></th>\n",
       "      <th>customer_id</th>\n",
       "      <th>label</th>\n",
       "      <th>month</th>\n",
       "      <th>quantity-mean</th>\n",
       "      <th>quantity-max</th>\n",
       "      <th>quantity-min</th>\n",
       "      <th>quantity-sum</th>\n",
       "      <th>quantity-count</th>\n",
       "      <th>price-mean</th>\n",
       "      <th>price-max</th>\n",
       "      <th>...</th>\n",
       "      <th>minute-mean</th>\n",
       "      <th>minute-max</th>\n",
       "      <th>minute-min</th>\n",
       "      <th>minute-sum</th>\n",
       "      <th>minute-count</th>\n",
       "      <th>hour-mean</th>\n",
       "      <th>hour-max</th>\n",
       "      <th>hour-min</th>\n",
       "      <th>hour-sum</th>\n",
       "      <th>hour-count</th>\n",
       "    </tr>\n",
       "  </thead>\n",
       "  <tbody>\n",
       "    <tr>\n",
       "      <th>0</th>\n",
       "      <td>12347.0</td>\n",
       "      <td>0</td>\n",
       "      <td>12</td>\n",
       "      <td>NaN</td>\n",
       "      <td>NaN</td>\n",
       "      <td>NaN</td>\n",
       "      <td>NaN</td>\n",
       "      <td>NaN</td>\n",
       "      <td>NaN</td>\n",
       "      <td>NaN</td>\n",
       "      <td>...</td>\n",
       "      <td>NaN</td>\n",
       "      <td>NaN</td>\n",
       "      <td>NaN</td>\n",
       "      <td>NaN</td>\n",
       "      <td>NaN</td>\n",
       "      <td>NaN</td>\n",
       "      <td>NaN</td>\n",
       "      <td>NaN</td>\n",
       "      <td>NaN</td>\n",
       "      <td>NaN</td>\n",
       "    </tr>\n",
       "    <tr>\n",
       "      <th>1</th>\n",
       "      <td>12358.0</td>\n",
       "      <td>1</td>\n",
       "      <td>12</td>\n",
       "      <td>NaN</td>\n",
       "      <td>NaN</td>\n",
       "      <td>NaN</td>\n",
       "      <td>NaN</td>\n",
       "      <td>NaN</td>\n",
       "      <td>NaN</td>\n",
       "      <td>NaN</td>\n",
       "      <td>...</td>\n",
       "      <td>NaN</td>\n",
       "      <td>NaN</td>\n",
       "      <td>NaN</td>\n",
       "      <td>NaN</td>\n",
       "      <td>NaN</td>\n",
       "      <td>NaN</td>\n",
       "      <td>NaN</td>\n",
       "      <td>NaN</td>\n",
       "      <td>NaN</td>\n",
       "      <td>NaN</td>\n",
       "    </tr>\n",
       "    <tr>\n",
       "      <th>2</th>\n",
       "      <td>12359.0</td>\n",
       "      <td>0</td>\n",
       "      <td>12</td>\n",
       "      <td>NaN</td>\n",
       "      <td>NaN</td>\n",
       "      <td>NaN</td>\n",
       "      <td>NaN</td>\n",
       "      <td>NaN</td>\n",
       "      <td>NaN</td>\n",
       "      <td>NaN</td>\n",
       "      <td>...</td>\n",
       "      <td>NaN</td>\n",
       "      <td>NaN</td>\n",
       "      <td>NaN</td>\n",
       "      <td>NaN</td>\n",
       "      <td>NaN</td>\n",
       "      <td>NaN</td>\n",
       "      <td>NaN</td>\n",
       "      <td>NaN</td>\n",
       "      <td>NaN</td>\n",
       "      <td>NaN</td>\n",
       "    </tr>\n",
       "    <tr>\n",
       "      <th>3</th>\n",
       "      <td>12362.0</td>\n",
       "      <td>1</td>\n",
       "      <td>12</td>\n",
       "      <td>10.684211</td>\n",
       "      <td>36.0</td>\n",
       "      <td>-3.0</td>\n",
       "      <td>203.0</td>\n",
       "      <td>19.0</td>\n",
       "      <td>6.302132</td>\n",
       "      <td>24.75</td>\n",
       "      <td>...</td>\n",
       "      <td>14.578947</td>\n",
       "      <td>55.0</td>\n",
       "      <td>7.0</td>\n",
       "      <td>277.0</td>\n",
       "      <td>19.0</td>\n",
       "      <td>9.789474</td>\n",
       "      <td>14.0</td>\n",
       "      <td>9.0</td>\n",
       "      <td>186.0</td>\n",
       "      <td>19.0</td>\n",
       "    </tr>\n",
       "    <tr>\n",
       "      <th>4</th>\n",
       "      <td>12364.0</td>\n",
       "      <td>1</td>\n",
       "      <td>12</td>\n",
       "      <td>NaN</td>\n",
       "      <td>NaN</td>\n",
       "      <td>NaN</td>\n",
       "      <td>NaN</td>\n",
       "      <td>NaN</td>\n",
       "      <td>NaN</td>\n",
       "      <td>NaN</td>\n",
       "      <td>...</td>\n",
       "      <td>NaN</td>\n",
       "      <td>NaN</td>\n",
       "      <td>NaN</td>\n",
       "      <td>NaN</td>\n",
       "      <td>NaN</td>\n",
       "      <td>NaN</td>\n",
       "      <td>NaN</td>\n",
       "      <td>NaN</td>\n",
       "      <td>NaN</td>\n",
       "      <td>NaN</td>\n",
       "    </tr>\n",
       "  </tbody>\n",
       "</table>\n",
       "<p>5 rows × 33 columns</p>\n",
       "</div>"
      ],
      "text/plain": [
       "   customer_id  label  month  quantity-mean  quantity-max  quantity-min  \\\n",
       "0      12347.0      0     12            NaN           NaN           NaN   \n",
       "1      12358.0      1     12            NaN           NaN           NaN   \n",
       "2      12359.0      0     12            NaN           NaN           NaN   \n",
       "3      12362.0      1     12      10.684211          36.0          -3.0   \n",
       "4      12364.0      1     12            NaN           NaN           NaN   \n",
       "\n",
       "   quantity-sum  quantity-count  price-mean  price-max     ...      \\\n",
       "0           NaN             NaN         NaN        NaN     ...       \n",
       "1           NaN             NaN         NaN        NaN     ...       \n",
       "2           NaN             NaN         NaN        NaN     ...       \n",
       "3         203.0            19.0    6.302132      24.75     ...       \n",
       "4           NaN             NaN         NaN        NaN     ...       \n",
       "\n",
       "   minute-mean  minute-max  minute-min  minute-sum  minute-count  hour-mean  \\\n",
       "0          NaN         NaN         NaN         NaN           NaN        NaN   \n",
       "1          NaN         NaN         NaN         NaN           NaN        NaN   \n",
       "2          NaN         NaN         NaN         NaN           NaN        NaN   \n",
       "3    14.578947        55.0         7.0       277.0          19.0   9.789474   \n",
       "4          NaN         NaN         NaN         NaN           NaN        NaN   \n",
       "\n",
       "   hour-max  hour-min  hour-sum  hour-count  \n",
       "0       NaN       NaN       NaN         NaN  \n",
       "1       NaN       NaN       NaN         NaN  \n",
       "2       NaN       NaN       NaN         NaN  \n",
       "3      14.0       9.0     186.0        19.0  \n",
       "4       NaN       NaN       NaN         NaN  \n",
       "\n",
       "[5 rows x 33 columns]"
      ]
     },
     "execution_count": 55,
     "metadata": {},
     "output_type": "execute_result"
    }
   ],
   "source": [
    "test_data.head()"
   ]
  },
  {
   "cell_type": "markdown",
   "metadata": {},
   "source": [
    "Now let's train and test a model."
   ]
  },
  {
   "cell_type": "code",
   "execution_count": 56,
   "metadata": {},
   "outputs": [],
   "source": [
    "feature_names = train_data.drop(columns = ['customer_id', 'label', 'month']).columns\n",
    "\n",
    "pipeline = Pipeline([('imputer', Imputer(strategy = 'median')), \n",
    "                      ('scaler', MinMaxScaler())])\n",
    "\n",
    "# Fit and transform training data\n",
    "train_ready = pipeline.fit_transform(train_data.drop(columns = ['customer_id', 'label', 'month']))\n",
    "test_ready = pipeline.transform(test_data.drop(columns = ['customer_id', 'label', 'month']))"
   ]
  },
  {
   "cell_type": "code",
   "execution_count": 57,
   "metadata": {},
   "outputs": [
    {
     "data": {
      "text/plain": [
       "RandomForestClassifier(bootstrap=True, class_weight=None, criterion='gini',\n",
       "            max_depth=None, max_features='auto', max_leaf_nodes=None,\n",
       "            min_impurity_decrease=0.0, min_impurity_split=None,\n",
       "            min_samples_leaf=1, min_samples_split=2,\n",
       "            min_weight_fraction_leaf=0.0, n_estimators=1000, n_jobs=-1,\n",
       "            oob_score=False, random_state=50, verbose=0, warm_start=False)"
      ]
     },
     "execution_count": 57,
     "metadata": {},
     "output_type": "execute_result"
    }
   ],
   "source": [
    "model = RandomForestClassifier(n_estimators=1000, n_jobs = -1, random_state=50)\n",
    "model.fit(train_ready, train_data['label'])"
   ]
  },
  {
   "cell_type": "code",
   "execution_count": 58,
   "metadata": {},
   "outputs": [
    {
     "name": "stdout",
     "output_type": "stream",
     "text": [
      "Precision: 0.3653\n",
      "Recall: 0.25157\n",
      "F1 Score: 0.29795\n",
      "ROC AUC: 0.75533\n"
     ]
    }
   ],
   "source": [
    "predictions = model.predict(test_ready)\n",
    "\n",
    "predictions = model.predict(test_ready)\n",
    "probs = model.predict_proba(test_ready)[:, 1]\n",
    "\n",
    "# Calculate metrics\n",
    "p = precision_score(test_labels['label'], predictions)\n",
    "r = recall_score(test_labels['label'], predictions)\n",
    "f = f1_score(test_labels['label'], predictions)\n",
    "auc = roc_auc_score(test_labels['label'], probs)\n",
    "\n",
    "print(f'Precision: {round(p, 5)}')\n",
    "print(f'Recall: {round(r, 5)}')\n",
    "print(f'F1 Score: {round(f, 5)}')\n",
    "print(f'ROC AUC: {round(auc, 5)}')\n",
    "\n",
    "# Feature importances\n",
    "fi = pd.DataFrame({'feature': feature_names, 'importance': model.feature_importances_})"
   ]
  },
  {
   "cell_type": "code",
   "execution_count": 59,
   "metadata": {},
   "outputs": [
    {
     "data": {
      "image/png": "[encoded data removed]",
      "text/plain": [
       "<Figure size 864x576 with 1 Axes>"
      ]
     },
     "metadata": {},
     "output_type": "display_data"
    }
   ],
   "source": [
    "from utils import plot_feature_importances\n",
    "norm_fi = plot_feature_importances(fi)"
   ]
  },
  {
   "cell_type": "markdown",
   "metadata": {},
   "source": [
    "Our first attempt at a model does slightly better than the baseline but performs worse in terms of F1 score. The most important features do make sense though because the total spent previously or the total quantity purchased previously are good indicators of how much a customer will purchase in the future. \n",
    "\n",
    "Let's take this code and use it in a function so we can make predictions for any month.\n",
    "\n",
    "### Function for Aggregating and Predicting Monthly Data"
   ]
  },
  {
   "cell_type": "code",
   "execution_count": 64,
   "metadata": {},
   "outputs": [],
   "source": [
    "def predict_month(month):\n",
    "    train = data[data['month'] < (month - 1)]\n",
    "    test = data[data['month'] == (month - 1)]\n",
    "    train_labels = labels.loc[labels['month'] < month, ['customer_id', 'label', 'month']]\n",
    "    test_labels = labels.loc[labels['month'] == month, ['customer_id', 'label', 'month']]\n",
    "    \n",
    "    train_agg = train.groupby(['customer_id', 'month']).agg(['mean', 'max', 'min', 'sum', 'count'])\n",
    "\n",
    "    new_cols = []\n",
    "    for col in train_agg.columns.levels[0]:\n",
    "        for stat in train_agg.columns.levels[1]:\n",
    "            new_cols.append(f'{col}-{stat}')\n",
    "\n",
    "    train_agg.columns = new_cols\n",
    "\n",
    "    train_data = train_labels.merge(train_agg, on = ['customer_id', 'month'], how = 'left').fillna(0)\n",
    "\n",
    "    feature_names = train_data.drop(columns = ['customer_id', 'label', 'month']).columns\n",
    "    \n",
    "    test_agg = test.groupby(['customer_id', 'month']).agg(['mean', 'max', 'min', 'sum', 'count'])\n",
    "\n",
    "    new_cols = []\n",
    "    for col in test_agg.columns.levels[0]:\n",
    "        for stat in test_agg.columns.levels[1]:\n",
    "            new_cols.append(f'{col}-{stat}')\n",
    "\n",
    "    test_agg.columns = new_cols\n",
    "    test_agg.reset_index(inplace = True)\n",
    "    test_agg['month'] = test_agg['month'] + 1\n",
    "    test_agg.set_index(['customer_id', 'month'], inplace = True)\n",
    "    test_data = test_labels.merge(test_agg, on = ['customer_id', 'month'], how = 'left').fillna(0)\n",
    "\n",
    "    pipeline = Pipeline([('imputer', Imputer(strategy = 'median')), \n",
    "                          ('scaler', MinMaxScaler())])\n",
    "\n",
    "    # Fit and transform training data\n",
    "    train_ready = pipeline.fit_transform(train_data.drop(columns = ['customer_id', 'label', 'month']))\n",
    "    test_ready = pipeline.transform(test_data.drop(columns = ['customer_id', 'label', 'month']))\n",
    "\n",
    "    model = RandomForestClassifier(n_estimators=1000, n_jobs = -1, random_state=50)\n",
    "    model.fit(train_ready, train_data['label'])\n",
    "\n",
    "    predictions = model.predict(test_ready)\n",
    "\n",
    "    predictions = model.predict(test_ready)\n",
    "    probs = model.predict_proba(test_ready)[:, 1]\n",
    "\n",
    "    # Calculate metrics\n",
    "    p = precision_score(test_labels['label'], predictions)\n",
    "    r = recall_score(test_labels['label'], predictions)\n",
    "    f = f1_score(test_labels['label'], predictions)\n",
    "    auc = roc_auc_score(test_labels['label'], probs)\n",
    "\n",
    "    print(f'Precision: {round(p, 5)}')\n",
    "    print(f'Recall: {round(r, 5)}')\n",
    "    print(f'F1 Score: {round(f, 5)}')\n",
    "    print(f'ROC AUC: {round(auc, 5)}')\n",
    "\n",
    "    # Feature importances\n",
    "    fi = pd.DataFrame({'feature': feature_names, 'importance': model.feature_importances_})\n",
    "    \n",
    "    return fi\n"
   ]
  },
  {
   "cell_type": "code",
   "execution_count": 65,
   "metadata": {},
   "outputs": [
    {
     "name": "stdout",
     "output_type": "stream",
     "text": [
      "Precision: 0.36229\n",
      "Recall: 0.43653\n",
      "F1 Score: 0.39596\n",
      "ROC AUC: 0.66162\n"
     ]
    }
   ],
   "source": [
    "july_fi = predict_month(7)"
   ]
  },
  {
   "cell_type": "code",
   "execution_count": 66,
   "metadata": {},
   "outputs": [
    {
     "name": "stdout",
     "output_type": "stream",
     "text": [
      "Precision: 0.41784.\n",
      "Recall: 0.39644.\n",
      "F1 Score: 0.40686.\n",
      "ROC AUC Score: 0.64365.\n"
     ]
    }
   ],
   "source": [
    "_ = informed_baseline(7)"
   ]
  },
  {
   "cell_type": "code",
   "execution_count": 67,
   "metadata": {},
   "outputs": [
    {
     "name": "stdout",
     "output_type": "stream",
     "text": [
      "Model Results\n",
      "\n",
      "Precision: 0.34909\n",
      "Recall: 0.42857\n",
      "F1 Score: 0.38477\n",
      "ROC AUC: 0.66284\n",
      "Baseline Results\n",
      "\n",
      "Precision: 0.40089.\n",
      "Recall: 0.40179.\n",
      "F1 Score: 0.40134.\n",
      "ROC AUC Score: 0.66544.\n"
     ]
    }
   ],
   "source": [
    "print('Model Results\\n')\n",
    "august_fi = predict_month(8)\n",
    "\n",
    "print('Baseline Results\\n')\n",
    "_ = informed_baseline(8)"
   ]
  },
  {
   "cell_type": "markdown",
   "metadata": {},
   "source": [
    "It should not be that surprising our model doesn't do better than the baseline. Our aggregations are _only using the past month_ and therefore are essentially doing the same process as the informed guess. In order to try and perform better, we should make features for each label using all the previous data for the customer. That means for the June labels, we do not just use information from May, but from the entire sequence of data for the customer. \n",
    "\n",
    "## Including More Information\n",
    "\n",
    "We can rewrite the code to aggregate information over all the previous months for each label. "
   ]
  },
  {
   "cell_type": "code",
   "execution_count": 106,
   "metadata": {},
   "outputs": [],
   "source": [
    "def predict_month_expanded(month, return_probs = False):\n",
    "    \n",
    "    train = data[data['month'] < (month - 1)]\n",
    "    test = data[data['month'] < month ]\n",
    "    \n",
    "    # Training labels are from all previous months\n",
    "    train_labels = labels.loc[labels['month'] < month, ['customer_id', 'label', 'month']]\n",
    "    \n",
    "    # Test labels are from a single month\n",
    "    test_labels = labels.loc[labels['month'] == month, ['customer_id', 'label', 'month']]\n",
    "    \n",
    "    # Iterate through each month\n",
    "    for i, train_month in enumerate(train_labels['month'].unique()):\n",
    "\n",
    "        # Training data is from all months before the label\n",
    "        train_agg = train.loc[train['month'] < train_month].groupby(['customer_id']).agg(['mean', 'max', 'min', 'sum', 'count'])\n",
    "\n",
    "        # Rename the columns\n",
    "        new_cols = []\n",
    "        for col in train_agg.columns.levels[0]:\n",
    "            for stat in train_agg.columns.levels[1]:\n",
    "                new_cols.append(f'{col}-{stat}')\n",
    "\n",
    "        train_agg.columns = new_cols\n",
    "        train_agg.reset_index(inplace = True)\n",
    "        \n",
    "        # Set the month for joining to the labels\n",
    "        train_agg['month'] = train_month\n",
    "        \n",
    "        # Create a dataframe of the training data\n",
    "        if i == 0:\n",
    "             all_train_data = train_agg.copy()\n",
    "                \n",
    "        else:\n",
    "            all_train_data = all_train_data.append(all_train_data)\n",
    "            \n",
    "    # all_train_data.set_index(['customer_id', 'month'], inplace = True)\n",
    "    # Join with the labels on the customer and month\n",
    "    all_train_data = train_labels.merge(all_train_data, on = ['customer_id', 'month'], how = 'left')\n",
    "        \n",
    "    feature_names = all_train_data.drop(columns = ['customer_id', 'label', 'month']).columns\n",
    "    \n",
    "    # Test data is already subsetted to all previous months\n",
    "    test_agg = test.groupby(['customer_id']).agg(['mean', 'max', 'min', 'sum', 'count'])\n",
    "    \n",
    "    # Rename the columns\n",
    "    new_cols = []\n",
    "    for col in test_agg.columns.levels[0]:\n",
    "        for stat in test_agg.columns.levels[1]:\n",
    "            new_cols.append(f'{col}-{stat}')\n",
    "\n",
    "    test_agg.columns = new_cols\n",
    "    # test_agg.set_index(['customer_id', 'month'], inplace = True)\n",
    "    test_data = test_labels.merge(test_agg, on = ['customer_id'], how = 'left')\n",
    "\n",
    "    pipeline = Pipeline([('imputer', Imputer(strategy = 'median')), \n",
    "                          ('scaler', MinMaxScaler())])\n",
    "\n",
    "    # Imputer the missing values and scale\n",
    "    train_ready = pipeline.fit_transform(all_train_data.drop(columns = ['customer_id', 'label', 'month']))\n",
    "    test_ready = pipeline.transform(test_data.drop(columns = ['customer_id', 'label', 'month']))\n",
    "\n",
    "    # Machine learning modeling\n",
    "    model = RandomForestClassifier(n_estimators=1000, n_jobs = -1, random_state=50)\n",
    "    model.fit(train_ready, all_train_data['label'])\n",
    "\n",
    "    # Predictions\n",
    "    predictions = model.predict(test_ready)\n",
    "    predictions = model.predict(test_ready)\n",
    "    probs = model.predict_proba(test_ready)[:, 1]\n",
    "\n",
    "    # Calculate metrics\n",
    "    p = precision_score(test_labels['label'], predictions)\n",
    "    r = recall_score(test_labels['label'], predictions)\n",
    "    f = f1_score(test_labels['label'], predictions)\n",
    "    auc = roc_auc_score(test_labels['label'], probs)\n",
    "\n",
    "    print(f'Precision: {round(p, 5)}')\n",
    "    print(f'Recall: {round(r, 5)}')\n",
    "    print(f'F1 Score: {round(f, 5)}')\n",
    "    print(f'ROC AUC: {round(auc, 5)}')\n",
    "\n",
    "    # Feature importances\n",
    "    fi = pd.DataFrame({'feature': feature_names, 'importance': model.feature_importances_})\n",
    "    \n",
    "    if return_probs:\n",
    "        return fi, probs\n",
    "    \n",
    "    return fi"
   ]
  },
  {
   "cell_type": "code",
   "execution_count": 101,
   "metadata": {},
   "outputs": [
    {
     "name": "stdout",
     "output_type": "stream",
     "text": [
      "Precision: 0.5124\n",
      "Recall: 0.43662\n",
      "F1 Score: 0.47148\n",
      "ROC AUC: 0.76242\n"
     ]
    }
   ],
   "source": [
    "june_fi = predict_month_expanded(6)"
   ]
  },
  {
   "cell_type": "code",
   "execution_count": 102,
   "metadata": {},
   "outputs": [
    {
     "name": "stdout",
     "output_type": "stream",
     "text": [
      "Precision: 0.46912\n",
      "Recall: 0.50877\n",
      "F1 Score: 0.48814\n",
      "ROC AUC: 0.76909\n"
     ]
    }
   ],
   "source": [
    "september_fi = predict_month_expanded(9)"
   ]
  },
  {
   "cell_type": "code",
   "execution_count": 103,
   "metadata": {},
   "outputs": [
    {
     "name": "stdout",
     "output_type": "stream",
     "text": [
      "Precision: 0.19911\n",
      "Recall: 0.70126\n",
      "F1 Score: 0.31015\n",
      "ROC AUC: 0.80234\n"
     ]
    }
   ],
   "source": [
    "december_fi = predict_month_expanded(12)"
   ]
  },
  {
   "cell_type": "code",
   "execution_count": 104,
   "metadata": {},
   "outputs": [
    {
     "data": {
      "image/png": "[encoded data removed]",
      "text/plain": [
       "<Figure size 864x576 with 1 Axes>"
      ]
     },
     "metadata": {},
     "output_type": "display_data"
    }
   ],
   "source": [
    "_ = plot_feature_importances(june_fi)"
   ]
  },
  {
   "cell_type": "markdown",
   "metadata": {},
   "source": [
    "We can conclude from the metrics that manual feature engineering now outperforms the baseline if we use all of the previous information. Looking at the feature importances, they seem to make sense in the domain of the problem. However, I'm not entirely convinced that all of the data is allowable for this problem. Taking on this problem by hand introduces many opportunities for error. Companies routinely struggle with the issue of using only valid data and often will design a model that does well in development but then fails in deployment because it was trained on data that won't actually be available in the real world. \n",
    "\n",
    "Featuretools can automatically handle the cutoff times for us, ensuring that all of our features are built using valid data. If the method exists and can be used to safely build features, then what's the downside to using it as opposed to doing everything by hand? Finally, let's take a look at a comparison between manual and automated feature engineering performance."
   ]
  },
  {
   "cell_type": "markdown",
   "metadata": {},
   "source": [
    "# Comparison to Automated Feature Engineering\n",
    "\n",
    "To compare the performance of Automated Feature Engineering, the baseline model, and manual feature engineering, we can plot the ROC AUC curves for each month. A ROC AUC curve that is strictly higher than the curve for another classifier indicates a better classifier. "
   ]
  },
  {
   "cell_type": "code",
   "execution_count": 111,
   "metadata": {},
   "outputs": [],
   "source": [
    "%%capture\n",
    "\n",
    "for month in range(4, 13):\n",
    "    _, probs = predict_month_expanded(month, True)\n",
    "    temp_df = pd.DataFrame({'Manual': probs, 'month': month})\n",
    "    \n",
    "    if month == 4:\n",
    "        probs_df = temp_df.copy()\n",
    "    \n",
    "    else:\n",
    "        probs_df = probs_df.append(temp_df)\n",
    "        \n",
    "probs_df.head()"
   ]
  },
  {
   "cell_type": "code",
   "execution_count": 113,
   "metadata": {},
   "outputs": [
    {
     "data": {
      "text/plain": [
       "(26851, 2)"
      ]
     },
     "execution_count": 113,
     "metadata": {},
     "output_type": "execute_result"
    }
   ],
   "source": [
    "probs_df.shape"
   ]
  },
  {
   "cell_type": "code",
   "execution_count": 114,
   "metadata": {},
   "outputs": [
    {
     "data": {
      "text/plain": [
       "(28133, 5)"
      ]
     },
     "execution_count": 114,
     "metadata": {},
     "output_type": "execute_result"
    }
   ],
   "source": [
    "labels.shape"
   ]
  },
  {
   "cell_type": "code",
   "execution_count": null,
   "metadata": {},
   "outputs": [],
   "source": [
    "labels.loc-l"
   ]
  },
  {
   "cell_type": "code",
   "execution_count": 116,
   "metadata": {},
   "outputs": [
    {
     "data": {
      "text/plain": [
       "array([ 3,  4,  5,  6,  7,  8,  9, 10, 11, 12])"
      ]
     },
     "execution_count": 116,
     "metadata": {},
     "output_type": "execute_result"
    }
   ],
   "source": [
    "labels['month'].unique()"
   ]
  },
  {
   "cell_type": "markdown",
   "metadata": {},
   "source": [
    "## Normalizing Data\n",
    "\n",
    "It can be a little easier to use our data if we have it in normalized tables where each row represents a unique observations. We'll create 4 tables of information:\n",
    "\n",
    "* customers: each customer (`customter_id`) will have one row\n",
    "* products: each product (`product_id`) will have one row\n",
    "* orders: each invoice (`order_id`) will have one row\n",
    "* purchases: each purchased item will have one row\n",
    "\n",
    "The purchases dataframe is the child of all the other dataframes. The `customers` dataframe is where we will make our features for the prediction problem. Hence to make features, we will have to aggregate the purchase data for each customer. Let's start by breaking the data into multiple dataframes. We'll have to keep separate tables in order to not mix the training and testing data.a"
   ]
  },
  {
   "cell_type": "markdown",
   "metadata": {},
   "source": [
    "### Orders\n",
    "\n",
    "First we'll create a table of just the orders. Each order is uniquely identified by the `order_id` and also has a date, customer, and country. We can also add a `total_price` for the order by summing up all of the products associated with that order."
   ]
  },
  {
   "cell_type": "code",
   "execution_count": 27,
   "metadata": {},
   "outputs": [
    {
     "data": {
      "text/html": [
       "<div>\n",
       "<style scoped>\n",
       "    .dataframe tbody tr th:only-of-type {\n",
       "        vertical-align: middle;\n",
       "    }\n",
       "\n",
       "    .dataframe tbody tr th {\n",
       "        vertical-align: top;\n",
       "    }\n",
       "\n",
       "    .dataframe thead th {\n",
       "        text-align: right;\n",
       "    }\n",
       "</style>\n",
       "<table border=\"1\" class=\"dataframe\">\n",
       "  <thead>\n",
       "    <tr style=\"text-align: right;\">\n",
       "      <th></th>\n",
       "      <th>order_id</th>\n",
       "      <th>date_only</th>\n",
       "      <th>customer_id</th>\n",
       "      <th>country</th>\n",
       "      <th>price</th>\n",
       "    </tr>\n",
       "  </thead>\n",
       "  <tbody>\n",
       "    <tr>\n",
       "      <th>0</th>\n",
       "      <td>539993</td>\n",
       "      <td>2011-01-04</td>\n",
       "      <td>13313.0</td>\n",
       "      <td>United Kingdom</td>\n",
       "      <td>62.7660</td>\n",
       "    </tr>\n",
       "    <tr>\n",
       "      <th>1</th>\n",
       "      <td>540001</td>\n",
       "      <td>2011-01-04</td>\n",
       "      <td>18097.0</td>\n",
       "      <td>United Kingdom</td>\n",
       "      <td>43.9395</td>\n",
       "    </tr>\n",
       "    <tr>\n",
       "      <th>2</th>\n",
       "      <td>540002</td>\n",
       "      <td>2011-01-04</td>\n",
       "      <td>16656.0</td>\n",
       "      <td>United Kingdom</td>\n",
       "      <td>26.1030</td>\n",
       "    </tr>\n",
       "    <tr>\n",
       "      <th>3</th>\n",
       "      <td>540003</td>\n",
       "      <td>2011-01-04</td>\n",
       "      <td>16875.0</td>\n",
       "      <td>United Kingdom</td>\n",
       "      <td>216.6450</td>\n",
       "    </tr>\n",
       "    <tr>\n",
       "      <th>4</th>\n",
       "      <td>540004</td>\n",
       "      <td>2011-01-04</td>\n",
       "      <td>13094.0</td>\n",
       "      <td>United Kingdom</td>\n",
       "      <td>1.7490</td>\n",
       "    </tr>\n",
       "  </tbody>\n",
       "</table>\n",
       "</div>"
      ],
      "text/plain": [
       "  order_id   date_only  customer_id         country     price\n",
       "0   539993  2011-01-04      13313.0  United Kingdom   62.7660\n",
       "1   540001  2011-01-04      18097.0  United Kingdom   43.9395\n",
       "2   540002  2011-01-04      16656.0  United Kingdom   26.1030\n",
       "3   540003  2011-01-04      16875.0  United Kingdom  216.6450\n",
       "4   540004  2011-01-04      13094.0  United Kingdom    1.7490"
      ]
     },
     "execution_count": 27,
     "metadata": {},
     "output_type": "execute_result"
    }
   ],
   "source": [
    "orders = pd.DataFrame(data.groupby(['order_id', 'date_only', 'customer_id', 'country'])['price'].sum().reset_index())\n",
    "orders.head()"
   ]
  },
  {
   "cell_type": "markdown",
   "metadata": {},
   "source": [
    "We should make sure that this table is normalized by checking that there are no duplicated order ids."
   ]
  },
  {
   "cell_type": "code",
   "execution_count": 28,
   "metadata": {},
   "outputs": [
    {
     "name": "stdout",
     "output_type": "stream",
     "text": [
      "There are 20482 unique orders and 0 duplicated orders.\n"
     ]
    }
   ],
   "source": [
    "print(f'There are {orders[\"order_id\"].nunique()} unique orders and {np.sum(orders[\"order_id\"].duplicated())} duplicated orders.')"
   ]
  },
  {
   "cell_type": "markdown",
   "metadata": {},
   "source": [
    "This tells us we made an error in creating the table."
   ]
  },
  {
   "cell_type": "code",
   "execution_count": 29,
   "metadata": {},
   "outputs": [
    {
     "data": {
      "text/html": [
       "<div>\n",
       "<style scoped>\n",
       "    .dataframe tbody tr th:only-of-type {\n",
       "        vertical-align: middle;\n",
       "    }\n",
       "\n",
       "    .dataframe tbody tr th {\n",
       "        vertical-align: top;\n",
       "    }\n",
       "\n",
       "    .dataframe thead th {\n",
       "        text-align: right;\n",
       "    }\n",
       "</style>\n",
       "<table border=\"1\" class=\"dataframe\">\n",
       "  <thead>\n",
       "    <tr style=\"text-align: right;\">\n",
       "      <th></th>\n",
       "      <th>order_id</th>\n",
       "      <th>date_only</th>\n",
       "      <th>customer_id</th>\n",
       "      <th>country</th>\n",
       "      <th>price</th>\n",
       "    </tr>\n",
       "  </thead>\n",
       "  <tbody>\n",
       "  </tbody>\n",
       "</table>\n",
       "</div>"
      ],
      "text/plain": [
       "Empty DataFrame\n",
       "Columns: [order_id, date_only, customer_id, country, price]\n",
       "Index: []"
      ]
     },
     "execution_count": 29,
     "metadata": {},
     "output_type": "execute_result"
    }
   ],
   "source": [
    "orders[orders.duplicated(subset = 'order_id', keep = False)].head()"
   ]
  },
  {
   "cell_type": "markdown",
   "metadata": {},
   "source": [
    "The problem is that orders do not all have the same date. Therefore when we made the orders table, we should not have grouped by the date time. However, we can group by just the `date_only` and see if all orders are made on the same day. "
   ]
  },
  {
   "cell_type": "code",
   "execution_count": 30,
   "metadata": {},
   "outputs": [
    {
     "ename": "KeyError",
     "evalue": "'Column not found: total_price'",
     "output_type": "error",
     "traceback": [
      "\u001b[0;31m---------------------------------------------------------------------------\u001b[0m",
      "\u001b[0;31mKeyError\u001b[0m                                  Traceback (most recent call last)",
      "\u001b[0;32m<ipython-input-30-9e2fa12cb654>\u001b[0m in \u001b[0;36m<module>\u001b[0;34m()\u001b[0m\n\u001b[0;32m----> 1\u001b[0;31m \u001b[0morders\u001b[0m \u001b[0;34m=\u001b[0m \u001b[0mpd\u001b[0m\u001b[0;34m.\u001b[0m\u001b[0mDataFrame\u001b[0m\u001b[0;34m(\u001b[0m\u001b[0mdata\u001b[0m\u001b[0;34m.\u001b[0m\u001b[0mgroupby\u001b[0m\u001b[0;34m(\u001b[0m\u001b[0;34m[\u001b[0m\u001b[0;34m'order_id'\u001b[0m\u001b[0;34m,\u001b[0m \u001b[0;34m'date_only'\u001b[0m\u001b[0;34m,\u001b[0m \u001b[0;34m'customer_id'\u001b[0m\u001b[0;34m,\u001b[0m \u001b[0;34m'country'\u001b[0m\u001b[0;34m]\u001b[0m\u001b[0;34m)\u001b[0m\u001b[0;34m[\u001b[0m\u001b[0;34m'total_price'\u001b[0m\u001b[0;34m]\u001b[0m\u001b[0;34m.\u001b[0m\u001b[0msum\u001b[0m\u001b[0;34m(\u001b[0m\u001b[0;34m)\u001b[0m\u001b[0;34m.\u001b[0m\u001b[0mreset_index\u001b[0m\u001b[0;34m(\u001b[0m\u001b[0;34m)\u001b[0m\u001b[0;34m)\u001b[0m\u001b[0;34m\u001b[0m\u001b[0m\n\u001b[0m\u001b[1;32m      2\u001b[0m \u001b[0mprint\u001b[0m\u001b[0;34m(\u001b[0m\u001b[0;34mf'There are {orders[\"order_id\"].nunique()} unique orders and {np.sum(orders[\"order_id\"].duplicated())} duplicated orders.'\u001b[0m\u001b[0;34m)\u001b[0m\u001b[0;34m\u001b[0m\u001b[0m\n",
      "\u001b[0;32m/anaconda3/lib/python3.6/site-packages/pandas/core/base.py\u001b[0m in \u001b[0;36m__getitem__\u001b[0;34m(self, key)\u001b[0m\n\u001b[1;32m    265\u001b[0m         \u001b[0;32melse\u001b[0m\u001b[0;34m:\u001b[0m\u001b[0;34m\u001b[0m\u001b[0m\n\u001b[1;32m    266\u001b[0m             \u001b[0;32mif\u001b[0m \u001b[0mkey\u001b[0m \u001b[0;32mnot\u001b[0m \u001b[0;32min\u001b[0m \u001b[0mself\u001b[0m\u001b[0;34m.\u001b[0m\u001b[0mobj\u001b[0m\u001b[0;34m:\u001b[0m\u001b[0;34m\u001b[0m\u001b[0m\n\u001b[0;32m--> 267\u001b[0;31m                 \u001b[0;32mraise\u001b[0m \u001b[0mKeyError\u001b[0m\u001b[0;34m(\u001b[0m\u001b[0;34m\"Column not found: {key}\"\u001b[0m\u001b[0;34m.\u001b[0m\u001b[0mformat\u001b[0m\u001b[0;34m(\u001b[0m\u001b[0mkey\u001b[0m\u001b[0;34m=\u001b[0m\u001b[0mkey\u001b[0m\u001b[0;34m)\u001b[0m\u001b[0;34m)\u001b[0m\u001b[0;34m\u001b[0m\u001b[0m\n\u001b[0m\u001b[1;32m    268\u001b[0m             \u001b[0;32mreturn\u001b[0m \u001b[0mself\u001b[0m\u001b[0;34m.\u001b[0m\u001b[0m_gotitem\u001b[0m\u001b[0;34m(\u001b[0m\u001b[0mkey\u001b[0m\u001b[0;34m,\u001b[0m \u001b[0mndim\u001b[0m\u001b[0;34m=\u001b[0m\u001b[0;36m1\u001b[0m\u001b[0;34m)\u001b[0m\u001b[0;34m\u001b[0m\u001b[0m\n\u001b[1;32m    269\u001b[0m \u001b[0;34m\u001b[0m\u001b[0m\n",
      "\u001b[0;31mKeyError\u001b[0m: 'Column not found: total_price'"
     ]
    }
   ],
   "source": [
    "orders = pd.DataFrame(data.groupby(['order_id', 'date_only', 'customer_id', 'country'])['total_price'].sum().reset_index())\n",
    "print(f'There are {orders[\"order_id\"].nunique()} unique orders and {np.sum(orders[\"order_id\"].duplicated())} duplicated orders.')"
   ]
  },
  {
   "cell_type": "markdown",
   "metadata": {},
   "source": [
    "Now we are good to go without the duplicated orders. We can use this table to create features, for example by finding the total number of orders of each customer or the most common day on which they make purchases."
   ]
  },
  {
   "cell_type": "markdown",
   "metadata": {},
   "source": [
    "### Customers\n",
    "\n",
    "Each customer is uniquely identified by the `customer_id`. This table will be where we make all the features since we are predicting based on each customer."
   ]
  },
  {
   "cell_type": "code",
   "execution_count": null,
   "metadata": {},
   "outputs": [],
   "source": [
    "len(labels)"
   ]
  },
  {
   "cell_type": "code",
   "execution_count": null,
   "metadata": {},
   "outputs": [],
   "source": [
    "customers = pd.DataFrame(labels.index.unique())\n",
    "customers.head()"
   ]
  },
  {
   "cell_type": "markdown",
   "metadata": {},
   "source": [
    "### Products\n",
    "\n",
    "Each product is identified by the `product_id`. The unit price might not stay the same so we cannot associate this with each product."
   ]
  },
  {
   "cell_type": "code",
   "execution_count": null,
   "metadata": {},
   "outputs": [],
   "source": [
    "products = pd.DataFrame(data['product_id'].unique(), columns = ['product_id'])\n",
    "products.head()"
   ]
  },
  {
   "cell_type": "markdown",
   "metadata": {},
   "source": [
    "### Purchases\n",
    "\n",
    "Each purchase is idenitifed by combination of the `order_id`, the `customer_id`, and the `product_id`. The purchases data is already saved as the data table."
   ]
  },
  {
   "cell_type": "code",
   "execution_count": null,
   "metadata": {},
   "outputs": [],
   "source": [
    "purchases = data.copy()"
   ]
  },
  {
   "cell_type": "markdown",
   "metadata": {},
   "source": [
    "# Baselines\n",
    "\n",
    "Before we get started with the real feature engineering and modeling, we should establish a naive baseline model. This will let us measure the effectiveness of any feature engineering. For a regression problem, a naive baseline can be simply the average value of the train labels. \n",
    "\n",
    "## Metric \n",
    "\n",
    "Since this is a regression problem dealing with a quantity that has a real meaning, we want to use a metric that is easily understandable. The __Median Absolute Error__ (MAE) for this problem shows the median dollar amount that our forecasts are off. This can be calculated as simply the median of the absolute value of the prediction minus the true value:\n",
    "\n",
    "$$\\text{MAE} = \\text{median(abs(prediction - true value))}$$\n",
    "\n",
    "The median absolute error is a better metric than the mean absolute error since the mean will be unduly influenced by outliers (and we saw that there are a number of outliers in the target).\n",
    "\n",
    "### Naive Baseline\n",
    "\n",
    "Below we establish a naive baseline by guessing the value of the test label is the average value on the training labels."
   ]
  },
  {
   "cell_type": "code",
   "execution_count": null,
   "metadata": {},
   "outputs": [],
   "source": [
    "from sklearn.metrics import f1_score\n",
    "\n",
    "print(f'Baseline Guess F1 Score = {f1_score(test_labels, [0 for _ in range(len(test_labels))])}.') "
   ]
  },
  {
   "cell_type": "code",
   "execution_count": null,
   "metadata": {},
   "outputs": [],
   "source": [
    "f1_score(test_labels, [np.random.randint(0, 2, 1)[0] for _ in range(len(test_labels))])"
   ]
  },
  {
   "cell_type": "markdown",
   "metadata": {},
   "source": [
    "### More Informed Baseline\n",
    "\n",
    "A slightly better estimate would be to guess that customers will spend as much in the next month as they spent in the previous month. We can figure this out by using the last thirty days of the purchase data."
   ]
  },
  {
   "cell_type": "code",
   "execution_count": null,
   "metadata": {},
   "outputs": [],
   "source": [
    "thirty_day_totals = []\n",
    "prediction_point = pd.datetime(2011, 10, 1)\n",
    "\n",
    "# Iterate through each customer\n",
    "for customer_id, customer_info in labels.iterrows():\n",
    "    \n",
    "    # Subset the data to after the prediction point\n",
    "    subset = data.loc[(data['date'] > prediction_point) & (data['customer_id'] == customer_id), :].copy()\n",
    "    \n",
    "    # Add the number of unique orders in the month to a list\n",
    "    thirty_day_totals.append(subset['total_price'].sum())"
   ]
  },
  {
   "cell_type": "code",
   "execution_count": null,
   "metadata": {},
   "outputs": [],
   "source": [
    "sns.kdeplot(thirty_day_totals)"
   ]
  },
  {
   "cell_type": "code",
   "execution_count": null,
   "metadata": {},
   "outputs": [],
   "source": [
    "customers['label'] = list(labels['label'])\n",
    "customers['informed_guess'] = thirty_day_totals\n",
    "customers['informed_guess_label'] = 1.0 * (customers['informed_guess'] > 500)\n",
    "customers['test'] = customers['customer_id'].isin(test_customers)\n",
    "customers.head()"
   ]
  },
  {
   "cell_type": "code",
   "execution_count": null,
   "metadata": {},
   "outputs": [],
   "source": [
    "print(f'Informed Baseline F1 Score: {round(f1_score(test_labels, list(customers.loc[customers[\"test\"] == True, \"informed_guess_label\"])), 2)}')"
   ]
  },
  {
   "cell_type": "markdown",
   "metadata": {},
   "source": [
    "The informed baseline significantly outperformed the naive baseline. Now we know that if we can't predict with a median absolute error less than around \\$288, then maybe machine learning is not applicable to this problem."
   ]
  },
  {
   "cell_type": "markdown",
   "metadata": {},
   "source": [
    "# Feature Engineering Implementation\n",
    "\n",
    "After we established our baseline, we can start making features for a machine learning model to learn the problem. In manual feature engineering, we build features one at a time. We can constantly evaluate these features using cross-validation on the training set. \n",
    "\n",
    "## Building Features from Previous Orders\n",
    "\n",
    "The first set of features will be built on the previous orders. We can find the __total__ number of a customers previous orders, the __total value__ of a customers previous orders, and then also divide both of these by the time between the __first order and last order__ in order to get an orders / time feature.\n",
    "\n",
    "Below we find the total orders and total value of orders for customers."
   ]
  },
  {
   "cell_type": "code",
   "execution_count": null,
   "metadata": {},
   "outputs": [],
   "source": [
    "total_orders = orders.groupby('customer_id')['order_id'].count()\n",
    "total_value_orders = orders.groupby('customer_id')['total_price'].sum()\n",
    "totals = pd.concat([total_orders, total_value_orders], axis = 1).rename(columns = {'order_id': 'num_orders',\n",
    "                                                                                   'total_price': 'total_spending'})\n",
    "totals.head()"
   ]
  },
  {
   "cell_type": "code",
   "execution_count": null,
   "metadata": {},
   "outputs": [],
   "source": [
    "figsize(8, 6)\n",
    "sns.lmplot('num_orders', 'total_spending', data = totals, size = 6)\n",
    "plt.title('Total Spending versus Number of Orders');"
   ]
  },
  {
   "cell_type": "markdown",
   "metadata": {},
   "source": [
    "For the time a customer has been in the records, we'll take the last order data minus the first order date and convert it to the number of months. Then we can divide the `num_orders` and `total_spending` by this figure to arrive at a final ratio per 30 days."
   ]
  },
  {
   "cell_type": "code",
   "execution_count": null,
   "metadata": {},
   "outputs": [],
   "source": [
    "# Find timedelta between last and first order\n",
    "totals['record_length'] = orders.groupby('customer_id')['date_only'].apply(lambda x: x.max() - x.min())\n",
    "\n",
    "# Convert to 30 days\n",
    "totals['record_length'] = totals['record_length'].dt.total_seconds() / (3600 * 24 * 30)\n",
    "\n",
    "# Get ratios\n",
    "totals['num_orders_ratio'] = totals['num_orders'] / totals['record_length']\n",
    "totals['spending_ratio'] = totals['total_spending'] / totals['record_length']\n",
    "totals.head()"
   ]
  },
  {
   "cell_type": "markdown",
   "metadata": {},
   "source": [
    "Let's try to intrepret these numbers: what the `spending_ratio` indicates is the total spending for every 30 days, and the `num_orders_ratio` is the number of orders on average every 30 days. \n",
    "\n",
    "We'll replace the `inf` with `np.nan` which later will let us impute these values before sending the data to a machine learning model."
   ]
  },
  {
   "cell_type": "code",
   "execution_count": null,
   "metadata": {},
   "outputs": [],
   "source": [
    "totals = totals.replace({np.inf: np.nan, -np.inf: np.nan})\n",
    "\n",
    "sns.violinplot(y = totals['spending_ratio'].dropna());\n",
    "plt.title('Violin Plot of Spending Ratio');"
   ]
  },
  {
   "cell_type": "code",
   "execution_count": null,
   "metadata": {},
   "outputs": [],
   "source": [
    "totals.loc[totals['spending_ratio'].idxmax]"
   ]
  },
  {
   "cell_type": "markdown",
   "metadata": {},
   "source": [
    "The highest spending in the data is from a customer that averages over \\$10000 per month, because they are have been in the data for less than one month yet have a total spending of \\$8000. As a final feature, we can calculate the spending per order."
   ]
  },
  {
   "cell_type": "code",
   "execution_count": null,
   "metadata": {},
   "outputs": [],
   "source": [
    "totals['spending_per_order'] = totals['total_spending'] / totals['num_orders']\n",
    "sns.kdeplot(totals['spending_per_order'])\n",
    "plt.title('Spending per Order Distribution');"
   ]
  },
  {
   "cell_type": "markdown",
   "metadata": {},
   "source": [
    "### Evaluate Feature Set\n",
    "\n",
    "From just these 5 features we can already train a model (we only need a single feature to train a model). We'll use a random forest regressor as implemented in the `utils.py` module and the `evaulate` function. "
   ]
  },
  {
   "cell_type": "code",
   "execution_count": null,
   "metadata": {},
   "outputs": [],
   "source": [
    "%load_ext autoreload\n",
    "%autoreload 2\n",
    "\n",
    "from utils import evaluate, plot_feature_importances, feature_selection"
   ]
  },
  {
   "cell_type": "code",
   "execution_count": null,
   "metadata": {},
   "outputs": [],
   "source": [
    "totals = totals[(totals.index.isin(train_customers)) | (totals.index.isin(test_customers))]\n",
    "totals.head()"
   ]
  },
  {
   "cell_type": "code",
   "execution_count": null,
   "metadata": {},
   "outputs": [],
   "source": [
    "train = totals[totals.index.isin(train_customers)]\n",
    "test = totals[totals.index.isin(test_customers)]"
   ]
  },
  {
   "cell_type": "code",
   "execution_count": null,
   "metadata": {},
   "outputs": [],
   "source": [
    "preds, fi = evaluate(train, train_labels, test, test_labels)"
   ]
  },
  {
   "cell_type": "markdown",
   "metadata": {},
   "source": [
    "Already our model has outperformed the baseline! This means machine learning is applicable to the problem. To improve our performance, we want to keep adding more features derived from the data. We can use the feature importances from the first model to see which features are considered most relevant."
   ]
  },
  {
   "cell_type": "code",
   "execution_count": null,
   "metadata": {},
   "outputs": [],
   "source": [
    "norm_fi = plot_feature_importances(fi)"
   ]
  },
  {
   "cell_type": "code",
   "execution_count": null,
   "metadata": {},
   "outputs": [],
   "source": [
    "train['target'] = train_labels\n",
    "train.to_csv('../input/train_features.csv')\n",
    "test['target'] = test_labels\n",
    "test.to_csv('../input/test_features.csv')"
   ]
  },
  {
   "cell_type": "markdown",
   "metadata": {},
   "source": [
    "The most important feature is the `total_spending`. This tells us that how much a customer has spent total in the past is indicative of the amount they will spend in the next 30 days. \n",
    "\n",
    "### More Features from the Order Table\n",
    "\n",
    "We'll continue with feature engineering using the orders table. We'll make an additional 4 features:\n",
    "\n",
    "* Spending in the last 30 days of data\n",
    "* Number of orders in the last 30 days of data\n",
    "* Spending per order in the last 30 days of data\n",
    "* Most common country ordered from\n",
    "* Number of unique countries ordered from\n",
    "\n",
    "Although the baseline guess using the spending in the previous 30 days did not prove helpful, perhaps it will be of some use to a machine learning model. Since the spending per order was an important feature, we also will want to calculate the spending per order in the past 30 days. This shows the iterative process of feature engineering: we can use previous results to inform future decisions."
   ]
  },
  {
   "cell_type": "code",
   "execution_count": null,
   "metadata": {},
   "outputs": [],
   "source": [
    "thirty_day_orders = []\n",
    "thirty_day_totals = []\n",
    "\n",
    "prediction_point = pd.datetime(2011, 10, 1)\n",
    "\n",
    "for customer_id, customer_info in labels.iterrows():\n",
    "    \n",
    "    # Subset to the last thirty days\n",
    "    subset = orders[(orders['customer_id'] == customer_id) & (orders['date_only'] > prediction_point.date())].copy()\n",
    "    thirty_day_orders.append(subset.shape[0])\n",
    "    thirty_day_totals.append(subset['total_price'].sum())"
   ]
  },
  {
   "cell_type": "code",
   "execution_count": null,
   "metadata": {},
   "outputs": [],
   "source": [
    "totals['thirty_day_orders'] = thirty_day_orders\n",
    "totals['thirty_day_totals'] = thirty_day_totals\n",
    "totals['thirty_day_spending_per_order'] = totals['thirty_day_totals'] / totals['thirty_day_orders']\n",
    "\n",
    "plt.figure(figsize = (12, 6))\n",
    "sns.kdeplot(totals['thirty_day_spending_per_order']);\n",
    "plt.title('Thirty Day Spending per Order Distribution');"
   ]
  },
  {
   "cell_type": "markdown",
   "metadata": {},
   "source": [
    "Again we see a positively skewed distribution with most customers spending per order below \\$1000 in the previous 30 days, but a few customers with spending per order much higher. \n",
    "\n",
    "The next two features will deal with the `country` of the order."
   ]
  },
  {
   "cell_type": "code",
   "execution_count": null,
   "metadata": {},
   "outputs": [],
   "source": [
    "unique_countries = orders.groupby('customer_id')['country'].nunique()\n",
    "most_common_country = orders.groupby('customer_id')['country'].apply(lambda x: pd.Series.mode(x)[0])\n",
    "\n",
    "totals['num_unique_countries'] = unique_countries\n",
    "totals['most_common_country'] = most_common_country"
   ]
  },
  {
   "cell_type": "code",
   "execution_count": null,
   "metadata": {},
   "outputs": [],
   "source": [
    "plt.figure(figsize = (16, 6))\n",
    "g = sns.boxplot(x = 'most_common_country', y = 'thirty_day_spending_per_order', data = totals)\n",
    "loc, labels = plt.xticks()\n",
    "g.set_xticklabels(labels, rotation=75)\n",
    "plt.title('Thirty Day Spending per Order by Country');"
   ]
  },
  {
   "cell_type": "markdown",
   "metadata": {},
   "source": [
    "Now we have to one-hot encode the country in order to pass it into the model."
   ]
  },
  {
   "cell_type": "code",
   "execution_count": null,
   "metadata": {},
   "outputs": [],
   "source": [
    "totals = pd.get_dummies(totals)\n",
    "totals.head()"
   ]
  },
  {
   "cell_type": "markdown",
   "metadata": {},
   "source": [
    "Let's evaluate this model to see if the 5 (more if we count the one-hot encoding) extra features improved the performance."
   ]
  },
  {
   "cell_type": "code",
   "execution_count": null,
   "metadata": {},
   "outputs": [],
   "source": [
    "train = totals[totals.index.isin(train_customers)]\n",
    "test = totals[totals.index.isin(test_customers)]\n",
    "\n",
    "preds, fi = evaluate(train, train_labels, test, test_labels)"
   ]
  },
  {
   "cell_type": "code",
   "execution_count": null,
   "metadata": {},
   "outputs": [],
   "source": [
    "norm_fi = plot_feature_importances(fi)"
   ]
  },
  {
   "cell_type": "markdown",
   "metadata": {},
   "source": [
    "Including the new features did not improve the model even though the most important feature was one of those that we added. It looks like the country feature are not important. Most of the customers (~90%) are from the United Kingdom so there is not much information content in the country of the order.\n",
    "\n",
    "At this point we have extracted a lot of information from the `orders` table, but there is plenty more that we did not consider such as using the day of week, the month of year, or creating country level features and then applying these to each customer. With manual feature engineering, __we are limited by our time and creativity__. There are only so many features that we can make by hand, one of the fundamental issues with the traditional approach to feature engineering. \n",
    "\n",
    "### Features from the Purchase Data\n",
    "\n",
    "Next we'll work of building features from the purchase level data. This gives us more granular information than the `orders` and presents us with even more potential features to make. We'll start off by finding the total number of purchases, the sum of purchases (which should be the same as that from the orders) and the ratios of these per 30 day period, much as we did with the orders."
   ]
  },
  {
   "cell_type": "code",
   "execution_count": null,
   "metadata": {},
   "outputs": [],
   "source": [
    "total_purchases = purchases.groupby('customer_id')['order_id'].count()\n",
    "total_value_purchases = purchases.groupby('customer_id')['total_price'].sum()\n",
    "total_purchases = pd.concat([total_purchases, total_value_purchases], axis = 1).rename(columns = {'order_id': 'num_purchases',\n",
    "                                                                                                  'total_price': 'total_purchase_spending'})\n",
    "total_purchases.head()"
   ]
  },
  {
   "cell_type": "code",
   "execution_count": null,
   "metadata": {},
   "outputs": [],
   "source": [
    "# Find timedelta between last and first order\n",
    "total_purchases['record_length'] = purchases.groupby('customer_id')['date'].apply(lambda x: x.max() - x.min())\n",
    "\n",
    "# Convert to 30 days\n",
    "total_purchases['record_length'] = total_purchases['record_length'].dt.total_seconds() / (3600 * 24 *  30)\n",
    "\n",
    "# Get ratios\n",
    "total_purchases['num_purchases_ratio'] = total_purchases['num_purchases'] / total_purchases['record_length']\n",
    "total_purchases['spending_ratio'] = total_purchases['total_purchase_spending'] / total_purchases['record_length']\n",
    "total_purchases = total_purchases.replace({np.inf: np.nan, -np.inf: np.nan})\n",
    "\n",
    "sns.violinplot(y = total_purchases['num_purchases'])\n",
    "plt.title('Number of Purchases');"
   ]
  },
  {
   "cell_type": "code",
   "execution_count": null,
   "metadata": {},
   "outputs": [],
   "source": [
    "sns.lmplot('record_length', 'num_purchases', data = total_purchases, size = 8);\n",
    "plt.title('Number of Purchases vs 30 Day Periods');"
   ]
  },
  {
   "cell_type": "code",
   "execution_count": null,
   "metadata": {},
   "outputs": [],
   "source": [
    "totals = totals.merge(total_purchases, on = 'customer_id')\n",
    "totals.shape"
   ]
  },
  {
   "cell_type": "code",
   "execution_count": null,
   "metadata": {},
   "outputs": [],
   "source": [
    "train = totals[totals.index.isin(train_customers)]\n",
    "test = totals[totals.index.isin(test_customers)]\n",
    "\n",
    "preds, fi = evaluate(train, train_labels, test, test_labels)"
   ]
  },
  {
   "cell_type": "markdown",
   "metadata": {},
   "source": [
    "Our model performance has now decreased significantly. One issue is that we could have too many features: some of the features could be correlated with one another which can lead to worse performance. We can use the `feature_selection` function from `utils.py` to remove potentially problematic features. "
   ]
  },
  {
   "cell_type": "code",
   "execution_count": null,
   "metadata": {},
   "outputs": [],
   "source": [
    "train = feature_selection(train, missing_threshold=90, correlation_threshold=0.9)\n",
    "test = test[train.columns]"
   ]
  },
  {
   "cell_type": "code",
   "execution_count": null,
   "metadata": {},
   "outputs": [],
   "source": [
    "train.shape"
   ]
  },
  {
   "cell_type": "code",
   "execution_count": null,
   "metadata": {},
   "outputs": [],
   "source": [
    "preds, fi = evaluate(train, train_labels, test, test_labels)"
   ]
  },
  {
   "cell_type": "markdown",
   "metadata": {},
   "source": [
    "Feature selection did not help which is somewhat surprising. It's possible that we accidentally removed some features that were critical to the model. Let's try one last round of feature engineering. We'll load back in the features that have performed the best and try to add some more information."
   ]
  },
  {
   "cell_type": "code",
   "execution_count": null,
   "metadata": {},
   "outputs": [],
   "source": [
    "train = pd.read_csv('../input/train_features.csv')\n",
    "test = pd.read_csv('../input/test_features.csv')\n",
    "\n",
    "train.head()"
   ]
  },
  {
   "cell_type": "code",
   "execution_count": null,
   "metadata": {},
   "outputs": [],
   "source": [
    "train.corr()"
   ]
  },
  {
   "cell_type": "markdown",
   "metadata": {},
   "source": [
    "## Last Round of Feature Engineering \n",
    "\n",
    "For the last round of feature engineering we'll focus on"
   ]
  },
  {
   "cell_type": "code",
   "execution_count": null,
   "metadata": {},
   "outputs": [],
   "source": [
    "total_purchases.head()"
   ]
  },
  {
   "cell_type": "code",
   "execution_count": null,
   "metadata": {},
   "outputs": [],
   "source": [
    "orders.head()"
   ]
  },
  {
   "cell_type": "markdown",
   "metadata": {},
   "source": [
    "The second baseline will be made by applying a Random Forest Regressor to "
   ]
  },
  {
   "cell_type": "code",
   "execution_count": null,
   "metadata": {},
   "outputs": [],
   "source": [
    "import seaborn as sns\n",
    "\n",
    "data['total_price'] = (data['quantity'] * data['unit_price']).astype(np.float32)\n",
    "sns.kdeplot(data['total_price']);"
   ]
  },
  {
   "cell_type": "code",
   "execution_count": null,
   "metadata": {},
   "outputs": [],
   "source": [
    "data['total_price'].describe()"
   ]
  },
  {
   "cell_type": "markdown",
   "metadata": {},
   "source": [
    "There are several negative total prices which are not physically possible. If we look at the original data, this is because there are several orders that were cancelled (identifed by a 'C' preceding the order id). To handle these, we'll remove the cancelled lines themselves but add a flag indicating the order was cancelled.  "
   ]
  },
  {
   "cell_type": "code",
   "execution_count": null,
   "metadata": {},
   "outputs": [],
   "source": [
    "data['order_id'] = data['order_id'].astype(str)\n",
    "cancelled_order_ids = [x[1:] for x in data['order_id'] if x.startswith('C')]\n",
    "len(cancelled_order_ids)"
   ]
  },
  {
   "cell_type": "code",
   "execution_count": null,
   "metadata": {},
   "outputs": [],
   "source": [
    "data['cancelled'] = data['order_id'].isin(cancelled_order_ids)\n",
    "data.shape"
   ]
  },
  {
   "cell_type": "code",
   "execution_count": null,
   "metadata": {},
   "outputs": [],
   "source": [
    "data = data[~data['order_id'].str.startswith('C')]\n",
    "data.shape"
   ]
  },
  {
   "cell_type": "markdown",
   "metadata": {},
   "source": [
    "Now we'll set to 0 any of the total value where the order was cancelled."
   ]
  },
  {
   "cell_type": "code",
   "execution_count": null,
   "metadata": {},
   "outputs": [],
   "source": [
    "data.loc[data['cancelled'], 'total_price'] = np.nan\n",
    "sns.kdeplot(data['total_price'])"
   ]
  },
  {
   "cell_type": "markdown",
   "metadata": {},
   "source": [
    "The cancelled orders are not duplicated in the orders table but are instead identified by a 'C' in front of the order id. We'll add a flag indicating if the order was cancelled. "
   ]
  },
  {
   "cell_type": "code",
   "execution_count": null,
   "metadata": {},
   "outputs": [],
   "source": [
    "orders['order_id'] = orders['order_id'].astype(str)"
   ]
  },
  {
   "cell_type": "code",
   "execution_count": null,
   "metadata": {},
   "outputs": [],
   "source": [
    "orders['cancelled'] = orders['order_id'].str.startswith('C')\n",
    "orders['cancelled'].value_counts()"
   ]
  },
  {
   "cell_type": "markdown",
   "metadata": {},
   "source": [
    "To make a feature for customers, we can count the number of cancelled orders and the number of non-cancelled orders."
   ]
  },
  {
   "cell_type": "code",
   "execution_count": null,
   "metadata": {},
   "outputs": [],
   "source": [
    "cancelled = pd.DataFrame(orders.groupby('customer_id')['cancelled'].sum())\n",
    "total = pd.DataFrame(orders.groupby('customer_id')['cancelled'].count()).rename(columns = {'cancelled': 'total'})\n",
    "customer_orders = cancelled.merge(total, on = 'customer_id')\n",
    "customer_orders['non_cancelled'] = customer_orders['total'] - customer_orders['cancelled']\n",
    "customer_orders.head()"
   ]
  },
  {
   "cell_type": "code",
   "execution_count": null,
   "metadata": {},
   "outputs": [],
   "source": [
    "customer_orders.describe()"
   ]
  },
  {
   "cell_type": "markdown",
   "metadata": {},
   "source": [
    "We can try to build a model from just this information and see if it is at all useful! "
   ]
  },
  {
   "cell_type": "code",
   "execution_count": null,
   "metadata": {},
   "outputs": [],
   "source": [
    "customers.head()"
   ]
  },
  {
   "cell_type": "code",
   "execution_count": null,
   "metadata": {},
   "outputs": [],
   "source": [
    "from sklearn.model_selection import train_test_split\n",
    "\n",
    "X, X_test, y, y_test = train_test_split(customer_orders, customers['label'],\n",
    "                                        stratify = customers['label'])"
   ]
  },
  {
   "cell_type": "code",
   "execution_count": null,
   "metadata": {},
   "outputs": [],
   "source": [
    "from sklearn.metrics import f1_score, make_scorer\n",
    "\n",
    "scorer = make_scorer(f1_score, average = 'weighted')"
   ]
  },
  {
   "cell_type": "code",
   "execution_count": null,
   "metadata": {},
   "outputs": [],
   "source": [
    "from sklearn.model_selection import cross_val_score\n",
    "from sklearn.ensemble import RandomForestClassifier"
   ]
  },
  {
   "cell_type": "code",
   "execution_count": null,
   "metadata": {},
   "outputs": [],
   "source": [
    "model = RandomForestClassifier()\n",
    "model.fit(X, y)"
   ]
  },
  {
   "cell_type": "code",
   "execution_count": null,
   "metadata": {},
   "outputs": [],
   "source": [
    "lengths = data.groupby('customer_id')['date'].apply(lambda x: x.max() - x.min())"
   ]
  },
  {
   "cell_type": "code",
   "execution_count": null,
   "metadata": {},
   "outputs": [],
   "source": [
    "lengths.describe()"
   ]
  },
  {
   "cell_type": "code",
   "execution_count": null,
   "metadata": {},
   "outputs": [],
   "source": [
    "cross_val_score(model, X, y, scoring = scorer, cv = 5)"
   ]
  },
  {
   "cell_type": "code",
   "execution_count": null,
   "metadata": {},
   "outputs": [],
   "source": [
    "model.feature_importances_"
   ]
  },
  {
   "cell_type": "code",
   "execution_count": null,
   "metadata": {},
   "outputs": [],
   "source": [
    "preds"
   ]
  },
  {
   "cell_type": "code",
   "execution_count": null,
   "metadata": {},
   "outputs": [],
   "source": [
    "X_test"
   ]
  },
  {
   "cell_type": "code",
   "execution_count": null,
   "metadata": {},
   "outputs": [],
   "source": [
    "preds = model.predict(X_test)\n",
    "f1_score(y_test, preds)"
   ]
  },
  {
   "cell_type": "code",
   "execution_count": null,
   "metadata": {},
   "outputs": [],
   "source": []
  },
  {
   "cell_type": "code",
   "execution_count": null,
   "metadata": {},
   "outputs": [],
   "source": [
    "x, y = ecdf(data['total_price'])\n",
    "plt.plot(x, y)"
   ]
  },
  {
   "cell_type": "code",
   "execution_count": null,
   "metadata": {},
   "outputs": [],
   "source": [
    "data.loc[(data['total_price'] < 0) | (data['total_price'] > 10000), 'total_price'] = np.nan\n",
    "sns.kdeplot(data['total_price']);"
   ]
  },
  {
   "cell_type": "code",
   "execution_count": null,
   "metadata": {},
   "outputs": [],
   "source": [
    "data['weekday'] = data['date'].dt.weekday\n",
    "data['month'] = data['date'].dt.month\n",
    "data['minute'] = data['date'].dt.minute\n",
    "data['hour'] = data['date'].dt.hour\n",
    "\n",
    "data.head()"
   ]
  },
  {
   "cell_type": "code",
   "execution_count": null,
   "metadata": {},
   "outputs": [],
   "source": []
  },
  {
   "cell_type": "code",
   "execution_count": null,
   "metadata": {},
   "outputs": [],
   "source": []
  },
  {
   "cell_type": "markdown",
   "metadata": {},
   "source": [
    "Now we can start making features for each customer. As an example, we can count the number of previous orders by the customer. Then, we can divide the number of previous orders by the date between the first and last occurrence of the customer in the data to come up with a rate of purchases. "
   ]
  },
  {
   "cell_type": "code",
   "execution_count": null,
   "metadata": {},
   "outputs": [],
   "source": [
    "date_limits = usable_data"
   ]
  },
  {
   "cell_type": "code",
   "execution_count": null,
   "metadata": {},
   "outputs": [],
   "source": [
    "orders = orders.merge(data, on = 'order_id', how = 'left'a\n",
    "                     )\n",
    "orders.head()"
   ]
  },
  {
   "cell_type": "code",
   "execution_count": null,
   "metadata": {},
   "outputs": [],
   "source": [
    "ft_data = ft.demo.load_retail()\n",
    "ft_data"
   ]
  },
  {
   "cell_type": "code",
   "execution_count": null,
   "metadata": {},
   "outputs": [],
   "source": []
  }
 ],
 "metadata": {
  "kernelspec": {
   "display_name": "Python 3",
   "language": "python",
   "name": "python3"
  },
  "language_info": {
   "codemirror_mode": {
    "name": "ipython",
    "version": 3
   },
   "file_extension": ".py",
   "mimetype": "text/x-python",
   "name": "python",
   "nbconvert_exporter": "python",
   "pygments_lexer": "ipython3",
   "version": "3.6.5"
  }
 },
 "nbformat": 4,
 "nbformat_minor": 2
}
